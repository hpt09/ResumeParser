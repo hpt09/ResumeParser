{
 "cells": [
  {
   "cell_type": "markdown",
   "metadata": {
    "colab_type": "text",
    "id": "view-in-github"
   },
   "source": [
    "<a href=\"https://colab.research.google.com/github/hpt09/ResumeParser/blob/master/Provided_Resources/EditedNameExtractionUsingSnorkel.ipynb\" target=\"_parent\"><img src=\"https://colab.research.google.com/assets/colab-badge.svg\" alt=\"Open In Colab\"/></a>"
   ]
  },
  {
   "cell_type": "code",
   "execution_count": 1,
   "metadata": {
    "colab": {},
    "colab_type": "code",
    "id": "ug8PIEeYw-7_",
    "scrolled": true
   },
   "outputs": [
    {
     "name": "stdout",
     "output_type": "stream",
     "text": [
      "Requirement already satisfied: snorkel in /opt/conda/lib/python3.8/site-packages (0.9.6)\n",
      "Requirement already satisfied: numpy<2.0.0,>=1.16.0 in /opt/conda/lib/python3.8/site-packages (from snorkel) (1.19.1)\n",
      "Requirement already satisfied: pandas<2.0.0,>=0.25.0 in /opt/conda/lib/python3.8/site-packages (from snorkel) (1.1.1)\n",
      "Requirement already satisfied: tensorboard<2.0.0,>=1.14.0 in /opt/conda/lib/python3.8/site-packages (from snorkel) (1.15.0)\n",
      "Requirement already satisfied: scikit-learn<0.22.0,>=0.20.2 in /opt/conda/lib/python3.8/site-packages (from snorkel) (0.21.3)\n",
      "Requirement already satisfied: torch<2.0.0,>=1.2.0 in /opt/conda/lib/python3.8/site-packages (from snorkel) (1.6.0)\n",
      "Requirement already satisfied: tqdm<5.0.0,>=4.33.0 in /opt/conda/lib/python3.8/site-packages (from snorkel) (4.48.2)\n",
      "Requirement already satisfied: scipy<2.0.0,>=1.2.0 in /opt/conda/lib/python3.8/site-packages (from snorkel) (1.5.2)\n",
      "Requirement already satisfied: networkx<2.4,>=2.2 in /opt/conda/lib/python3.8/site-packages (from snorkel) (2.3)\n",
      "Requirement already satisfied: munkres>=1.0.6 in /opt/conda/lib/python3.8/site-packages (from snorkel) (1.1.2)\n",
      "Requirement already satisfied: python-dateutil>=2.7.3 in /opt/conda/lib/python3.8/site-packages (from pandas<2.0.0,>=0.25.0->snorkel) (2.8.1)\n",
      "Requirement already satisfied: pytz>=2017.2 in /opt/conda/lib/python3.8/site-packages (from pandas<2.0.0,>=0.25.0->snorkel) (2020.1)\n",
      "Requirement already satisfied: wheel>=0.26; python_version >= \"3\" in /opt/conda/lib/python3.8/site-packages (from tensorboard<2.0.0,>=1.14.0->snorkel) (0.35.1)\n",
      "Requirement already satisfied: protobuf>=3.6.0 in /opt/conda/lib/python3.8/site-packages (from tensorboard<2.0.0,>=1.14.0->snorkel) (3.12.4)\n",
      "Requirement already satisfied: markdown>=2.6.8 in /opt/conda/lib/python3.8/site-packages (from tensorboard<2.0.0,>=1.14.0->snorkel) (3.2.2)\n",
      "Requirement already satisfied: six>=1.10.0 in /opt/conda/lib/python3.8/site-packages (from tensorboard<2.0.0,>=1.14.0->snorkel) (1.15.0)\n",
      "Requirement already satisfied: werkzeug>=0.11.15 in /opt/conda/lib/python3.8/site-packages (from tensorboard<2.0.0,>=1.14.0->snorkel) (1.0.1)\n",
      "Requirement already satisfied: grpcio>=1.6.3 in /opt/conda/lib/python3.8/site-packages (from tensorboard<2.0.0,>=1.14.0->snorkel) (1.31.0)\n",
      "Requirement already satisfied: absl-py>=0.4 in /opt/conda/lib/python3.8/site-packages (from tensorboard<2.0.0,>=1.14.0->snorkel) (0.10.0)\n",
      "Requirement already satisfied: setuptools>=41.0.0 in /opt/conda/lib/python3.8/site-packages (from tensorboard<2.0.0,>=1.14.0->snorkel) (49.6.0.post20200814)\n",
      "Requirement already satisfied: joblib>=0.11 in /opt/conda/lib/python3.8/site-packages (from scikit-learn<0.22.0,>=0.20.2->snorkel) (0.16.0)\n",
      "Requirement already satisfied: future in /opt/conda/lib/python3.8/site-packages (from torch<2.0.0,>=1.2.0->snorkel) (0.18.2)\n",
      "Requirement already satisfied: decorator>=4.3.0 in /opt/conda/lib/python3.8/site-packages (from networkx<2.4,>=2.2->snorkel) (4.4.2)\n",
      "Requirement already satisfied: nltk in /opt/conda/lib/python3.8/site-packages (3.5)\n",
      "Requirement already satisfied: regex in /opt/conda/lib/python3.8/site-packages (from nltk) (2020.7.14)\n",
      "Requirement already satisfied: joblib in /opt/conda/lib/python3.8/site-packages (from nltk) (0.16.0)\n",
      "Requirement already satisfied: click in /opt/conda/lib/python3.8/site-packages (from nltk) (7.1.2)\n",
      "Requirement already satisfied: tqdm in /opt/conda/lib/python3.8/site-packages (from nltk) (4.48.2)\n",
      "Requirement already satisfied: spacy in /opt/conda/lib/python3.8/site-packages (2.3.2)\n",
      "Requirement already satisfied: setuptools in /opt/conda/lib/python3.8/site-packages (from spacy) (49.6.0.post20200814)\n",
      "Requirement already satisfied: tqdm<5.0.0,>=4.38.0 in /opt/conda/lib/python3.8/site-packages (from spacy) (4.48.2)\n",
      "Requirement already satisfied: thinc==7.4.1 in /opt/conda/lib/python3.8/site-packages (from spacy) (7.4.1)\n",
      "Requirement already satisfied: cymem<2.1.0,>=2.0.2 in /opt/conda/lib/python3.8/site-packages (from spacy) (2.0.3)\n",
      "Requirement already satisfied: catalogue<1.1.0,>=0.0.7 in /opt/conda/lib/python3.8/site-packages (from spacy) (1.0.0)\n",
      "Requirement already satisfied: preshed<3.1.0,>=3.0.2 in /opt/conda/lib/python3.8/site-packages (from spacy) (3.0.2)\n",
      "Requirement already satisfied: blis<0.5.0,>=0.4.0 in /opt/conda/lib/python3.8/site-packages (from spacy) (0.4.1)\n",
      "Requirement already satisfied: numpy>=1.15.0 in /opt/conda/lib/python3.8/site-packages (from spacy) (1.19.1)\n",
      "Requirement already satisfied: plac<1.2.0,>=0.9.6 in /opt/conda/lib/python3.8/site-packages (from spacy) (1.1.3)\n",
      "Requirement already satisfied: wasabi<1.1.0,>=0.4.0 in /opt/conda/lib/python3.8/site-packages (from spacy) (0.8.0)\n",
      "Requirement already satisfied: requests<3.0.0,>=2.13.0 in /opt/conda/lib/python3.8/site-packages (from spacy) (2.24.0)\n",
      "Requirement already satisfied: srsly<1.1.0,>=1.0.2 in /opt/conda/lib/python3.8/site-packages (from spacy) (1.0.2)\n",
      "Requirement already satisfied: murmurhash<1.1.0,>=0.28.0 in /opt/conda/lib/python3.8/site-packages (from spacy) (1.0.2)\n",
      "Requirement already satisfied: certifi>=2017.4.17 in /opt/conda/lib/python3.8/site-packages (from requests<3.0.0,>=2.13.0->spacy) (2020.6.20)\n",
      "Requirement already satisfied: chardet<4,>=3.0.2 in /opt/conda/lib/python3.8/site-packages (from requests<3.0.0,>=2.13.0->spacy) (3.0.4)\n",
      "Requirement already satisfied: idna<3,>=2.5 in /opt/conda/lib/python3.8/site-packages (from requests<3.0.0,>=2.13.0->spacy) (2.10)\n",
      "Requirement already satisfied: urllib3!=1.25.0,!=1.25.1,<1.26,>=1.21.1 in /opt/conda/lib/python3.8/site-packages (from requests<3.0.0,>=2.13.0->spacy) (1.25.10)\n"
     ]
    }
   ],
   "source": [
    "!pip install snorkel\n",
    "!pip install nltk\n",
    "!pip install spacy"
   ]
  },
  {
   "cell_type": "code",
   "execution_count": 2,
   "metadata": {
    "colab": {},
    "colab_type": "code",
    "id": "Mp6b0JFIw0tk"
   },
   "outputs": [],
   "source": [
    "%load_ext autoreload\n",
    "%autoreload 2"
   ]
  },
  {
   "cell_type": "code",
   "execution_count": 3,
   "metadata": {
    "colab": {},
    "colab_type": "code",
    "id": "jqy21lfaw0to"
   },
   "outputs": [],
   "source": [
    "import pandas as pd\n",
    "from snorkel.labeling import labeling_function\n",
    "import nltk\n",
    "import spacy"
   ]
  },
  {
   "cell_type": "code",
   "execution_count": 4,
   "metadata": {
    "colab": {
     "base_uri": "https://localhost:8080/",
     "height": 69
    },
    "colab_type": "code",
    "id": "hMAr5WYEyGkz",
    "outputId": "1fe586c2-ddcb-4f75-a1de-959f6e74f334"
   },
   "outputs": [
    {
     "name": "stderr",
     "output_type": "stream",
     "text": [
      "[nltk_data] Downloading package punkt to /home/jovyan/nltk_data...\n",
      "[nltk_data]   Package punkt is already up-to-date!\n"
     ]
    },
    {
     "data": {
      "text/plain": [
       "True"
      ]
     },
     "execution_count": 4,
     "metadata": {},
     "output_type": "execute_result"
    }
   ],
   "source": [
    "nltk.download('punkt')"
   ]
  },
  {
   "cell_type": "code",
   "execution_count": 5,
   "metadata": {
    "colab": {},
    "colab_type": "code",
    "id": "dokgdpYVw0tq"
   },
   "outputs": [],
   "source": [
    "df_dev = pd.read_csv(r\"df_dev.csv\")"
   ]
  },
  {
   "cell_type": "code",
   "execution_count": 6,
   "metadata": {
    "colab": {
     "base_uri": "https://localhost:8080/",
     "height": 202
    },
    "colab_type": "code",
    "id": "10kYVu0xw0ts",
    "outputId": "125f7697-26c9-443a-90d9-3aea4a5d047e"
   },
   "outputs": [
    {
     "data": {
      "text/html": [
       "<div>\n",
       "<style scoped>\n",
       "    .dataframe tbody tr th:only-of-type {\n",
       "        vertical-align: middle;\n",
       "    }\n",
       "\n",
       "    .dataframe tbody tr th {\n",
       "        vertical-align: top;\n",
       "    }\n",
       "\n",
       "    .dataframe thead th {\n",
       "        text-align: right;\n",
       "    }\n",
       "</style>\n",
       "<table border=\"1\" class=\"dataframe\">\n",
       "  <thead>\n",
       "    <tr style=\"text-align: right;\">\n",
       "      <th></th>\n",
       "      <th>content</th>\n",
       "    </tr>\n",
       "  </thead>\n",
       "  <tbody>\n",
       "    <tr>\n",
       "      <th>0</th>\n",
       "      <td>Afreen Jamadar. Active member of IIIT Committe...</td>\n",
       "    </tr>\n",
       "    <tr>\n",
       "      <th>1</th>\n",
       "      <td>Alok Khandai. Operational Analyst (SQL DBA) En...</td>\n",
       "    </tr>\n",
       "    <tr>\n",
       "      <th>2</th>\n",
       "      <td>Anvitha Rao. Automation developer. . - Email m...</td>\n",
       "    </tr>\n",
       "    <tr>\n",
       "      <th>3</th>\n",
       "      <td>arjun ks. Senior Program coordinator - oracle ...</td>\n",
       "    </tr>\n",
       "    <tr>\n",
       "      <th>4</th>\n",
       "      <td>Arun Elumalai. QA Tester. . Chennai, Tamil Nad...</td>\n",
       "    </tr>\n",
       "  </tbody>\n",
       "</table>\n",
       "</div>"
      ],
      "text/plain": [
       "                                             content\n",
       "0  Afreen Jamadar. Active member of IIIT Committe...\n",
       "1  Alok Khandai. Operational Analyst (SQL DBA) En...\n",
       "2  Anvitha Rao. Automation developer. . - Email m...\n",
       "3  arjun ks. Senior Program coordinator - oracle ...\n",
       "4  Arun Elumalai. QA Tester. . Chennai, Tamil Nad..."
      ]
     },
     "execution_count": 6,
     "metadata": {},
     "output_type": "execute_result"
    }
   ],
   "source": [
    "df_dev.head(5)"
   ]
  },
  {
   "cell_type": "code",
   "execution_count": 7,
   "metadata": {
    "colab": {},
    "colab_type": "code",
    "id": "12lQxpQPw0tu"
   },
   "outputs": [],
   "source": [
    "from nltk import sent_tokenize as st\n",
    "\n",
    "df_token_sentence = pd.DataFrame(columns=None)\n",
    "\n",
    "df_token_sentence = df_dev.apply(lambda row: st(row['content']), axis=1)"
   ]
  },
  {
   "cell_type": "code",
   "execution_count": 8,
   "metadata": {
    "colab": {
     "base_uri": "https://localhost:8080/",
     "height": 69
    },
    "colab_type": "code",
    "id": "GAomf85Rw0tw",
    "outputId": "6b61286e-893c-4ca0-ff43-eaeda08be6e4"
   },
   "outputs": [
    {
     "data": {
      "text/plain": [
       "0    [Afreen Jamadar., Active member of IIIT Commit...\n",
       "1    [Alok Khandai., Operational Analyst (SQL DBA) ...\n",
       "dtype: object"
      ]
     },
     "execution_count": 8,
     "metadata": {},
     "output_type": "execute_result"
    }
   ],
   "source": [
    "df_token_sentence.head(2)"
   ]
  },
  {
   "cell_type": "code",
   "execution_count": 9,
   "metadata": {
    "colab": {},
    "colab_type": "code",
    "id": "_7OQ2zGkw0ty"
   },
   "outputs": [],
   "source": [
    "df_token_sentence.to_csv(r\"df_token_sentence.csv\", header=['content'], index = False)"
   ]
  },
  {
   "cell_type": "code",
   "execution_count": 10,
   "metadata": {
    "colab": {},
    "colab_type": "code",
    "id": "oVveFY20w0t1"
   },
   "outputs": [],
   "source": [
    "df_ts = pd.read_csv(r\"df_token_sentence.csv\")"
   ]
  },
  {
   "cell_type": "code",
   "execution_count": 11,
   "metadata": {
    "colab": {
     "base_uri": "https://localhost:8080/",
     "height": 79
    },
    "colab_type": "code",
    "id": "8MsVGo9Kw0t3",
    "outputId": "a17c1737-1319-4fef-cfd9-0d82f61d70c1"
   },
   "outputs": [
    {
     "data": {
      "text/html": [
       "<div>\n",
       "<style scoped>\n",
       "    .dataframe tbody tr th:only-of-type {\n",
       "        vertical-align: middle;\n",
       "    }\n",
       "\n",
       "    .dataframe tbody tr th {\n",
       "        vertical-align: top;\n",
       "    }\n",
       "\n",
       "    .dataframe thead th {\n",
       "        text-align: right;\n",
       "    }\n",
       "</style>\n",
       "<table border=\"1\" class=\"dataframe\">\n",
       "  <thead>\n",
       "    <tr style=\"text-align: right;\">\n",
       "      <th></th>\n",
       "      <th>content</th>\n",
       "    </tr>\n",
       "  </thead>\n",
       "  <tbody>\n",
       "    <tr>\n",
       "      <th>0</th>\n",
       "      <td>['Afreen Jamadar.', 'Active member of IIIT Com...</td>\n",
       "    </tr>\n",
       "  </tbody>\n",
       "</table>\n",
       "</div>"
      ],
      "text/plain": [
       "                                             content\n",
       "0  ['Afreen Jamadar.', 'Active member of IIIT Com..."
      ]
     },
     "execution_count": 11,
     "metadata": {},
     "output_type": "execute_result"
    }
   ],
   "source": [
    "df_ts.head(1)"
   ]
  },
  {
   "cell_type": "code",
   "execution_count": 12,
   "metadata": {
    "colab": {
     "base_uri": "https://localhost:8080/",
     "height": 260
    },
    "colab_type": "code",
    "id": "3uxyTyYhw0t5",
    "outputId": "92d2a926-bbdf-4958-bd30-92b630dd0421"
   },
   "outputs": [
    {
     "name": "stdout",
     "output_type": "stream",
     "text": [
      "                                               content\n",
      "0                                   ['Afreen Jamadar.'\n",
      "0     'Active member of IIIT Committee in Third year.'\n",
      "0                                                  '.'\n",
      "0                                              'Sangli\n",
      "0     Maharashtra - Email me on Indeed: indeed.com/...\n",
      "..                                                 ...\n",
      "665                                                '.'\n",
      "665                                'ACADEMIC PROJECT.'\n",
      "665   'Project name:  A Case Study Undertaken to Kn...\n",
      "665                                Anti-Oxidants and.'\n",
      "665   'Liver Tests in the Etiology of Turner Syndro...\n",
      "\n",
      "[86279 rows x 1 columns]\n"
     ]
    }
   ],
   "source": [
    "keep = False\n",
    "df = df_ts\n",
    "column = 'content'\n",
    "sep = ','\n",
    "indexes = list()\n",
    "new_values = list()\n",
    "df = df.dropna(subset=[column])\n",
    "for i, presplit in enumerate(df[column].astype(str)):\n",
    "    values = presplit.split(sep)\n",
    "    if keep and len(values) > 1:\n",
    "        indexes.append(i)\n",
    "        new_values.append(presplit)\n",
    "    for value in values:\n",
    "        indexes.append(i)\n",
    "        new_values.append(value)\n",
    "new_df = df.iloc[indexes, :].copy()\n",
    "new_df[column] = new_values\n",
    "print(new_df)"
   ]
  },
  {
   "cell_type": "code",
   "execution_count": 13,
   "metadata": {
    "colab": {},
    "colab_type": "code",
    "id": "dEtvdzQqw0t7"
   },
   "outputs": [],
   "source": [
    "new_df.to_csv(r\"tokenized_sentences.csv\", index = False)"
   ]
  },
  {
   "cell_type": "code",
   "execution_count": 14,
   "metadata": {
    "colab": {},
    "colab_type": "code",
    "id": "w36JjWcJw0t9"
   },
   "outputs": [],
   "source": [
    "df_spacy = pd.read_csv(r\"tokenized_sentences.csv\")"
   ]
  },
  {
   "cell_type": "code",
   "execution_count": 15,
   "metadata": {
    "colab": {
     "base_uri": "https://localhost:8080/",
     "height": 141
    },
    "colab_type": "code",
    "id": "oi8XCcDxw0t_",
    "outputId": "0b62a986-86cc-4f5b-d9f5-a3ca98dc9ff9"
   },
   "outputs": [
    {
     "data": {
      "text/html": [
       "<div>\n",
       "<style scoped>\n",
       "    .dataframe tbody tr th:only-of-type {\n",
       "        vertical-align: middle;\n",
       "    }\n",
       "\n",
       "    .dataframe tbody tr th {\n",
       "        vertical-align: top;\n",
       "    }\n",
       "\n",
       "    .dataframe thead th {\n",
       "        text-align: right;\n",
       "    }\n",
       "</style>\n",
       "<table border=\"1\" class=\"dataframe\">\n",
       "  <thead>\n",
       "    <tr style=\"text-align: right;\">\n",
       "      <th></th>\n",
       "      <th>content</th>\n",
       "    </tr>\n",
       "  </thead>\n",
       "  <tbody>\n",
       "    <tr>\n",
       "      <th>0</th>\n",
       "      <td>['Afreen Jamadar.'</td>\n",
       "    </tr>\n",
       "    <tr>\n",
       "      <th>1</th>\n",
       "      <td>'Active member of IIIT Committee in Third year.'</td>\n",
       "    </tr>\n",
       "    <tr>\n",
       "      <th>2</th>\n",
       "      <td>'.'</td>\n",
       "    </tr>\n",
       "  </tbody>\n",
       "</table>\n",
       "</div>"
      ],
      "text/plain": [
       "                                             content\n",
       "0                                 ['Afreen Jamadar.'\n",
       "1   'Active member of IIIT Committee in Third year.'\n",
       "2                                                '.'"
      ]
     },
     "execution_count": 15,
     "metadata": {},
     "output_type": "execute_result"
    }
   ],
   "source": [
    "df_spacy.head(3)"
   ]
  },
  {
   "cell_type": "code",
   "execution_count": 16,
   "metadata": {
    "colab": {
     "base_uri": "https://localhost:8080/",
     "height": 35
    },
    "colab_type": "code",
    "id": "aklGmdzaw0uB",
    "outputId": "6b98e7b9-7643-4d2c-dbe8-bf002be03ad9"
   },
   "outputs": [
    {
     "data": {
      "text/plain": [
       "86272"
      ]
     },
     "execution_count": 16,
     "metadata": {},
     "output_type": "execute_result"
    }
   ],
   "source": [
    "len(df_spacy['content'])"
   ]
  },
  {
   "cell_type": "code",
   "execution_count": 17,
   "metadata": {
    "colab": {},
    "colab_type": "code",
    "id": "fXuEy5ysw0uD"
   },
   "outputs": [],
   "source": [
    "remove_punct = df_spacy['content'][2]"
   ]
  },
  {
   "cell_type": "code",
   "execution_count": 18,
   "metadata": {
    "colab": {},
    "colab_type": "code",
    "id": "Inq1oqgIw0uF"
   },
   "outputs": [],
   "source": [
    "df_spacy = df_spacy[df_spacy.content!=remove_punct]"
   ]
  },
  {
   "cell_type": "code",
   "execution_count": 19,
   "metadata": {
    "colab": {
     "base_uri": "https://localhost:8080/",
     "height": 139
    },
    "colab_type": "code",
    "id": "vO0P-jLRw0uH",
    "outputId": "d320e9ff-9ec4-479d-afbd-f325418d433a"
   },
   "outputs": [
    {
     "name": "stdout",
     "output_type": "stream",
     "text": [
      "                                             content\n",
      "0                                 ['Afreen Jamadar.'\n",
      "1   'Active member of IIIT Committee in Third year.'\n",
      "3                                            'Sangli\n",
      "4   Maharashtra - Email me on Indeed: indeed.com/...\n",
      "6                        'I wish to use my knowledge\n",
      "69502\n"
     ]
    }
   ],
   "source": [
    "print(df_spacy.head(5))\n",
    "print(len(df_spacy))"
   ]
  },
  {
   "cell_type": "code",
   "execution_count": 20,
   "metadata": {
    "colab": {},
    "colab_type": "code",
    "id": "WMAXT6_Nw0uJ"
   },
   "outputs": [],
   "source": [
    "df_spacy.to_csv(r\"1st_level_cleaned_sentences.csv\", index=False, header=['content'])"
   ]
  },
  {
   "cell_type": "code",
   "execution_count": 21,
   "metadata": {
    "colab": {
     "base_uri": "https://localhost:8080/",
     "height": 355
    },
    "colab_type": "code",
    "id": "k7cdfGsCw0uM",
    "outputId": "dfb6a65e-447e-4ff9-844d-f7b93f0d77d9",
    "scrolled": true
   },
   "outputs": [
    {
     "data": {
      "text/html": [
       "<div>\n",
       "<style scoped>\n",
       "    .dataframe tbody tr th:only-of-type {\n",
       "        vertical-align: middle;\n",
       "    }\n",
       "\n",
       "    .dataframe tbody tr th {\n",
       "        vertical-align: top;\n",
       "    }\n",
       "\n",
       "    .dataframe thead th {\n",
       "        text-align: right;\n",
       "    }\n",
       "</style>\n",
       "<table border=\"1\" class=\"dataframe\">\n",
       "  <thead>\n",
       "    <tr style=\"text-align: right;\">\n",
       "      <th></th>\n",
       "      <th>content</th>\n",
       "    </tr>\n",
       "  </thead>\n",
       "  <tbody>\n",
       "    <tr>\n",
       "      <th>0</th>\n",
       "      <td>['Afreen Jamadar.'</td>\n",
       "    </tr>\n",
       "    <tr>\n",
       "      <th>1</th>\n",
       "      <td>'Active member of IIIT Committee in Third year.'</td>\n",
       "    </tr>\n",
       "    <tr>\n",
       "      <th>2</th>\n",
       "      <td>'Sangli</td>\n",
       "    </tr>\n",
       "    <tr>\n",
       "      <th>3</th>\n",
       "      <td>Maharashtra - Email me on Indeed: indeed.com/...</td>\n",
       "    </tr>\n",
       "    <tr>\n",
       "      <th>4</th>\n",
       "      <td>'I wish to use my knowledge</td>\n",
       "    </tr>\n",
       "    <tr>\n",
       "      <th>5</th>\n",
       "      <td>skills and conceptual understanding to create...</td>\n",
       "    </tr>\n",
       "    <tr>\n",
       "      <th>6</th>\n",
       "      <td>'environments and work consistently achieving...</td>\n",
       "    </tr>\n",
       "    <tr>\n",
       "      <th>7</th>\n",
       "      <td>'and work to excellence in my work.. .'</td>\n",
       "    </tr>\n",
       "    <tr>\n",
       "      <th>8</th>\n",
       "      <td>'WORK EXPERIENCE.'</td>\n",
       "    </tr>\n",
       "    <tr>\n",
       "      <th>9</th>\n",
       "      <td>'Active member of IIIT Committee in Third year.'</td>\n",
       "    </tr>\n",
       "  </tbody>\n",
       "</table>\n",
       "</div>"
      ],
      "text/plain": [
       "                                             content\n",
       "0                                 ['Afreen Jamadar.'\n",
       "1   'Active member of IIIT Committee in Third year.'\n",
       "2                                            'Sangli\n",
       "3   Maharashtra - Email me on Indeed: indeed.com/...\n",
       "4                        'I wish to use my knowledge\n",
       "5   skills and conceptual understanding to create...\n",
       "6   'environments and work consistently achieving...\n",
       "7            'and work to excellence in my work.. .'\n",
       "8                                 'WORK EXPERIENCE.'\n",
       "9   'Active member of IIIT Committee in Third year.'"
      ]
     },
     "execution_count": 21,
     "metadata": {},
     "output_type": "execute_result"
    }
   ],
   "source": [
    "df_spacy = pd.read_csv(\"1st_level_cleaned_sentences.csv\")\n",
    "df_spacy.head(10)"
   ]
  },
  {
   "cell_type": "code",
   "execution_count": 22,
   "metadata": {
    "colab": {},
    "colab_type": "code",
    "id": "Nm_alt_4w0uO"
   },
   "outputs": [],
   "source": [
    "def clean_text(text):\n",
    "    text = str(text) \n",
    "    text = text.replace(\"'\", \"\")\n",
    "    text = text.replace(\"[\", \"\")\n",
    "    text = text.replace(\"]\",\"\")\n",
    "    return text\n",
    "\n",
    "df_spacy['content']= df_spacy['content'].apply(clean_text)"
   ]
  },
  {
   "cell_type": "code",
   "execution_count": 24,
   "metadata": {
    "colab": {},
    "colab_type": "code",
    "id": "wX9cQDtnw0uR"
   },
   "outputs": [],
   "source": [
    "df_spacy.to_csv(\"cleaned_sentences.csv\", index=False, header=['content'])"
   ]
  },
  {
   "cell_type": "code",
   "execution_count": 25,
   "metadata": {
    "colab": {},
    "colab_type": "code",
    "id": "0SLz4mxfw0uU"
   },
   "outputs": [],
   "source": [
    "import pandas as pd\n",
    "from snorkel.labeling import labeling_function\n",
    "import nltk\n",
    "\n",
    "import spacy\n",
    "nlp = spacy.load(\"en_core_web_sm\")"
   ]
  },
  {
   "cell_type": "code",
   "execution_count": 26,
   "metadata": {
    "colab": {},
    "colab_type": "code",
    "id": "tfzA8nJhw0uW"
   },
   "outputs": [],
   "source": [
    "df_spacy = pd.read_csv(r\"cleaned_sentences.csv\")"
   ]
  },
  {
   "cell_type": "code",
   "execution_count": 36,
   "metadata": {
    "colab": {},
    "colab_type": "code",
    "id": "i2GPqHsKw0uc"
   },
   "outputs": [],
   "source": [
    "ABSTAIN = -1\n",
    "NAME = 1\n",
    "SKILL = 2\n",
    "EMAIL = 3\n",
    "PHONE = 4"
   ]
  },
  {
   "cell_type": "markdown",
   "metadata": {},
   "source": [
    "### Information Extraction"
   ]
  },
  {
   "cell_type": "code",
   "execution_count": 37,
   "metadata": {},
   "outputs": [],
   "source": [
    "import re\n",
    "@labeling_function()\n",
    "def lf_phone_extraction(x):\n",
    "    x = x.to_string()\n",
    "    text = x.lower()\n",
    "    pattern = r'[\\+\\(]?[1-9][0-9 .\\-\\(\\)]{8,}[0-9]'    \n",
    "    match = re.findall(pattern, text)\n",
    "    if(len(match)> 0):\n",
    "        print(\"Found Phone: \", match, \" In: \",text)\n",
    "        return PHONE\n",
    "    else:\n",
    "        return ABSTAIN"
   ]
  },
  {
   "cell_type": "code",
   "execution_count": 38,
   "metadata": {
    "colab": {},
    "colab_type": "code",
    "id": "NBbC9yhrw0uh"
   },
   "outputs": [],
   "source": [
    "import json\n",
    "@labeling_function()\n",
    "def lf_skill_extraction(x):\n",
    "    x = x.to_string()\n",
    "    text = x.lower()\n",
    "    text = text.strip()\n",
    "    obj = None\n",
    "    with open('cleaned_skills.json', 'r') as skills:\n",
    "        data = skills.read()\n",
    "        obj = json.loads(data)\n",
    "    for skill in obj:\n",
    "        skill = skill.lower()\n",
    "        skill = (\" \" + skill + \" \")\n",
    "        if(skill in text):\n",
    "            print(\"Found Skill: \", skill, \" In: \",text)\n",
    "            return SKILL\n",
    "    return ABSTAIN"
   ]
  },
  {
   "cell_type": "code",
   "execution_count": 39,
   "metadata": {},
   "outputs": [],
   "source": [
    "import re\n",
    "@labeling_function()\n",
    "def lf_email_extraction(x):\n",
    "    x = x.to_string()\n",
    "    ners = nlp(x)\n",
    "    text = x.lower()\n",
    "    pattern = '[a-z0-9]+[\\._]?[a-z0-9]+[@]\\w+[.]\\w{2,3}'\n",
    "    match = re.findall(pattern, text)\n",
    "    if(len(match)> 0):\n",
    "        print(\"Found Email: \", match, \" In: \",text)\n",
    "        return EMAIL\n",
    "    else:\n",
    "        return ABSTAIN"
   ]
  },
  {
   "cell_type": "code",
   "execution_count": 40,
   "metadata": {},
   "outputs": [],
   "source": [
    "# TODO: Work on getting less false positives\n",
    "from spacy.matcher import Matcher\n",
    "@labeling_function()\n",
    "def lf_name_extraction(x):\n",
    "    x = str(x)\n",
    "    nlp = spacy.load('en_core_web_sm')\n",
    "    matcher = Matcher(nlp.vocab)\n",
    "    nlp_text = nlp(x)\n",
    "    pattern = [{'POS': 'PROPN'}, {'POS': 'PROPN'}]\n",
    "    matcher.add('NAME', None, pattern)\n",
    "    matches = matcher(nlp_text)\n",
    "    if len(matches)>0:\n",
    "        for match_id, start, end in matches:\n",
    "            span = nlp_text[start:end]\n",
    "            print(\"Found Name: \", span)\n",
    "        return NAME\n",
    "           \n",
    "    else:\n",
    "        return ABSTAIN\n",
    "@labeling_function()\n",
    "def lf_temp1(x):\n",
    "    return ABSTAIN\n",
    "    \n",
    "@labeling_function()\n",
    "def lf_temp2(x):\n",
    "    return ABSTAIN"
   ]
  },
  {
   "cell_type": "code",
   "execution_count": 41,
   "metadata": {
    "colab": {},
    "colab_type": "code",
    "id": "kJhyuPQkw0uj"
   },
   "outputs": [],
   "source": [
    "from snorkel.labeling import PandasLFApplier\n",
    "from snorkel.labeling.model import LabelModel"
   ]
  },
  {
   "cell_type": "code",
   "execution_count": 45,
   "metadata": {
    "colab": {},
    "colab_type": "code",
    "id": "dgmE0N5qw0ul"
   },
   "outputs": [],
   "source": [
    "lfs = [lf_phone_extraction, lf_email_extraction, lf_skill_extraction, lf_name_extraction]"
   ]
  },
  {
   "cell_type": "code",
   "execution_count": 46,
   "metadata": {
    "colab": {},
    "colab_type": "code",
    "id": "RjKIqWTHw0up"
   },
   "outputs": [],
   "source": [
    "applier = PandasLFApplier(lfs)"
   ]
  },
  {
   "cell_type": "code",
   "execution_count": null,
   "metadata": {
    "colab": {},
    "colab_type": "code",
    "id": "XC0xdyM8w0ut"
   },
   "outputs": [],
   "source": [
    "L_train = applier.apply(df_spacy)"
   ]
  },
  {
   "cell_type": "code",
   "execution_count": null,
   "metadata": {
    "colab": {},
    "colab_type": "code",
    "id": "p6Q_dBFOw0uw"
   },
   "outputs": [],
   "source": [
    "label_model = LabelModel(cardinality=3, verbose=True)"
   ]
  },
  {
   "cell_type": "code",
   "execution_count": null,
   "metadata": {
    "colab": {},
    "colab_type": "code",
    "id": "9kIeJlQ5w0ux"
   },
   "outputs": [],
   "source": [
    "label_model.fit(L_train, n_epochs=500, log_freq=50, seed=123)"
   ]
  },
  {
   "cell_type": "code",
   "execution_count": null,
   "metadata": {
    "colab": {},
    "colab_type": "code",
    "id": "uGXcOQ08w0uz"
   },
   "outputs": [],
   "source": [
    "df_spacy[\"label\"] = label_model.predict(L=L_train, tie_break_policy=\"abstain\")"
   ]
  },
  {
   "cell_type": "code",
   "execution_count": null,
   "metadata": {
    "colab": {
     "base_uri": "https://localhost:8080/",
     "height": 225
    },
    "colab_type": "code",
    "id": "joUCXpC_w0u2",
    "outputId": "b3d96de0-6435-4588-8d49-6eb2199bdf69",
    "scrolled": true
   },
   "outputs": [],
   "source": [
    "df_spacy[\"label\"]"
   ]
  },
  {
   "cell_type": "code",
   "execution_count": null,
   "metadata": {
    "colab": {},
    "colab_type": "code",
    "id": "omPvpuTZw0u4"
   },
   "outputs": [],
   "source": [
    "df_spacy.to_csv(path_or_buf = 'snorkel_labeled.csv',index=False)\n",
    "df_spacy = df_spacy[df_spacy.label != ABSTAIN]"
   ]
  }
 ],
 "metadata": {
  "colab": {
   "include_colab_link": true,
   "name": "NameExtractionUsingSnorkel.ipynb",
   "provenance": []
  },
  "kernelspec": {
   "display_name": "Python 3",
   "language": "python",
   "name": "python3"
  },
  "language_info": {
   "codemirror_mode": {
    "name": "ipython",
    "version": 3
   },
   "file_extension": ".py",
   "mimetype": "text/x-python",
   "name": "python",
   "nbconvert_exporter": "python",
   "pygments_lexer": "ipython3",
   "version": "3.8.5"
  }
 },
 "nbformat": 4,
 "nbformat_minor": 1
}
