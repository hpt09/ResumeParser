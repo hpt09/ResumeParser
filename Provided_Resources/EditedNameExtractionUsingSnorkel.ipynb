{
  "nbformat": 4,
  "nbformat_minor": 0,
  "metadata": {
    "kernelspec": {
      "display_name": "snorkel-env",
      "language": "python",
      "name": "snorkel-env"
    },
    "language_info": {
      "codemirror_mode": {
        "name": "ipython",
        "version": 3
      },
      "file_extension": ".py",
      "mimetype": "text/x-python",
      "name": "python",
      "nbconvert_exporter": "python",
      "pygments_lexer": "ipython3",
      "version": "3.6.10"
    },
    "colab": {
      "name": "NameExtractionUsingSnorkel.ipynb",
      "provenance": [],
      "include_colab_link": true
    }
  },
  "cells": [
    {
      "cell_type": "markdown",
      "metadata": {
        "id": "view-in-github",
        "colab_type": "text"
      },
      "source": [
        "<a href=\"https://colab.research.google.com/github/hpt09/ResumeParser/blob/master/Provided_Resources/EditedNameExtractionUsingSnorkel.ipynb\" target=\"_parent\"><img src=\"https://colab.research.google.com/assets/colab-badge.svg\" alt=\"Open In Colab\"/></a>"
      ]
    },
    {
      "cell_type": "code",
      "metadata": {
        "id": "ug8PIEeYw-7_",
        "colab_type": "code",
        "colab": {}
      },
      "source": [
        "!pip install snorkel\n",
        "!pip install nltk\n",
        "!pip install spacy"
      ],
      "execution_count": null,
      "outputs": []
    },
    {
      "cell_type": "code",
      "metadata": {
        "id": "Mp6b0JFIw0tk",
        "colab_type": "code",
        "colab": {}
      },
      "source": [
        "%load_ext autoreload\n",
        "%autoreload 2"
      ],
      "execution_count": 1,
      "outputs": []
    },
    {
      "cell_type": "code",
      "metadata": {
        "id": "jqy21lfaw0to",
        "colab_type": "code",
        "colab": {}
      },
      "source": [
        "import pandas as pd\n",
        "from snorkel.labeling import labeling_function\n",
        "import nltk\n",
        "import spacy"
      ],
      "execution_count": 4,
      "outputs": []
    },
    {
      "cell_type": "code",
      "metadata": {
        "id": "hMAr5WYEyGkz",
        "colab_type": "code",
        "colab": {
          "base_uri": "https://localhost:8080/",
          "height": 69
        },
        "outputId": "1fe586c2-ddcb-4f75-a1de-959f6e74f334"
      },
      "source": [
        "nltk.download('punkt')"
      ],
      "execution_count": 15,
      "outputs": [
        {
          "output_type": "stream",
          "text": [
            "[nltk_data] Downloading package punkt to /root/nltk_data...\n",
            "[nltk_data]   Unzipping tokenizers/punkt.zip.\n"
          ],
          "name": "stdout"
        },
        {
          "output_type": "execute_result",
          "data": {
            "text/plain": [
              "True"
            ]
          },
          "metadata": {
            "tags": []
          },
          "execution_count": 15
        }
      ]
    },
    {
      "cell_type": "code",
      "metadata": {
        "id": "dokgdpYVw0tq",
        "colab_type": "code",
        "colab": {}
      },
      "source": [
        "df_dev = pd.read_csv(r\"df-dev.csv\")"
      ],
      "execution_count": 11,
      "outputs": []
    },
    {
      "cell_type": "code",
      "metadata": {
        "id": "10kYVu0xw0ts",
        "colab_type": "code",
        "colab": {
          "base_uri": "https://localhost:8080/",
          "height": 202
        },
        "outputId": "125f7697-26c9-443a-90d9-3aea4a5d047e"
      },
      "source": [
        "df_dev.head(5)"
      ],
      "execution_count": 12,
      "outputs": [
        {
          "output_type": "execute_result",
          "data": {
            "text/html": [
              "<div>\n",
              "<style scoped>\n",
              "    .dataframe tbody tr th:only-of-type {\n",
              "        vertical-align: middle;\n",
              "    }\n",
              "\n",
              "    .dataframe tbody tr th {\n",
              "        vertical-align: top;\n",
              "    }\n",
              "\n",
              "    .dataframe thead th {\n",
              "        text-align: right;\n",
              "    }\n",
              "</style>\n",
              "<table border=\"1\" class=\"dataframe\">\n",
              "  <thead>\n",
              "    <tr style=\"text-align: right;\">\n",
              "      <th></th>\n",
              "      <th>content</th>\n",
              "    </tr>\n",
              "  </thead>\n",
              "  <tbody>\n",
              "    <tr>\n",
              "      <th>0</th>\n",
              "      <td>Afreen Jamadar. Active member of IIIT Committe...</td>\n",
              "    </tr>\n",
              "    <tr>\n",
              "      <th>1</th>\n",
              "      <td>Alok Khandai. Operational Analyst (SQL DBA) En...</td>\n",
              "    </tr>\n",
              "    <tr>\n",
              "      <th>2</th>\n",
              "      <td>Anvitha Rao. Automation developer. . - Email m...</td>\n",
              "    </tr>\n",
              "    <tr>\n",
              "      <th>3</th>\n",
              "      <td>arjun ks. Senior Program coordinator - oracle ...</td>\n",
              "    </tr>\n",
              "    <tr>\n",
              "      <th>4</th>\n",
              "      <td>Arun Elumalai. QA Tester. . Chennai, Tamil Nad...</td>\n",
              "    </tr>\n",
              "  </tbody>\n",
              "</table>\n",
              "</div>"
            ],
            "text/plain": [
              "                                             content\n",
              "0  Afreen Jamadar. Active member of IIIT Committe...\n",
              "1  Alok Khandai. Operational Analyst (SQL DBA) En...\n",
              "2  Anvitha Rao. Automation developer. . - Email m...\n",
              "3  arjun ks. Senior Program coordinator - oracle ...\n",
              "4  Arun Elumalai. QA Tester. . Chennai, Tamil Nad..."
            ]
          },
          "metadata": {
            "tags": []
          },
          "execution_count": 12
        }
      ]
    },
    {
      "cell_type": "code",
      "metadata": {
        "id": "12lQxpQPw0tu",
        "colab_type": "code",
        "colab": {}
      },
      "source": [
        "from nltk import sent_tokenize as st\n",
        "\n",
        "df_token_sentence = pd.DataFrame(columns=None)\n",
        "\n",
        "df_token_sentence = df_dev.apply(lambda row: st(row['content']), axis=1)"
      ],
      "execution_count": 16,
      "outputs": []
    },
    {
      "cell_type": "code",
      "metadata": {
        "id": "GAomf85Rw0tw",
        "colab_type": "code",
        "colab": {
          "base_uri": "https://localhost:8080/",
          "height": 69
        },
        "outputId": "6b61286e-893c-4ca0-ff43-eaeda08be6e4"
      },
      "source": [
        "df_token_sentence.head(2)"
      ],
      "execution_count": 17,
      "outputs": [
        {
          "output_type": "execute_result",
          "data": {
            "text/plain": [
              "0    [Afreen Jamadar., Active member of IIIT Commit...\n",
              "1    [Alok Khandai., Operational Analyst (SQL DBA) ...\n",
              "dtype: object"
            ]
          },
          "metadata": {
            "tags": []
          },
          "execution_count": 17
        }
      ]
    },
    {
      "cell_type": "code",
      "metadata": {
        "id": "_7OQ2zGkw0ty",
        "colab_type": "code",
        "colab": {}
      },
      "source": [
        "df_token_sentence.to_csv(r\"df_token_sentence.csv\", header=['content'], index = False)"
      ],
      "execution_count": 19,
      "outputs": []
    },
    {
      "cell_type": "code",
      "metadata": {
        "id": "oVveFY20w0t1",
        "colab_type": "code",
        "colab": {}
      },
      "source": [
        "df_ts = pd.read_csv(r\"df_token_sentence.csv\")"
      ],
      "execution_count": 20,
      "outputs": []
    },
    {
      "cell_type": "code",
      "metadata": {
        "id": "8MsVGo9Kw0t3",
        "colab_type": "code",
        "colab": {
          "base_uri": "https://localhost:8080/",
          "height": 79
        },
        "outputId": "a17c1737-1319-4fef-cfd9-0d82f61d70c1"
      },
      "source": [
        "df_ts.head(1)"
      ],
      "execution_count": 21,
      "outputs": [
        {
          "output_type": "execute_result",
          "data": {
            "text/html": [
              "<div>\n",
              "<style scoped>\n",
              "    .dataframe tbody tr th:only-of-type {\n",
              "        vertical-align: middle;\n",
              "    }\n",
              "\n",
              "    .dataframe tbody tr th {\n",
              "        vertical-align: top;\n",
              "    }\n",
              "\n",
              "    .dataframe thead th {\n",
              "        text-align: right;\n",
              "    }\n",
              "</style>\n",
              "<table border=\"1\" class=\"dataframe\">\n",
              "  <thead>\n",
              "    <tr style=\"text-align: right;\">\n",
              "      <th></th>\n",
              "      <th>content</th>\n",
              "    </tr>\n",
              "  </thead>\n",
              "  <tbody>\n",
              "    <tr>\n",
              "      <th>0</th>\n",
              "      <td>['Afreen Jamadar.', 'Active member of IIIT Com...</td>\n",
              "    </tr>\n",
              "  </tbody>\n",
              "</table>\n",
              "</div>"
            ],
            "text/plain": [
              "                                             content\n",
              "0  ['Afreen Jamadar.', 'Active member of IIIT Com..."
            ]
          },
          "metadata": {
            "tags": []
          },
          "execution_count": 21
        }
      ]
    },
    {
      "cell_type": "code",
      "metadata": {
        "id": "3uxyTyYhw0t5",
        "colab_type": "code",
        "colab": {
          "base_uri": "https://localhost:8080/",
          "height": 260
        },
        "outputId": "92d2a926-bbdf-4958-bd30-92b630dd0421"
      },
      "source": [
        "keep = False\n",
        "df = df_ts\n",
        "column = 'content'\n",
        "sep = ','\n",
        "indexes = list()\n",
        "new_values = list()\n",
        "df = df.dropna(subset=[column])\n",
        "for i, presplit in enumerate(df[column].astype(str)):\n",
        "    values = presplit.split(sep)\n",
        "    if keep and len(values) > 1:\n",
        "        indexes.append(i)\n",
        "        new_values.append(presplit)\n",
        "    for value in values:\n",
        "        indexes.append(i)\n",
        "        new_values.append(value)\n",
        "new_df = df.iloc[indexes, :].copy()\n",
        "new_df[column] = new_values\n",
        "print(new_df)"
      ],
      "execution_count": 22,
      "outputs": [
        {
          "output_type": "stream",
          "text": [
            "                                               content\n",
            "0                                   ['Afreen Jamadar.'\n",
            "0     'Active member of IIIT Committee in Third year.'\n",
            "0                                                  '.'\n",
            "0                                              'Sangli\n",
            "0     Maharashtra - Email me on Indeed: indeed.com/...\n",
            "..                                                 ...\n",
            "665                                                '.'\n",
            "665                                'ACADEMIC PROJECT.'\n",
            "665   'Project name:  A Case Study Undertaken to Kn...\n",
            "665                                Anti-Oxidants and.'\n",
            "665   'Liver Tests in the Etiology of Turner Syndro...\n",
            "\n",
            "[86279 rows x 1 columns]\n"
          ],
          "name": "stdout"
        }
      ]
    },
    {
      "cell_type": "code",
      "metadata": {
        "id": "dEtvdzQqw0t7",
        "colab_type": "code",
        "colab": {}
      },
      "source": [
        "new_df.to_csv(r\"tokenized_sentences.csv\", index = False)"
      ],
      "execution_count": 23,
      "outputs": []
    },
    {
      "cell_type": "code",
      "metadata": {
        "id": "w36JjWcJw0t9",
        "colab_type": "code",
        "colab": {}
      },
      "source": [
        "df_spacy = pd.read_csv(r\"tokenized_sentences.csv\")"
      ],
      "execution_count": 24,
      "outputs": []
    },
    {
      "cell_type": "code",
      "metadata": {
        "id": "oi8XCcDxw0t_",
        "colab_type": "code",
        "colab": {
          "base_uri": "https://localhost:8080/",
          "height": 141
        },
        "outputId": "0b62a986-86cc-4f5b-d9f5-a3ca98dc9ff9"
      },
      "source": [
        "df_spacy.head(3)"
      ],
      "execution_count": 25,
      "outputs": [
        {
          "output_type": "execute_result",
          "data": {
            "text/html": [
              "<div>\n",
              "<style scoped>\n",
              "    .dataframe tbody tr th:only-of-type {\n",
              "        vertical-align: middle;\n",
              "    }\n",
              "\n",
              "    .dataframe tbody tr th {\n",
              "        vertical-align: top;\n",
              "    }\n",
              "\n",
              "    .dataframe thead th {\n",
              "        text-align: right;\n",
              "    }\n",
              "</style>\n",
              "<table border=\"1\" class=\"dataframe\">\n",
              "  <thead>\n",
              "    <tr style=\"text-align: right;\">\n",
              "      <th></th>\n",
              "      <th>content</th>\n",
              "    </tr>\n",
              "  </thead>\n",
              "  <tbody>\n",
              "    <tr>\n",
              "      <th>0</th>\n",
              "      <td>['Afreen Jamadar.'</td>\n",
              "    </tr>\n",
              "    <tr>\n",
              "      <th>1</th>\n",
              "      <td>'Active member of IIIT Committee in Third year.'</td>\n",
              "    </tr>\n",
              "    <tr>\n",
              "      <th>2</th>\n",
              "      <td>'.'</td>\n",
              "    </tr>\n",
              "  </tbody>\n",
              "</table>\n",
              "</div>"
            ],
            "text/plain": [
              "                                             content\n",
              "0                                 ['Afreen Jamadar.'\n",
              "1   'Active member of IIIT Committee in Third year.'\n",
              "2                                                '.'"
            ]
          },
          "metadata": {
            "tags": []
          },
          "execution_count": 25
        }
      ]
    },
    {
      "cell_type": "code",
      "metadata": {
        "id": "aklGmdzaw0uB",
        "colab_type": "code",
        "colab": {
          "base_uri": "https://localhost:8080/",
          "height": 35
        },
        "outputId": "6b98e7b9-7643-4d2c-dbe8-bf002be03ad9"
      },
      "source": [
        "len(df_spacy['content'])"
      ],
      "execution_count": 26,
      "outputs": [
        {
          "output_type": "execute_result",
          "data": {
            "text/plain": [
              "86272"
            ]
          },
          "metadata": {
            "tags": []
          },
          "execution_count": 26
        }
      ]
    },
    {
      "cell_type": "code",
      "metadata": {
        "id": "fXuEy5ysw0uD",
        "colab_type": "code",
        "colab": {}
      },
      "source": [
        "remove_punct = df_spacy['content'][2]"
      ],
      "execution_count": 27,
      "outputs": []
    },
    {
      "cell_type": "code",
      "metadata": {
        "id": "Inq1oqgIw0uF",
        "colab_type": "code",
        "colab": {}
      },
      "source": [
        "df_spacy = df_spacy[df_spacy.content!=remove_punct]"
      ],
      "execution_count": 28,
      "outputs": []
    },
    {
      "cell_type": "code",
      "metadata": {
        "id": "vO0P-jLRw0uH",
        "colab_type": "code",
        "colab": {
          "base_uri": "https://localhost:8080/",
          "height": 139
        },
        "outputId": "d320e9ff-9ec4-479d-afbd-f325418d433a"
      },
      "source": [
        "print(df_spacy.head(5))\n",
        "print(len(df_spacy))"
      ],
      "execution_count": 29,
      "outputs": [
        {
          "output_type": "stream",
          "text": [
            "                                             content\n",
            "0                                 ['Afreen Jamadar.'\n",
            "1   'Active member of IIIT Committee in Third year.'\n",
            "3                                            'Sangli\n",
            "4   Maharashtra - Email me on Indeed: indeed.com/...\n",
            "6                        'I wish to use my knowledge\n",
            "69502\n"
          ],
          "name": "stdout"
        }
      ]
    },
    {
      "cell_type": "code",
      "metadata": {
        "id": "WMAXT6_Nw0uJ",
        "colab_type": "code",
        "colab": {}
      },
      "source": [
        "df_spacy.to_csv(r\"1st_level_cleaned_sentences.csv\", index=False, header=['content'])"
      ],
      "execution_count": 30,
      "outputs": []
    },
    {
      "cell_type": "code",
      "metadata": {
        "id": "k7cdfGsCw0uM",
        "colab_type": "code",
        "colab": {
          "base_uri": "https://localhost:8080/",
          "height": 355
        },
        "outputId": "dfb6a65e-447e-4ff9-844d-f7b93f0d77d9"
      },
      "source": [
        "df_spacy = pd.read_csv(\"1st_level_cleaned_sentences.csv\")\n",
        "df_spacy.head(10)"
      ],
      "execution_count": 31,
      "outputs": [
        {
          "output_type": "execute_result",
          "data": {
            "text/html": [
              "<div>\n",
              "<style scoped>\n",
              "    .dataframe tbody tr th:only-of-type {\n",
              "        vertical-align: middle;\n",
              "    }\n",
              "\n",
              "    .dataframe tbody tr th {\n",
              "        vertical-align: top;\n",
              "    }\n",
              "\n",
              "    .dataframe thead th {\n",
              "        text-align: right;\n",
              "    }\n",
              "</style>\n",
              "<table border=\"1\" class=\"dataframe\">\n",
              "  <thead>\n",
              "    <tr style=\"text-align: right;\">\n",
              "      <th></th>\n",
              "      <th>content</th>\n",
              "    </tr>\n",
              "  </thead>\n",
              "  <tbody>\n",
              "    <tr>\n",
              "      <th>0</th>\n",
              "      <td>['Afreen Jamadar.'</td>\n",
              "    </tr>\n",
              "    <tr>\n",
              "      <th>1</th>\n",
              "      <td>'Active member of IIIT Committee in Third year.'</td>\n",
              "    </tr>\n",
              "    <tr>\n",
              "      <th>2</th>\n",
              "      <td>'Sangli</td>\n",
              "    </tr>\n",
              "    <tr>\n",
              "      <th>3</th>\n",
              "      <td>Maharashtra - Email me on Indeed: indeed.com/...</td>\n",
              "    </tr>\n",
              "    <tr>\n",
              "      <th>4</th>\n",
              "      <td>'I wish to use my knowledge</td>\n",
              "    </tr>\n",
              "    <tr>\n",
              "      <th>5</th>\n",
              "      <td>skills and conceptual understanding to create...</td>\n",
              "    </tr>\n",
              "    <tr>\n",
              "      <th>6</th>\n",
              "      <td>'environments and work consistently achieving...</td>\n",
              "    </tr>\n",
              "    <tr>\n",
              "      <th>7</th>\n",
              "      <td>'and work to excellence in my work.. .'</td>\n",
              "    </tr>\n",
              "    <tr>\n",
              "      <th>8</th>\n",
              "      <td>'WORK EXPERIENCE.'</td>\n",
              "    </tr>\n",
              "    <tr>\n",
              "      <th>9</th>\n",
              "      <td>'Active member of IIIT Committee in Third year.'</td>\n",
              "    </tr>\n",
              "  </tbody>\n",
              "</table>\n",
              "</div>"
            ],
            "text/plain": [
              "                                             content\n",
              "0                                 ['Afreen Jamadar.'\n",
              "1   'Active member of IIIT Committee in Third year.'\n",
              "2                                            'Sangli\n",
              "3   Maharashtra - Email me on Indeed: indeed.com/...\n",
              "4                        'I wish to use my knowledge\n",
              "5   skills and conceptual understanding to create...\n",
              "6   'environments and work consistently achieving...\n",
              "7            'and work to excellence in my work.. .'\n",
              "8                                 'WORK EXPERIENCE.'\n",
              "9   'Active member of IIIT Committee in Third year.'"
            ]
          },
          "metadata": {
            "tags": []
          },
          "execution_count": 31
        }
      ]
    },
    {
      "cell_type": "code",
      "metadata": {
        "id": "Nm_alt_4w0uO",
        "colab_type": "code",
        "colab": {}
      },
      "source": [
        "def clean_text(text):\n",
        "    text = str(text) \n",
        "    text = text.replace(\"'\", \"\")\n",
        "    text = text.replace(\"[\", \"\")\n",
        "    text = text.replace(\"]\",\"\")\n",
        "    text = text.replace(\".\",\"\")\n",
        "    return text\n",
        "\n",
        "df_spacy['content']= df_spacy['content'].apply(clean_text)"
      ],
      "execution_count": 35,
      "outputs": []
    },
    {
      "cell_type": "code",
      "metadata": {
        "id": "mlPKEiSrw0uP",
        "colab_type": "code",
        "colab": {
          "base_uri": "https://localhost:8080/",
          "height": 355
        },
        "outputId": "b57f3784-7c4b-49fc-c1c2-09b23761d1c7"
      },
      "source": [
        "df_spacy.head(10)"
      ],
      "execution_count": 36,
      "outputs": [
        {
          "output_type": "execute_result",
          "data": {
            "text/html": [
              "<div>\n",
              "<style scoped>\n",
              "    .dataframe tbody tr th:only-of-type {\n",
              "        vertical-align: middle;\n",
              "    }\n",
              "\n",
              "    .dataframe tbody tr th {\n",
              "        vertical-align: top;\n",
              "    }\n",
              "\n",
              "    .dataframe thead th {\n",
              "        text-align: right;\n",
              "    }\n",
              "</style>\n",
              "<table border=\"1\" class=\"dataframe\">\n",
              "  <thead>\n",
              "    <tr style=\"text-align: right;\">\n",
              "      <th></th>\n",
              "      <th>content</th>\n",
              "    </tr>\n",
              "  </thead>\n",
              "  <tbody>\n",
              "    <tr>\n",
              "      <th>0</th>\n",
              "      <td>Afreen Jamadar</td>\n",
              "    </tr>\n",
              "    <tr>\n",
              "      <th>1</th>\n",
              "      <td>Active member of IIIT Committee in Third year</td>\n",
              "    </tr>\n",
              "    <tr>\n",
              "      <th>2</th>\n",
              "      <td>Sangli</td>\n",
              "    </tr>\n",
              "    <tr>\n",
              "      <th>3</th>\n",
              "      <td>Maharashtra - Email me on Indeed: indeedcom/r...</td>\n",
              "    </tr>\n",
              "    <tr>\n",
              "      <th>4</th>\n",
              "      <td>I wish to use my knowledge</td>\n",
              "    </tr>\n",
              "    <tr>\n",
              "      <th>5</th>\n",
              "      <td>skills and conceptual understanding to create...</td>\n",
              "    </tr>\n",
              "    <tr>\n",
              "      <th>6</th>\n",
              "      <td>environments and work consistently achieving ...</td>\n",
              "    </tr>\n",
              "    <tr>\n",
              "      <th>7</th>\n",
              "      <td>and work to excellence in my work</td>\n",
              "    </tr>\n",
              "    <tr>\n",
              "      <th>8</th>\n",
              "      <td>WORK EXPERIENCE</td>\n",
              "    </tr>\n",
              "    <tr>\n",
              "      <th>9</th>\n",
              "      <td>Active member of IIIT Committee in Third year</td>\n",
              "    </tr>\n",
              "  </tbody>\n",
              "</table>\n",
              "</div>"
            ],
            "text/plain": [
              "                                             content\n",
              "0                                     Afreen Jamadar\n",
              "1      Active member of IIIT Committee in Third year\n",
              "2                                             Sangli\n",
              "3   Maharashtra - Email me on Indeed: indeedcom/r...\n",
              "4                         I wish to use my knowledge\n",
              "5   skills and conceptual understanding to create...\n",
              "6   environments and work consistently achieving ...\n",
              "7                 and work to excellence in my work \n",
              "8                                    WORK EXPERIENCE\n",
              "9      Active member of IIIT Committee in Third year"
            ]
          },
          "metadata": {
            "tags": []
          },
          "execution_count": 36
        }
      ]
    },
    {
      "cell_type": "code",
      "metadata": {
        "id": "wX9cQDtnw0uR",
        "colab_type": "code",
        "colab": {}
      },
      "source": [
        "df_spacy.to_csv(\"cleaned_sentences.csv\", index=False, header=['content'])"
      ],
      "execution_count": 37,
      "outputs": []
    },
    {
      "cell_type": "markdown",
      "metadata": {
        "id": "r1Ka1CSPw0uT",
        "colab_type": "text"
      },
      "source": [
        "### Name Extraction using Snorkel"
      ]
    },
    {
      "cell_type": "code",
      "metadata": {
        "id": "0SLz4mxfw0uU",
        "colab_type": "code",
        "colab": {}
      },
      "source": [
        "import pandas as pd\n",
        "from snorkel.labeling import labeling_function\n",
        "import nltk\n",
        "\n",
        "import spacy\n",
        "nlp = spacy.load(\"en_core_web_sm\")"
      ],
      "execution_count": 38,
      "outputs": []
    },
    {
      "cell_type": "code",
      "metadata": {
        "id": "tfzA8nJhw0uW",
        "colab_type": "code",
        "colab": {}
      },
      "source": [
        "df_spacy = pd.read_csv(r\"cleaned_sentences.csv\")"
      ],
      "execution_count": 39,
      "outputs": []
    },
    {
      "cell_type": "code",
      "metadata": {
        "id": "_P-25FdOw0ua",
        "colab_type": "code",
        "colab": {}
      },
      "source": [
        "# from nltk import sent_tokenize as st\n",
        "\n",
        "# temp = df_spacy['content'][0]\n",
        "\n",
        "# nlp = spacy.load(\"en_core_web_sm\")\n",
        "# text = nlp(temp)\n",
        "\n",
        "# for ent in text.ents:\n",
        "#     print(ent.text, ent.label_)"
      ],
      "execution_count": null,
      "outputs": []
    },
    {
      "cell_type": "code",
      "metadata": {
        "id": "i2GPqHsKw0uc",
        "colab_type": "code",
        "colab": {}
      },
      "source": [
        "ABSTAIN = -1\n",
        "POSITIVE = 1\n",
        "NEGATIVE = 0"
      ],
      "execution_count": 40,
      "outputs": []
    },
    {
      "cell_type": "code",
      "metadata": {
        "id": "OD1-lDsjw0ue",
        "colab_type": "code",
        "colab": {}
      },
      "source": [
        "# @labeling_function()\n",
        "# def lf_start_of_resume(x):\n",
        "#     print(x)\n",
        "#     return POSITIVE if len(x)<4 else NEGATIVE\n",
        "        \n",
        "\n",
        "\n",
        "# @labeling_function()\n",
        "# def lf_start_of_resume1(x):\n",
        "#     print(x)\n",
        "#     return POSITIVE if len(x)<4 else NEGATIVE\n",
        "\n",
        "    \n",
        "# @labeling_function()\n",
        "# def lf_start_of_resume2(x):\n",
        "#     print(x)\n",
        "#     return POSITIVE if len(x)<4 else NEGATIVE"
      ],
      "execution_count": null,
      "outputs": []
    },
    {
      "cell_type": "code",
      "metadata": {
        "id": "NBbC9yhrw0uh",
        "colab_type": "code",
        "colab": {}
      },
      "source": [
        "@labeling_function()\n",
        "def lf_name_extraction(x):\n",
        "    x = x.to_string()\n",
        "    places_list=['Karnataka', 'Bangalore', 'Tamil Nadu', 'Kanpur','Noida', 'Gujarat', 'Haryana', 'Bengaluru', 'Uttar Pradesh', 'Kolhapur', 'Kerala' ,'Maharashtra']\n",
        "    \n",
        "    ners = nlp(x)\n",
        "    for ent in ners.ents:\n",
        "        if(ent.label_ == \"PERSON\"):\n",
        "            for place in places_list:\n",
        "                if(x.find(place)!=-1):\n",
        "#                     print(\"negative:\", \"x:\", x, \"place:\", place)\n",
        "                    return NEGATIVE\n",
        "            if(len(x)<20 or len(x)>35):\n",
        "#                 print(\"negative: length\", len(x), x)\n",
        "                return NEGATIVE\n",
        "            else:\n",
        "#                 print(\"positive:\", x, len(x))\n",
        "                return POSITIVE\n",
        "        elif(ent.label_ !=\"PERSON\"):\n",
        "            return NEGATIVE\n",
        "#     print(\"abstain:\", x, len(x))\n",
        "    return ABSTAIN\n",
        "\n",
        "@labeling_function()\n",
        "def lf_temp1(x):\n",
        "    return ABSTAIN\n",
        "    \n",
        "@labeling_function()\n",
        "def lf_temp2(x):\n",
        "    return ABSTAIN"
      ],
      "execution_count": 41,
      "outputs": []
    },
    {
      "cell_type": "code",
      "metadata": {
        "id": "kJhyuPQkw0uj",
        "colab_type": "code",
        "colab": {}
      },
      "source": [
        "from snorkel.labeling import PandasLFApplier\n",
        "from snorkel.labeling.model import LabelModel"
      ],
      "execution_count": 50,
      "outputs": []
    },
    {
      "cell_type": "code",
      "metadata": {
        "id": "dgmE0N5qw0ul",
        "colab_type": "code",
        "colab": {}
      },
      "source": [
        "lfs = [lf_name_extraction,lf_temp1,lf_temp2]"
      ],
      "execution_count": 43,
      "outputs": []
    },
    {
      "cell_type": "code",
      "metadata": {
        "id": "xxadAF9Sw0un",
        "colab_type": "code",
        "colab": {}
      },
      "source": [
        "# lfs = [lf_start_of_resume,lf_start_of_resume1,lf_start_of_resume2]"
      ],
      "execution_count": null,
      "outputs": []
    },
    {
      "cell_type": "code",
      "metadata": {
        "id": "RjKIqWTHw0up",
        "colab_type": "code",
        "colab": {}
      },
      "source": [
        "applier = PandasLFApplier(lfs)"
      ],
      "execution_count": 47,
      "outputs": []
    },
    {
      "cell_type": "code",
      "metadata": {
        "scrolled": true,
        "id": "gj040Vjfw0uq",
        "colab_type": "code",
        "colab": {
          "base_uri": "https://localhost:8080/",
          "height": 35
        },
        "outputId": "f5083fee-3e19-43c1-8c5e-3d960c98423b"
      },
      "source": [
        "L_train = applier.apply(df_spacy)"
      ],
      "execution_count": 48,
      "outputs": [
        {
          "output_type": "stream",
          "text": [
            "100%|██████████| 69481/69481 [11:31<00:00, 100.48it/s]\n"
          ],
          "name": "stderr"
        }
      ]
    },
    {
      "cell_type": "code",
      "metadata": {
        "id": "XC0xdyM8w0ut",
        "colab_type": "code",
        "colab": {}
      },
      "source": [
        "# Y_dev = pd.read_csv(r\"Y_dev.csv\").as_matrix()"
      ],
      "execution_count": null,
      "outputs": []
    },
    {
      "cell_type": "code",
      "metadata": {
        "id": "w45ATDdww0uu",
        "colab_type": "code",
        "colab": {}
      },
      "source": [
        "# LFAnalysis(L_dev,lfs).lf_summary(Y_dev)"
      ],
      "execution_count": null,
      "outputs": []
    },
    {
      "cell_type": "code",
      "metadata": {
        "id": "p6Q_dBFOw0uw",
        "colab_type": "code",
        "colab": {}
      },
      "source": [
        "label_model = LabelModel(cardinality=3, verbose=True)"
      ],
      "execution_count": 51,
      "outputs": []
    },
    {
      "cell_type": "code",
      "metadata": {
        "id": "9kIeJlQ5w0ux",
        "colab_type": "code",
        "colab": {}
      },
      "source": [
        "label_model.fit(L_train, n_epochs=500, log_freq=50, seed=123)"
      ],
      "execution_count": 52,
      "outputs": []
    },
    {
      "cell_type": "code",
      "metadata": {
        "id": "uGXcOQ08w0uz",
        "colab_type": "code",
        "colab": {}
      },
      "source": [
        "df_spacy[\"label\"] = label_model.predict(L=L_train, tie_break_policy=\"abstain\")"
      ],
      "execution_count": 53,
      "outputs": []
    },
    {
      "cell_type": "code",
      "metadata": {
        "id": "joUCXpC_w0u2",
        "colab_type": "code",
        "colab": {
          "base_uri": "https://localhost:8080/",
          "height": 225
        },
        "outputId": "b3d96de0-6435-4588-8d49-6eb2199bdf69"
      },
      "source": [
        "df_spacy[\"label\"]"
      ],
      "execution_count": 54,
      "outputs": [
        {
          "output_type": "execute_result",
          "data": {
            "text/plain": [
              "0        1\n",
              "1        0\n",
              "2       -1\n",
              "3        0\n",
              "4       -1\n",
              "        ..\n",
              "69476   -1\n",
              "69477   -1\n",
              "69478   -1\n",
              "69479    1\n",
              "69480   -1\n",
              "Name: label, Length: 69481, dtype: int64"
            ]
          },
          "metadata": {
            "tags": []
          },
          "execution_count": 54
        }
      ]
    },
    {
      "cell_type": "code",
      "metadata": {
        "id": "omPvpuTZw0u4",
        "colab_type": "code",
        "colab": {}
      },
      "source": [
        "df_spacy.to_csv(path_or_buf = 'snorkel_labeled.csv',index=False)\n",
        "df_spacy = df_spacy[df_spacy.label != ABSTAIN]"
      ],
      "execution_count": 55,
      "outputs": []
    },
    {
      "cell_type": "markdown",
      "metadata": {
        "id": "mlRxa5REw0u5",
        "colab_type": "text"
      },
      "source": [
        "### Training a Classifier"
      ]
    },
    {
      "cell_type": "code",
      "metadata": {
        "id": "5bkrLbibw0u6",
        "colab_type": "code",
        "colab": {}
      },
      "source": [
        "from sklearn.feature_extraction.text import CountVectorizer\n",
        "from sklearn.linear_model import LogisticRegression"
      ],
      "execution_count": 56,
      "outputs": []
    },
    {
      "cell_type": "code",
      "metadata": {
        "id": "fIFVgkLfw0u8",
        "colab_type": "code",
        "colab": {}
      },
      "source": [
        "train_text = df_spacy.content.tolist()\n",
        "cv = CountVectorizer(ngram_range=(1,2)).fit(train_text)\n",
        "X_train = cv.transform(train_text)"
      ],
      "execution_count": 57,
      "outputs": []
    },
    {
      "cell_type": "code",
      "metadata": {
        "id": "CclwzwmLw0u-",
        "colab_type": "code",
        "colab": {}
      },
      "source": [
        "clf = LogisticRegression(solver=\"newton-cg\")\n",
        "clf = clf.fit(X=X_train, y=df_spacy.label.values)"
      ],
      "execution_count": 58,
      "outputs": []
    },
    {
      "cell_type": "code",
      "metadata": {
        "id": "y3zuhUTkw0vA",
        "colab_type": "code",
        "colab": {
          "base_uri": "https://localhost:8080/",
          "height": 398
        },
        "outputId": "fe2b62ab-d2ad-4485-9882-a6a731c2196d"
      },
      "source": [
        "test = pd.read_csv(r'test_files\\test_tokenized_sentences.csv')"
      ],
      "execution_count": 59,
      "outputs": [
        {
          "output_type": "error",
          "ename": "FileNotFoundError",
          "evalue": "ignored",
          "traceback": [
            "\u001b[0;31m---------------------------------------------------------------------------\u001b[0m",
            "\u001b[0;31mFileNotFoundError\u001b[0m                         Traceback (most recent call last)",
            "\u001b[0;32m<ipython-input-59-1deac2d691db>\u001b[0m in \u001b[0;36m<module>\u001b[0;34m()\u001b[0m\n\u001b[0;32m----> 1\u001b[0;31m \u001b[0mtest\u001b[0m \u001b[0;34m=\u001b[0m \u001b[0mpd\u001b[0m\u001b[0;34m.\u001b[0m\u001b[0mread_csv\u001b[0m\u001b[0;34m(\u001b[0m\u001b[0;34mr'test_files\\test_tokenized_sentences.csv'\u001b[0m\u001b[0;34m)\u001b[0m\u001b[0;34m\u001b[0m\u001b[0;34m\u001b[0m\u001b[0m\n\u001b[0m",
            "\u001b[0;32m/usr/local/lib/python3.6/dist-packages/pandas/io/parsers.py\u001b[0m in \u001b[0;36mparser_f\u001b[0;34m(filepath_or_buffer, sep, delimiter, header, names, index_col, usecols, squeeze, prefix, mangle_dupe_cols, dtype, engine, converters, true_values, false_values, skipinitialspace, skiprows, skipfooter, nrows, na_values, keep_default_na, na_filter, verbose, skip_blank_lines, parse_dates, infer_datetime_format, keep_date_col, date_parser, dayfirst, cache_dates, iterator, chunksize, compression, thousands, decimal, lineterminator, quotechar, quoting, doublequote, escapechar, comment, encoding, dialect, error_bad_lines, warn_bad_lines, delim_whitespace, low_memory, memory_map, float_precision)\u001b[0m\n\u001b[1;32m    674\u001b[0m         )\n\u001b[1;32m    675\u001b[0m \u001b[0;34m\u001b[0m\u001b[0m\n\u001b[0;32m--> 676\u001b[0;31m         \u001b[0;32mreturn\u001b[0m \u001b[0m_read\u001b[0m\u001b[0;34m(\u001b[0m\u001b[0mfilepath_or_buffer\u001b[0m\u001b[0;34m,\u001b[0m \u001b[0mkwds\u001b[0m\u001b[0;34m)\u001b[0m\u001b[0;34m\u001b[0m\u001b[0;34m\u001b[0m\u001b[0m\n\u001b[0m\u001b[1;32m    677\u001b[0m \u001b[0;34m\u001b[0m\u001b[0m\n\u001b[1;32m    678\u001b[0m     \u001b[0mparser_f\u001b[0m\u001b[0;34m.\u001b[0m\u001b[0m__name__\u001b[0m \u001b[0;34m=\u001b[0m \u001b[0mname\u001b[0m\u001b[0;34m\u001b[0m\u001b[0;34m\u001b[0m\u001b[0m\n",
            "\u001b[0;32m/usr/local/lib/python3.6/dist-packages/pandas/io/parsers.py\u001b[0m in \u001b[0;36m_read\u001b[0;34m(filepath_or_buffer, kwds)\u001b[0m\n\u001b[1;32m    446\u001b[0m \u001b[0;34m\u001b[0m\u001b[0m\n\u001b[1;32m    447\u001b[0m     \u001b[0;31m# Create the parser.\u001b[0m\u001b[0;34m\u001b[0m\u001b[0;34m\u001b[0m\u001b[0;34m\u001b[0m\u001b[0m\n\u001b[0;32m--> 448\u001b[0;31m     \u001b[0mparser\u001b[0m \u001b[0;34m=\u001b[0m \u001b[0mTextFileReader\u001b[0m\u001b[0;34m(\u001b[0m\u001b[0mfp_or_buf\u001b[0m\u001b[0;34m,\u001b[0m \u001b[0;34m**\u001b[0m\u001b[0mkwds\u001b[0m\u001b[0;34m)\u001b[0m\u001b[0;34m\u001b[0m\u001b[0;34m\u001b[0m\u001b[0m\n\u001b[0m\u001b[1;32m    449\u001b[0m \u001b[0;34m\u001b[0m\u001b[0m\n\u001b[1;32m    450\u001b[0m     \u001b[0;32mif\u001b[0m \u001b[0mchunksize\u001b[0m \u001b[0;32mor\u001b[0m \u001b[0miterator\u001b[0m\u001b[0;34m:\u001b[0m\u001b[0;34m\u001b[0m\u001b[0;34m\u001b[0m\u001b[0m\n",
            "\u001b[0;32m/usr/local/lib/python3.6/dist-packages/pandas/io/parsers.py\u001b[0m in \u001b[0;36m__init__\u001b[0;34m(self, f, engine, **kwds)\u001b[0m\n\u001b[1;32m    878\u001b[0m             \u001b[0mself\u001b[0m\u001b[0;34m.\u001b[0m\u001b[0moptions\u001b[0m\u001b[0;34m[\u001b[0m\u001b[0;34m\"has_index_names\"\u001b[0m\u001b[0;34m]\u001b[0m \u001b[0;34m=\u001b[0m \u001b[0mkwds\u001b[0m\u001b[0;34m[\u001b[0m\u001b[0;34m\"has_index_names\"\u001b[0m\u001b[0;34m]\u001b[0m\u001b[0;34m\u001b[0m\u001b[0;34m\u001b[0m\u001b[0m\n\u001b[1;32m    879\u001b[0m \u001b[0;34m\u001b[0m\u001b[0m\n\u001b[0;32m--> 880\u001b[0;31m         \u001b[0mself\u001b[0m\u001b[0;34m.\u001b[0m\u001b[0m_make_engine\u001b[0m\u001b[0;34m(\u001b[0m\u001b[0mself\u001b[0m\u001b[0;34m.\u001b[0m\u001b[0mengine\u001b[0m\u001b[0;34m)\u001b[0m\u001b[0;34m\u001b[0m\u001b[0;34m\u001b[0m\u001b[0m\n\u001b[0m\u001b[1;32m    881\u001b[0m \u001b[0;34m\u001b[0m\u001b[0m\n\u001b[1;32m    882\u001b[0m     \u001b[0;32mdef\u001b[0m \u001b[0mclose\u001b[0m\u001b[0;34m(\u001b[0m\u001b[0mself\u001b[0m\u001b[0;34m)\u001b[0m\u001b[0;34m:\u001b[0m\u001b[0;34m\u001b[0m\u001b[0;34m\u001b[0m\u001b[0m\n",
            "\u001b[0;32m/usr/local/lib/python3.6/dist-packages/pandas/io/parsers.py\u001b[0m in \u001b[0;36m_make_engine\u001b[0;34m(self, engine)\u001b[0m\n\u001b[1;32m   1112\u001b[0m     \u001b[0;32mdef\u001b[0m \u001b[0m_make_engine\u001b[0m\u001b[0;34m(\u001b[0m\u001b[0mself\u001b[0m\u001b[0;34m,\u001b[0m \u001b[0mengine\u001b[0m\u001b[0;34m=\u001b[0m\u001b[0;34m\"c\"\u001b[0m\u001b[0;34m)\u001b[0m\u001b[0;34m:\u001b[0m\u001b[0;34m\u001b[0m\u001b[0;34m\u001b[0m\u001b[0m\n\u001b[1;32m   1113\u001b[0m         \u001b[0;32mif\u001b[0m \u001b[0mengine\u001b[0m \u001b[0;34m==\u001b[0m \u001b[0;34m\"c\"\u001b[0m\u001b[0;34m:\u001b[0m\u001b[0;34m\u001b[0m\u001b[0;34m\u001b[0m\u001b[0m\n\u001b[0;32m-> 1114\u001b[0;31m             \u001b[0mself\u001b[0m\u001b[0;34m.\u001b[0m\u001b[0m_engine\u001b[0m \u001b[0;34m=\u001b[0m \u001b[0mCParserWrapper\u001b[0m\u001b[0;34m(\u001b[0m\u001b[0mself\u001b[0m\u001b[0;34m.\u001b[0m\u001b[0mf\u001b[0m\u001b[0;34m,\u001b[0m \u001b[0;34m**\u001b[0m\u001b[0mself\u001b[0m\u001b[0;34m.\u001b[0m\u001b[0moptions\u001b[0m\u001b[0;34m)\u001b[0m\u001b[0;34m\u001b[0m\u001b[0;34m\u001b[0m\u001b[0m\n\u001b[0m\u001b[1;32m   1115\u001b[0m         \u001b[0;32melse\u001b[0m\u001b[0;34m:\u001b[0m\u001b[0;34m\u001b[0m\u001b[0;34m\u001b[0m\u001b[0m\n\u001b[1;32m   1116\u001b[0m             \u001b[0;32mif\u001b[0m \u001b[0mengine\u001b[0m \u001b[0;34m==\u001b[0m \u001b[0;34m\"python\"\u001b[0m\u001b[0;34m:\u001b[0m\u001b[0;34m\u001b[0m\u001b[0;34m\u001b[0m\u001b[0m\n",
            "\u001b[0;32m/usr/local/lib/python3.6/dist-packages/pandas/io/parsers.py\u001b[0m in \u001b[0;36m__init__\u001b[0;34m(self, src, **kwds)\u001b[0m\n\u001b[1;32m   1889\u001b[0m         \u001b[0mkwds\u001b[0m\u001b[0;34m[\u001b[0m\u001b[0;34m\"usecols\"\u001b[0m\u001b[0;34m]\u001b[0m \u001b[0;34m=\u001b[0m \u001b[0mself\u001b[0m\u001b[0;34m.\u001b[0m\u001b[0musecols\u001b[0m\u001b[0;34m\u001b[0m\u001b[0;34m\u001b[0m\u001b[0m\n\u001b[1;32m   1890\u001b[0m \u001b[0;34m\u001b[0m\u001b[0m\n\u001b[0;32m-> 1891\u001b[0;31m         \u001b[0mself\u001b[0m\u001b[0;34m.\u001b[0m\u001b[0m_reader\u001b[0m \u001b[0;34m=\u001b[0m \u001b[0mparsers\u001b[0m\u001b[0;34m.\u001b[0m\u001b[0mTextReader\u001b[0m\u001b[0;34m(\u001b[0m\u001b[0msrc\u001b[0m\u001b[0;34m,\u001b[0m \u001b[0;34m**\u001b[0m\u001b[0mkwds\u001b[0m\u001b[0;34m)\u001b[0m\u001b[0;34m\u001b[0m\u001b[0;34m\u001b[0m\u001b[0m\n\u001b[0m\u001b[1;32m   1892\u001b[0m         \u001b[0mself\u001b[0m\u001b[0;34m.\u001b[0m\u001b[0munnamed_cols\u001b[0m \u001b[0;34m=\u001b[0m \u001b[0mself\u001b[0m\u001b[0;34m.\u001b[0m\u001b[0m_reader\u001b[0m\u001b[0;34m.\u001b[0m\u001b[0munnamed_cols\u001b[0m\u001b[0;34m\u001b[0m\u001b[0;34m\u001b[0m\u001b[0m\n\u001b[1;32m   1893\u001b[0m \u001b[0;34m\u001b[0m\u001b[0m\n",
            "\u001b[0;32mpandas/_libs/parsers.pyx\u001b[0m in \u001b[0;36mpandas._libs.parsers.TextReader.__cinit__\u001b[0;34m()\u001b[0m\n",
            "\u001b[0;32mpandas/_libs/parsers.pyx\u001b[0m in \u001b[0;36mpandas._libs.parsers.TextReader._setup_parser_source\u001b[0;34m()\u001b[0m\n",
            "\u001b[0;31mFileNotFoundError\u001b[0m: [Errno 2] File test_files\\test_tokenized_sentences.csv does not exist: 'test_files\\\\test_tokenized_sentences.csv'"
          ]
        }
      ]
    },
    {
      "cell_type": "code",
      "metadata": {
        "id": "-VT8m5okw0vC",
        "colab_type": "code",
        "colab": {},
        "outputId": "632af48b-77a3-442b-e7e3-0df518a728f1"
      },
      "source": [
        "test"
      ],
      "execution_count": null,
      "outputs": [
        {
          "output_type": "execute_result",
          "data": {
            "text/html": [
              "<div>\n",
              "<style scoped>\n",
              "    .dataframe tbody tr th:only-of-type {\n",
              "        vertical-align: middle;\n",
              "    }\n",
              "\n",
              "    .dataframe tbody tr th {\n",
              "        vertical-align: top;\n",
              "    }\n",
              "\n",
              "    .dataframe thead th {\n",
              "        text-align: right;\n",
              "    }\n",
              "</style>\n",
              "<table border=\"1\" class=\"dataframe\">\n",
              "  <thead>\n",
              "    <tr style=\"text-align: right;\">\n",
              "      <th></th>\n",
              "      <th>content</th>\n",
              "    </tr>\n",
              "  </thead>\n",
              "  <tbody>\n",
              "    <tr>\n",
              "      <th>0</th>\n",
              "      <td>Rahul Kumar</td>\n",
              "    </tr>\n",
              "    <tr>\n",
              "      <th>1</th>\n",
              "      <td>Fresher</td>\n",
              "    </tr>\n",
              "    <tr>\n",
              "      <th>2</th>\n",
              "      <td>Bengaluru</td>\n",
              "    </tr>\n",
              "    <tr>\n",
              "      <th>3</th>\n",
              "      <td>Karnataka - Email me on Indeed: indeedcom/r/R...</td>\n",
              "    </tr>\n",
              "    <tr>\n",
              "      <th>4</th>\n",
              "      <td>Looking for a challenging carrier to enhance ...</td>\n",
              "    </tr>\n",
              "    <tr>\n",
              "      <th>...</th>\n",
              "      <td>...</td>\n",
              "    </tr>\n",
              "    <tr>\n",
              "      <th>2476</th>\n",
              "      <td>in final</td>\n",
              "    </tr>\n",
              "    <tr>\n",
              "      <th>2477</th>\n",
              "      <td>Aff</td>\n",
              "    </tr>\n",
              "    <tr>\n",
              "      <th>2478</th>\n",
              "      <td>To CCS</td>\n",
              "    </tr>\n",
              "    <tr>\n",
              "      <th>2479</th>\n",
              "      <td>University</td>\n",
              "    </tr>\n",
              "    <tr>\n",
              "      <th>2480</th>\n",
              "      <td>https://wwwindeedcom/r/Vijat-Kumar/0e4c2eea28...</td>\n",
              "    </tr>\n",
              "  </tbody>\n",
              "</table>\n",
              "<p>2481 rows × 1 columns</p>\n",
              "</div>"
            ],
            "text/plain": [
              "                                                content\n",
              "0                                           Rahul Kumar\n",
              "1                                               Fresher\n",
              "2                                             Bengaluru\n",
              "3      Karnataka - Email me on Indeed: indeedcom/r/R...\n",
              "4      Looking for a challenging carrier to enhance ...\n",
              "...                                                 ...\n",
              "2476                                           in final\n",
              "2477                                                Aff\n",
              "2478                                             To CCS\n",
              "2479                                         University\n",
              "2480   https://wwwindeedcom/r/Vijat-Kumar/0e4c2eea28...\n",
              "\n",
              "[2481 rows x 1 columns]"
            ]
          },
          "metadata": {
            "tags": []
          },
          "execution_count": 69
        }
      ]
    },
    {
      "cell_type": "code",
      "metadata": {
        "id": "yKU960RQw0vE",
        "colab_type": "code",
        "colab": {}
      },
      "source": [
        "test_text = test.content.tolist()\n",
        "T_train = cv.transform(test_text)"
      ],
      "execution_count": null,
      "outputs": []
    },
    {
      "cell_type": "code",
      "metadata": {
        "id": "15oXzq5pw0vH",
        "colab_type": "code",
        "colab": {}
      },
      "source": [
        "test['prediction'] = clf.predict(X=T_train)"
      ],
      "execution_count": null,
      "outputs": []
    },
    {
      "cell_type": "code",
      "metadata": {
        "id": "AxIf3Dd2w0vJ",
        "colab_type": "code",
        "colab": {},
        "outputId": "c46b5c4b-75bb-4dcf-f2ae-af8cd7dbd7be"
      },
      "source": [
        "test['prediction']"
      ],
      "execution_count": null,
      "outputs": [
        {
          "output_type": "execute_result",
          "data": {
            "text/plain": [
              "0       1\n",
              "1       0\n",
              "2       0\n",
              "3       0\n",
              "4       0\n",
              "       ..\n",
              "2476    0\n",
              "2477    0\n",
              "2478    0\n",
              "2479    0\n",
              "2480    0\n",
              "Name: prediction, Length: 2481, dtype: int32"
            ]
          },
          "metadata": {
            "tags": []
          },
          "execution_count": 72
        }
      ]
    },
    {
      "cell_type": "code",
      "metadata": {
        "id": "3Rd4Hpdrw0vL",
        "colab_type": "code",
        "colab": {}
      },
      "source": [
        "test.to_csv('test_files\\snorkel_test_predictions.csv', index=False)"
      ],
      "execution_count": null,
      "outputs": []
    },
    {
      "cell_type": "markdown",
      "metadata": {
        "id": "ay2RW7Clw0vM",
        "colab_type": "text"
      },
      "source": [
        "### Calculating Accuracy"
      ]
    },
    {
      "cell_type": "code",
      "metadata": {
        "id": "YXFqFG9Gw0vM",
        "colab_type": "code",
        "colab": {}
      },
      "source": [
        "df_cleaned = pd.read_csv(r\"cleaned_dataset.csv\")"
      ],
      "execution_count": null,
      "outputs": []
    },
    {
      "cell_type": "code",
      "metadata": {
        "id": "iVLASvqGw0vO",
        "colab_type": "code",
        "colab": {}
      },
      "source": [
        "df_label = df_cleaned['label']"
      ],
      "execution_count": null,
      "outputs": []
    },
    {
      "cell_type": "code",
      "metadata": {
        "id": "ZVZnXDRyw0vR",
        "colab_type": "code",
        "colab": {},
        "outputId": "a63a20c3-b6b8-4e9a-cb3b-b58f772c038b"
      },
      "source": [
        "df_label.head(5)"
      ],
      "execution_count": null,
      "outputs": [
        {
          "output_type": "execute_result",
          "data": {
            "text/plain": [
              "0    Afreen Jamadar\n",
              "1      Alok Khandai\n",
              "2       Anvitha Rao\n",
              "3          arjun ks\n",
              "4     Arun Elumalai\n",
              "Name: label, dtype: object"
            ]
          },
          "metadata": {
            "tags": []
          },
          "execution_count": 23
        }
      ]
    },
    {
      "cell_type": "code",
      "metadata": {
        "id": "gQcEWsCdw0vU",
        "colab_type": "code",
        "colab": {}
      },
      "source": [
        "df_positive = df_spacy[df_spacy['label']==1]"
      ],
      "execution_count": null,
      "outputs": []
    },
    {
      "cell_type": "code",
      "metadata": {
        "id": "r1aPV_r3w0vW",
        "colab_type": "code",
        "colab": {},
        "outputId": "aaafb2ac-a028-4ddf-ce59-2abeaa83f1fe"
      },
      "source": [
        "df_positive.head(5)"
      ],
      "execution_count": null,
      "outputs": [
        {
          "output_type": "execute_result",
          "data": {
            "text/html": [
              "<div>\n",
              "<style scoped>\n",
              "    .dataframe tbody tr th:only-of-type {\n",
              "        vertical-align: middle;\n",
              "    }\n",
              "\n",
              "    .dataframe tbody tr th {\n",
              "        vertical-align: top;\n",
              "    }\n",
              "\n",
              "    .dataframe thead th {\n",
              "        text-align: right;\n",
              "    }\n",
              "</style>\n",
              "<table border=\"1\" class=\"dataframe\">\n",
              "  <thead>\n",
              "    <tr style=\"text-align: right;\">\n",
              "      <th></th>\n",
              "      <th>content</th>\n",
              "      <th>label</th>\n",
              "    </tr>\n",
              "  </thead>\n",
              "  <tbody>\n",
              "    <tr>\n",
              "      <th>0</th>\n",
              "      <td>Afreen Jamadar</td>\n",
              "      <td>1</td>\n",
              "    </tr>\n",
              "    <tr>\n",
              "      <th>46</th>\n",
              "      <td>Alok Khandai</td>\n",
              "      <td>1</td>\n",
              "    </tr>\n",
              "    <tr>\n",
              "      <th>243</th>\n",
              "      <td>Anvitha Rao</td>\n",
              "      <td>1</td>\n",
              "    </tr>\n",
              "    <tr>\n",
              "      <th>524</th>\n",
              "      <td>Ashalata Bisoyi</td>\n",
              "      <td>1</td>\n",
              "    </tr>\n",
              "    <tr>\n",
              "      <th>578</th>\n",
              "      <td>Ashok Kunam</td>\n",
              "      <td>1</td>\n",
              "    </tr>\n",
              "  </tbody>\n",
              "</table>\n",
              "</div>"
            ],
            "text/plain": [
              "             content  label\n",
              "0     Afreen Jamadar      1\n",
              "46      Alok Khandai      1\n",
              "243      Anvitha Rao      1\n",
              "524  Ashalata Bisoyi      1\n",
              "578      Ashok Kunam      1"
            ]
          },
          "metadata": {
            "tags": []
          },
          "execution_count": 25
        }
      ]
    },
    {
      "cell_type": "code",
      "metadata": {
        "id": "EAWivL5qw0va",
        "colab_type": "code",
        "colab": {},
        "outputId": "d3128c94-a6fb-410e-8c16-67f3c4ea19f4"
      },
      "source": [
        "count = 0\n",
        "for name in df_label:\n",
        "#     name = name.to_string()\n",
        "    if(df_positive.content.to_string().find(name)!=-1):\n",
        "        count +=1\n",
        "    else:\n",
        "        print(name)"
      ],
      "execution_count": null,
      "outputs": [
        {
          "output_type": "stream",
          "text": [
            "arjun ks\n",
            "Arun Elumalai\n",
            "Ayesha B\n",
            "Darshan G.\n",
            "Govardhana K\n",
            "Ijas Nizamuddin\n",
            "Karthihayini C\n",
            "Kavitha K\n",
            "Kavya U.\n",
            "kimaya sonawane\n",
            "Mohamed Ameen\n",
            "Nitin Tr\n",
            "Pradeeba V\n",
            "PRASHANTH BADALA\n",
            "Pratibha P\n",
            "Prem Koshti\n",
            "Ram Edupuganti\n",
            "Ramesh HP\n",
            "Ramya. P\n",
            "R Arunravi\n",
            "Sai Dhir\n",
            "Sameer Kujur\n",
            "Shabnam Saba\n",
            "Shaheen Unissa\n",
            "Shreyanshu Gupta\n",
            "Soumya Balan\n",
            "Syam Devendla\n",
            "Vamsi krishna\n",
            "VARUN AHLUWALIA\n",
            "Vijayalakshmi Govindarajan\n",
            "Yasothai Jayaramachandran\n",
            "Yathishwaran P\n",
            "amarjyot sodhi\n",
            "Sameer Kujur\n",
            "Abdul B\n",
            "Ramesh chokkala\n",
            "Ganesh AlalaSundaram\n",
            "Bangalore Tavarekere\n",
            "Tanmoy Maity\n",
            "Chhaya Prabhale\n",
            "Karthik G V\n",
            "Soumya Balan\n",
            "Akshay Dubey\n",
            "B. Gokul\n",
            "Anand S\n",
            "Priyesh Dubey\n",
            "Laya A\n",
            "Vishwanath P\n",
            "Ramakrishna Rao\n",
            "Keshav Dhawale\n",
            "Gunjan Nayyar\n",
            "Rupesh Reddy\n",
            "Puneeth R\n",
            "Deepika S\n",
            "Georgia Institute of Technology\n",
            "Shaik Tazuddin\n",
            "Angad Waghmare\n",
            "Tapan kumar Nayak\n",
            "Palani S\n",
            "Mayank Shukla\n",
            "Sridevi H\n",
            "Raktim Podder\n",
            "Pavithra M\n",
            "shrikant desai\n",
            "K. Siddharth\n",
            "Venkateswara D\n",
            "Siddharth Choudhary\n",
            "Pradeep Kumar\n",
            "Ajay Gupta\n",
            "sneh jain\n",
            "Rahul singh\n",
            "sneh jain\n",
            "Ram Dubey\n",
            "MUKESH SHAH\n",
            "Ram Dubey\n",
            "Rajesh Rokaya\n",
            "Nitesh Raheja\n",
            "RIYAZ SHAIKH\n",
            "Satyendra Singh\n",
            "Tahir Pasa\n",
            "Priyanka Sonar\n",
            "Satyendra Singh\n",
            "aaryan vatts\n",
            "Pranav Samant\n",
            "Satish Patil\n",
            "Manoj Chawla\n",
            "Harpreet Kaur Lohiya\n",
            "Reshma Raeen\n",
            "Mahesh. Shrigiri\n",
            "Rajesh Rokaya\n",
            "Swapna Sanadi\n",
            "Nilesh Sinha\n",
            "Vikram Rajput\n",
            "Pranav Samant\n",
            "AMIT DUBEY\n",
            "Rajesh Davankar\n",
            "Shrikant V\n",
            "Harpreet Kaur Lohiya\n",
            "MUKESH SHAH\n",
            "Harinath Rudra\n",
            "Shailesh Jadhav\n",
            "Mayur Talele\n",
            "Punit Raghav\n",
            "Punit Raghav\n",
            "Pradyuman Nayyar\n",
            "Sameer More\n",
            "Prashant Chitare\n",
            "Amrata Rajani\n",
            "Ravi Shahade\n",
            "Neha Lakhanpal\n",
            "Kuntal Dandir\n",
            "Prembahadur Kamal\n",
            "Shreyas Chippalkatti\n",
            "Naynish Argade\n",
            "Sameer More\n",
            "Mahesh Chalwadi\n",
            "Hardik Shah\n",
            "Raunak dambir Dambir\n",
            "manoj singh\n",
            "Lokesh Inarkar\n",
            "Jameel Pathan\n",
            "Tarun Chhag\n",
            "AARTI MHATRE\n",
            "Mahesh. Shrigiri\n",
            "SUFIYAN Motiwala\n",
            "arjun ks\n",
            "Arun Elumalai\n",
            "Ayesha B\n",
            "Darshan G.\n",
            "Govardhana K\n",
            "Ijas Nizamuddin\n",
            "Karthihayini C\n",
            "Kavitha K\n",
            "Kavya U.\n",
            "kimaya sonawane\n",
            "Mohamed Ameen\n",
            "Nitin Tr\n",
            "Pradeeba V\n",
            "PRASHANTH BADALA\n",
            "Ram Edupuganti\n",
            "Ramesh HP\n",
            "Ramya. P\n",
            "R Arunravi\n",
            "Sai Dhir\n",
            "Sameer Kujur\n",
            "Shabnam Saba\n",
            "Shaheen Unissa\n",
            "Shreyanshu Gupta\n",
            "Soumya Balan\n",
            "Vijayalakshmi Govindarajan\n",
            "Sameer Kujur\n",
            "Abdul B\n",
            "Shreekumar Das\n",
            "Pradeep R shukla Shukla\n",
            "Laxmiprasad Ukidawe\n",
            "Siddhanth Jaisinghani\n",
            "Adil K\n",
            "Ashwini Vartak\n",
            "Adil K\n",
            "AARTI MHATRE\n",
            "H.N Arun Kumar\n",
            "Naynish Argade\n",
            "Sandeep Mahadik\n",
            "Jitendra. Makhijani\n",
            "Sameer Gavad\n",
            "shish Dubey\n",
            "Bikram Bhattacharjee\n",
            "Nadeem Sayyed\n",
            "Maharashtra\n",
            "Mahesh Gokral\n",
            "Tarun Chhag\n",
            "Vikram Hirugade\n",
            "k.balaji krishnamoorthy\n",
            "Mohd. Chaman\n",
            "D.ALDRIN DAVID\n",
            "Hemant Tupe\n",
            "Rohit Solanki\n",
            "Abhijeet Srivastava\n",
            "Gautam Palit\n",
            "Pankti Patel\n",
            "Vivek Mishra\n",
            "Karthihayini C\n",
            "VARUN AHLUWALIA\n",
            "Raktim Podder\n",
            "Pavithra M\n",
            "shrikant desai\n",
            "Tahir Pasa\n",
            "Punit Raghav\n",
            "Tarun Chhag\n",
            "Aditi Solanki\n",
            "Anirban Ghosh\n",
            "Arunbalaji. R\n",
            "Nitin Tr\n",
            "Mayank Shukla\n",
            "shrikant desai\n",
            "Adil K\n",
            "Pankti Patel\n",
            "aaryan vatts\n",
            "Shaheen Unissa\n",
            "Kuntal Dandir\n",
            "Anil Jinsi\n",
            "Gaurav Swami\n",
            "Kuntal Dandir\n",
            "Anil Jinsi\n",
            "Lucky Aneja\n",
            "rajeev nigam\n",
            "manoj singh\n",
            "Abheek Chatterjee\n",
            "B. Varadarajan\n",
            "Tarak.H. Joshi\n",
            "Chandrashekhar javalkote\n",
            "Niranjan Tambade\n",
            "Adil K\n",
            "Kalpesh Shah\n",
            "Yuvaraj Balakrishnan\n",
            "ASHWINI DASARI\n",
            "Prosenjit Mitra\n"
          ],
          "name": "stdout"
        }
      ]
    },
    {
      "cell_type": "code",
      "metadata": {
        "id": "tNnU5hzTw0vb",
        "colab_type": "code",
        "colab": {},
        "outputId": "d2b86008-697e-48cf-aab4-93e98228d5a9"
      },
      "source": [
        "print(count) #Only 449 names were identified out of 667 names"
      ],
      "execution_count": null,
      "outputs": [
        {
          "output_type": "stream",
          "text": [
            "449\n"
          ],
          "name": "stdout"
        }
      ]
    },
    {
      "cell_type": "code",
      "metadata": {
        "id": "FEEX4h8iw0vd",
        "colab_type": "code",
        "colab": {},
        "outputId": "9ebdee28-8016-448c-d7e2-da83e0d0232f"
      },
      "source": [
        "print(\"Accuracy:\", count/667*100)"
      ],
      "execution_count": null,
      "outputs": [
        {
          "output_type": "stream",
          "text": [
            "Accuracy: 67.31634182908546\n"
          ],
          "name": "stdout"
        }
      ]
    },
    {
      "cell_type": "markdown",
      "metadata": {
        "id": "FvAWQ1WZw0vf",
        "colab_type": "text"
      },
      "source": [
        "### Utilities -------------------------------------------------------------------------------------------------------------"
      ]
    },
    {
      "cell_type": "code",
      "metadata": {
        "id": "XTXehhPnw0vf",
        "colab_type": "code",
        "colab": {}
      },
      "source": [
        "import spacy\n",
        "\n",
        "nlp = spacy.load(\"en_core_web_sm\")\n",
        "doc = nlp(\"TIBCO Administrator 560\")\n",
        "for ent in doc.ents:\n",
        "    print(ent.text, ent.start_char, ent.end_char, ent.label_)"
      ],
      "execution_count": null,
      "outputs": []
    },
    {
      "cell_type": "code",
      "metadata": {
        "id": "U8HstC41w0vh",
        "colab_type": "code",
        "colab": {}
      },
      "source": [
        "df_abstain_names = pd.read_csv('abstain_names.csv')"
      ],
      "execution_count": null,
      "outputs": []
    },
    {
      "cell_type": "code",
      "metadata": {
        "scrolled": true,
        "id": "KYld0WVFw0vi",
        "colab_type": "code",
        "colab": {}
      },
      "source": [
        "df_abstain_names.head(5)"
      ],
      "execution_count": null,
      "outputs": []
    },
    {
      "cell_type": "code",
      "metadata": {
        "id": "00m9U70Pw0vk",
        "colab_type": "code",
        "colab": {}
      },
      "source": [
        "identified_count = 0\n",
        "total_names = df_abstain_names.shape\n",
        "for name in df_abstain_names['names']:\n",
        "    nlp = spacy.load(\"en_core_web_sm\")\n",
        "    doc = nlp(name)\n",
        "    for ent in doc.ents:\n",
        "        identified_count +=1\n",
        "        print(ent.text, ent.start_char, ent.end_char, ent.label_)\n",
        "print(\"No.of Identified Names: \", identified_count)\n",
        "print(\"No.of unidentified Names: \", total_names-identified_count)"
      ],
      "execution_count": null,
      "outputs": []
    },
    {
      "cell_type": "markdown",
      "metadata": {
        "id": "iiLHNTsVw0vl",
        "colab_type": "text"
      },
      "source": [
        "### -------------------------------------------------------------------------------------------------------------"
      ]
    },
    {
      "cell_type": "code",
      "metadata": {
        "id": "fN_1pMnsw0vm",
        "colab_type": "code",
        "colab": {}
      },
      "source": [
        ""
      ],
      "execution_count": null,
      "outputs": []
    }
  ]
}