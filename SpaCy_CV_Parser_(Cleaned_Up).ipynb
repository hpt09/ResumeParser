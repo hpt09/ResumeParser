{
  "nbformat": 4,
  "nbformat_minor": 0,
  "metadata": {
    "colab": {
      "name": "SpaCy CV Parser (Cleaned Up).ipynb",
      "provenance": [],
      "collapsed_sections": []
    },
    "kernelspec": {
      "name": "python3",
      "display_name": "Python 3"
    }
  },
  "cells": [
    {
      "cell_type": "markdown",
      "metadata": {
        "id": "view-in-github",
        "colab_type": "text"
      },
      "source": [
        "<a href=\"https://colab.research.google.com/github/hpt09/ResumeParser/blob/master/SpaCy_Example.ipynb\" target=\"_parent\"><img src=\"https://colab.research.google.com/assets/colab-badge.svg\" alt=\"Open In Colab\"/></a>"
      ]
    },
    {
      "cell_type": "code",
      "metadata": {
        "id": "4LaKQ99ytxzC",
        "colab_type": "code",
        "colab": {}
      },
      "source": [
        "!pip install spacy\n",
        "!pip install PyMuPDF"
      ],
      "execution_count": null,
      "outputs": []
    },
    {
      "cell_type": "code",
      "metadata": {
        "id": "tEvKym-BuCKO",
        "colab_type": "code",
        "colab": {}
      },
      "source": [
        "import spacy\n",
        "import pickle\n",
        "import random"
      ],
      "execution_count": null,
      "outputs": []
    },
    {
      "cell_type": "code",
      "metadata": {
        "id": "1MqtRXFK3bCB",
        "colab_type": "code",
        "colab": {}
      },
      "source": [
        "##### TRAIN NLP_MODEL #####\n",
        "\n",
        "train_data = pickle.load(open('train_data.pkl','rb'))\n",
        "print(f\"Training data consist of {len(train_data)} manually labelled resume's.\")\n",
        "# loading blank spacy model as we want to customize our model.\n",
        "# spacy.blank('en') will create a blank model of a given language class i.e., for here English.\n",
        "nlp = spacy.blank('en')\n",
        "# Creating a function to train our model\n",
        "def train_model(train_data):\n",
        "  \n",
        "  if 'ner' not in nlp.pipe_names:# Checking if NER is present in pipeline\n",
        "    ner = nlp.create_pipe('ner') # creating NER pipe if not present\n",
        "    nlp.add_pipe(ner, last=True) # adding NER pipe in the end\n",
        "\n",
        "  for _, annotation in train_data: # Getting 1 resume at a time from our training data of 200 resumes\n",
        "    for ent in annotation['entities']: # Getting each tuple at a time from 'entities' key in dictionary at index[1] i.e.,(0, 15, 'Name') and so on\n",
        "      ner.add_label(ent[2])  # here we are adding only labels of each tuple from entities key dict, eg:- 'Name' label of (0, 15, 'Name')\n",
        "    \n",
        "  # In above for loop we finally added all custom NER from training data.\n",
        "    other_pipes = [pipe for pipe in nlp.pipe_names if pipe != 'ner'] # getting all other pipes except NER.\n",
        "  with nlp.disable_pipes(*other_pipes): # Disabling other pipe's as we want to train only NER.\n",
        "        optimizer = nlp.begin_training()\n",
        "        \n",
        "        for itn in range(10):         # trainig model for 10 iteraion\n",
        "            print('Starting iteration ' + str(itn))\n",
        "            random.shuffle(train_data) # shuffling data in every iteration \n",
        "            losses = {}\n",
        "            for text, annotations in train_data:\n",
        "              try:\n",
        "                nlp.update(\n",
        "                    [text],        #batch of texts\n",
        "                    [annotations], #batch of annotations\n",
        "                    drop=0.2,      #dropout rate -makes it harder to memorise\n",
        "                    sgd=optimizer, #callable to update weights\n",
        "                    losses=losses) #Dictionary to update with the loss, keyed by pipeline component.\n",
        "              except Exception as e:\n",
        "                pass\n",
        "\n",
        "\n",
        "train_model(train_data)\n",
        "# Saving our trained model to re-use.\n",
        "nlp.to_disk('nlp_model')\n",
        "# Loading our trained model\n",
        "nlp_model = spacy.load('nlp_model')\n",
        "# Checking all the custom NER created\n",
        "nlp_model.entity.labels"
      ],
      "execution_count": null,
      "outputs": []
    },
    {
      "cell_type": "code",
      "metadata": {
        "id": "p2oevWpk4l42",
        "colab_type": "code",
        "colab": {
          "base_uri": "https://localhost:8080/",
          "height": 129
        },
        "outputId": "cf5ddebe-d488-41e7-b124-181968bd0aff"
      },
      "source": [
        "##### TEST NPL_MODEL WITH CVS IN CVS/ DIRECTORY\n",
        "\n",
        "import os,sys,fitz\n",
        "cvs = []\n",
        "for file in os.listdir('cvs'):\n",
        "  doc = fitz.open('cvs/'+file)\n",
        "  cv = \"\"\n",
        "  for page in doc:\n",
        "    cv = cv + str(page.getText())\n",
        "  \n",
        "  cvs.append(cv)\n",
        "\n",
        "\n",
        "\n",
        "r = cvs[2]\n",
        "r = r.replace(\"●\",\"\")\n",
        "r = r.replace(\"\",\"\")\n",
        "r = r.replace(\"•\",\"\")\n",
        "r = r.replace(\"▪\",\"\")\n",
        "\n",
        "\n",
        "doc = nlp_model(\" \".join(r.split('\\n')))\n",
        "for ent in doc.ents:\n",
        "  print(f'{ent.label_.upper():{20}} - {ent.text}')"
      ],
      "execution_count": null,
      "outputs": [
        {
          "output_type": "stream",
          "text": [
            "NAME                 - NATHAN BARNES\n",
            "LOCATION             - Auckland\n",
            "DEGREE               - Bachelor of Creative Software\n",
            "SKILLS               - Computer literate: MS Word, Excel,  Publisher, Emails, Internet    Coding languages : C# , HTML,  Python, C++, Java, Javascript   Game Development          PERSONAL SKILLS    Communication  - ability to relate & communicate with all people     Customer Service Skills - ability to help and communicate with customers professionally     Team Player  - Able to work effectively with others    Overcome obstacles - If a problem arises, being able to take action and get the job done    INTERESTS   Developing   Fixing and/or solving a problem   Helping others   Interacting with others   Traveling   Game and App Design      REFEREES\n",
            "DESIGNATION          - Operations Manager\n"
          ],
          "name": "stdout"
        }
      ]
    }
  ]
}