{
  "nbformat": 4,
  "nbformat_minor": 0,
  "metadata": {
    "colab": {
      "name": "InformationExtractionSnorkel.ipynb",
      "provenance": [],
      "collapsed_sections": [],
      "include_colab_link": true
    },
    "kernelspec": {
      "display_name": "Python 3",
      "language": "python",
      "name": "python3"
    },
    "language_info": {
      "codemirror_mode": {
        "name": "ipython",
        "version": 3
      },
      "file_extension": ".py",
      "mimetype": "text/x-python",
      "name": "python",
      "nbconvert_exporter": "python",
      "pygments_lexer": "ipython3",
      "version": "3.8.5"
    }
  },
  "cells": [
    {
      "cell_type": "markdown",
      "metadata": {
        "id": "view-in-github",
        "colab_type": "text"
      },
      "source": [
        "<a href=\"https://colab.research.google.com/github/hpt09/ResumeParser/blob/master/ExpExtractionSnorkel.ipynb\" target=\"_parent\"><img src=\"https://colab.research.google.com/assets/colab-badge.svg\" alt=\"Open In Colab\"/></a>"
      ]
    },
    {
      "cell_type": "code",
      "metadata": {
        "colab_type": "code",
        "id": "ug8PIEeYw-7_",
        "scrolled": true,
        "colab": {
          "base_uri": "https://localhost:8080/",
          "height": 882
        },
        "outputId": "0ad77936-5e4f-47ad-f6c0-08781ce22067"
      },
      "source": [
        "!pip install snorkel\n",
        "!pip install nltk\n",
        "!pip install spacy\n",
        "!pip install phonenumbers"
      ],
      "execution_count": 37,
      "outputs": [
        {
          "output_type": "stream",
          "text": [
            "Requirement already satisfied: snorkel in /usr/local/lib/python3.6/dist-packages (0.9.6)\n",
            "Requirement already satisfied: networkx<2.4,>=2.2 in /usr/local/lib/python3.6/dist-packages (from snorkel) (2.3)\n",
            "Requirement already satisfied: scikit-learn<0.22.0,>=0.20.2 in /usr/local/lib/python3.6/dist-packages (from snorkel) (0.21.3)\n",
            "Requirement already satisfied: munkres>=1.0.6 in /usr/local/lib/python3.6/dist-packages (from snorkel) (1.1.2)\n",
            "Requirement already satisfied: tqdm<5.0.0,>=4.33.0 in /usr/local/lib/python3.6/dist-packages (from snorkel) (4.41.1)\n",
            "Requirement already satisfied: torch<2.0.0,>=1.2.0 in /usr/local/lib/python3.6/dist-packages (from snorkel) (1.6.0+cu101)\n",
            "Requirement already satisfied: scipy<2.0.0,>=1.2.0 in /usr/local/lib/python3.6/dist-packages (from snorkel) (1.4.1)\n",
            "Requirement already satisfied: pandas<2.0.0,>=0.25.0 in /usr/local/lib/python3.6/dist-packages (from snorkel) (1.0.5)\n",
            "Requirement already satisfied: tensorboard<2.0.0,>=1.14.0 in /usr/local/lib/python3.6/dist-packages (from snorkel) (1.15.0)\n",
            "Requirement already satisfied: numpy<2.0.0,>=1.16.0 in /usr/local/lib/python3.6/dist-packages (from snorkel) (1.18.5)\n",
            "Requirement already satisfied: decorator>=4.3.0 in /usr/local/lib/python3.6/dist-packages (from networkx<2.4,>=2.2->snorkel) (4.4.2)\n",
            "Requirement already satisfied: joblib>=0.11 in /usr/local/lib/python3.6/dist-packages (from scikit-learn<0.22.0,>=0.20.2->snorkel) (0.16.0)\n",
            "Requirement already satisfied: future in /usr/local/lib/python3.6/dist-packages (from torch<2.0.0,>=1.2.0->snorkel) (0.16.0)\n",
            "Requirement already satisfied: python-dateutil>=2.6.1 in /usr/local/lib/python3.6/dist-packages (from pandas<2.0.0,>=0.25.0->snorkel) (2.8.1)\n",
            "Requirement already satisfied: pytz>=2017.2 in /usr/local/lib/python3.6/dist-packages (from pandas<2.0.0,>=0.25.0->snorkel) (2018.9)\n",
            "Requirement already satisfied: wheel>=0.26; python_version >= \"3\" in /usr/local/lib/python3.6/dist-packages (from tensorboard<2.0.0,>=1.14.0->snorkel) (0.35.1)\n",
            "Requirement already satisfied: grpcio>=1.6.3 in /usr/local/lib/python3.6/dist-packages (from tensorboard<2.0.0,>=1.14.0->snorkel) (1.31.0)\n",
            "Requirement already satisfied: absl-py>=0.4 in /usr/local/lib/python3.6/dist-packages (from tensorboard<2.0.0,>=1.14.0->snorkel) (0.8.1)\n",
            "Requirement already satisfied: markdown>=2.6.8 in /usr/local/lib/python3.6/dist-packages (from tensorboard<2.0.0,>=1.14.0->snorkel) (3.2.2)\n",
            "Requirement already satisfied: six>=1.10.0 in /usr/local/lib/python3.6/dist-packages (from tensorboard<2.0.0,>=1.14.0->snorkel) (1.15.0)\n",
            "Requirement already satisfied: werkzeug>=0.11.15 in /usr/local/lib/python3.6/dist-packages (from tensorboard<2.0.0,>=1.14.0->snorkel) (1.0.1)\n",
            "Requirement already satisfied: setuptools>=41.0.0 in /usr/local/lib/python3.6/dist-packages (from tensorboard<2.0.0,>=1.14.0->snorkel) (49.6.0)\n",
            "Requirement already satisfied: protobuf>=3.6.0 in /usr/local/lib/python3.6/dist-packages (from tensorboard<2.0.0,>=1.14.0->snorkel) (3.12.4)\n",
            "Requirement already satisfied: importlib-metadata; python_version < \"3.8\" in /usr/local/lib/python3.6/dist-packages (from markdown>=2.6.8->tensorboard<2.0.0,>=1.14.0->snorkel) (1.7.0)\n",
            "Requirement already satisfied: zipp>=0.5 in /usr/local/lib/python3.6/dist-packages (from importlib-metadata; python_version < \"3.8\"->markdown>=2.6.8->tensorboard<2.0.0,>=1.14.0->snorkel) (3.1.0)\n",
            "Requirement already satisfied: nltk in /usr/local/lib/python3.6/dist-packages (3.2.5)\n",
            "Requirement already satisfied: six in /usr/local/lib/python3.6/dist-packages (from nltk) (1.15.0)\n",
            "Requirement already satisfied: spacy in /usr/local/lib/python3.6/dist-packages (2.2.4)\n",
            "Requirement already satisfied: cymem<2.1.0,>=2.0.2 in /usr/local/lib/python3.6/dist-packages (from spacy) (2.0.3)\n",
            "Requirement already satisfied: setuptools in /usr/local/lib/python3.6/dist-packages (from spacy) (49.6.0)\n",
            "Requirement already satisfied: murmurhash<1.1.0,>=0.28.0 in /usr/local/lib/python3.6/dist-packages (from spacy) (1.0.2)\n",
            "Requirement already satisfied: wasabi<1.1.0,>=0.4.0 in /usr/local/lib/python3.6/dist-packages (from spacy) (0.7.1)\n",
            "Requirement already satisfied: numpy>=1.15.0 in /usr/local/lib/python3.6/dist-packages (from spacy) (1.18.5)\n",
            "Requirement already satisfied: preshed<3.1.0,>=3.0.2 in /usr/local/lib/python3.6/dist-packages (from spacy) (3.0.2)\n",
            "Requirement already satisfied: tqdm<5.0.0,>=4.38.0 in /usr/local/lib/python3.6/dist-packages (from spacy) (4.41.1)\n",
            "Requirement already satisfied: srsly<1.1.0,>=1.0.2 in /usr/local/lib/python3.6/dist-packages (from spacy) (1.0.2)\n",
            "Requirement already satisfied: plac<1.2.0,>=0.9.6 in /usr/local/lib/python3.6/dist-packages (from spacy) (1.1.3)\n",
            "Requirement already satisfied: requests<3.0.0,>=2.13.0 in /usr/local/lib/python3.6/dist-packages (from spacy) (2.23.0)\n",
            "Requirement already satisfied: thinc==7.4.0 in /usr/local/lib/python3.6/dist-packages (from spacy) (7.4.0)\n",
            "Requirement already satisfied: blis<0.5.0,>=0.4.0 in /usr/local/lib/python3.6/dist-packages (from spacy) (0.4.1)\n",
            "Requirement already satisfied: catalogue<1.1.0,>=0.0.7 in /usr/local/lib/python3.6/dist-packages (from spacy) (1.0.0)\n",
            "Requirement already satisfied: certifi>=2017.4.17 in /usr/local/lib/python3.6/dist-packages (from requests<3.0.0,>=2.13.0->spacy) (2020.6.20)\n",
            "Requirement already satisfied: idna<3,>=2.5 in /usr/local/lib/python3.6/dist-packages (from requests<3.0.0,>=2.13.0->spacy) (2.10)\n",
            "Requirement already satisfied: chardet<4,>=3.0.2 in /usr/local/lib/python3.6/dist-packages (from requests<3.0.0,>=2.13.0->spacy) (3.0.4)\n",
            "Requirement already satisfied: urllib3!=1.25.0,!=1.25.1,<1.26,>=1.21.1 in /usr/local/lib/python3.6/dist-packages (from requests<3.0.0,>=2.13.0->spacy) (1.24.3)\n",
            "Requirement already satisfied: importlib-metadata>=0.20; python_version < \"3.8\" in /usr/local/lib/python3.6/dist-packages (from catalogue<1.1.0,>=0.0.7->spacy) (1.7.0)\n",
            "Requirement already satisfied: zipp>=0.5 in /usr/local/lib/python3.6/dist-packages (from importlib-metadata>=0.20; python_version < \"3.8\"->catalogue<1.1.0,>=0.0.7->spacy) (3.1.0)\n",
            "Requirement already satisfied: phonenumbers in /usr/local/lib/python3.6/dist-packages (8.12.9)\n"
          ],
          "name": "stdout"
        }
      ]
    },
    {
      "cell_type": "code",
      "metadata": {
        "colab_type": "code",
        "id": "Mp6b0JFIw0tk",
        "colab": {
          "base_uri": "https://localhost:8080/",
          "height": 52
        },
        "outputId": "0c08650c-0e2a-4856-90fa-4a379e231239"
      },
      "source": [
        "%load_ext autoreload\n",
        "%autoreload 2"
      ],
      "execution_count": 38,
      "outputs": [
        {
          "output_type": "stream",
          "text": [
            "The autoreload extension is already loaded. To reload it, use:\n",
            "  %reload_ext autoreload\n"
          ],
          "name": "stdout"
        }
      ]
    },
    {
      "cell_type": "code",
      "metadata": {
        "colab_type": "code",
        "id": "jqy21lfaw0to",
        "colab": {}
      },
      "source": [
        "import pandas as pd\n",
        "from snorkel.labeling import labeling_function\n",
        "import nltk\n",
        "import spacy\n",
        "import phonenumbers"
      ],
      "execution_count": 39,
      "outputs": []
    },
    {
      "cell_type": "code",
      "metadata": {
        "colab_type": "code",
        "id": "hMAr5WYEyGkz",
        "colab": {
          "base_uri": "https://localhost:8080/",
          "height": 70
        },
        "outputId": "f0b65605-9829-4e55-bfd9-880229c5954b"
      },
      "source": [
        "nltk.download('punkt')"
      ],
      "execution_count": 40,
      "outputs": [
        {
          "output_type": "stream",
          "text": [
            "[nltk_data] Downloading package punkt to /root/nltk_data...\n",
            "[nltk_data]   Package punkt is already up-to-date!\n"
          ],
          "name": "stdout"
        },
        {
          "output_type": "execute_result",
          "data": {
            "text/plain": [
              "True"
            ]
          },
          "metadata": {
            "tags": []
          },
          "execution_count": 40
        }
      ]
    },
    {
      "cell_type": "markdown",
      "metadata": {
        "id": "UvMV9zUK4DHI",
        "colab_type": "text"
      },
      "source": [
        "### Information Extraction"
      ]
    },
    {
      "cell_type": "code",
      "metadata": {
        "id": "WFtXT-eu4gtZ",
        "colab_type": "code",
        "colab": {}
      },
      "source": [
        "import pandas as pd\n",
        "from snorkel.labeling import labeling_function\n",
        "import nltk\n",
        "\n",
        "import spacy\n",
        "nlp = spacy.load(\"en_core_web_sm\")"
      ],
      "execution_count": 41,
      "outputs": []
    },
    {
      "cell_type": "code",
      "metadata": {
        "id": "AWDf906b4hDW",
        "colab_type": "code",
        "colab": {}
      },
      "source": [
        "df_spacy = pd.read_csv(r\"cleaned_sentences.csv\")"
      ],
      "execution_count": 42,
      "outputs": []
    },
    {
      "cell_type": "code",
      "metadata": {
        "id": "xQSZLL1Z4hWK",
        "colab_type": "code",
        "colab": {}
      },
      "source": [
        "ABSTAIN = -1\n",
        "NAME = 1\n",
        "SKILL = 2\n",
        "EMAIL = 3\n",
        "PHONE = 4\n",
        "EXP = 5"
      ],
      "execution_count": 43,
      "outputs": []
    },
    {
      "cell_type": "code",
      "metadata": {
        "id": "Zl0otazn4DHJ",
        "colab_type": "code",
        "colab": {}
      },
      "source": [
        "import re\n",
        "@labeling_function()\n",
        "def lf_phone_extraction(x):\n",
        "    x = x.to_string()\n",
        "    text = x.lower()\n",
        "    pattern = r'[\\+\\(]?[1-9][0-9 .\\-\\(\\)]{8,}[0-9]'    \n",
        "    match = re.findall(pattern, text)\n",
        "    if(len(match)> 0):\n",
        "        print(\"Found Phone: \", match, \" In: \",text)\n",
        "        return PHONE\n",
        "    else:\n",
        "        return ABSTAIN"
      ],
      "execution_count": 44,
      "outputs": []
    },
    {
      "cell_type": "code",
      "metadata": {
        "colab_type": "code",
        "id": "NBbC9yhrw0uh",
        "colab": {}
      },
      "source": [
        "import json\n",
        "# exps = [\"experience\", \"year\", \"month\", \"1\" , \"2\" , \"3\", \"4\", \"5\", \"6\", \"7\", \"8\", \"9\"]\n",
        "exps = [\"year\", \"month\", \"day\"]\n",
        "\n",
        "@labeling_function()\n",
        "def lf_skill_extraction(x):\n",
        "    x = x.to_string()\n",
        "    text = x.lower()\n",
        "    text = text.strip()\n",
        "    obj = None\n",
        "    with open('cleaned_skills.json', 'r') as skills:\n",
        "        data = skills.read()\n",
        "        obj = json.loads(data)\n",
        "    for skill in obj:\n",
        "        skill = skill.lower()\n",
        " #       skill = (\" \" + skill + \" \")\n",
        "        for word in text.split():\n",
        "          if(skill == word):\n",
        "              print(\"Found Skill: \", skill, \" In: \",text)\n",
        "              for exp in exps:\n",
        "                if exp in text:\n",
        "                  return EXP\n",
        "              return SKILL\n",
        "    return ABSTAIN"
      ],
      "execution_count": 45,
      "outputs": []
    },
    {
      "cell_type": "code",
      "metadata": {
        "id": "_EerpY8d4DHT",
        "colab_type": "code",
        "colab": {}
      },
      "source": [
        "import re\n",
        "@labeling_function()\n",
        "def lf_email_extraction(x):\n",
        "    x = x.to_string()\n",
        "    ners = nlp(x)\n",
        "    text = x.lower()\n",
        "    pattern = '[a-z0-9]+[\\._]?[a-z0-9]+[@]\\w+[.]\\w{2,3}'\n",
        "    match = re.findall(pattern, text)\n",
        "    if(len(match)> 0):\n",
        "        print(\"Found Email: \", match, \" In: \",text)\n",
        "        return EMAIL\n",
        "    else:\n",
        "        return ABSTAIN"
      ],
      "execution_count": 46,
      "outputs": []
    },
    {
      "cell_type": "code",
      "metadata": {
        "id": "0761gyN84DHY",
        "colab_type": "code",
        "colab": {}
      },
      "source": [
        "# TODO: Work on getting less false positives\n",
        "from spacy.matcher import Matcher\n",
        "@labeling_function()\n",
        "def lf_name_extraction(x):\n",
        "    x = str(x)\n",
        "    nlp = spacy.load('en_core_web_sm')\n",
        "    matcher = Matcher(nlp.vocab)\n",
        "    nlp_text = nlp(x)\n",
        "    pattern = [{'POS': 'PROPN'}, {'POS': 'PROPN'}]\n",
        "    matcher.add('NAME', None, pattern)\n",
        "    matches = matcher(nlp_text)\n",
        "    if len(matches)>0:\n",
        "        for match_id, start, end in matches:\n",
        "            span = nlp_text[start:end]\n",
        "            print(\"Found Name: \", span)\n",
        "        return NAME\n",
        "           \n",
        "    else:\n",
        "        return ABSTAIN\n",
        "@labeling_function()\n",
        "def lf_temp1(x):\n",
        "    return ABSTAIN\n",
        "    \n",
        "@labeling_function()\n",
        "def lf_temp2(x):\n",
        "    return ABSTAIN"
      ],
      "execution_count": 47,
      "outputs": []
    },
    {
      "cell_type": "code",
      "metadata": {
        "colab_type": "code",
        "id": "kJhyuPQkw0uj",
        "colab": {}
      },
      "source": [
        "from snorkel.labeling import PandasLFApplier\n",
        "from snorkel.labeling.model import LabelModel"
      ],
      "execution_count": 48,
      "outputs": []
    },
    {
      "cell_type": "code",
      "metadata": {
        "colab_type": "code",
        "id": "dgmE0N5qw0ul",
        "colab": {}
      },
      "source": [
        "lfs = [lf_skill_extraction, lf_temp1, lf_temp2]"
      ],
      "execution_count": 49,
      "outputs": []
    },
    {
      "cell_type": "code",
      "metadata": {
        "colab_type": "code",
        "id": "RjKIqWTHw0up",
        "colab": {}
      },
      "source": [
        "applier = PandasLFApplier(lfs)"
      ],
      "execution_count": 50,
      "outputs": []
    },
    {
      "cell_type": "code",
      "metadata": {
        "colab_type": "code",
        "id": "XC0xdyM8w0ut",
        "colab": {
          "base_uri": "https://localhost:8080/",
          "height": 1000
        },
        "outputId": "92b0eb31-80d9-46ea-a5ab-b92bec1dc002"
      },
      "source": [
        "L_train = applier.apply(df_spacy)"
      ],
      "execution_count": 51,
      "outputs": [
        {
          "output_type": "stream",
          "text": [
            "  0%|          | 157/69499 [00:00<01:27, 789.05it/s]"
          ],
          "name": "stderr"
        },
        {
          "output_type": "stream",
          "text": [
            "Found Skill:  database  In:  content     database (less than 1 year)\n",
            "Found Skill:  html  In:  content     html (less than 1 year)\n",
            "Found Skill:  access  In:  content     access (less than 1 year)\n",
            "Found Skill:  c++  In:  content     c++\n",
            "Found Skill:  java  In:  content     java\n",
            "Found Skill:  .net  In:  content     .net\n",
            "Found Skill:  html  In:  content     web designing: html\n",
            "Found Skill:  access  In:  content     database: ms access\n",
            "Found Skill:  sql  In:  content     ms sql server 2008\n",
            "Found Skill:  sql  In:  content     having 3.5 years of it experience in sql data...\n",
            "Found Skill:  sql  In:  content     development   support of ms sql servers in pr...\n",
            "Found Skill:  database  In:  content     working experience with relational database s...\n",
            "Found Skill:  sql  In:  content     maintenance and administration of sql server..\n",
            "Found Skill:  sql  In:  content     experience in upgrading sql server..     good...\n",
            "Found Skill:  database  In:  content     high availability of database servers using.\n",
            "Found Skill:  database  In:  content     database mirroring and replications and log s...\n",
            "Found Skill:  sql  In:  content     experience in implementing sql server securit...\n",
            "Found Skill:  database  In:  content     database authentication modes\n",
            "Found Skill:  sql  In:  content     sql mail agent.\n",
            "Found Skill:  sql  In:  content     sql profiler and optimizing the queries\n",
            "Found Skill:  sql  In:  content     having 3.5 years of it experience in sql data...\n",
            "Found Skill:  sql  In:  content     development   support of ms sql servers in pr...\n",
            "Found Skill:  database  In:  content     working experience with relational database s...\n",
            "Found Skill:  sql  In:  content     maintenance and administration of sql server.\n",
            "Found Skill:  sql  In:  content     experience in upgrading sql server..     good...\n",
            "Found Skill:  database  In:  content     high availability of database servers using.\n",
            "Found Skill:  database  In:  content     database mirroring and replications and log s...\n",
            "Found Skill:  sql  In:  content     experience in implementing sql server securit...\n",
            "Found Skill:  database  In:  content     database authentication modes\n",
            "Found Skill:  database  In:  content     responsible for database support\n",
            "Found Skill:  sql  In:  content     based on sql 2000 in upgrade project to sql 2...\n",
            "Found Skill:  database  In:  content     monitoring of database size and disk space in...\n",
            "Found Skill:  sql  In:  content     performed installation of sql enterprise 2005...\n",
            "Found Skill:  sql  In:  content     conducted performance tuning using sql profil...\n",
            "Found Skill:  sql  In:  content     installing sql server clients\n",
            "Found Skill:  sql  In:  content     performed installation of sql server service ...\n",
            "Found Skill:  sql  In:  content     upgraded databases from sql server 2000 to sq...\n"
          ],
          "name": "stdout"
        },
        {
          "output_type": "stream",
          "text": [
            "  0%|          | 320/69499 [00:00<01:26, 797.43it/s]"
          ],
          "name": "stderr"
        },
        {
          "output_type": "stream",
          "text": [
            "Found Skill:  database  In:  content     improved the database server performance..   ...\n",
            "Found Skill:  sql  In:  content     installing sql server clients\n",
            "Found Skill:  sql  In:  content     performed installation of sql server service ...\n",
            "Found Skill:  sql  In:  content     upgraded databases from sql server 2000 to sq...\n",
            "Found Skill:  database  In:  content     the database server performance..     used sq...\n",
            "Found Skill:  sql  In:  content     installing sql server clients\n",
            "Found Skill:  database  In:  content     database (3 years)\n",
            "Found Skill:  sql  In:  content     sql (3 years)\n",
            "Found Skill:  sql  In:  content     sql dba.\n",
            "Found Skill:  database  In:  content     database tool: sql management studio (mssql)\n",
            "Found Skill:  database  In:  content     database language: sql\n",
            "Found Skill:  c++  In:  content     c++\n",
            "Found Skill:  pl/sql  In:  content     pl/sql\n",
            "Found Skill:  unity  In:  content     unity\n",
            "Found Skill:  spark  In:  content     apache spark and scala.. iaas implementation:...\n",
            "Found Skill:  natural  In:  content     identifying spam messages using natural langu...\n",
            "Found Skill:  java  In:  content     java (1 year)\n",
            "Found Skill:  c++  In:  content     c++ (less than 1 year)\n",
            "Found Skill:  css  In:  content     css (less than 1 year).\n",
            "Found Skill:  c++  In:  content     c++\n",
            "Found Skill:  java  In:  content     java\n",
            "Found Skill:  python  In:  content     python\n",
            "Found Skill:  mysql  In:  content     mysql\n",
            "Found Skill:  spark  In:  content     hadoop and spark\n",
            "Found Skill:  self  In:  content     pro active and self starter with the great ab...\n"
          ],
          "name": "stdout"
        },
        {
          "output_type": "stream",
          "text": [
            "  1%|          | 508/69499 [00:00<01:19, 862.50it/s]"
          ],
          "name": "stderr"
        },
        {
          "output_type": "stream",
          "text": [
            "Found Skill:  able  In:  content     able to handle multiple projects under tight ...\n",
            "Found Skill:  able  In:  content     able to develop excellent rapport with peers\n",
            "Found Skill:  able  In:  content     able to coordinate with different support tea...\n",
            "Found Skill:  able  In:  content     able to manage teams as per sops (standard op...\n",
            "Found Skill:  goal  In:  content     work allocation   goal setting and performanc...\n",
            "Found Skill:  creo  In:  content     creo (less than 1 year)\n",
            "Found Skill:  python  In:  content     python (less than 1 year)\n",
            "Found Skill:  creo  In:  content     creo parametric 2.0\n"
          ],
          "name": "stdout"
        },
        {
          "output_type": "stream",
          "text": [
            "  1%|          | 697/69499 [00:00<01:16, 896.05it/s]"
          ],
          "name": "stderr"
        },
        {
          "output_type": "stream",
          "text": [
            "Found Skill:  able  In:  content     able to handle complex situation under process.\n",
            "Found Skill:  java  In:  content     expertise in java\n",
            "Found Skill:  php  In:  content     php\n",
            "Found Skill:  javascript  In:  content     javascript\n",
            "Found Skill:  java  In:  content     environment: java 1.8\n",
            "Found Skill:  sql  In:  content     sql server\n",
            "Found Skill:  maven  In:  content     maven\n",
            "Found Skill:  jira  In:  content     jira\n",
            "Found Skill:  database  In:  content     mining and preserve into database as report g...\n",
            "Found Skill:  sql  In:  content     it into sql server.\n",
            "Found Skill:  java  In:  content     environment: java 1.8\n",
            "Found Skill:  php  In:  content     php\n",
            "Found Skill:  css  In:  content     css\n",
            "Found Skill:  mysql  In:  content     mysql\n",
            "Found Skill:  maven  In:  content     maven\n",
            "Found Skill:  jira  In:  content     jira\n",
            "Found Skill:  php  In:  content     developed php backend services.\n",
            "Found Skill:  java  In:  content     environment: java 1.8\n",
            "Found Skill:  mysql  In:  content     mysql\n",
            "Found Skill:  maven  In:  content     maven\n",
            "Found Skill:  jira  In:  content     jira\n",
            "Found Skill:  sql  In:  content     it into sql server.\n",
            "Found Skill:  database  In:  content     database (less than 1 year)\n",
            "Found Skill:  java  In:  content     java (less than 1 year)\n",
            "Found Skill:  jira  In:  content     jira (less than 1. year)\n",
            "Found Skill:  java  In:  content     programming languages: java   j2ee\n",
            "Found Skill:  php  In:  content     php\n",
            "Found Skill:  junit  In:  content     junit\n",
            "Found Skill:  mysql  In:  content     database: mysql\n",
            "Found Skill:  sql  In:  content     sql server\n"
          ],
          "name": "stdout"
        },
        {
          "output_type": "stream",
          "text": [
            "  1%|▏         | 891/69499 [00:01<01:13, 932.39it/s]"
          ],
          "name": "stderr"
        },
        {
          "output_type": "stream",
          "text": [
            "Found Skill:  jira  In:  content     jira\n",
            "Found Skill:  code  In:  content     code generation tools.\n",
            "Found Skill:  goal  In:  content     * goal oriented   self motivated.\n",
            "Found Skill:  css  In:  content     css (less than 1 year)\n"
          ],
          "name": "stdout"
        },
        {
          "output_type": "stream",
          "text": [
            "  2%|▏         | 1085/69499 [00:01<01:12, 949.20it/s]"
          ],
          "name": "stderr"
        },
        {
          "output_type": "stream",
          "text": [
            "Found Skill:  database  In:  content     and database update.\n",
            "Found Skill:  excel  In:  content     excel (less than 1 year)\n",
            "Found Skill:  excel  In:  content     ms excel (less than 1 year)\n",
            "Found Skill:  excel  In:  content     computer skills: ms excel\n",
            "Found Skill:  scheme  In:  content     project title: education loan scheme in credi...\n",
            "Found Skill:  java  In:  content     java web projects\n",
            "Found Skill:  cucumber  In:  content     cucumber\n",
            "Found Skill:  java  In:  content     java\n",
            "Found Skill:  junit  In:  content     junit\n",
            "Found Skill:  jira  In:  content     jira\n",
            "Found Skill:  maven  In:  content     maven\n",
            "Found Skill:  sql  In:  content     sql\n",
            "Found Skill:  junit  In:  content     junit\n",
            "Found Skill:  java  In:  content     and leading java projects.\n",
            "Found Skill:  cucumber  In:  content     solid experience on selenium using cucumber a...\n",
            "Found Skill:  sql  In:  content     proven skills in sql\n",
            "Found Skill:  sql  In:  content     expertise in writing sql queries\n",
            "Found Skill:  database  In:  content     sql scripts and performing database testing.\n",
            "Found Skill:  java  In:  content     java\n"
          ],
          "name": "stdout"
        },
        {
          "output_type": "stream",
          "text": [
            "  2%|▏         | 1271/69499 [00:01<01:19, 862.20it/s]"
          ],
          "name": "stderr"
        },
        {
          "output_type": "stream",
          "text": [
            "Found Skill:  java  In:  content     java\n",
            "Found Skill:  cucumber  In:  content     cucumber\n",
            "Found Skill:  java  In:  content     java\n",
            "Found Skill:  excel  In:  content     test data from excel files and sql.\n",
            "Found Skill:  maven  In:  content     databases..     configured maven for java aut...\n",
            "Found Skill:  cucumber  In:  content     developed bdd tests using cucumber by writing...\n",
            "Found Skill:  code  In:  content     required selenium support code in java for cu...\n",
            "Found Skill:  database  In:  content     queried database and generated test reports.\n",
            "Found Skill:  database  In:  content     purchase orders database testing by developin...\n",
            "Found Skill:  jira  In:  content     jira api..\n",
            "Found Skill:  jira  In:  content     jira reports..\n",
            "Found Skill:  maven  In:  content     maven\n",
            "Found Skill:  java  In:  content     java\n",
            "Found Skill:  jira  In:  content     jira\n",
            "Found Skill:  sql  In:  content     sql\n",
            "Found Skill:  natural  In:  content     determined that moving away from the natural ...\n",
            "Found Skill:  java  In:  content     developed hybrid automation framework java by...\n",
            "Found Skill:  java  In:  content     developed 7 java class libraries\n",
            "Found Skill:  xml  In:  content     16 junit test scripts to test xml build data ...\n",
            "Found Skill:  sql  In:  content     using sql queries..\n",
            "Found Skill:  java  In:  content     java\n",
            "Found Skill:  junit  In:  content     junit\n",
            "Found Skill:  maven  In:  content     maven\n",
            "Found Skill:  jira  In:  content     jira\n",
            "Found Skill:  access  In:  content     access to trade finance information and trans...\n",
            "Found Skill:  database  In:  content     performed database testing using sql in order...\n",
            "Found Skill:  java  In:  content     tools/environments: java\n"
          ],
          "name": "stdout"
        },
        {
          "output_type": "stream",
          "text": [
            "  2%|▏         | 1451/69499 [00:01<01:17, 881.75it/s]"
          ],
          "name": "stderr"
        },
        {
          "output_type": "stream",
          "text": [
            "Found Skill:  java  In:  content     tools/environments: java\n",
            "Found Skill:  groovy  In:  content     grails and groovy\n",
            "Found Skill:  processing  In:  content     project: pops (purchase order processing syst...\n",
            "Found Skill:  sql  In:  content     sql server and windows2008\n",
            "Found Skill:  java  In:  content     java (3 years)\n",
            "Found Skill:  junit  In:  content     junit (2 years)\n",
            "Found Skill:  cucumber  In:  content     cucumber\n",
            "Found Skill:  maven  In:  content     maven\n",
            "Found Skill:  java  In:  content     languages/frameworks: java\n",
            "Found Skill:  junit  In:  content     junit\n",
            "Found Skill:  cucumber  In:  content     cucumber\n",
            "Found Skill:  jira  In:  content     defect tracking tools: jira\n",
            "Found Skill:  xml  In:  content     xml\n",
            "Found Skill:  mysql  In:  content     rdbms: mysql\n",
            "Found Skill:  chef  In:  content     deployed chef for configuration management in...\n",
            "Found Skill:  code  In:  content     releasing of code from one environment to oth...\n",
            "Found Skill:  maven  In:  content     extensive experience using maven and ant as b...\n",
            "Found Skill:  code  In:  content     expert in deploying the code through web appl...\n",
            "Found Skill:  chef  In:  content     deployed chef for configuration management in...\n",
            "Found Skill:  java  In:  content     environment: java 1.7\n",
            "Found Skill:  jira  In:  content     jira 6.3\n",
            "Found Skill:  database  In:  content     database administration\n",
            "Found Skill:  chef  In:  content     deployed chef for configuration management in...\n"
          ],
          "name": "stdout"
        },
        {
          "output_type": "stream",
          "text": [
            "  2%|▏         | 1730/69499 [00:01<01:14, 903.88it/s]"
          ],
          "name": "stderr"
        },
        {
          "output_type": "stream",
          "text": [
            "Found Skill:  maven  In:  content     maven\n",
            "Found Skill:  code  In:  content     static code analysis: sonarqube check style.\n",
            "Found Skill:  maven  In:  content     git maven jenkins vagrant docker nagios sonar...\n",
            "Found Skill:  code  In:  content     co-coordinator of code hunter at cgc fest.\n",
            "Found Skill:  code  In:  content     co-coordinator of code hunter at cgc fest.\n",
            "Found Skill:  sql  In:  content     oracle sql -.\n",
            "Found Skill:  access  In:  content     access (less than 1 year)\n",
            "Found Skill:  css  In:  content     css (less than 1 year)\n",
            "Found Skill:  database  In:  content     database (less than 1 year).\n",
            "Found Skill:  sql  In:  content     database: sql server.\n",
            "Found Skill:  html  In:  content     other technologies: html\n",
            "Found Skill:  css  In:  content     css\n",
            "Found Skill:  excel  In:  content     excel\n",
            "Found Skill:  css  In:  content     language used: css\n",
            "Found Skill:  sql  In:  content     sql server and html.. .\n",
            "Found Skill:  java  In:  content     java scripting.\n",
            "Found Skill:  database  In:  content     imported data from relational database into j...\n",
            "Found Skill:  database  In:  content     database: experience in database designing\n",
            "Found Skill:  code  In:  content     optimizing sql code and stored procedures\n",
            "Found Skill:  sql  In:  content     sql azure\n"
          ],
          "name": "stdout"
        },
        {
          "output_type": "stream",
          "text": [
            "  3%|▎         | 1932/69499 [00:02<01:10, 953.08it/s]"
          ],
          "name": "stderr"
        },
        {
          "output_type": "stream",
          "text": [
            "Found Skill:  plus  In:  content     plus\n",
            "Found Skill:  plus  In:  content     plus\n",
            "Found Skill:  sql  In:  content     sql server 2014\n",
            "Found Skill:  .net  In:  content     .net api\n",
            "Found Skill:  java  In:  content     oracle 5 years 2 month     core java developer.\n",
            "Found Skill:  java  In:  content     languages core java\n",
            "Found Skill:  java  In:  content     languages: core java\n",
            "Found Skill:  sql  In:  content     sql developer\n",
            "Found Skill:  pl/sql  In:  content     pl/sql developer\n",
            "Found Skill:  javascript  In:  content     web technologies: javascript\n",
            "Found Skill:  xml  In:  content     xml\n",
            "Found Skill:  html  In:  content     html\n"
          ],
          "name": "stdout"
        },
        {
          "output_type": "stream",
          "text": [
            "  3%|▎         | 2126/69499 [00:02<01:10, 955.34it/s]"
          ],
          "name": "stderr"
        },
        {
          "output_type": "stream",
          "text": [
            "Found Skill:  blue  In:  content     blue prism\n",
            "Found Skill:  blue  In:  content     test automation tools: blue prism\n",
            "Found Skill:  sql  In:  content     sql server.. .\n",
            "Found Skill:  processing  In:  content     well site data acquisition processing and int...\n",
            "Found Skill:  focus  In:  content     your caregivers to focus on what matters most...\n",
            "Found Skill:  access  In:  content     access not only helps clinicians make better ...\n",
            "Found Skill:  access  In:  content     anywhere access to the complete patient recor...\n",
            "Found Skill:  blue  In:  content     involved in preparing bots using blue prism t...\n",
            "Found Skill:  sql  In:  content     using sql and r. o market basket analysis usi...\n",
            "Found Skill:  python  In:  content     python (2 years)\n",
            "Found Skill:  python  In:  content     languages   technologies: python\n",
            "Found Skill:  sql  In:  content     sql\n",
            "Found Skill:  java  In:  content     java (preliminary).\n",
            "Found Skill:  matlab  In:  content     matlab\n",
            "Found Skill:  sql  In:  content     oracle sql developer\n",
            "Found Skill:  mysql  In:  content     mysql\n",
            "Found Skill:  excel  In:  content     excel\n"
          ],
          "name": "stdout"
        },
        {
          "output_type": "stream",
          "text": [
            "  3%|▎         | 2318/69499 [00:02<01:12, 928.31it/s]"
          ],
          "name": "stderr"
        },
        {
          "output_type": "stream",
          "text": [
            "Found Skill:  java  In:  content     testing and support.. software used: java\n",
            "Found Skill:  java  In:  content     on java server pages (jsp) and our aim was to...\n",
            "Found Skill:  flex  In:  content     completion of that we incorporated flex in to...\n",
            "Found Skill:  database  In:  content     from database is taken by the flex using a re...\n",
            "Found Skill:  java  In:  content     testing and support.. software used: java\n",
            "Found Skill:  flex  In:  content     front end/gui tools programming: adobe flex\n",
            "Found Skill:  java  In:  content     java developer.\n",
            "Found Skill:  java  In:  content     wrote services in java using data annotation ...\n",
            "Found Skill:  code  In:  content     using code generation tool.. .\n",
            "Found Skill:  junit  In:  content     used junit for testing services"
          ],
          "name": "stdout"
        },
        {
          "output_type": "stream",
          "text": [
            "  4%|▎         | 2518/69499 [00:02<01:22, 808.28it/s]"
          ],
          "name": "stderr"
        },
        {
          "output_type": "stream",
          "text": [
            "\n",
            "Found Skill:  java  In:  content     used java to write batches for fetching of bu...\n",
            "Found Skill:  java  In:  content     java (1 year)\n",
            "Found Skill:  css  In:  content     css (1 year)\n",
            "Found Skill:  html  In:  content     html (1 year)\n",
            "Found Skill:  mysql  In:  content     mysql (1 year)\n",
            "Found Skill:  javascript  In:  content     javascript (less than 1 year)\n",
            "Found Skill:  java  In:  content     java\n",
            "Found Skill:  java  In:  content     java servlet\n",
            "Found Skill:  html  In:  content     html\n",
            "Found Skill:  java  In:  content     java script\n",
            "Found Skill:  mysql  In:  content     mysql\n",
            "Found Skill:  css  In:  content     css\n",
            "Found Skill:  code  In:  content     code blocks\n",
            "Found Skill:  sql  In:  content     sql oracle -.\n",
            "Found Skill:  code  In:  content     code optimization.\n",
            "Found Skill:  small  In:  content     small leather goods\n"
          ],
          "name": "stdout"
        },
        {
          "output_type": "stream",
          "text": [
            "  4%|▍         | 2719/69499 [00:03<01:14, 897.55it/s]"
          ],
          "name": "stderr"
        },
        {
          "output_type": "stream",
          "text": [
            "Found Skill:  processing  In:  content     configuring and processing the business trans...\n",
            "Found Skill:  able  In:  content     adept multitasker able to deal a very high.\n",
            "Found Skill:  css  In:  content     css for quick find of availability alerts and...\n",
            "Found Skill:  .net  In:  content     trained in .net technology..\n"
          ],
          "name": "stdout"
        },
        {
          "output_type": "stream",
          "text": [
            "  4%|▍         | 2923/69499 [00:03<01:09, 953.37it/s]"
          ],
          "name": "stderr"
        },
        {
          "output_type": "stream",
          "text": [
            "Found Skill:  sql  In:  content     key skills - microsoft azure sql dw\n",
            "Found Skill:  sql  In:  content     sql server 2016\n",
            "Found Skill:  sql  In:  content     sql server 2014\n",
            "Found Skill:  .net  In:  content     .net app development.\n",
            "Found Skill:  sql  In:  content     sql server 2012.. methodologies - iterative\n",
            "Found Skill:  sql  In:  content     sql server pi\n",
            "Found Skill:  sql  In:  content     sql navigator.\n"
          ],
          "name": "stdout"
        },
        {
          "output_type": "stream",
          "text": [
            "  5%|▍         | 3214/69499 [00:03<01:11, 924.04it/s]"
          ],
          "name": "stderr"
        },
        {
          "output_type": "stream",
          "text": [
            "Found Skill:  java  In:  content     technologies: java\n",
            "Found Skill:  access  In:  content     su10..     control firefighter access in grc1...\n",
            "Found Skill:  access  In:  content     providing access in controlled environment.\n",
            "Found Skill:  access  In:  content     restrict table access through authorization g...\n",
            "Found Skill:  c++  In:  content     math and c++ for 4 years.. .\n",
            "Found Skill:  sql  In:  content     sql\n",
            "Found Skill:  c++  In:  content     c++\n",
            "Found Skill:  database  In:  content     quicksilver) database tool (sql\n",
            "Found Skill:  python  In:  content     experience in coding python\n",
            "Found Skill:  sql  In:  content     sql\n",
            "Found Skill:  xml  In:  content     and xml as per the requirement..     have kno...\n",
            "Found Skill:  code  In:  content     develop the code on the design in splunk..   ...\n",
            "Found Skill:  sql  In:  content     sql\n",
            "Found Skill:  python  In:  content     technologies: python coding\n",
            "Found Skill:  xml  In:  content     xml coding\n",
            "Found Skill:  sql  In:  content     sql query writing.\n",
            "Found Skill:  database  In:  content     database and infrastructure monitoring and al...\n",
            "Found Skill:  database  In:  content     database (3 years)\n",
            "Found Skill:  python  In:  content     python (3 years)\n",
            "Found Skill:  sql  In:  content     sql (3 years)\n",
            "Found Skill:  xml  In:  content     xml (3 years).\n",
            "Found Skill:  python  In:  content     programming languages: python\n"
          ],
          "name": "stdout"
        },
        {
          "output_type": "stream",
          "text": [
            "  5%|▍         | 3401/69499 [00:03<01:12, 915.03it/s]"
          ],
          "name": "stderr"
        },
        {
          "output_type": "stream",
          "text": [
            "Found Skill:  access  In:  content     ran (radio access network) engineer..     new...\n",
            "Found Skill:  verilog  In:  content     module coding and verification using verilog ...\n",
            "Found Skill:  verilog  In:  content     verilog hdl.\n",
            "Found Skill:  abap  In:  content     sap abap -  noida\n",
            "Found Skill:  abap  In:  content     sap abap 7.4 2.\n",
            "Found Skill:  excel  In:  content     uploading excel data using bdc.. 3.\n",
            "Found Skill:  self  In:  content     self motivated.\n",
            "Found Skill:  jira  In:  content     atlassian tools: jira\n",
            "Found Skill:  mysql  In:  content     mysql\n"
          ],
          "name": "stdout"
        },
        {
          "output_type": "stream",
          "text": [
            "  5%|▌         | 3600/69499 [00:03<01:09, 951.80it/s]"
          ],
          "name": "stderr"
        },
        {
          "output_type": "stream",
          "text": [
            "Found Skill:  python  In:  content     programming languages: python and java.\n",
            "Found Skill:  jira  In:  content     jira project management/administration..     ...\n",
            "Found Skill:  access  In:  content     streamlining tools access management with cro...\n",
            "Found Skill:  jira  In:  content     jira\n",
            "Found Skill:  python  In:  content     python\n",
            "Found Skill:  chef  In:  content     chef\n",
            "Found Skill:  powershell  In:  content     powershell scripting.\n",
            "Found Skill:  mouse  In:  content     etc on mouse and object events..\n",
            "Found Skill:  abap  In:  content     abap development of large scale erp packages..\n",
            "Found Skill:  html  In:  content     ecc environments also having experience in html\n",
            "Found Skill:  javascript  In:  content     javascript\n",
            "Found Skill:  xml  In:  content     xml\n",
            "Found Skill:  javascript  In:  content     javascript\n"
          ],
          "name": "stdout"
        },
        {
          "output_type": "stream",
          "text": [
            "  6%|▌         | 3887/69499 [00:04<01:09, 941.31it/s]"
          ],
          "name": "stderr"
        },
        {
          "output_type": "stream",
          "text": [
            "Found Skill:  excel  In:  content     worked on complex functionality like excel da...\n",
            "Found Skill:  excel  In:  content     excel link\n",
            "Found Skill:  abap  In:  content     sap abap (2 years).\n",
            "Found Skill:  c++  In:  content     c++\n",
            "Found Skill:  html  In:  content     html\n",
            "Found Skill:  css  In:  content     css\n",
            "Found Skill:  javascript  In:  content     javascript\n",
            "Found Skill:  php  In:  content     php\n",
            "Found Skill:  mysql  In:  content     database mysql\n",
            "Found Skill:  java  In:  content     core java\n",
            "Found Skill:  java  In:  content     core java\n"
          ],
          "name": "stdout"
        },
        {
          "output_type": "stream",
          "text": [
            "  6%|▌         | 4085/69499 [00:04<01:08, 955.58it/s]"
          ],
          "name": "stderr"
        },
        {
          "output_type": "stream",
          "text": [
            "Found Skill:  python  In:  content     experience in python scripting and pyats fram...\n",
            "Found Skill:  perl  In:  content     scripting language perl\n",
            "Found Skill:  tcl  In:  content     knowledge on tcl scripting and automated cust...\n",
            "Found Skill:  able  In:  content     also able to troubleshoot the script issues.. .\n",
            "Found Skill:  tcl  In:  content     tcl (4 years)\n",
            "Found Skill:  python  In:  content     python (2 years).\n",
            "Found Skill:  tcl  In:  content     automaton tools: tcl\n",
            "Found Skill:  python  In:  content    python\n"
          ],
          "name": "stdout"
        },
        {
          "output_type": "stream",
          "text": [
            "  6%|▌         | 4280/69499 [00:04<01:09, 935.47it/s]"
          ],
          "name": "stderr"
        },
        {
          "output_type": "stream",
          "text": [
            "Found Skill:  self  In:  content     like - oracle fusion supplier self service\n",
            "Found Skill:  clean  In:  content     global country wise clean up initiative focus...\n",
            "Found Skill:  self  In:  content     oracle fusion uat- supplier self service.\n",
            "Found Skill:  code  In:  content     withholding and tds code\n",
            "Found Skill:  sql  In:  content     possess sound knowledge of sql\n",
            "Found Skill:  jira  In:  content     jira\n",
            "Found Skill:  sql  In:  content     there i had been explored sql\n",
            "Found Skill:  sql  In:  content     sql server studio.\n",
            "Found Skill:  sql  In:  content     sql (oracle db)    .\n",
            "Found Skill:  .net  In:  content     .net    .\n",
            "Found Skill:  xml  In:  content     xml\n",
            "Found Skill:  sql  In:  content     databases sql server 2008/2005\n",
            "Found Skill:  database  In:  content     database connectivity odbc.\n",
            "Found Skill:  jira  In:  content    jira\n"
          ],
          "name": "stdout"
        },
        {
          "output_type": "stream",
          "text": [
            "  6%|▋         | 4481/69499 [00:04<01:07, 969.57it/s]"
          ],
          "name": "stderr"
        },
        {
          "output_type": "stream",
          "text": [
            "Found Skill:  sql  In:  content     sql developer\n",
            "Found Skill:  access  In:  content     internet access\n"
          ],
          "name": "stdout"
        },
        {
          "output_type": "stream",
          "text": [
            "  7%|▋         | 4681/69499 [00:05<01:06, 974.98it/s]"
          ],
          "name": "stderr"
        },
        {
          "output_type": "stream",
          "text": [
            "Found Skill:  database  In:  content     o performed database testing for one of the a...\n",
            "Found Skill:  jira  In:  content     jira\n",
            "Found Skill:  java  In:  content     java\n",
            "Found Skill:  sql  In:  content     sql\n",
            "Found Skill:  html  In:  content     html\n",
            "Found Skill:  excel  In:  content     excel\n",
            "Found Skill:  plus  In:  content     365 pro plus (outlook.\n",
            "Found Skill:  excel  In:  content     and other office tools such as excel\n",
            "Found Skill:  word  In:  content     word\n",
            "Found Skill:  sql  In: "
          ],
          "name": "stdout"
        },
        {
          "output_type": "stream",
          "text": [
            "  7%|▋         | 4877/69499 [00:05<01:07, 961.45it/s]"
          ],
          "name": "stderr"
        },
        {
          "output_type": "stream",
          "text": [
            " content     sql\n",
            "Found Skill:  excel  In:  content     ms office tools: ms excel\n",
            "Found Skill:  word  In:  content     ms word\n",
            "Found Skill:  c++  In:  content     c++\n",
            "Found Skill:  .net  In:  content     .net application maintenance and do the code ...\n",
            "Found Skill:  .net  In:  content     .net\n",
            "Found Skill:  sql  In:  content     sql server\n",
            "Found Skill:  css  In:  content     css\n",
            "Found Skill:  html  In:  content     html     system backups.\n",
            "Found Skill:  sql  In:  content     sql server 2005\n",
            "Found Skill:  abap  In:  content     sap abap -  noida\n",
            "Found Skill:  abap  In:  content     sap abap -.\n"
          ],
          "name": "stdout"
        },
        {
          "output_type": "stream",
          "text": [
            "  7%|▋         | 5074/69499 [00:05<01:06, 966.62it/s]"
          ],
          "name": "stderr"
        },
        {
          "output_type": "stream",
          "text": [
            "Found Skill:  abap  In:  content     abap (2 years)\n",
            "Found Skill:  c++  In:  content     c++ (less than 1 year)\n",
            "Found Skill:  sql  In:  content     familiar with sql\n",
            "Found Skill:  sql  In:  content     creating sql scripts and deploying on the loc...\n",
            "Found Skill:  xml  In:  content     xml (3 years).\n",
            "Found Skill:  html  In:  content     programming   scripting languages: - html\n",
            "Found Skill:  css  In:  content     css\n",
            "Found Skill:  xml  In:  content     xml\n",
            "Found Skill:  sql  In:  content     sql\n",
            "Found Skill:  java  In:  content     java (basic)\n",
            "Found Skill:  lisa  In:  content     testing tools: - ca lisa\n",
            "Found Skill:  sql  In:  content     sql\n",
            "Found Skill:  database  In:  content     database\n",
            "Found Skill:  python  In:  content     worked with technologies like python\n",
            "Found Skill:  mysql  In:  content     mysql\n"
          ],
          "name": "stdout"
        },
        {
          "output_type": "stream",
          "text": [
            "  8%|▊         | 5266/69499 [00:05<01:10, 905.10it/s]"
          ],
          "name": "stderr"
        },
        {
          "output_type": "stream",
          "text": [
            "Found Skill:  python  In:  content     worked on various technologies such as python\n",
            "Found Skill:  java  In:  content     java\n",
            "Found Skill:  java  In:  content     java (3 years)\n",
            "Found Skill:  mysql  In:  content     mysql (3 years)\n",
            "Found Skill:  python  In:  content     python (6 years).\n",
            "Found Skill:  python  In:  content     python\n",
            "Found Skill:  java  In:  content     java\n",
            "Found Skill:  html  In:  content     html\n",
            "Found Skill:  mysql  In:  content     mysql\n",
            "Found Skill:  php  In:  content     languages used: php\n",
            "Found Skill:  mysql  In:  content     mysql\n",
            "Found Skill:  html  In:  content     html\n",
            "Found Skill:  css  In:  content     css\n",
            "Found Skill:  javascript  In:  content     javascript and jquery.. .\n",
            "Found Skill:  database  In:  content     constantly involved in querying the database ...\n",
            "Found Skill:  clean  In:  content     i am capable of building clean and responsive...\n",
            "Found Skill:  small  In:  content     and small business websites..     http://www....\n",
            "Found Skill:  small  In:  content     small map feature included which also support...\n",
            "Found Skill:  php  In:  content     php\n",
            "Found Skill:  javascript  In:  content     javascript\n",
            "Found Skill:  css  In:  content     css\n",
            "Found Skill:  java  In:  content     programming language: core java\n",
            "Found Skill:  php  In:  content     scripting languages: php\n",
            "Found Skill:  html  In:  content     web languages: html\n",
            "Found Skill:  database  In:  content     database language: sql..     frameworks: boot...\n",
            "Found Skill:  javascript  In:  content     project specific skills javascript\n",
            "Found Skill:  code "
          ],
          "name": "stdout"
        },
        {
          "output_type": "stream",
          "text": [
            "  8%|▊         | 5453/69499 [00:05<01:10, 911.63it/s]"
          ],
          "name": "stderr"
        },
        {
          "output_type": "stream",
          "text": [
            " In:  content     code collaborator.\n",
            "Found Skill:  html  In:  content     the ui supports html 5 features..\n",
            "Found Skill:  javascript  In:  content     project specific skills javascript\n",
            "Found Skill:  css  In:  content     css\n",
            "Found Skill:  javascript  In:  content     project specific skills javascript\n",
            "Found Skill:  css  In:  content     css\n",
            "Found Skill:  javascript  In:  content     scripting languages: javascript\n",
            "Found Skill:  code  In:  content     code collaborator\n",
            "Found Skill:  html  In:  content     web designing tools: html 4\n",
            "Found Skill:  html  In:  content     html 5\n",
            "Found Skill:  css  In:  content     css 3\n",
            "Found Skill:  java  In:  content     java\n",
            "Found Skill:  html  In:  content     html\n",
            "Found Skill:  sql  In:  content     sql\n",
            "Found Skill:  c++  In:  content     c++\n",
            "Found Skill:  access  In:  content     tags and providing svn user access to all dev...\n",
            "Found Skill:  chef  In:  content     chef kitchen\n",
            "Found Skill:  code  In:  content     code on svn server.\n",
            "Found Skill:  database  In:  content     oracle database\n"
          ],
          "name": "stdout"
        },
        {
          "output_type": "stream",
          "text": [
            "  8%|▊         | 5739/69499 [00:06<01:07, 937.88it/s]"
          ],
          "name": "stderr"
        },
        {
          "output_type": "stream",
          "text": [
            "Found Skill:  maven  In:  content     maven 3. .\n",
            "Found Skill:  red  In:  content     red hat linux 5. .\n",
            "Found Skill:  maven  In:  content     environment : maven\n",
            "Found Skill:  chef  In:  content     chef\n",
            "Found Skill:  java  In:  content     application is based on java technology.\n",
            "Found Skill:  code  In:  content     code from development team and have to build ...\n",
            "Found Skill:  maven  In:  content     environment: maven\n",
            "Found Skill:  java  In:  content     this application is based on java technology....\n",
            "Found Skill:  code  In:  content     have to build and deploy the code later have ...\n",
            "Found Skill:  java  In:  content     executing java applications build and deploym...\n",
            "Found Skill:  jira  In:  content     jira\n",
            "Found Skill:  maven  In:  content     environment: maven\n",
            "Found Skill:  java  In:  content     this application is based on java technology.\n",
            "Found Skill:  code  In:  content     collect code from development team and have t...\n"
          ],
          "name": "stdout"
        },
        {
          "output_type": "stream",
          "text": [
            "  9%|▊         | 5928/69499 [00:06<01:07, 937.63it/s]"
          ],
          "name": "stderr"
        },
        {
          "output_type": "stream",
          "text": [
            "Found Skill:  java  In:  content     java\n",
            "Found Skill:  jira  In:  content     jira\n",
            "Found Skill:  access  In:  content     tags and providing svn user access to all dev...\n",
            "Found Skill:  chef  In:  content     chef kitchen\n",
            "Found Skill:  code  In:  content     code on svn server.\n",
            "Found Skill:  database  In:  content     oracle database\n",
            "Found Skill:  chef  In:  content     chef (1 year)\n",
            "Found Skill:  maven  In:  content     maven\n",
            "Found Skill:  red  In:  content     red hat linux 5.\n",
            "Found Skill:  database  In:  content     database oracle 11g.\n",
            "Found Skill:  chef  In:  content     configuration tools chef\n",
            "Found Skill:  sql  In:  content     sql\n",
            "Found Skill:  pl/sql  In:  content     pl/sql\n",
            "Found Skill:  sql  In:  content     sql\n",
            "Found Skill:  pl/sql  In:  content     pl/sql\n"
          ],
          "name": "stdout"
        },
        {
          "output_type": "stream",
          "text": [
            "  9%|▉         | 6134/69499 [00:06<01:04, 979.78it/s]"
          ],
          "name": "stderr"
        },
        {
          "output_type": "stream",
          "text": [
            "Found Skill:  sql  In:  content     sql\n",
            "Found Skill:  sql  In:  content     sql developer\n",
            "Found Skill:  database  In:  content     database (less than 1 year).\n",
            "Found Skill:  slip  In:  content     wage slip\n",
            "Found Skill:  database  In:  content     database foxpro 6.22.\n"
          ],
          "name": "stdout"
        },
        {
          "output_type": "stream",
          "text": [
            "  9%|▉         | 6334/69499 [00:06<01:04, 974.44it/s]"
          ],
          "name": "stderr"
        },
        {
          "output_type": "stream",
          "text": [
            "Found Skill:  html  In:  content     familiar with web technology html css.\n",
            "Found Skill:  html  In:  content     html (1 year)\n",
            "Found Skill:  excel  In:  content     excel\n",
            "Found Skill:  java  In:  content     micromedia flash etc..     java netbeans\n",
            "Found Skill:  sql  In:  content     sql\n",
            "Found Skill:  html  In:  content     html\n",
            "Found Skill:  php  In:  content     php etc..\n",
            "Found Skill:  python  In:  content     perform automation through python and batch s...\n",
            "Found Skill:  c++  In:  content     c++ (less than 1 year)\n",
            "Found Skill:  python  In:  content     python\n",
            "Found Skill:  java  In:  content     languages: java\n",
            "Found Skill:  c++  In:  content     c++\n",
            "Found Skill:  python  In:  content     python\n",
            "Found Skill:  dynamo  In:  content     dynamo db..     utilized cloud watch to monit...\n",
            "Found Skill:  code  In:  content     history of code and helping the developers in...\n",
            "Found Skill:  maven  In:  content     maven\n",
            "Found Skill:  jira  In:  content     jira\n"
          ],
          "name": "stdout"
        },
        {
          "output_type": "stream",
          "text": [
            " 10%|▉         | 6639/69499 [00:07<01:03, 997.72it/s]"
          ],
          "name": "stderr"
        },
        {
          "output_type": "stream",
          "text": [
            "Found Skill:  database  In:  content     application and implementation of database ma...\n",
            "Found Skill:  maven  In:  content     maven\n",
            "Found Skill:  excel  In:  content     ms excel (2 years)\n",
            "Found Skill:  word  In:  content     ms word (2 years)\n",
            "Found Skill:  excel  In:  content     advanced excel\n",
            "Found Skill:  pike  In:  content     pike international\n",
            "Found Skill:  focus  In:  content     issues between various systems with focus on ...\n"
          ],
          "name": "stdout"
        },
        {
          "output_type": "stream",
          "text": [
            " 10%|▉         | 6839/69499 [00:07<01:03, 993.58it/s]"
          ],
          "name": "stderr"
        },
        {
          "output_type": "stream",
          "text": [
            "Found Skill:  sql  In:  content     sql\n",
            "Found Skill:  pl/sql  In:  content     pl/sql\n",
            "Found Skill:  html  In:  content     html\n",
            "Found Skill:  xml  In:  content     xml\n",
            "Found Skill:  java  In:  content     java\n",
            "Found Skill:  code  In:  content     being implemented in the code base and execut...\n"
          ],
          "name": "stdout"
        },
        {
          "output_type": "stream",
          "text": [
            " 10%|█         | 7135/69499 [00:07<01:04, 964.77it/s]"
          ],
          "name": "stderr"
        },
        {
          "output_type": "stream",
          "text": [
            "Found Skill:  database  In:  content     database (less than 1 year)\n",
            "Found Skill:  java  In:  content     java (less than.\n",
            "Found Skill:  sql  In:  content     sql (less than 1 year)\n",
            "Found Skill:  database  In:  content     database mysql.\n",
            "Found Skill:  blue  In:  content     prepared blue print of the new warehouse faci...\n",
            "Found Skill:  gap  In:  content     gap analysis and design   finalization of.\n",
            "Found Skill:  abap  In:  content     consultant / abap consultant.\n",
            "Found Skill:  sql  In:  content     computing languages: sql\n",
            "Found Skill:  html  In:  content     html\n",
            "Found Skill:  php  In:  content     php\n"
          ],
          "name": "stdout"
        },
        {
          "output_type": "stream",
          "text": [
            " 11%|█         | 7329/69499 [00:07<01:05, 943.89it/s]"
          ],
          "name": "stderr"
        },
        {
          "output_type": "stream",
          "text": [
            "Found Skill:  flavors  In:  content     linux - various flavors and distributions (re...\n",
            "Found Skill:  sql  In:  content     microsoft sql       r2.\n",
            "Found Skill:  access  In:  content     management gateway and unified access gateway...\n",
            "Found Skill:  java  In:  content     java developer/senior systems engineer - info...\n",
            "Found Skill:  java  In:  content     of experience in development using java techn...\n",
            "Found Skill:  java  In:  content     java developer/senior systems engineer.\n",
            "Found Skill:  java  In:  content     aqc is a java enterprise web based applicatio...\n",
            "Found Skill:  code  In:  content     deploying code over different servers\n",
            "Found Skill:  code  In:  content     finding defects and giving code fixes in.\n",
            "Found Skill:  java  In:  content     java intern.\n",
            "Found Skill:  java  In:  content     experience in core java\n",
            "Found Skill:  sql  In:  content     sql server\n",
            "Found Skill:  java  In:  content     core java\n",
            "Found Skill:  sql  In:  content     database: sql server 2008.\n",
            "Found Skill:  abap  In:  content     sap abap -  kolkata\n",
            "Found Skill:  abap  In:  content     sap abap -  kolkata\n"
          ],
          "name": "stdout"
        },
        {
          "output_type": "stream",
          "text": [
            " 11%|█         | 7522/69499 [00:08<01:06, 932.01it/s]"
          ],
          "name": "stderr"
        },
        {
          "output_type": "stream",
          "text": [
            "Found Skill:  abap  In:  content     sap abap -.\n",
            "Found Skill:  abap  In:  content     sap abap -  kolkata\n",
            "Found Skill:  abap  In:  content     sap abap -  kolkata\n",
            "Found Skill:  abap  In:  content     sap abap -  kolkata\n",
            "Found Skill:  abap  In:  content     sap abap -  bengaluru\n",
            "Found Skill:  abap  In:  content     sap abap -  kolkata\n",
            "Found Skill:  abap  In:  content     sap abap -  kolkata\n",
            "Found Skill:  abap  In:  content     sap abap -  kolkata\n",
            "Found Skill:  max  In:  content     client: max life insurance.\n",
            "Found Skill:  scheme  In:  content     the pmjjby scheme is.\n",
            "Found Skill:  scheme  In:  content     main administrator within the scheme could be...\n",
            "Found Skill:  java  In:  content     expertise in the areas of core java\n"
          ],
          "name": "stdout"
        },
        {
          "output_type": "stream",
          "text": [
            " 11%|█         | 7713/69499 [00:08<01:05, 937.11it/s]"
          ],
          "name": "stderr"
        },
        {
          "output_type": "stream",
          "text": [
            "Found Skill:  sql  In:  content     expertise in pl sql programming and oracle ap...\n",
            "Found Skill:  processing  In:  content     processing\n",
            "Found Skill:  java  In:  content     implementation of modules using core java apis\n",
            "Found Skill:  java  In:  content     java collection\n",
            "Found Skill:  xml  In:  content     xml technologies and.\n",
            "Found Skill:  database  In:  content     utilize oracle as back-end database and toad ...\n",
            "Found Skill:  maven  In:  content     used maven build scripts to create and deploy...\n",
            "Found Skill:  code  In:  content     code reviews and independent unit testing for...\n",
            "Found Skill:  code  In:  content     manage code release deployment into development\n",
            "Found Skill:  maven  In:  content     maven\n",
            "Found Skill:  java  In:  content     core java\n",
            "Found Skill:  java  In:  content     developed required back java components..    ...\n",
            "Found Skill:  xml  In:  content     xml\n",
            "Found Skill:  maven  In:  content     maven\n",
            "Found Skill:  code  In:  content     develop code using knowledge of relevant tech...\n",
            "Found Skill:  self  In:  content     perform testing - self and independent (funct...\n"
          ],
          "name": "stdout"
        },
        {
          "output_type": "stream",
          "text": [
            " 11%|█▏        | 7901/69499 [00:08<01:07, 908.92it/s]"
          ],
          "name": "stderr"
        },
        {
          "output_type": "stream",
          "text": [
            "Found Skill:  java  In:  content     technologies: java 1.5\n",
            "Found Skill:  xml  In:  content     xml\n",
            "Found Skill:  pl/sql  In:  content     implemented the pl/sql based on the requireme...\n",
            "Found Skill:  pl/sql  In:  content     technologies: pl/sql\n",
            "Found Skill:  sql  In:  content     technologies: sql server\n",
            "Found Skill:  unity  In:  content     project: arrow unity (sales work bench).\n",
            "Found Skill:  database  In:  content     and views for backend database access..     u...\n",
            "Found Skill:  java  In:  content     java (3 years)\n",
            "Found Skill:  java  In:  content     languages java\n",
            "Found Skill:  java  In:  content     java script\n",
            "Found Skill:  pl/sql  In:  content     pl/sql\n",
            "Found Skill:  sql  In:  content     sql server\n",
            "Found Skill:  html  In:  content     html\n",
            "Found Skill:  xml  In:  content     xml\n",
            "Found Skill:  sql  In:  content     sql server.\n",
            "Found Skill:  xml  In:  content     xml\n",
            "Found Skill:  java  In:  content     java/j2eetechnologies java\n"
          ],
          "name": "stdout"
        },
        {
          "output_type": "stream",
          "text": [
            " 12%|█▏        | 8312/69499 [00:08<01:02, 971.47it/s]"
          ],
          "name": "stderr"
        },
        {
          "output_type": "stream",
          "text": [
            "Found Skill:  processing  In:  content     responsible for processing vendor invoices.\n",
            "Found Skill:  cobol  In:  content     cobol (4 years)\n",
            "Found Skill:  cics  In:  content     cics (4. years)\n",
            "Found Skill:  rexx  In:  content     rexx (4 years).\n",
            "Found Skill:  ispf  In:  content     tools: ispf\n",
            "Found Skill:  sql  In:  content     sql server.\n",
            "Found Skill:  java  In:  content     secondary skills: java script\n",
            "Found Skill:  html  In:  content     html\n",
            "Found Skill:  java  In:  content     java\n",
            "Found Skill:  access  In:  content     mpls or at access level post migration activi...\n",
            "Found Skill:  focus  In:  content     focus on customer requirements and providing ...\n"
          ],
          "name": "stdout"
        },
        {
          "output_type": "stream",
          "text": [
            " 12%|█▏        | 8521/69499 [00:09<01:00, 1006.86it/s]"
          ],
          "name": "stderr"
        },
        {
          "output_type": "stream",
          "text": [
            "Found Skill:  access  In:  content     clusterxl etc..     asa firewall: access cont...\n"
          ],
          "name": "stdout"
        },
        {
          "output_type": "stream",
          "text": [
            " 13%|█▎        | 8832/69499 [00:09<00:59, 1023.20it/s]"
          ],
          "name": "stderr"
        },
        {
          "output_type": "stream",
          "text": [
            "Found Skill:  access  In:  content     access all their accounts\n",
            "Found Skill:  abap  In:  content     knowledge of abap debugging\n",
            "Found Skill:  abap  In:  content     basic abap (tables\n",
            "Found Skill:  abap  In:  content     sap abap consultant.\n",
            "Found Skill:  abap  In:  content     sap abap consultant.\n"
          ],
          "name": "stdout"
        },
        {
          "output_type": "stream",
          "text": [
            " 13%|█▎        | 9033/69499 [00:09<01:02, 963.49it/s]"
          ],
          "name": "stderr"
        },
        {
          "output_type": "stream",
          "text": [
            "Found Skill:  abap  In:  content     sap abap -  badi\n",
            "Found Skill:  rapid  In:  content     company has witnessed rapid expansion that ha...\n",
            "Found Skill:  excel  In:  content     developed a class to download multi excel she...\n",
            "Found Skill:  abap  In:  content     sap abap -.\n",
            "Found Skill:  abap  In:  content     sap abap -.\n",
            "Found Skill:  abap  In:  content     sap abap -  bangalore\n",
            "Found Skill:  abap  In:  content     sap abap -.\n",
            "Found Skill:  abap  In:  content     sap abap -  marmagao\n"
          ],
          "name": "stdout"
        },
        {
          "output_type": "stream",
          "text": [
            " 13%|█▎        | 9234/69499 [00:09<01:01, 978.31it/s]"
          ],
          "name": "stderr"
        },
        {
          "output_type": "stream",
          "text": [
            "Found Skill:  abap  In:  content     sap abap consultant.\n",
            "Found Skill:  database  In:  content     customers and updates the database as  bc .\n",
            "Found Skill:  abap  In:  content     worked on abap workflow.\n",
            "Found Skill:  html  In:  content     web technologies: html (5)\n",
            "Found Skill:  css  In:  content     css (3).\n",
            "Found Skill:  java  In:  content     java\n",
            "Found Skill:  java  In:  content     features   is also expandable.. - used java\n",
            "Found Skill:  java  In:  content     criteria.. - used java\n"
          ],
          "name": "stdout"
        },
        {
          "output_type": "stream",
          "text": [
            " 14%|█▎        | 9427/69499 [00:10<01:06, 907.07it/s]"
          ],
          "name": "stderr"
        },
        {
          "output_type": "stream",
          "text": [
            "Found Skill:  html  In:  content     html (less than 1 year)\n",
            "Found Skill:  php  In:  content     php (less than.\n",
            "Found Skill:  sql  In:  content     sql (less than 1 year)\n",
            "Found Skill:  java  In:  content     java (less than 1 year)\n",
            "Found Skill:  c++  In:  content     c++\n",
            "Found Skill:  database  In:  content     database management (less than 1 year).\n",
            "Found Skill:  java  In:  content     java\n",
            "Found Skill:  java  In:  content     criteria.. - used java\n",
            "Found Skill:  sql  In:  content     sql\n",
            "Found Skill:  java  In:  content     core java\n",
            "Found Skill:  php  In:  content     * web development - php\n",
            "Found Skill:  goal  In:  content     a professional in challenging and goal orient...\n",
            "Found Skill:  bpel  In:  content     experience in developing and deploying bpel p...\n",
            "Found Skill:  bpel  In:  content     part of a team for developing a bpel process ...\n",
            "Found Skill:  bpel  In:  content     orchestrated bpel process had process activit...\n",
            "Found Skill:  bpel  In:  content     developed and deployed bpel processes to impo...\n",
            "Found Skill:  bpel  In:  content     worked on bpel process to create sales order ...\n",
            "Found Skill:  xslt  In:  content     xslt and xpath.\n",
            "Found Skill:  xml  In:  content     xml\n",
            "Found Skill:  java  In:  content     core java\n",
            "Found Skill:  database  In:  content     adapters database\n",
            "Found Skill:  xml  In:  content     programming languages xml\n",
            "Found Skill:  c++  In:  content     c++ and core java.\n",
            "Found Skill:  chain  In:  content     holt renfrew is 180 years old chain of high-e...\n",
            "Found Skill:  bpel  In:  content     bpel and mediator components)..     providing...\n"
          ],
          "name": "stdout"
        },
        {
          "output_type": "stream",
          "text": [
            " 14%|█▍        | 9613/69499 [00:10<01:06, 894.39it/s]"
          ],
          "name": "stderr"
        },
        {
          "output_type": "stream",
          "text": [
            "Found Skill:  sql  In:  content     expertise in implementing sql\n",
            "Found Skill:  html  In:  content     html\n",
            "Found Skill:  javascript  In:  content     javascript\n",
            "Found Skill:  css  In:  content     css\n",
            "Found Skill:  html  In:  content     html\n",
            "Found Skill:  css  In:  content     css\n",
            "Found Skill:  javascript  In:  content     javascript\n",
            "Found Skill:  code  In:  content     integrated code quality\n",
            "Found Skill:  code  In:  content     code coverage\n",
            "Found Skill:  powershell  In:  content     develop powershell scripts to upload artifact...\n",
            "Found Skill:  maven  In:  content     maven\n",
            "Found Skill:  jira  In:  content     jira\n",
            "Found Skill:  powershell  In:  content     scripting language powershell scripting\n",
            "Found Skill:  sql  In:  content     sql server.\n",
            "Found Skill:  maven  In:  content     build tools maven\n",
            "Found Skill:  jira  In:  content     jira\n"
          ],
          "name": "stdout"
        },
        {
          "output_type": "stream",
          "text": [
            " 14%|█▍        | 9813/69499 [00:10<01:04, 925.22it/s]"
          ],
          "name": "stderr"
        },
        {
          "output_type": "stream",
          "text": [
            "Found Skill:  java  In:  content     java\n",
            "Found Skill:  c++  In:  content     attended a three-day workshop on c and c++ pr...\n",
            "Found Skill:  java  In:  content     attended a one-day workshop on java and hardw...\n",
            "Found Skill:  spark  In:  content     attended spark training program in infosys my...\n",
            "Found Skill:  sql  In:  content     oracle sql\n",
            "Found Skill:  sql  In:  content     sql workbench\n",
            "Found Skill:  sql  In:  content     sql developer\n",
            "Found Skill:  excel  In:  content     ms excel\n",
            "Found Skill:  database  In:  content     - working as a database developer in this pro...\n"
          ],
          "name": "stdout"
        },
        {
          "output_type": "stream",
          "text": [
            " 15%|█▍        | 10216/69499 [00:10<01:00, 985.15it/s]"
          ],
          "name": "stderr"
        },
        {
          "output_type": "stream",
          "text": [
            "Found Skill:  chain  In:  content     telecom/ bfsi/supply chain trading applications.\n",
            "Found Skill:  java  In:  content     java\n",
            "Found Skill:  .net  In:  content     .net\n",
            "Found Skill:  sql  In:  content     sql\n",
            "Found Skill:  xml  In:  content     xml\n",
            "Found Skill:  junit  In:  content     junit\n",
            "Found Skill:  cucumber  In:  content     cucumber\n",
            "Found Skill:  jira  In:  content     jira\n",
            "Found Skill:  maven  In:  content     maven\n",
            "Found Skill:  small  In:  content     helped many large and small organizations to ...\n",
            "Found Skill:  blue  In:  content     bcbs (blue cross blue shield\n",
            "Found Skill:  dynamo  In:  content     dynamo\n",
            "Found Skill:  java  In:  content     java\n",
            "Found Skill:  scala  In:  content     scala\n"
          ],
          "name": "stdout"
        },
        {
          "output_type": "stream",
          "text": [
            " 15%|█▌        | 10534/69499 [00:11<00:56, 1036.52it/s]"
          ],
          "name": "stderr"
        },
        {
          "output_type": "stream",
          "text": [
            "Found Skill:  java  In:  content     java (10+ years)\n",
            "Found Skill:  java  In:  content     trained on java\n",
            "Found Skill:  code  In:  content     worked on code incremental and db incremental...\n",
            "Found Skill:  java  In:  content     java (less.\n",
            "Found Skill:  javascript  In:  content     javascript (less than 1 year).\n",
            "Found Skill:  java  In:  content     java\n",
            "Found Skill:  javascript  In:  content     javascript\n"
          ],
          "name": "stdout"
        },
        {
          "output_type": "stream",
          "text": [
            " 15%|█▌        | 10739/69499 [00:11<01:00, 971.45it/s]"
          ],
          "name": "stderr"
        },
        {
          "output_type": "stream",
          "text": [
            "Found Skill:  pl/sql  In:  content     languages: pl/sql\n",
            "Found Skill:  database  In:  content     database conversion from non-rac to 2 node\n",
            "Found Skill:  database  In:  content     database switchover code written for oto.\n",
            "Found Skill:  database  In:  content     experienced with database upgrades as well.\n",
            "Found Skill:  xml  In:  content     xml plug-in\n",
            "Found Skill:  database  In:  content     database\n",
            "Found Skill:  database  In:  content     conversion of database from non-rac to rac.\n",
            "Found Skill:  database  In:  content     also the recovery of database is involved..\n",
            "Found Skill:  pl/sql  In:  content     pl/sql and html.\n",
            "Found Skill:  pl/sql  In:  content     * developed the pl/sql procedures   packages\n",
            "Found Skill:  html  In:  content     html forms required for the portal\n",
            "Found Skill:  java  In:  content     using java scripting\n"
          ],
          "name": "stdout"
        },
        {
          "output_type": "stream",
          "text": [
            " 16%|█▌        | 10936/69499 [00:11<01:00, 972.60it/s]"
          ],
          "name": "stderr"
        },
        {
          "output_type": "stream",
          "text": [
            "Found Skill:  code  In:  content     creation of input   output tax code\n",
            "Found Skill:  word  In:  content     tally..     office productivity: microsoft word\n",
            "Found Skill:  excel  In:  content     excel\n",
            "Found Skill:  c++  In:  content     c++\n",
            "Found Skill:  .net  In:  content     .net (less than 1 year)\n",
            "Found Skill:  c++  In:  content     using c++ stl.\n",
            "Found Skill:  able  In:  content     able to understand and review java and scala ...\n"
          ],
          "name": "stdout"
        },
        {
          "output_type": "stream",
          "text": [
            " 16%|█▌        | 11141/69499 [00:11<00:58, 996.52it/s]"
          ],
          "name": "stderr"
        },
        {
          "output_type": "stream",
          "text": [
            "Found Skill:  code  In:  content     issues by fixing the code bugs..\n",
            "Found Skill:  able  In:  content     gui is able to provide all information in a u...\n",
            "Found Skill:  word  In:  content     line number and time indexes for word and phr...\n",
            "Found Skill:  excel  In:  content     implemented tool to create an excel with mani...\n",
            "Found Skill:  python  In:  content     knowledge in python scripting.. .\n",
            "Found Skill:  code  In:  content     code to cater to a group of customers.\n",
            "Found Skill:  tcl  In:  content     automating testcases using tcl scripting.\n",
            "Found Skill:  gap  In:  content     gap analysis using cserv.\n",
            "Found Skill:  gap  In:  content     gap analysis (5 years)"
          ],
          "name": "stdout"
        },
        {
          "output_type": "stream",
          "text": [
            " 16%|█▋        | 11340/69499 [00:12<00:59, 980.09it/s]"
          ],
          "name": "stderr"
        },
        {
          "output_type": "stream",
          "text": [
            "\n",
            "Found Skill:  sql  In:  content     databases: oracle  sql server.\n",
            "Found Skill:  gap  In:  content     gap analysis using cserv\n",
            "Found Skill:  red  In:  content     red hat -  bengaluru\n",
            "Found Skill:  red  In:  content     responsible for sales of entire red hat produ...\n",
            "Found Skill:  small  In:  content     improved brand presence in small cities and t...\n",
            "Found Skill:  mysql  In:  content     responsible for mysql\n",
            "Found Skill:  java  In:  content     programming     java\n",
            "Found Skill:  c++  In:  content     c++\n",
            "Found Skill:  matlab  In:  content     matlab\n",
            "Found Skill:  java  In:  content     finished diploma in java course from niit.\n",
            "Found Skill:  java  In:  content     java (6 years)\n",
            "Found Skill:  abap  In:  content     abap (less than 1 year)\n",
            "Found Skill:  access  In:  content     access (less than 1. year).\n",
            "Found Skill:  database  In:  content     database administration.\n",
            "Found Skill:  database  In:  content     database administration on oracle 10 g\n"
          ],
          "name": "stdout"
        },
        {
          "output_type": "stream",
          "text": [
            " 17%|█▋        | 11535/69499 [00:12<01:02, 930.17it/s]"
          ],
          "name": "stderr"
        },
        {
          "output_type": "stream",
          "text": [
            "Found Skill:  database  In:  content     monitoring   perform database backup at db13 ...\n",
            "Found Skill:  database  In:  content     12 c... sap hana database administration.\n",
            "Found Skill:  c++  In:  content     c++\n",
            "Found Skill:  java  In:  content     core java\n",
            "Found Skill:  java  In:  content     monitoring and troubleshooting java systems u...\n",
            "Found Skill:  database  In:  content     database cluster administration..     system ...\n",
            "Found Skill:  database  In:  content     creation database source in java systems..\n",
            "Found Skill:  abap  In:  content     bw abap 7.31.\n",
            "Found Skill:  java  In:  content     monitoring and troubleshooting java systems u...\n",
            "Found Skill:  database  In:  content     database administration using brtools..     k...\n",
            "Found Skill:  abap  In:  content     bw abap 7.31\n",
            "Found Skill:  access  In:  content     and access management activities\n",
            "Found Skill:  access  In:  content     updating existing access and provisioning wor...\n",
            "Found Skill:  python  In:  content     i m trained in python\n",
            "Found Skill:  java  In:  content     java and plsql.\n",
            "Found Skill:  able  In:  content     i m able to handle multiple tasks.\n",
            "Found Skill:  goal  In:  content     i m committed  goal oriented\n",
            "Found Skill:  python  In:  content     b. python automation:.\n"
          ],
          "name": "stdout"
        },
        {
          "output_type": "stream",
          "text": [
            " 17%|█▋        | 11722/69499 [00:12<01:02, 923.36it/s]"
          ],
          "name": "stderr"
        },
        {
          "output_type": "stream",
          "text": [
            "Found Skill:  processing  In:  content     tracking and processing identity creation for...\n",
            "Found Skill:  access  In:  content     access is disabled on the user s departure da...\n",
            "Found Skill:  access  In:  content     access periodically and updating it according...\n",
            "Found Skill:  access  In:  content     access management:.\n",
            "Found Skill:  database  In:  content     database and application front end.\n",
            "Found Skill:  access  In:  content     access is granted.. .\n",
            "Found Skill:  python  In:  content     languages: python\n",
            "Found Skill:  java  In:  content     core java\n",
            "Found Skill:  sql  In:  content     sql\n",
            "Found Skill:  python  In:  content     python scripts developed by the team.\n",
            "Found Skill:  excel  In:  content     extracting data from excel and csv files\n",
            "Found Skill:  excel  In:  content     posting results in excel file with python..\n",
            "Found Skill:  tcl  In:  content     language tcl programming\n",
            "Found Skill:  python  In:  content     python\n",
            "Found Skill:  tcl  In:  content     language tcl programming\n"
          ],
          "name": "stdout"
        },
        {
          "output_type": "stream",
          "text": [
            " 17%|█▋        | 12016/69499 [00:12<00:59, 962.06it/s]"
          ],
          "name": "stderr"
        },
        {
          "output_type": "stream",
          "text": [
            "Found Skill:  tcl  In:  content     language tcl programming\n",
            "Found Skill:  python  In:  content     python (4 years)\n",
            "Found Skill:  tcl  In:  content     tcl (4 years)\n",
            "Found Skill:  python  In:  content     programming languages python\n",
            "Found Skill:  tcl  In:  content     tcl\n",
            "Found Skill:  sql  In:  content     sql\n",
            "Found Skill:  ats  In:  content     automation framework ats (automated test system)\n",
            "Found Skill:  database  In:  content     database configuration.\n",
            "Found Skill:  database  In:  content     database configuration.\n",
            "Found Skill:  database  In:  content     database configuration\n"
          ],
          "name": "stdout"
        },
        {
          "output_type": "stream",
          "text": [
            " 18%|█▊        | 12209/69499 [00:12<01:00, 950.36it/s]"
          ],
          "name": "stderr"
        },
        {
          "output_type": "stream",
          "text": [
            "Found Skill:  small  In:  content     esthetical issues: font too small\n",
            "Found Skill:  logo  In:  content     this current report will display the logo bas...\n",
            "Found Skill:  able  In:  content     be able to select this base as needed to suit...\n",
            "Found Skill:  focus  In:  content     from defect prevent analysis focus on specifi...\n",
            "Found Skill:  database  In:  content     database configuration.\n",
            "Found Skill:  database  In:  content     database configuration\n"
          ],
          "name": "stdout"
        },
        {
          "output_type": "stream",
          "text": [
            " 18%|█▊        | 12399/69499 [00:13<01:01, 934.43it/s]"
          ],
          "name": "stderr"
        },
        {
          "output_type": "stream",
          "text": [
            "Found Skill:  small  In:  content     esthetical issues: font too small\n",
            "Found Skill:  logo  In:  content     this current report will display the logo bas...\n",
            "Found Skill:  able  In:  content     be able to select this base as needed to suit...\n",
            "Found Skill:  focus  In:  content     from defect prevent analysis focus on specifi...\n",
            "Found Skill:  database  In:  content     database (4 years)\n",
            "Found Skill:  database  In:  content     database oracle.\n",
            "Found Skill:  sql  In:  content     languages sql\n",
            "Found Skill:  html  In:  content     web technologies tools html sql developer\n",
            "Found Skill:  abap  In:  content     trained on sap abap\n",
            "Found Skill:  java  In:  content     knowledge of xslt and java mapping and dynami...\n",
            "Found Skill:  factor  In:  content     project name success factor integration with ...\n",
            "Found Skill:  java  In:  content     technologies java script\n",
            "Found Skill:  groovy  In:  content     groovy script\n"
          ],
          "name": "stdout"
        },
        {
          "output_type": "stream",
          "text": [
            " 18%|█▊        | 12593/69499 [00:13<00:59, 948.64it/s]"
          ],
          "name": "stderr"
        },
        {
          "output_type": "stream",
          "text": [
            "Found Skill:  java  In:  content     java (2 years).\n",
            "Found Skill:  sql  In:  content     sql server data\n",
            "Found Skill:  java  In:  content     languages core java\n",
            "Found Skill:  c++  In:  content     c++\n",
            "Found Skill:  .net  In:  content     .net framework 4.7. .\n",
            "Found Skill:  .net  In:  content     design azure components using azure .net sdks...\n",
            "Found Skill:  scratch  In:  content     sharepoint 2013 start from scratch using nintex.\n",
            "Found Skill:  database  In:  content     responsible for maintaining database of the p...\n",
            "Found Skill:  excel  In:  content     responsible for creating excel reports in sha...\n",
            "Found Skill:  sql  In:  content     microsoft sql server 2008 r2\n",
            "Found Skill:  database  In:  content     responsible for maintaining database of the p...\n"
          ],
          "name": "stdout"
        },
        {
          "output_type": "stream",
          "text": [
            " 18%|█▊        | 12784/69499 [00:13<01:00, 930.78it/s]"
          ],
          "name": "stderr"
        },
        {
          "output_type": "stream",
          "text": [
            "Found Skill:  .net  In:  content     .net (6 years)\n",
            "Found Skill:  javascript  In:  content     javascript etc..     professional experience ...\n",
            "Found Skill:  html  In:  content     html\n",
            "Found Skill:  css  In:  content     css\n",
            "Found Skill:  javascript  In:  content     javascript\n",
            "Found Skill:  sql  In:  content     msbi sql server 2008\n",
            "Found Skill:  sql  In:  content     sql server 2012\n",
            "Found Skill:  c++  In:  content     c++\n",
            "Found Skill:  excel  In:  content     excel\n",
            "Found Skill:  self  In:  content     satisfaction and self development and help me...\n",
            "Found Skill:  word  In:  content     microsoft office: microsoft word\n",
            "Found Skill:  java  In:  content     java\n",
            "Found Skill:  java  In:  content     skills: java\n"
          ],
          "name": "stdout"
        },
        {
          "output_type": "stream",
          "text": [
            " 19%|█▊        | 12986/69499 [00:13<00:58, 966.30it/s]"
          ],
          "name": "stderr"
        },
        {
          "output_type": "stream",
          "text": [
            "Found Skill:  self  In:  content     self-employed in family business - self emplo...\n",
            "Found Skill:  self  In:  content     self employed -.\n",
            "Found Skill:  html  In:  content     html (less than 1 year)\n",
            "Found Skill:  accent  In:  content     voice and accent trainer :masters in journali...\n",
            "Found Skill:  accent  In:  content     voice and accent trainer.\n",
            "Found Skill:  sql  In:  content     sql and hp storage servers.. * participate in...\n"
          ],
          "name": "stdout"
        },
        {
          "output_type": "stream",
          "text": [
            " 19%|█▉        | 13192/69499 [00:13<00:56, 997.67it/s]"
          ],
          "name": "stderr"
        },
        {
          "output_type": "stream",
          "text": [
            "Found Skill:  processing  In:  content     processing units (cpus)\n",
            "Found Skill:  genie  In:  content     test tool: genie (target testing  amp  signal...\n",
            "Found Skill:  java  In:  content     java application\n",
            "Found Skill:  focus  In:  content     my focus as part of this role was as a dev op...\n"
          ],
          "name": "stdout"
        },
        {
          "output_type": "stream",
          "text": [
            " 19%|█▉        | 13491/69499 [00:14<00:57, 972.34it/s]"
          ],
          "name": "stderr"
        },
        {
          "output_type": "stream",
          "text": [
            "Found Skill:  sql  In:  content     sql\n",
            "Found Skill:  powershell  In:  content     powershell\n",
            "Found Skill:  junit  In:  content     junit\n",
            "Found Skill:  code  In:  content     o code reviews .\n",
            "Found Skill:  sql  In:  content     sql (6 years)\n",
            "Found Skill:  .net  In:  content     microsoft .net platform\n",
            "Found Skill:  sql  In:  content     sql azure\n",
            "Found Skill:  access  In:  content     access control.\n",
            "Found Skill:  sql  In:  content     sql azure data sync\n",
            "Found Skill:  sql  In:  content     sql azure federation etc.. * deployment archi...\n",
            "Found Skill:  powershell  In:  content     using service management apis and powershell ...\n",
            "Found Skill:  junit  In:  content     junit\n",
            "Found Skill:  sql  In:  content     sql\n",
            "Found Skill:  powershell  In:  content     powershell\n",
            "Found Skill:  junit  In:  content     junit\n"
          ],
          "name": "stdout"
        },
        {
          "output_type": "stream",
          "text": [
            " 20%|█▉        | 13693/69499 [00:14<00:56, 992.28it/s]"
          ],
          "name": "stderr"
        },
        {
          "output_type": "stream",
          "text": [
            "Found Skill:  code  In:  content     code reviews.\n",
            "Found Skill:  sql  In:  content     sql azure\n",
            "Found Skill:  code  In:  content     and improving code coverage\n",
            "Found Skill:  code  In:  content     code reviews.\n",
            "Found Skill:  code  In:  content     code reviews.\n",
            "Found Skill:  sql  In:  content     sql azure\n"
          ],
          "name": "stdout"
        },
        {
          "output_type": "stream",
          "text": [
            " 20%|█▉        | 13889/69499 [00:14<00:58, 948.73it/s]"
          ],
          "name": "stderr"
        },
        {
          "output_type": "stream",
          "text": [
            "Found Skill:  sql  In:  content     sql azure\n",
            "Found Skill:  database  In:  content     security and database architect.\n",
            "Found Skill:  sql  In:  content     sql azure\n",
            "Found Skill:  sql  In:  content     sql azure\n",
            "Found Skill:  sql  In:  content     sql 2005\n",
            "Found Skill:  sql  In:  content     sql 2005. .\n",
            "Found Skill:  sql  In:  content     ms sql\n",
            "Found Skill:  database  In:  content     database design\n"
          ],
          "name": "stdout"
        },
        {
          "output_type": "stream",
          "text": [
            " 20%|██        | 14094/69499 [00:14<00:56, 985.49it/s]"
          ],
          "name": "stderr"
        },
        {
          "output_type": "stream",
          "text": [
            "Found Skill:  egl  In:  content     new premises in egl is a 5000-square foot fac...\n",
            "Found Skill:  focal  In:  content     responsible focal point for all interactions ...\n",
            "Found Skill:  focus  In:  content     process..     brought a strong focus on  voic...\n"
          ],
          "name": "stdout"
        },
        {
          "output_type": "stream",
          "text": [
            " 21%|██        | 14292/69499 [00:15<00:57, 958.61it/s]"
          ],
          "name": "stderr"
        },
        {
          "output_type": "stream",
          "text": [
            "Found Skill:  gap  In:  content     * creating functional specification and gap a...\n",
            "Found Skill:  gap  In:  content     * creating functional specification and gap a...\n",
            "Found Skill:  gap  In:  content     * creating functional specification and gap a...\n",
            "Found Skill:  blue  In:  content     * conducting blue print workshops with client...\n",
            "Found Skill:  gap  In:  content     * creating functional specification and gap a...\n"
          ],
          "name": "stdout"
        },
        {
          "output_type": "stream",
          "text": [
            " 21%|██        | 14498/69499 [00:15<00:55, 993.46it/s]"
          ],
          "name": "stderr"
        },
        {
          "output_type": "stream",
          "text": [
            "Found Skill:  excel  In:  content     learn and excel in highly competitive environ...\n",
            "Found Skill:  able  In:  content     able to handle and overcome objections.\n",
            "Found Skill:  sql  In:  content     sql and msbi developer with experience in azu...\n",
            "Found Skill:  sql  In:  content     expertise in sql server(2008 r2\n",
            "Found Skill:  sql  In:  content     sql and ssis developer/sustain resource.\n",
            "Found Skill:  database  In:  content     database combined with microsoft office excel...\n",
            "Found Skill:  database  In:  content     and download data from the forecast database\n",
            "Found Skill:  database  In:  content     uploaded back to the forecast database throug...\n",
            "Found Skill:  database  In:  content     stored in the online database and subsequentl...\n",
            "Found Skill:  sql  In:  content     developed sql server integration services pac...\n",
            "Found Skill:  code  In:  content     promptly check in the final code in vstf.. .\n"
          ],
          "name": "stdout"
        },
        {
          "output_type": "stream",
          "text": [
            " 21%|██        | 14693/69499 [00:15<00:59, 922.04it/s]"
          ],
          "name": "stderr"
        },
        {
          "output_type": "stream",
          "text": [
            "Found Skill:  sql  In:  content     sql server\n",
            "Found Skill:  t-sql  In:  content     t-sql\n",
            "Found Skill:  jira  In:  content     jira\n",
            "Found Skill:  database  In:  content     database (less than 1 year)\n",
            "Found Skill:  java  In:  content     java (less than 1 year)\n",
            "Found Skill:  jira  In:  content     jira (less than 1. year)\n",
            "Found Skill:  sql  In:  content     database: sql server 2012\n",
            "Found Skill:  jira  In:  content     management tools: jira\n",
            "Found Skill:  java  In:  content     microsoft office and java (less than 1 year).\n",
            "Found Skill:  able  In:  content     able to create scripts for automation..\n",
            "Found Skill:  database  In:  content     database management like\n"
          ],
          "name": "stdout"
        },
        {
          "output_type": "stream",
          "text": [
            " 21%|██▏       | 14883/69499 [00:15<00:58, 927.35it/s]"
          ],
          "name": "stderr"
        },
        {
          "output_type": "stream",
          "text": [
            "Found Skill:  sql  In:  content     sql and compiling them to and s navigational ...\n",
            "Found Skill:  perl  In:  content     perl scripts\n",
            "Found Skill:  sql  In:  content     sql query\n",
            "Found Skill:  perl  In:  content     perl (10+ years)\n",
            "Found Skill:  sql  In:  content     sql (10+ years)\n",
            "Found Skill:  database  In:  content     database (10+ years)\n",
            "Found Skill:  perl  In:  content     basic perl (unix\n",
            "Found Skill:  c++  In:  content     c++\n",
            "Found Skill:  mysql  In:  content     mysql\n",
            "Found Skill:  access  In:  content     access\n",
            "Found Skill:  sql  In:  content     sql\n",
            "Found Skill:  perl  In:  content     perl (intermediate level)\n",
            "Found Skill:  .net  In:  content     have delivered .net\n"
          ],
          "name": "stdout"
        },
        {
          "output_type": "stream",
          "text": [
            " 22%|██▏       | 15179/69499 [00:16<00:56, 968.09it/s]"
          ],
          "name": "stderr"
        },
        {
          "output_type": "stream",
          "text": [
            "Found Skill:  access  In:  content     and vpn access for company user s and contrac...\n",
            "Found Skill:  access  In:  content     outlook web access\n",
            "Found Skill:  word  In:  content     microsoft word\n",
            "Found Skill:  excel  In:  content     excel\n",
            "Found Skill:  access  In:  content     access\n",
            "Found Skill:  excel  In:  content     hardware and connectivity issues.. excel in a...\n",
            "Found Skill:  excel  In:  content     excel (2 years)\n",
            "Found Skill:  word  In:  content     send word now\n",
            "Found Skill:  excel  In:  content     ms excel\n",
            "Found Skill:  c++  In:  content     c++\n",
            "Found Skill:  java  In:  content     java (1 year).\n",
            "Found Skill:  beta  In:  content     beta tester.\n",
            "Found Skill:  beta  In:  content     i am a beta tester.\n"
          ],
          "name": "stdout"
        },
        {
          "output_type": "stream",
          "text": [
            " 22%|██▏       | 15380/69499 [00:16<00:54, 986.15it/s]"
          ],
          "name": "stderr"
        },
        {
          "output_type": "stream",
          "text": [
            "Found Skill:  java  In:  content    java (less than 1 year).\n",
            "Found Skill:  database  In:  content     database: experience in database designing\n",
            "Found Skill:  code  In:  content     optimizing sql code and stored procedures\n",
            "Found Skill:  sql  In:  content     sql azure\n",
            "Found Skill:  plus  In:  content     plus\n",
            "Found Skill:  plus  In:  content     plus\n",
            "Found Skill:  sql  In:  content     sql server 2014\n",
            "Found Skill:  .net  In:  content     .net api\n"
          ],
          "name": "stdout"
        },
        {
          "output_type": "stream",
          "text": [
            " 23%|██▎       | 15682/69499 [00:16<00:55, 962.80it/s]"
          ],
          "name": "stderr"
        },
        {
          "output_type": "stream",
          "text": [
            "Found Skill:  c++  In:  content     attended a three-day workshop on c and c++ pr...\n",
            "Found Skill:  java  In:  content     attended a one-day workshop on java and hardw...\n",
            "Found Skill:  spark  In:  content     attended spark training program in infosys my...\n",
            "Found Skill:  database  In:  content     database (1 year)\n",
            "Found Skill:  sql  In:  content     database: ms sql server 2016.\n",
            "Found Skill:  sql  In:  content     languages: sql\n"
          ],
          "name": "stdout"
        },
        {
          "output_type": "stream",
          "text": [
            " 23%|██▎       | 15876/69499 [00:16<00:56, 957.04it/s]"
          ],
          "name": "stderr"
        },
        {
          "output_type": "stream",
          "text": [
            "Found Skill:  html  In:  content     web technologies: html\n",
            "Found Skill:  xml  In:  content     xml\n",
            "Found Skill:  cobol  In:  content     cobol\n",
            "Found Skill:  c++  In:  content     c++\n",
            "Found Skill:  html  In:  content     html\n",
            "Found Skill:  javascript  In:  content     javascript\n",
            "Found Skill:  .net  In:  content     actively looking for opportunity in .net deve...\n",
            "Found Skill:  sql  In:  content     their web application by using ms sql server ...\n",
            "Found Skill:  .net  In:  content     .net (3 years)\n",
            "Found Skill:  c++  In:  content     c++\n",
            "Found Skill:  css  In:  content     css\n",
            "Found Skill:  javascript  In:  content     javascript\n",
            "Found Skill:  html  In:  content     html\n",
            "Found Skill:  .net  In:  content     programming languages c# .net\n",
            "Found Skill:  html  In:  content     html\n",
            "Found Skill:  css  In:  content     css\n",
            "Found Skill:  sql  In:  content     ms sql server v2008.\n",
            "Found Skill:  c++  In:  content     basic knowledge about c and c++ programming.. .\n",
            "Found Skill:  python  In:  content     python developer.\n"
          ],
          "name": "stdout"
        },
        {
          "output_type": "stream",
          "text": [
            " 23%|██▎       | 16072/69499 [00:16<00:55, 966.56it/s]"
          ],
          "name": "stderr"
        },
        {
          "output_type": "stream",
          "text": [
            "Found Skill:  python  In:  content     python developer.\n",
            "Found Skill:  python  In:  content     languages: python\n",
            "Found Skill:  java  In:  content     java\n",
            "Found Skill:  mysql  In:  content     mysql 5.0\n",
            "Found Skill:  sql  In:  content     cloud sql\n",
            "Found Skill:  database  In:  content     webex database\n",
            "Found Skill:  excel  In:  content     excel (less than 1 year)\n",
            "Found Skill:  word  In:  content     microsoft word (less than 1 year)\n",
            "Found Skill:  word  In:  content     microsoft word 2010 (less.\n",
            "Found Skill:  excel  In:  content     ms excel (less than 1 year)\n",
            "Found Skill:  word  In:  content     word (less than 1 year).\n",
            "Found Skill:  word  In:  content     microsoft word 2010\n",
            "Found Skill:  able  In:  content     science background i was able to understand t...\n"
          ],
          "name": "stdout"
        },
        {
          "output_type": "stream",
          "text": [
            " 23%|██▎       | 16276/69499 [00:17<00:53, 988.95it/s]"
          ],
          "name": "stderr"
        },
        {
          "output_type": "stream",
          "text": [
            "Found Skill:  excel  In:  content     excel (less than 1 year)\n",
            "Found Skill:  html  In:  content     html (less than 1 year)\n",
            "Found Skill:  javascript  In:  content     javascript (less than 1 year)\n",
            "Found Skill:  sql  In:  content     sql (less than 1 year).\n",
            "Found Skill:  javascript  In:  content     javascript\n"
          ],
          "name": "stdout"
        },
        {
          "output_type": "stream",
          "text": [
            " 24%|██▎       | 16480/69499 [00:17<00:56, 944.82it/s]"
          ],
          "name": "stderr"
        },
        {
          "output_type": "stream",
          "text": [
            "Found Skill:  excel  In:  content     excel  amp  power point).\n",
            "Found Skill:  word  In:  content     word\n",
            "Found Skill:  excel  In:  content     tools used: ms excel\n",
            "Found Skill:  word  In:  content     ms word\n",
            "Found Skill:  sql  In:  content     sql database..     handling pan india ola caf...\n",
            "Found Skill:  processing  In:  content     processing of vendor bills\n",
            "Found Skill:  pilot  In:  content     worked on pilot process (ola prime) to set al...\n",
            "Found Skill:  database  In:  content     tools used: sql database\n",
            "Found Skill:  excel  In:  content     ms excel (macros)\n",
            "Found Skill:  word  In:  content     ms word\n",
            "Found Skill:  processing  In:  content     processing of vendor bills\n",
            "Found Skill:  access  In:  content     availability and easy access of all relevant ...\n",
            "Found Skill:  processing  In:  content     processed the daily internal processing files...\n",
            "Found Skill:  database  In:  content     tools used: sql database\n",
            "Found Skill:  excel  In:  content     ms excel\n",
            "Found Skill:  word  In:  content     ms word\n",
            "Found Skill:  excel  In:  content     ms excel\n",
            "Found Skill:  database  In:  content     operating system: sql database\n",
            "Found Skill:  excel  In:  content     ms excel\n",
            "Found Skill:  word  In:  content     ms word\n"
          ],
          "name": "stdout"
        },
        {
          "output_type": "stream",
          "text": [
            " 24%|██▍       | 16777/69499 [00:17<00:54, 975.69it/s]"
          ],
          "name": "stderr"
        },
        {
          "output_type": "stream",
          "text": [
            "Found Skill:  mysql  In:  content     database tools: mysql\n",
            "Found Skill:  sql  In:  content     sql server 2008\n",
            "Found Skill:  sql  In:  content     sql server 2010\n",
            "Found Skill:  excel  In:  content     excel (less than 1 year)\n",
            "Found Skill:  excel  In:  content     excel\n",
            "Found Skill:  pilot  In:  content     pilot batch under the aegis of infosys campus...\n"
          ],
          "name": "stdout"
        },
        {
          "output_type": "stream",
          "text": [
            " 24%|██▍       | 16973/69499 [00:17<00:54, 967.01it/s]"
          ],
          "name": "stderr"
        },
        {
          "output_type": "stream",
          "text": [
            "Found Skill:  java  In:  content     java and middleware projects at.\n",
            "Found Skill:  pipelines  In:  content     continuous deployment pipelines and devops pr...\n",
            "Found Skill:  jira  In:  content     involved in agile implementation using jira\n",
            "Found Skill:  jira  In:  content     jira\n",
            "Found Skill:  maven  In:  content     maven\n",
            "Found Skill:  code  In:  content     release automation/automic for code build\n",
            "Found Skill:  code  In:  content     code deploy\n",
            "Found Skill:  chef  In:  content     chef\n",
            "Found Skill:  java  In:  content     good experience in java\n",
            "Found Skill:  java  In:  content     java script\n",
            "Found Skill:  powershell  In:  content     powershell\n",
            "Found Skill:  groovy  In:  content     groovy\n",
            "Found Skill:  python  In:  content     python script.\n",
            "Found Skill:  sql  In:  content     sql server\n",
            "Found Skill:  maven  In:  content     maven\n",
            "Found Skill:  jira  In:  content     jira agile\n",
            "Found Skill:  code  In:  content     source code management\n",
            "Found Skill:  jira  In:  content     and deployment automations using jira\n",
            "Found Skill:  maven  In:  content     maven\n",
            "Found Skill:  .net  In:  content     .net (less than 1 year)\n",
            "Found Skill:  .net  In:  content     .net 4.5 (less than 1 year)\n",
            "Found Skill:  .net  In:  content     .net 4.5\n"
          ],
          "name": "stdout"
        },
        {
          "output_type": "stream",
          "text": [
            " 25%|██▍       | 17175/69499 [00:18<00:53, 986.04it/s]"
          ],
          "name": "stderr"
        },
        {
          "output_type": "stream",
          "text": [
            "Found Skill:  jira  In:  content     jira\n",
            "Found Skill:  maven  In:  content     maven\n",
            "Found Skill:  code  In:  content     ci-cd services - code commit\n",
            "Found Skill:  code  In:  content     code deploy\n",
            "Found Skill:  access  In:  content     3 tcs security guard access control room 1 ye...\n",
            "Found Skill:  access  In:  content     3 tcs security guard access control room 1 year.\n",
            "Found Skill:  small  In:  content     managing small to large scale projects as per...\n",
            "Found Skill:  red  In:  content     red hat inc -  pune\n",
            "Found Skill:  red  In:  content     global support delivery   red hat inc. pune\n"
          ],
          "name": "stdout"
        },
        {
          "output_type": "stream",
          "text": [
            " 25%|██▌       | 17377/69499 [00:18<00:53, 971.21it/s]"
          ],
          "name": "stderr"
        },
        {
          "output_type": "stream",
          "text": [
            "Found Skill:  red  In:  content     red cross society -.\n",
            "Found Skill:  database  In:  content     data protection and database team for the bac...\n",
            "Found Skill:  forth  In:  content     harmoniously in a team to bring forth the bes...\n"
          ],
          "name": "stdout"
        },
        {
          "output_type": "stream",
          "text": [
            " 26%|██▌       | 17774/69499 [00:18<00:53, 970.89it/s]"
          ],
          "name": "stderr"
        },
        {
          "output_type": "stream",
          "text": [
            "Found Skill:  excel  In:  content     excel (3 years)\n",
            "Found Skill:  word  In:  content     ms word (3 years)\n",
            "Found Skill:  word  In:  content     word (3 years).\n",
            "Found Skill:  excel  In:  content     excel\n",
            "Found Skill:  self  In:  content     self confidence.\n",
            "Found Skill:  excel  In:  content     underwent training in courses like ms excel l...\n",
            "Found Skill:  word  In:  content     ms word  amp  powerpoint.\n",
            "Found Skill:  abc  In:  content     use abc\n",
            "Found Skill:  oak  In:  content     client: accentia oak technologies.. .\n"
          ],
          "name": "stdout"
        },
        {
          "output_type": "stream",
          "text": [
            " 26%|██▌       | 17972/69499 [00:18<00:53, 954.43it/s]"
          ],
          "name": "stderr"
        },
        {
          "output_type": "stream",
          "text": [
            "Found Skill:  excel  In:  content     microsoft office package: ms excel\n",
            "Found Skill:  word  In:  content     ms word\n",
            "Found Skill:  access  In:  content     ms access and power point..\n",
            "Found Skill:  excel  In:  content     completed ms excel level 1\n",
            "Found Skill:  database  In:  content     database migration projects..     capacity pl...\n",
            "Found Skill:  pl/sql  In:  content     worked extensively on oracle pl/sql\n",
            "Found Skill:  database  In:  content     it is national database for all quality.\n"
          ],
          "name": "stdout"
        },
        {
          "output_type": "stream",
          "text": [
            " 26%|██▌       | 18173/69499 [00:19<00:52, 977.40it/s]"
          ],
          "name": "stderr"
        },
        {
          "output_type": "stream",
          "text": [
            "Found Skill:  css  In:  content     various systems like css\n",
            "Found Skill:  scratch  In:  content     this application was developed from scratch s...\n",
            "Found Skill:  database  In:  content     database design\n",
            "Found Skill:  database  In:  content     gui design..     development of database obje...\n",
            "Found Skill:  c++  In:  content     c++\n",
            "Found Skill:  sql  In:  content     sql\n",
            "Found Skill:  pl/sql  In:  content     pl/sql developer\n",
            "Found Skill:  jira  In:  content     jira\n",
            "Found Skill:  excel  In:  content     excel\n",
            "Found Skill:  access  In:  content     access\n",
            "Found Skill:  processing  In:  content     corporate and processing of cash and cheque c...\n"
          ],
          "name": "stdout"
        },
        {
          "output_type": "stream",
          "text": [
            " 27%|██▋       | 18474/69499 [00:19<00:51, 987.34it/s]"
          ],
          "name": "stderr"
        },
        {
          "output_type": "stream",
          "text": [
            "Found Skill:  .net  In:  content     .net (less than 1 year)\n",
            "Found Skill:  database  In:  content     database (less than 1 year)\n",
            "Found Skill:  sql  In:  content     ms sql server.\n",
            "Found Skill:  sql  In:  content     sql (less than 1 year).\n",
            "Found Skill:  javascript  In:  content     javascript\n",
            "Found Skill:  html  In:  content     frontend html and .net.\n",
            "Found Skill:  database  In:  content     database sql server and oracle.\n",
            "Found Skill:  powershell  In:  content     automation powershell and vsts.\n"
          ],
          "name": "stdout"
        },
        {
          "output_type": "stream",
          "text": [
            " 27%|██▋       | 18676/69499 [00:19<00:52, 968.61it/s]"
          ],
          "name": "stderr"
        },
        {
          "output_type": "stream",
          "text": [
            "Found Skill:  small  In:  content     effectively managing a small team and deliver...\n",
            "Found Skill:  pl/sql  In:  content     oracle pl/sql (6 years)\n",
            "Found Skill:  pl/sql  In:  content     sql and pl/sql\n",
            "Found Skill:  java  In:  content     core java\n",
            "Found Skill:  css  In:  content     css  amp  html..     having knowledge of orac...\n",
            "Found Skill:  c++  In:  content     c++ including advanced concepts such as point...\n",
            "Found Skill:  scala  In:  content     hive and map reduce..     learning scala with...\n",
            "Found Skill:  sql  In:  content     sql and.\n",
            "Found Skill:  sql  In:  content     involved in developing sql scripts for variou...\n",
            "Found Skill:  java  In:  content     involved in development of java module to rem...\n",
            "Found Skill:  excel  In:  content     excel to rdbms data load application.\n",
            "Found Skill:  excel  In:  content     an application to load data from excel sheets...\n",
            "Found Skill:  database  In:  content     ibm db2 academic associate: db2 database and ...\n",
            "Found Skill:  java  In:  content     java\n",
            "Found Skill:  sql  In:  content     sql\n",
            "Found Skill:  javascript  In:  content     javascript\n",
            "Found Skill:  html  In:  content     html\n",
            "Found Skill:  cobol  In:  content    cobol\n",
            "Found Skill:  jcl  In:  content    jcl\n"
          ],
          "name": "stdout"
        },
        {
          "output_type": "stream",
          "text": [
            " 27%|██▋       | 18989/69499 [00:19<00:50, 1007.05it/s]"
          ],
          "name": "stderr"
        },
        {
          "output_type": "stream",
          "text": [
            "Found Skill:  database  In:  content     database tools.\n",
            "Found Skill:  sql  In:  content     : sql developer\n",
            "Found Skill:  database  In:  content     database tools.\n",
            "Found Skill:  sql  In:  content     : sql developer.\n",
            "Found Skill:  excel  In:  content     excel (less than 1 year)\n",
            "Found Skill:  word  In:  content     word (less than 1 year).\n",
            "Found Skill:  word  In:  content     word\n",
            "Found Skill:  blue  In:  content     blue star ltd -  pune\n"
          ],
          "name": "stdout"
        },
        {
          "output_type": "stream",
          "text": [
            " 28%|██▊       | 19192/69499 [00:20<00:51, 968.50it/s] "
          ],
          "name": "stderr"
        },
        {
          "output_type": "stream",
          "text": [
            "Found Skill:  excel  In:  content     excel (less than 1 year)\n",
            "Found Skill:  excel  In:  content     ms excel\n",
            "Found Skill:  simulink  In:  content     in the simulink toolset..\n",
            "Found Skill:  matlab  In:  content     simulation visualization tools for matlab and...\n",
            "Found Skill:  simulink  In:  content     simulink models developed and used by engineers\n",
            "Found Skill:  javascript  In:  content     javascript\n",
            "Found Skill:  java  In:  content     java\n",
            "Found Skill:  signal  In:  content     improved performance of rendering signal name...\n",
            "Found Skill:  c++  In:  content     languages  amp  technologies: c++\n",
            "Found Skill:  java  In:  content     java\n",
            "Found Skill:  javascript  In:  content     javascript\n",
            "Found Skill:  matlab  In:  content     matlab\n",
            "Found Skill:  c++  In:  content     languages  amp  technologies: c++\n",
            "Found Skill:  jira  In:  content     jira\n",
            "Found Skill:  labview  In:  content     labview\n"
          ],
          "name": "stdout"
        },
        {
          "output_type": "stream",
          "text": [
            " 28%|██▊       | 19383/69499 [00:20<00:54, 911.22it/s]"
          ],
          "name": "stderr"
        },
        {
          "output_type": "stream",
          "text": [
            "Found Skill:  c++  In:  content     c++\n",
            "Found Skill:  jira  In:  content     jira\n",
            "Found Skill:  vhdl  In:  content     implemented i2c protocol in vhdl for interfac...\n",
            "Found Skill:  vhdl  In:  content     languages  amp  technologies: vhdl\n",
            "Found Skill:  c++  In:  content     c++ (6 years)\n",
            "Found Skill:  .net  In:  content     .net (2 years)\n",
            "Found Skill:  java  In:  content     java (1 year).\n",
            "Found Skill:  java  In:  content     java\n",
            "Found Skill:  python  In:  content     python\n",
            "Found Skill:  javascript  In:  content     javascript\n",
            "Found Skill:  matlab  In:  content     matlab\n",
            "Found Skill:  sql  In:  content     sql\n",
            "Found Skill:  jira  In:  content     jira\n",
            "Found Skill:  labview  In:  content     labview\n",
            "Found Skill:  sql  In:  content     databases: oracle       microsoft sql server\n",
            "Found Skill:  dart  In:  content     creating dart id from the requested details a...\n",
            "Found Skill:  html  In:  content     html (less than 1 year)\n",
            "Found Skill:  html  In:  content     html\n"
          ],
          "name": "stdout"
        },
        {
          "output_type": "stream",
          "text": [
            " 28%|██▊       | 19580/69499 [00:20<00:52, 945.01it/s]"
          ],
          "name": "stderr"
        },
        {
          "output_type": "stream",
          "text": [
            "Found Skill:  small  In:  content     configure small lan  amp  share printers at t...\n",
            "Found Skill:  excel  In:  content     excel\n",
            "Found Skill:  mysql  In:  content     mysql\n",
            "Found Skill:  javascript  In:  content     javascript\n"
          ],
          "name": "stdout"
        },
        {
          "output_type": "stream",
          "text": [
            " 28%|██▊       | 19782/69499 [00:20<00:51, 970.58it/s]"
          ],
          "name": "stderr"
        },
        {
          "output_type": "stream",
          "text": [
            "Found Skill:  java  In:  content     java (2 years)\n",
            "Found Skill:  sql  In:  content     sql (2 years).\n",
            "Found Skill:  python  In:  content     web technologies python\n",
            "Found Skill:  java  In:  content     java\n",
            "Found Skill:  python  In:  content     programming languages python\n",
            "Found Skill:  javascript  In:  content     javascript\n",
            "Found Skill:  sql  In:  content     databases: sql\n",
            "Found Skill:  python  In:  content     automating manual tasks by writing python scr...\n",
            "Found Skill:  java  In:  content     developing controllers classes in java using ...\n",
            "Found Skill:  sql  In:  content     creating tables and generating sql queries..\n",
            "Found Skill:  excel  In:  content     libraries and and import data from excel to t...\n",
            "Found Skill:  sql  In:  content     sql 2012.\n",
            "Found Skill:  access  In:  content     secure access to.\n",
            "Found Skill:  java  In:  content     environment: java\n",
            "Found Skill:  sql  In:  content     sql\n",
            "Found Skill:  sql  In:  content     environment: oracle sql developer (oracle 9i)\n",
            "Found Skill:  sql  In:  content     ms sql server 2008 r2\n"
          ],
          "name": "stdout"
        },
        {
          "output_type": "stream",
          "text": [
            " 29%|██▊       | 19978/69499 [00:21<00:52, 942.36it/s]"
          ],
          "name": "stderr"
        },
        {
          "output_type": "stream",
          "text": [
            "Found Skill:  database  In:  content     are stored in and maintain in our database an...\n",
            "Found Skill:  java  In:  content     environment: java\n",
            "Found Skill:  mysql  In:  content     mysql\n",
            "Found Skill:  mysql  In:  content     mysql workbench..\n",
            "Found Skill:  java  In:  content     programming languages: java 7..\n",
            "Found Skill:  sql  In:  content     database: sql\n",
            "Found Skill:  sql  In:  content     framework       and sql server 2012.\n",
            "Found Skill:  .net  In:  content     in depth knowledge of .net framework includin...\n",
            "Found Skill:  database  In:  content     good experience of database design and softwa...\n",
            "Found Skill:  javascript  In:  content     javascript\n",
            "Found Skill:  natural  In:  content     provides natural gas delivery service to more...\n",
            "Found Skill:  javascript  In:  content     javascript\n",
            "Found Skill:  .net  In:  content     .net (1 year)\n",
            "Found Skill:  javascript  In:  content     javascript\n",
            "Found Skill:  sql  In:  content     sql server 2012.\n",
            "Found Skill:  html  In:  content     web authoring tools html 5\n",
            "Found Skill:  css  In:  content     css 3.0\n",
            "Found Skill:  word  In:  content     ms word\n",
            "Found Skill:  code  In:  content     source code tfs 2013\n",
            "Found Skill:  natural  In:  content     provides natural gas delivery service to more...\n"
          ],
          "name": "stdout"
        },
        {
          "output_type": "stream",
          "text": [
            " 29%|██▉       | 20168/69499 [00:21<00:52, 936.61it/s]"
          ],
          "name": "stderr"
        },
        {
          "output_type": "stream",
          "text": [
            "Found Skill:  c++  In:  content     c++\n",
            "Found Skill:  database  In:  content     database mysql.\n",
            "Found Skill:  jira  In:  content     tools jira\n",
            "Found Skill:  html  In:  content     web technologies html\n",
            "Found Skill:  php  In:  content     php\n",
            "Found Skill:  database  In:  content     experience in oracle database\n",
            "Found Skill:  sql  In:  content     sql queries\n",
            "Found Skill:  sql  In:  content     sql loader\n",
            "Found Skill:  sql  In:  content     sql plus.\n",
            "Found Skill:  database  In:  content     database (3 years)\n",
            "Found Skill:  java  In:  content     core java (1 year).\n",
            "Found Skill:  database  In:  content     database tools: sql developer\n",
            "Found Skill:  self  In:  content     to add value to self and the organization.. .\n"
          ],
          "name": "stdout"
        },
        {
          "output_type": "stream",
          "text": [
            " 29%|██▉       | 20462/69499 [00:21<00:51, 955.95it/s]"
          ],
          "name": "stderr"
        },
        {
          "output_type": "stream",
          "text": [
            "Found Skill:  excel  In:  content     excel (less than 1 year)\n",
            "Found Skill:  word  In:  content     basic word\n",
            "Found Skill:  excel  In:  content     excel and power point presentation.\n",
            "Found Skill:  java  In:  content     java\n",
            "Found Skill:  jira  In:  content     and other testing tools like jira\n",
            "Found Skill:  able  In:  content     excellent communications skills and able to l...\n",
            "Found Skill:  html  In:  content     selenium webdriver c# ado.net sql html\n",
            "Found Skill:  jira  In:  content     java unix quality center atlassian jira mtm.\n",
            "Found Skill:  rapid  In:  content     microsoft sql server visual studio rapid sql ...\n",
            "Found Skill:  sql  In:  content     writing sql queries to validate data from dat...\n",
            "Found Skill:  sql  In:  content     a detailed hands on training of c# and sql co...\n",
            "Found Skill:  sql  In:  content     sql\n",
            "Found Skill:  sql  In:  content     sql\n"
          ],
          "name": "stdout"
        },
        {
          "output_type": "stream",
          "text": [
            " 30%|██▉       | 20657/69499 [00:21<00:51, 952.50it/s]"
          ],
          "name": "stderr"
        },
        {
          "output_type": "stream",
          "text": [
            "Found Skill:  java  In:  content     java\n",
            "Found Skill:  excel  In:  content     excel report tool\n",
            "Found Skill:  access  In:  content     access\n",
            "Found Skill:  excel  In:  content     excel\n",
            "Found Skill:  red  In:  content     red hat cloud director.\n",
            "Found Skill:  python  In:  content     aws python sdk\n",
            "Found Skill:  sql  In:  content     gcp - cloud sql\n",
            "Found Skill:  chef  In:  content     automation: chef\n",
            "Found Skill:  maven  In:  content     maven\n",
            "Found Skill:  red  In:  content     red hat cloud director.\n",
            "Found Skill:  python  In:  content     aws python sdk\n",
            "Found Skill:  sql  In:  content     gcp - cloud sql\n",
            "Found Skill:  chef  In:  content     automation: chef\n",
            "Found Skill:  maven  In:  content     maven\n",
            "Found Skill:  sql  In:  content     sql server\n"
          ],
          "name": "stdout"
        },
        {
          "output_type": "stream",
          "text": [
            " 30%|███       | 20962/69499 [00:22<00:48, 992.60it/s]"
          ],
          "name": "stderr"
        },
        {
          "output_type": "stream",
          "text": [
            "Found Skill:  chef  In:  content     chef\n",
            "Found Skill:  maven  In:  content     maven\n",
            "Found Skill:  excel  In:  content     ms office (ms excel\n",
            "Found Skill:  word  In:  content     ms word and power point).\n",
            "Found Skill:  access  In:  content     ms access\n"
          ],
          "name": "stdout"
        },
        {
          "output_type": "stream",
          "text": [
            " 30%|███       | 21160/69499 [00:22<00:49, 969.49it/s]"
          ],
          "name": "stderr"
        },
        {
          "output_type": "stream",
          "text": [
            "Found Skill:  processing  In:  content     based on network processing units (npu).\n",
            "Found Skill:  code  In:  content     - quick solution provided in rsp code for han...\n",
            "Found Skill:  code  In:  content     one of the key code reviewers in the program ...\n",
            "Found Skill:  processing  In:  content     after acquiring the processing result\n",
            "Found Skill:  c++  In:  content     software: c++\n",
            "Found Skill:  access  In:  content     access point is a special.\n",
            "Found Skill:  access  In:  content     several access points can be connected to a d...\n"
          ],
          "name": "stdout"
        },
        {
          "output_type": "stream",
          "text": [
            " 31%|███       | 21357/69499 [00:22<00:49, 972.58it/s]"
          ],
          "name": "stderr"
        },
        {
          "output_type": "stream",
          "text": [
            "Found Skill:  code  In:  content     and code the necessary changes.\n",
            "Found Skill:  processing  In:  content     hsbc electronic data processing india pvt -  ...\n"
          ],
          "name": "stdout"
        },
        {
          "output_type": "stream",
          "text": [
            " 31%|███       | 21559/69499 [00:22<00:49, 970.18it/s]"
          ],
          "name": "stderr"
        },
        {
          "output_type": "stream",
          "text": [
            "Found Skill:  c++  In:  content     c++ (less than 1 year)\n",
            "Found Skill:  css  In:  content     css (less than 1 year).\n",
            "Found Skill:  c++  In:  content     c++ and java.. .\n",
            "Found Skill:  mysql  In:  content     databases: mysql\n",
            "Found Skill:  sql  In:  content     sql server (sqlyog).\n",
            "Found Skill:  html  In:  content     web tools: html\n",
            "Found Skill:  java  In:  content     java 8 applications for login credentials wit...\n",
            "Found Skill:  excel  In:  content     excel\n",
            "Found Skill:  red  In:  content     maintenance and administration of red hat ent...\n",
            "Found Skill:  java  In:  content     core java\n",
            "Found Skill:  access "
          ],
          "name": "stdout"
        },
        {
          "output_type": "stream",
          "text": [
            " 31%|███▏      | 21760/69499 [00:22<00:48, 987.10it/s]"
          ],
          "name": "stderr"
        },
        {
          "output_type": "stream",
          "text": [
            " In:  content     two factor data access control with efficient...\n",
            "Found Skill:  sql  In:  content     sql server 2000. .\n",
            "Found Skill:  word  In:  content     microsoft office word\n",
            "Found Skill:  excel  In:  content     microsoft office excel\n",
            "Found Skill:  word  In:  content     word\n",
            "Found Skill:  pl/sql  In:  content     developed complex sql and pl/sql scripts as p...\n"
          ],
          "name": "stdout"
        },
        {
          "output_type": "stream",
          "text": [
            " 32%|███▏      | 21956/69499 [00:23<00:50, 945.40it/s]"
          ],
          "name": "stderr"
        },
        {
          "output_type": "stream",
          "text": [
            "Found Skill:  sql  In:  content     sql server.\n",
            "Found Skill:  ease  In:  content     ease license management and.\n",
            "Found Skill:  sql  In:  content     production support in sql server 2008 for lpo...\n",
            "Found Skill:  database  In:  content     running the various database updates given by...\n",
            "Found Skill:  xml  In:  content     xml etc at.\n",
            "Found Skill:  access  In:  content     monitoring and administration of user access ...\n",
            "Found Skill:  database  In:  content     monitoring database growth..\n",
            "Found Skill:  sql  In:  content     creating reports using sql scripts (querying ...\n",
            "Found Skill:  sql  In:  content     languages: sql\n",
            "Found Skill:  pl/sql  In:  content     pl/sql\n",
            "Found Skill:  sql  In:  content     working knowledge of sql server.. .\n",
            "Found Skill:  sql  In:  content     sql\n"
          ],
          "name": "stdout"
        },
        {
          "output_type": "stream",
          "text": [
            " 32%|███▏      | 22146/69499 [00:23<00:50, 946.13it/s]"
          ],
          "name": "stderr"
        },
        {
          "output_type": "stream",
          "text": [
            "Found Skill:  access  In:  content     ulm) otherwise known as access management team\n",
            "Found Skill:  sql  In:  content     performed eod activities on sql   window s ba...\n",
            "Found Skill:  sql  In:  content     performed sql   oracle db backup s and restor...\n",
            "Found Skill:  c++  In:  content     c++\n",
            "Found Skill:  mysql  In:  content     mysql\n",
            "Found Skill:  html  In:  content     scripting language html\n",
            "Found Skill:  javascript  In:  content     javascript\n",
            "Found Skill:  database  In:  content     database designing\n",
            "Found Skill:  sql  In:  content     sql server 2005.\n"
          ],
          "name": "stdout"
        },
        {
          "output_type": "stream",
          "text": [
            " 32%|███▏      | 22346/69499 [00:23<00:48, 970.32it/s]"
          ],
          "name": "stderr"
        },
        {
          "output_type": "stream",
          "text": [
            "Found Skill:  sql  In:  content     sql server\n",
            "Found Skill:  sql  In:  content     worked on gmo sql servers for troubleshooting...\n",
            "Found Skill:  sql  In:  content     sql (1 year)\n",
            "Found Skill:  html  In:  content     html (less than 1 year)\n",
            "Found Skill:  able  In:  content     i will be able to do my job.\n",
            "Found Skill:  excel  In:  content     excel (less than 1 year)\n",
            "Found Skill:  word  In:  content     word (less than 1 year).\n",
            "Found Skill:  word  In:  content     word\n",
            "Found Skill:  excel  In:  content     excel\n"
          ],
          "name": "stdout"
        },
        {
          "output_type": "stream",
          "text": [
            " 33%|███▎      | 22639/69499 [00:23<00:49, 948.16it/s]"
          ],
          "name": "stderr"
        },
        {
          "output_type": "stream",
          "text": [
            "Found Skill:  vba  In:  content     vba developer (august\n",
            "Found Skill:  sql  In:  content     ado.net and sql server for.\n",
            "Found Skill:  sql  In:  content     ado.net and sql server for clients.. used to ...\n",
            "Found Skill:  sql  In:  content     ms sql server\n",
            "Found Skill:  xml  In:  content     xml\n",
            "Found Skill:  sql  In:  content     ms sql server\n",
            "Found Skill:  xml  In:  content     xml\n",
            "Found Skill:  sql  In:  content     primarily worked in ms sql server and c#.net ...\n",
            "Found Skill:  sql  In:  content     sql server (3 years)\n",
            "Found Skill:  javascript  In:  content     javascript (6. years)\n",
            "Found Skill:  vba  In:  content     vba (2 years)\n",
            "Found Skill:  able  In:  content     in 2012 can able to save 60\n",
            "Found Skill:  code  In:  content     code for beginner to advance level programmer.\n",
            "Found Skill:  mysql  In:  content     mysql\n",
            "Found Skill:  css  In:  content     css\n",
            "Found Skill:  mysql  In:  content     mysql db setup\n",
            "Found Skill:  excel  In:  content     microsoft excel\n",
            "Found Skill:  word  In:  content     microsoft word\n",
            "Found Skill:  excel  In:  content     computer skill: microsoft excel\n",
            "Found Skill:  word  In:  content     microsoft word\n"
          ],
          "name": "stdout"
        },
        {
          "output_type": "stream",
          "text": [
            " 33%|███▎      | 22940/69499 [00:24<00:47, 980.42it/s]"
          ],
          "name": "stderr"
        },
        {
          "output_type": "stream",
          "text": [
            "Found Skill:  database  In:  content     sap database server backup in.\n",
            "Found Skill:  access  In:  content     with cctv and honeywell biometric access pro ...\n",
            "Found Skill:  access  In:  content     access points (d-link\n",
            "Found Skill:  goal  In:  content     goal oriented finance professional with a gre...\n",
            "Found Skill:  sql  In:  content     tally erp - intermediate sql\n"
          ],
          "name": "stdout"
        },
        {
          "output_type": "stream",
          "text": [
            " 33%|███▎      | 23140/69499 [00:24<00:47, 974.99it/s]"
          ],
          "name": "stderr"
        },
        {
          "output_type": "stream",
          "text": [
            "Found Skill:  access  In:  content     software access etc.).\n",
            "Found Skill:  sps  In:  content     for the expenses incurred by sps on the prope...\n",
            "Found Skill:  sps  In:  content     the state for the property foreclosed by sps ...\n",
            "Found Skill:  database  In:  content     database based on securities data provider (b...\n",
            "Found Skill:  excel  In:  content     excel (10+ years)\n",
            "Found Skill:  able  In:  content     confident and able to work on own initiative ...\n",
            "Found Skill:  word  In:  content     conversant with ms office - word\n",
            "Found Skill:  access  In:  content     access and excel..     well versed with inter...\n"
          ],
          "name": "stdout"
        },
        {
          "output_type": "stream",
          "text": [
            " 34%|███▎      | 23341/69499 [00:24<00:47, 981.64it/s]"
          ],
          "name": "stderr"
        },
        {
          "output_type": "stream",
          "text": [
            "Found Skill:  arc  In:  content     arc sight (2 years)\n",
            "Found Skill:  arc  In:  content     arc sight\n"
          ],
          "name": "stdout"
        },
        {
          "output_type": "stream",
          "text": [
            " 34%|███▍      | 23745/69499 [00:24<00:46, 992.42it/s]"
          ],
          "name": "stderr"
        },
        {
          "output_type": "stream",
          "text": [
            "Found Skill:  excel  In:  content     excel\n",
            "Found Skill:  self  In:  content     i was self employed for most part of my life ...\n",
            "Found Skill:  excel  In:  content     to excel in the field of sale and marketing a...\n",
            "Found Skill:  able  In:  content     logical and hard working in approach able to ...\n"
          ],
          "name": "stdout"
        },
        {
          "output_type": "stream",
          "text": [
            " 34%|███▍      | 23945/69499 [00:25<00:46, 982.21it/s]"
          ],
          "name": "stderr"
        },
        {
          "output_type": "stream",
          "text": [
            "Found Skill:  excel  In:  content     excel\n",
            "Found Skill:  self  In:  content     i was self employed for most part of my life ...\n"
          ],
          "name": "stdout"
        },
        {
          "output_type": "stream",
          "text": [
            " 35%|███▍      | 24245/69499 [00:25<00:46, 974.98it/s]"
          ],
          "name": "stderr"
        },
        {
          "output_type": "stream",
          "text": [
            "Found Skill:  code  In:  content     i normally do a code calling\n",
            "Found Skill:  self  In:  content     regularity and self confidence.. .\n",
            "Found Skill:  self  In:  content    hard working and self confidence kind of perso...\n"
          ],
          "name": "stdout"
        },
        {
          "output_type": "stream",
          "text": [
            " 35%|███▌      | 24540/69499 [00:25<00:46, 975.81it/s]"
          ],
          "name": "stderr"
        },
        {
          "output_type": "stream",
          "text": [
            "Found Skill:  planner  In:  content     company.. * competent planner with abilities ...\n",
            "Found Skill:  focus  In:  content     developing focus\n",
            "Found Skill:  processing  In:  content     delegated the loan processing to loan process...\n",
            "Found Skill:  processing  In:  content     guided and assisted the processing staff in t...\n",
            "Found Skill:  excel  In:  content     excel\n",
            "Found Skill:  self  In:  content     positive and self - possessed..\n"
          ],
          "name": "stdout"
        },
        {
          "output_type": "stream",
          "text": [
            " 36%|███▌      | 25058/69499 [00:26<00:44, 1000.30it/s]"
          ],
          "name": "stderr"
        },
        {
          "output_type": "stream",
          "text": [
            "Found Skill:  able  In:  content     to work in an organization where i am able to...\n",
            "Found Skill:  red  In:  content     red label.. .\n",
            "Found Skill:  self  In:  content     optimistic attitude and self confidence..    ...\n",
            "Found Skill:  self  In:  content     self motivated\n",
            "Found Skill:  self  In:  content     self employed.\n",
            "Found Skill:  database  In:  content     participated in oracle 10g database administr...\n",
            "Found Skill:  database  In:  content     oracle certified database administrator (orac...\n"
          ],
          "name": "stdout"
        },
        {
          "output_type": "stream",
          "text": [
            " 36%|███▋      | 25263/69499 [00:26<00:44, 1003.46it/s]"
          ],
          "name": "stderr"
        },
        {
          "output_type": "stream",
          "text": [
            "Found Skill:  excel  In:  content     excel (less than 1 year)\n",
            "Found Skill:  word  In:  content     ms word (less than 1. year)\n",
            "Found Skill:  word  In:  content     experience in ms word\n",
            "Found Skill:  excel  In:  content     excel\n",
            "Found Skill:  self  In:  content     self motivated (less than 1 year)\n",
            "Found Skill:  pizza  In:  content     frozen pizza in chhattisgarh\n"
          ],
          "name": "stdout"
        },
        {
          "output_type": "stream",
          "text": [
            " 37%|███▋      | 25567/69499 [00:26<00:44, 986.33it/s]"
          ],
          "name": "stderr"
        },
        {
          "output_type": "stream",
          "text": [
            "Found Skill:  excel  In:  content     basic knowledge of excel\n",
            "Found Skill:  word  In:  content     ms word\n",
            "Found Skill:  excel  In:  content     excel\n",
            "Found Skill:  focus  In:  content     customers preferences to determine focus on s...\n",
            "Found Skill:  database  In:  content     managing   organizing database of (client)\n"
          ],
          "name": "stdout"
        },
        {
          "output_type": "stream",
          "text": [
            " 38%|███▊      | 26192/69499 [00:27<00:41, 1037.78it/s]"
          ],
          "name": "stderr"
        },
        {
          "output_type": "stream",
          "text": [
            "Found Skill:  scheme  In:  content     besides implanting promotional scheme and event.\n",
            "Found Skill:  database  In:  content     build strong database of customers.\n",
            "Found Skill:  excel  In:  content     good in excel\n"
          ],
          "name": "stdout"
        },
        {
          "output_type": "stream",
          "text": [
            " 38%|███▊      | 26398/69499 [00:27<00:43, 996.70it/s] "
          ],
          "name": "stderr"
        },
        {
          "output_type": "stream",
          "text": [
            "Found Skill:  focus  In:  content     strategic planning     focus group   market r...\n",
            "Found Skill:  goal  In:  content     achieved projected sales goal monthly.\n"
          ],
          "name": "stdout"
        },
        {
          "output_type": "stream",
          "text": [
            " 39%|███▊      | 26813/69499 [00:28<00:41, 1025.71it/s]"
          ],
          "name": "stderr"
        },
        {
          "output_type": "stream",
          "text": [
            "Found Skill:  excel  In:  content     excel (less than 1 year)\n",
            "Found Skill:  word  In:  content     ms. word (less than 1 year)\n"
          ],
          "name": "stdout"
        },
        {
          "output_type": "stream",
          "text": [
            " 39%|███▉      | 27018/69499 [00:28<00:42, 1004.19it/s]"
          ],
          "name": "stderr"
        },
        {
          "output_type": "stream",
          "text": [
            "Found Skill:  focus  In:  content     focus on customer satisfaction and needs\n",
            "Found Skill:  focus  In:  content     focus on customer satisfaction and needs\n",
            "Found Skill:  charity  In:  content     applications to the charity commissioner.\n",
            "Found Skill:  foxpro  In:  content     foxpro (less than 1 year)\n"
          ],
          "name": "stdout"
        },
        {
          "output_type": "stream",
          "text": [
            " 39%|███▉      | 27322/69499 [00:28<00:42, 1002.93it/s]"
          ],
          "name": "stderr"
        },
        {
          "output_type": "stream",
          "text": [
            "Found Skill:  database  In:  content     handling customer database and looking after ...\n",
            "Found Skill:  database  In:  content     database (2 years)\n",
            "Found Skill:  excel  In:  content    excel\n",
            "Found Skill:  excel  In:  content     excel (less than 1 year)\n",
            "Found Skill:  word  In:  content     ms word (less than 1. year)\n",
            "Found Skill:  word  In:  content     experience in ms word\n",
            "Found Skill:  excel  In:  content     excel\n",
            "Found Skill:  word  In:  content     word and excel and besic (3 years).\n"
          ],
          "name": "stdout"
        },
        {
          "output_type": "stream",
          "text": [
            " 40%|███▉      | 27523/69499 [00:28<00:42, 976.98it/s]"
          ],
          "name": "stderr"
        },
        {
          "output_type": "stream",
          "text": [
            "Found Skill:  excel  In:  content    excel\n",
            "Found Skill:  excel  In:  content     excel (2 years)\n",
            "Found Skill:  word  In:  content     word (2 years).\n"
          ],
          "name": "stdout"
        },
        {
          "output_type": "stream",
          "text": [
            " 40%|███▉      | 27733/69499 [00:28<00:41, 1011.93it/s]"
          ],
          "name": "stderr"
        },
        {
          "output_type": "stream",
          "text": [
            "Found Skill:  goal  In:  content     my goal is to become an associated with a com...\n",
            "Found Skill:  self  In:  content     self directed\n",
            "Found Skill:  focus  In:  content     focus on building brands\n",
            "Found Skill:  rapid  In:  content     rapid account expansion   widening distributi...\n"
          ],
          "name": "stdout"
        },
        {
          "output_type": "stream",
          "text": [
            " 40%|████      | 28036/69499 [00:29<00:41, 996.86it/s]"
          ],
          "name": "stderr"
        },
        {
          "output_type": "stream",
          "text": [
            "Found Skill:  small  In:  content     across products with a small team of 2 sales ...\n",
            "Found Skill:  focus  In:  content     revenue and p  l focus to the tune of 30 lacs...\n",
            "Found Skill:  database  In:  content     handling customer database and looking after ...\n",
            "Found Skill:  database  In:  content     database (2 years)\n"
          ],
          "name": "stdout"
        },
        {
          "output_type": "stream",
          "text": [
            " 41%|████      | 28341/69499 [00:29<00:41, 995.97it/s]"
          ],
          "name": "stderr"
        },
        {
          "output_type": "stream",
          "text": [
            "Found Skill:  mouse  In:  content     mouse etc.. .\n",
            "Found Skill:  excel  In:  content     excel (4 years).\n",
            "Found Skill:  c++  In:  content     c++ (less than 1 year)\n",
            "Found Skill:  excel  In:  content     excel (less than 1 year)\n",
            "Found Skill:  word  In:  content     ms word (less than 1 year)\n",
            "Found Skill:  word  In:  content     word (less than 1 year).\n",
            "Found Skill:  word  In:  content     it skills-ms word\n",
            "Found Skill:  excel  In:  content     excel and powerpoint.\n",
            "Found Skill:  excel  In:  content     strong determination and to excel in the in i...\n"
          ],
          "name": "stdout"
        },
        {
          "output_type": "stream",
          "text": [
            " 41%|████      | 28641/69499 [00:29<00:41, 987.04it/s]"
          ],
          "name": "stderr"
        },
        {
          "output_type": "stream",
          "text": [
            "Found Skill:  code  In:  content     i normally do a code calling\n",
            "Found Skill:  self  In:  content     regularity and self confidence.. .\n",
            "Found Skill:  self  In:  content    hard working and self confidence kind of perso...\n",
            "Found Skill:  java  In:  content     java\n",
            "Found Skill:  javascript  In:  content     javascript\n",
            "Found Skill:  spin  In:  content     - spin selling.\n"
          ],
          "name": "stdout"
        },
        {
          "output_type": "stream",
          "text": [
            " 42%|████▏     | 28846/69499 [00:30<00:40, 1005.54it/s]"
          ],
          "name": "stderr"
        },
        {
          "output_type": "stream",
          "text": [
            "Found Skill:  able  In:  content     able to exceed sales goals consistently.\n",
            "Found Skill:  tie  In:  content     merger   tie ups with pathology labs.\n",
            "Found Skill:  rpg  In:  content     rpg life sciences ltd -  mumbai\n",
            "Found Skill:  focus  In:  content     managing business development with focus on t...\n"
          ],
          "name": "stdout"
        },
        {
          "output_type": "stream",
          "text": [
            " 42%|████▏     | 29359/69499 [00:30<00:39, 1007.78it/s]"
          ],
          "name": "stderr"
        },
        {
          "output_type": "stream",
          "text": [
            "Found Skill:  processing  In:  content     the ordering and processing of goods and pape...\n"
          ],
          "name": "stdout"
        },
        {
          "output_type": "stream",
          "text": [
            " 43%|████▎     | 29663/69499 [00:30<00:40, 993.19it/s]"
          ],
          "name": "stderr"
        },
        {
          "output_type": "stream",
          "text": [
            "Found Skill:  able  In:  content     able to tailor pitch the product according to...\n",
            "Found Skill:  chain  In:  content     designated as the second in the chain of comm...\n"
          ],
          "name": "stdout"
        },
        {
          "output_type": "stream",
          "text": [
            " 43%|████▎     | 29974/69499 [00:31<00:38, 1023.09it/s]"
          ],
          "name": "stderr"
        },
        {
          "output_type": "stream",
          "text": [
            "Found Skill:  excel  In:  content     excel\n",
            "Found Skill:  portable  In:  content     portable axle weighing systems which is used ...\n",
            "Found Skill:  metal  In:  content     needs of the metal welding 7cutting industry.. .\n",
            "Found Skill:  c++  In:  content     c++ (less than 1 year)\n"
          ],
          "name": "stdout"
        },
        {
          "output_type": "stream",
          "text": [
            " 44%|████▎     | 30282/69499 [00:31<00:38, 1009.68it/s]"
          ],
          "name": "stderr"
        },
        {
          "output_type": "stream",
          "text": [
            "Found Skill:  scratch  In:  content     significantly started business with scratch i...\n",
            "Found Skill:  beta  In:  content     sales and marketing of beta series alarm annu...\n",
            "Found Skill:  tie  In:  content     doing tie ups with the organizations for long...\n"
          ],
          "name": "stdout"
        },
        {
          "output_type": "stream",
          "text": [
            " 44%|████▍     | 30585/69499 [00:31<00:39, 985.66it/s]"
          ],
          "name": "stderr"
        },
        {
          "output_type": "stream",
          "text": [
            "Found Skill:  span  In:  content     2 crores in just a span of a month.. .\n",
            "Found Skill:  plus  In:  content     plus produce fulfillment.\n",
            "Found Skill:  focus  In:  content     focus to be make maximum cabs to be on road..\n",
            "Found Skill:  able  In:  content     train fc effectively and make them able to un...\n"
          ],
          "name": "stdout"
        },
        {
          "output_type": "stream",
          "text": [
            " 44%|████▍     | 30789/69499 [00:31<00:38, 999.74it/s]"
          ],
          "name": "stderr"
        },
        {
          "output_type": "stream",
          "text": [
            "Found Skill:  chain  In:  content     coordinated with branch supply chain manageme...\n",
            "Found Skill:  scratch  In:  content     establishing new stores from scratch through ...\n"
          ],
          "name": "stdout"
        },
        {
          "output_type": "stream",
          "text": [
            " 45%|████▍     | 31104/69499 [00:32<00:37, 1031.51it/s]"
          ],
          "name": "stderr"
        },
        {
          "output_type": "stream",
          "text": [
            "Found Skill:  excel  In:  content     excel (less than 1 year)\n",
            "Found Skill:  word  In:  content     ms word (less than 1 year)\n",
            "Found Skill:  word  In:  content     word (less.\n",
            "Found Skill:  word  In:  content     it skills: well versed with ms word\n",
            "Found Skill:  excel  In:  content     excel\n"
          ],
          "name": "stdout"
        },
        {
          "output_type": "stream",
          "text": [
            " 45%|████▌     | 31418/69499 [00:32<00:36, 1032.60it/s]"
          ],
          "name": "stderr"
        },
        {
          "output_type": "stream",
          "text": [
            "Found Skill:  database  In:  content     product/services - financial database (capita...\n"
          ],
          "name": "stdout"
        },
        {
          "output_type": "stream",
          "text": [
            " 46%|████▌     | 31938/69499 [00:33<00:37, 1011.50it/s]"
          ],
          "name": "stderr"
        },
        {
          "output_type": "stream",
          "text": [
            "Found Skill:  c++  In:  content     basics of c++\n",
            "Found Skill:  word  In:  content     word 2010.\n",
            "Found Skill:  excel  In:  content     excel 2010.\n",
            "Found Skill:  scratch  In:  content     o established a new unit from scratch to team...\n",
            "Found Skill:  self  In:  content     self -discipline.\n"
          ],
          "name": "stdout"
        },
        {
          "output_type": "stream",
          "text": [
            " 46%|████▋     | 32147/69499 [00:33<00:36, 1024.77it/s]"
          ],
          "name": "stderr"
        },
        {
          "output_type": "stream",
          "text": [
            "Found Skill:  focus  In:  content     operational excellence and customer focus are...\n",
            "Found Skill:  gap  In:  content     identifying the gap area and accordingly exec...\n"
          ],
          "name": "stdout"
        },
        {
          "output_type": "stream",
          "text": [
            " 47%|████▋     | 32664/69499 [00:33<00:36, 997.82it/s] "
          ],
          "name": "stderr"
        },
        {
          "output_type": "stream",
          "text": [
            "Found Skill:  able  In:  content     able to uphold and respect procurement ethics...\n",
            "Found Skill:  able  In:  content     flexibity and honesty.. be willing and able t...\n",
            "Found Skill:  able  In:  content     who is able to plan and manage his own work\n",
            "Found Skill:  able  In:  content     deadlines.. be able to work in a multicultura...\n",
            "Found Skill:  pure  In:  content     certified: 100  pure kiwi specialist\n"
          ],
          "name": "stdout"
        },
        {
          "output_type": "stream",
          "text": [
            " 47%|████▋     | 32865/69499 [00:34<00:37, 989.14it/s]"
          ],
          "name": "stderr"
        },
        {
          "output_type": "stream",
          "text": [
            "Found Skill:  excel  In:  content     excel (less than 1 year)\n",
            "Found Skill:  excel  In:  content     ms excel (less than 1 year)\n",
            "Found Skill:  word  In:  content     ms word\n",
            "Found Skill:  excel  In:  content     ms excel\n",
            "Found Skill:  max  In:  content     max erectors (india) ltd -  pune\n",
            "Found Skill:  self  In:  content     self motivated (less than 1 year)\n"
          ],
          "name": "stdout"
        },
        {
          "output_type": "stream",
          "text": [
            " 48%|████▊     | 33067/69499 [00:34<00:36, 985.77it/s]"
          ],
          "name": "stderr"
        },
        {
          "output_type": "stream",
          "text": [
            "Found Skill:  database  In:  content     database marketing on various real estate pro...\n",
            "Found Skill:  database  In:  content     generated database of 1200+ clients through p...\n",
            "Found Skill:  goal  In:  content     dynamic goal oriented personality with degree...\n",
            "Found Skill:  mouse  In:  content     mouse etc.. .\n"
          ],
          "name": "stdout"
        },
        {
          "output_type": "stream",
          "text": [
            " 48%|████▊     | 33272/69499 [00:34<00:36, 1004.93it/s]"
          ],
          "name": "stderr"
        },
        {
          "output_type": "stream",
          "text": [
            "Found Skill:  plus  In:  content     over 13 plus years of experience in mep systems.\n"
          ],
          "name": "stdout"
        },
        {
          "output_type": "stream",
          "text": [
            " 48%|████▊     | 33575/69499 [00:34<00:36, 986.03it/s]"
          ],
          "name": "stderr"
        },
        {
          "output_type": "stream",
          "text": [
            "Found Skill:  mouse  In:  content     mouse etc.. .\n",
            "Found Skill:  self  In:  content     self -discipline.\n",
            "Found Skill:  scheme  In:  content     scheme town wise\n",
            "Found Skill:  able  In:  content     my cluster i am able to maintain 40  in all p...\n",
            "Found Skill:  scheme  In:  content     promotional scheme\n",
            "Found Skill:  able  In:  content     able to establish luminous appliances\n",
            "Found Skill:  scheme  In:  content     promotional scheme\n"
          ],
          "name": "stdout"
        },
        {
          "output_type": "stream",
          "text": [
            " 49%|████▉     | 33882/69499 [00:35<00:35, 1007.87it/s]"
          ],
          "name": "stderr"
        },
        {
          "output_type": "stream",
          "text": [
            "Found Skill:  cobra  In:  content     cobra beer.\n",
            "Found Skill:  chain  In:  content     chain needs for long term value creation..\n",
            "Found Skill:  spin  In:  content     spin techniques by huthwaite\n"
          ],
          "name": "stdout"
        },
        {
          "output_type": "stream",
          "text": [
            " 49%|████▉     | 34184/69499 [00:35<00:35, 994.38it/s]"
          ],
          "name": "stderr"
        },
        {
          "output_type": "stream",
          "text": [
            "Found Skill:  focus  In:  content     * strong customer focus and service orientati...\n",
            "Found Skill:  able  In:  content     * able to make rapid assessments and quickly ...\n",
            "Found Skill:  self  In:  content     a self driven and self motivated top performi...\n",
            "Found Skill:  chain  In:  content     chain\n"
          ],
          "name": "stdout"
        },
        {
          "output_type": "stream",
          "text": [
            " 50%|████▉     | 34485/69499 [00:35<00:35, 993.28it/s]"
          ],
          "name": "stderr"
        },
        {
          "output_type": "stream",
          "text": [
            "Found Skill:  word  In:  content     word\n",
            "Found Skill:  sql  In:  content     sybase sql server\n",
            "Found Skill:  c++  In:  content     c++ programming\n",
            "Found Skill:  excel  In:  content     excel (less than 1 year)\n",
            "Found Skill:  word  In:  content     ms. word (less than 1 year)\n",
            "Found Skill:  excel  In:  content     excel (less than 1 year)\n"
          ],
          "name": "stdout"
        },
        {
          "output_type": "stream",
          "text": [
            " 50%|████▉     | 34683/69499 [00:35<00:35, 977.46it/s]"
          ],
          "name": "stderr"
        },
        {
          "output_type": "stream",
          "text": [
            "Found Skill:  word  In:  content     ms word (less than 1 year)\n",
            "Found Skill:  word  In:  content     word (less than 1 year).\n",
            "Found Skill:  word  In:  content     well versed with ms word\n",
            "Found Skill:  excel  In:  content     excel  power point.\n",
            "Found Skill:  excel  In:  content     teams to excel and win.\n"
          ],
          "name": "stdout"
        },
        {
          "output_type": "stream",
          "text": [
            " 50%|█████     | 34880/69499 [00:36<00:35, 978.74it/s]"
          ],
          "name": "stderr"
        },
        {
          "output_type": "stream",
          "text": [
            "Found Skill:  grass  In:  content     supported grass roots effort to centralize em...\n",
            "Found Skill:  excel  In:  content     excel   powerpoint) and internet applications.\n",
            "Found Skill:  c++  In:  content     c++\n",
            "Found Skill:  java  In:  content     java\n",
            "Found Skill:  database  In:  content     database : ms- access.\n"
          ],
          "name": "stdout"
        },
        {
          "output_type": "stream",
          "text": [
            " 51%|█████     | 35178/69499 [00:36<00:34, 981.67it/s]"
          ],
          "name": "stderr"
        },
        {
          "output_type": "stream",
          "text": [
            "Found Skill:  processing  In:  content     experience in processing account transactions\n",
            "Found Skill:  excel  In:  content     excel (less than 1 year)\n",
            "Found Skill:  excel  In:  content     microsoft excel (less than 1 year)\n",
            "Found Skill:  word  In:  content     microsoft word (less than 1 year).\n",
            "Found Skill:  word  In:  content     technical skills: proficient in microsoft word\n",
            "Found Skill:  excel  In:  content     microsoft excel\n"
          ],
          "name": "stdout"
        },
        {
          "output_type": "stream",
          "text": [
            " 51%|█████     | 35482/69499 [00:36<00:34, 997.35it/s]"
          ],
          "name": "stderr"
        },
        {
          "output_type": "stream",
          "text": [
            "Found Skill:  database  In:  content     maintain customer/ client database and market...\n",
            "Found Skill:  database  In:  content     maintain customer/ client database and market...\n",
            "Found Skill:  goal  In:  content     goal setting\n",
            "Found Skill:  chain  In:  content     as a whole in a chain process with all the se...\n",
            "Found Skill:  chain  In:  content     as a whole in a chain process with all the se...\n"
          ],
          "name": "stdout"
        },
        {
          "output_type": "stream",
          "text": [
            " 51%|█████▏    | 35680/69499 [00:36<00:35, 964.53it/s]"
          ],
          "name": "stderr"
        },
        {
          "output_type": "stream",
          "text": [
            "Found Skill:  focus  In:  content     and building brand focus in conjunction with ...\n",
            "Found Skill:  focus  In:  content     major focus on ntpc\n",
            "Found Skill:  metal  In:  content     having robust design of metal seated ball.\n",
            "Found Skill:  metal  In:  content     selection of metal seated ball valve\n",
            "Found Skill:  metal  In:  content     assembly and disassembly of metal seated ball...\n",
            "Found Skill:  excel  In:  content     excel (less than 1 year)\n"
          ],
          "name": "stdout"
        },
        {
          "output_type": "stream",
          "text": [
            " 52%|█████▏    | 35989/69499 [00:37<00:33, 1006.37it/s]"
          ],
          "name": "stderr"
        },
        {
          "output_type": "stream",
          "text": [
            "Found Skill:  word  In:  content     ms word\n",
            "Found Skill:  excel  In:  content     ms excel\n"
          ],
          "name": "stdout"
        },
        {
          "output_type": "stream",
          "text": [
            " 52%|█████▏    | 36297/69499 [00:37<00:32, 1015.33it/s]"
          ],
          "name": "stderr"
        },
        {
          "output_type": "stream",
          "text": [
            "Found Skill:  pure  In:  content     pure health products ltd -.\n",
            "Found Skill:  gap  In:  content     gap analysis and price leadership tracking of...\n",
            "Found Skill:  code  In:  content     vendor code creation process for seller marke...\n"
          ],
          "name": "stdout"
        },
        {
          "output_type": "stream",
          "text": [
            " 53%|█████▎    | 36598/69499 [00:37<00:33, 975.82it/s]"
          ],
          "name": "stderr"
        },
        {
          "output_type": "stream",
          "text": [
            "Found Skill:  chain  In:  content     distinction of establishing separate chain of...\n",
            "Found Skill:  tie  In:  content     has made the tie up with govt.\n"
          ],
          "name": "stdout"
        },
        {
          "output_type": "stream",
          "text": [
            " 53%|█████▎    | 36904/69499 [00:38<00:32, 996.83it/s]"
          ],
          "name": "stderr"
        },
        {
          "output_type": "stream",
          "text": [
            "Found Skill:  plus  In:  content     for 3000 plus insurance agents of life insura...\n",
            "Found Skill:  goal  In:  content     using google analytics for goal set -up\n"
          ],
          "name": "stdout"
        },
        {
          "output_type": "stream",
          "text": [
            " 53%|█████▎    | 37104/69499 [00:38<00:33, 975.63it/s]"
          ],
          "name": "stderr"
        },
        {
          "output_type": "stream",
          "text": [
            "Found Skill:  excel  In:  content     excel (less than 1 year)\n",
            "Found Skill:  word  In:  content     ms word (less than 1 year)\n",
            "Found Skill:  word  In:  content     word (less than 1 year).\n",
            "Found Skill:  word  In:  content     well versed with ms word\n",
            "Found Skill:  excel  In:  content     excel  power point.\n",
            "Found Skill:  abc  In:  content     abc bearings ltd\n",
            "Found Skill:  powerhouse  In:  content     ador welding limited is a welding powerhouse ...\n"
          ],
          "name": "stdout"
        },
        {
          "output_type": "stream",
          "text": [
            " 54%|█████▎    | 37304/69499 [00:38<00:32, 984.67it/s]"
          ],
          "name": "stderr"
        },
        {
          "output_type": "stream",
          "text": [
            "Found Skill:  gap  In:  content     fdd gap customization testing.\n",
            "Found Skill:  gap  In:  content     fdd gap customization testing.\n",
            "Found Skill:  gap  In:  content     identification of the gap s which were not ad...\n",
            "Found Skill:  sql  In:  content     databases sql server.\n",
            "Found Skill:  arc  In:  content     customer arc distributors.\n",
            "Found Skill:  excel  In:  content     strong determination and to excel in the in i...\n"
          ],
          "name": "stdout"
        },
        {
          "output_type": "stream",
          "text": [
            " 54%|█████▍    | 37610/69499 [00:38<00:32, 976.51it/s] "
          ],
          "name": "stderr"
        },
        {
          "output_type": "stream",
          "text": [
            "Found Skill:  chain  In:  content     planning   setting up the restaurant chain an...\n",
            "Found Skill:  planner  In:  content     wedding planner - emars events   shows pvt.\n",
            "Found Skill:  mouse  In:  content     disney mickey mouse carnival.\n"
          ],
          "name": "stdout"
        },
        {
          "output_type": "stream",
          "text": [
            " 55%|█████▍    | 37914/69499 [00:39<00:32, 985.45it/s]"
          ],
          "name": "stderr"
        },
        {
          "output_type": "stream",
          "text": [
            "Found Skill:  excel  In:  content     excel\n",
            "Found Skill:  excel  In:  content     excel (less than 1 year)\n",
            "Found Skill:  word  In:  content     microsoft word (less than 1 year)\n",
            "Found Skill:  excel  In:  content     excel\n",
            "Found Skill:  access  In:  content     access and.\n",
            "Found Skill:  database  In:  content     database (less than 1 year)\n",
            "Found Skill:  database  In:  content     database management (less than 1 year)\n",
            "Found Skill:  database  In:  content     database management system (less than 1 year)\n",
            "Found Skill:  java  In:  content     java (less than 1 year).\n",
            "Found Skill:  c++  In:  content     c++\n",
            "Found Skill:  database  In:  content     database management system.\n",
            "Found Skill:  database  In:  content     database (less than 1 year)\n"
          ],
          "name": "stdout"
        },
        {
          "output_type": "stream",
          "text": [
            "\r 55%|█████▍    | 38013/69499 [00:39<00:33, 943.73it/s]"
          ],
          "name": "stderr"
        },
        {
          "output_type": "stream",
          "text": [
            "Found Skill:  html  In:  content     html (less than 1 year)\n",
            "Found Skill:  access  In:  content     access (less than 1 year)\n",
            "Found Skill:  c++  In:  content     c++\n",
            "Found Skill:  java  In:  content     java\n",
            "Found Skill:  .net  In:  content     .net\n",
            "Found Skill:  html  In:  content     web designing: html\n",
            "Found Skill:  access  In:  content     database: ms access\n",
            "Found Skill:  sql  In:  content     ms sql server 2008\n",
            "Found Skill:  processing  In:  content     maintained data processing using mainframe te...\n",
            "Found Skill:  cobol  In:  content     cobol (3 years)\n",
            "Found Skill:  jcl  In:  content     jcl (3 years)\n",
            "Found Skill:  jcl  In:  content     jcl\n",
            "Found Skill:  database  In:  content     database - db2\n",
            "Found Skill:  sql  In:  content     sql\n",
            "Found Skill:  sql  In:  content     sql assistant\n",
            "Found Skill:  sql  In:  content     having 3.5 years of it experience in sql data...\n",
            "Found Skill:  sql  In:  content     development   support of ms sql servers in pr...\n",
            "Found Skill:  database  In:  content     working experience with relational database s...\n",
            "Found Skill:  sql  In:  content     maintenance and administration of sql server..\n",
            "Found Skill:  sql  In:  content     experience in upgrading sql server..     good...\n",
            "Found Skill:  database  In:  content     high availability of database servers using.\n",
            "Found Skill:  database  In:  content     database mirroring and replications and log s...\n",
            "Found Skill:  sql  In:  content     experience in implementing sql server securit...\n",
            "Found Skill:  database  In:  content     database authentication modes\n",
            "Found Skill:  sql  In:  content     sql mail agent.\n",
            "Found Skill:  sql  In:  content     sql profiler and optimizing the queries\n",
            "Found Skill:  sql  In:  content     having 3.5 years of it experience in sql data...\n",
            "Found Skill:  sql  In:  content     development   support of ms sql servers in pr...\n"
          ],
          "name": "stdout"
        },
        {
          "output_type": "stream",
          "text": [
            " 55%|█████▍    | 38198/69499 [00:39<00:36, 858.02it/s]"
          ],
          "name": "stderr"
        },
        {
          "output_type": "stream",
          "text": [
            "Found Skill:  database  In:  content     working experience with relational database s...\n",
            "Found Skill:  sql  In:  content     maintenance and administration of sql server.\n",
            "Found Skill:  sql  In:  content     experience in upgrading sql server..     good...\n",
            "Found Skill:  database  In:  content     high availability of database servers using.\n",
            "Found Skill:  database  In:  content     database mirroring and replications and log s...\n",
            "Found Skill:  sql  In:  content     experience in implementing sql server securit...\n",
            "Found Skill:  database  In:  content     database authentication modes\n",
            "Found Skill:  database  In:  content     responsible for database support\n",
            "Found Skill:  sql  In:  content     based on sql 2000 in upgrade project to sql 2...\n",
            "Found Skill:  database  In:  content     monitoring of database size and disk space in...\n",
            "Found Skill:  sql  In:  content     performed installation of sql enterprise 2005...\n",
            "Found Skill:  sql  In:  content     conducted performance tuning using sql profil...\n",
            "Found Skill:  sql  In:  content     installing sql server clients\n",
            "Found Skill:  sql  In:  content     performed installation of sql server service ...\n",
            "Found Skill:  sql  In:  content     upgraded databases from sql server 2000 to sq...\n",
            "Found Skill:  database  In:  content     improved the database server performance..   ...\n",
            "Found Skill:  sql  In:  content     installing sql server clients\n",
            "Found Skill:  sql  In:  content     performed installation of sql server service ...\n",
            "Found Skill:  sql  In:  content     upgraded databases from sql server 2000 to sq...\n",
            "Found Skill:  database  In:  content     the database server performance..     used sq...\n",
            "Found Skill:  sql  In:  content     installing sql server clients\n",
            "Found Skill:  database  In:  content     database (3 years)\n",
            "Found Skill:  sql  In:  content     sql (3 years)\n",
            "Found Skill:  sql  In:  content     sql dba.\n",
            "Found Skill:  database  In:  content     database tool: sql management studio (mssql)\n",
            "Found Skill:  database  In:  content     database language: sql\n",
            "Found Skill:  c++  In:  content     c++\n",
            "Found Skill:  pl/sql  In:  content     pl/sql\n"
          ],
          "name": "stdout"
        },
        {
          "output_type": "stream",
          "text": [
            " 55%|█████▌    | 38385/69499 [00:39<00:34, 891.24it/s]"
          ],
          "name": "stderr"
        },
        {
          "output_type": "stream",
          "text": [
            "Found Skill:  access  In:  content     access (less than 1 year)\n",
            "Found Skill:  c++  In:  content     c++\n",
            "Found Skill:  java  In:  content     java (j2ee)\n",
            "Found Skill:  java  In:  content     java script\n",
            "Found Skill:  java  In:  content     front-end: java (j2ee)\n",
            "Found Skill:  html  In:  content     language: html and asp.\n",
            "Found Skill:  unity  In:  content     unity\n",
            "Found Skill:  spark  In:  content     apache spark and scala.. iaas implementation:...\n",
            "Found Skill:  natural  In:  content     identifying spam messages using natural langu...\n",
            "Found Skill:  java  In:  content     java (1 year)\n",
            "Found Skill:  c++  In:  content     c++ (less than 1 year)\n",
            "Found Skill:  css  In:  content     css (less than 1 year).\n",
            "Found Skill:  c++  In:  content     c++\n",
            "Found Skill:  java  In:  content     java\n",
            "Found Skill:  python  In:  content     python\n",
            "Found Skill:  mysql  In:  content     mysql\n",
            "Found Skill:  spark  In:  content     hadoop and spark\n",
            "Found Skill:  self  In:  content     pro active and self starter with the great ab...\n",
            "Found Skill:  able  In:  content     able to handle multiple projects under tight ...\n",
            "Found Skill:  able  In:  content     able to develop excellent rapport with peers\n"
          ],
          "name": "stdout"
        },
        {
          "output_type": "stream",
          "text": [
            " 56%|█████▌    | 38672/69499 [00:40<00:33, 930.65it/s]"
          ],
          "name": "stderr"
        },
        {
          "output_type": "stream",
          "text": [
            "Found Skill:  able  In:  content     able to coordinate with different support tea...\n",
            "Found Skill:  able  In:  content     able to manage teams as per sops (standard op...\n",
            "Found Skill:  goal  In:  content     work allocation   goal setting and performanc...\n",
            "Found Skill:  creo  In:  content     creo (less than 1 year)\n",
            "Found Skill:  python  In:  content     python (less than 1 year)\n",
            "Found Skill:  creo  In:  content     creo parametric 2.0\n",
            "Found Skill:  able  In:  content     able to handle complex situation under process.\n",
            "Found Skill:  java  In:  content     expertise in java\n",
            "Found Skill:  php  In:  content     php\n",
            "Found Skill:  javascript  In:  content     javascript\n"
          ],
          "name": "stdout"
        },
        {
          "output_type": "stream",
          "text": [
            " 56%|█████▌    | 38859/69499 [00:40<00:34, 881.48it/s]"
          ],
          "name": "stderr"
        },
        {
          "output_type": "stream",
          "text": [
            "Found Skill:  java  In:  content     environment: java 1.8\n",
            "Found Skill:  sql  In:  content     sql server\n",
            "Found Skill:  maven  In:  content     maven\n",
            "Found Skill:  jira  In:  content     jira\n",
            "Found Skill:  database  In:  content     mining and preserve into database as report g...\n",
            "Found Skill:  sql  In:  content     it into sql server.\n",
            "Found Skill:  java  In:  content     environment: java 1.8\n",
            "Found Skill:  php  In:  content     php\n",
            "Found Skill:  css  In:  content     css\n",
            "Found Skill:  mysql  In:  content     mysql\n",
            "Found Skill:  maven  In:  content     maven\n",
            "Found Skill:  jira  In:  content     jira\n",
            "Found Skill:  php  In:  content     developed php backend services.\n",
            "Found Skill:  java  In:  content     environment: java 1.8\n",
            "Found Skill:  mysql  In:  content     mysql\n",
            "Found Skill:  maven  In:  content     maven\n",
            "Found Skill:  jira  In:  content     jira\n",
            "Found Skill:  sql  In:  content     it into sql server.\n",
            "Found Skill:  database  In:  content     database (less than 1 year)\n",
            "Found Skill:  java  In:  content     java (less than 1 year)\n",
            "Found Skill:  jira  In:  content     jira (less than 1. year)\n",
            "Found Skill:  java  In:  content     programming languages: java   j2ee\n",
            "Found Skill:  php  In:  content     php\n",
            "Found Skill:  junit  In:  content     junit\n",
            "Found Skill:  mysql  In:  content     database: mysql\n",
            "Found Skill:  sql  In:  content     sql server\n",
            "Found Skill:  jira  In:  content     jira\n",
            "Found Skill:  code  In:  content     code generation tools.\n",
            "Found Skill:  processing  In:  content     invoice processing\n"
          ],
          "name": "stdout"
        },
        {
          "output_type": "stream",
          "text": [
            " 56%|█████▋    | 39169/69499 [00:40<00:31, 975.62it/s]"
          ],
          "name": "stderr"
        },
        {
          "output_type": "stream",
          "text": [
            "Found Skill:  goal  In:  content     * goal oriented   self motivated.\n",
            "Found Skill:  css  In:  content     css (less than 1 year)\n",
            "Found Skill:  database  In:  content     and database update.\n",
            "Found Skill:  excel  In:  content     excel (less than 1 year)\n",
            "Found Skill:  excel  In:  content     ms excel (less than 1 year)\n",
            "Found Skill:  excel  In:  content     computer skills: ms excel\n",
            "Found Skill:  scheme  In:  content     project title: education loan scheme in credi...\n",
            "Found Skill:  java  In:  content     java web projects\n"
          ],
          "name": "stdout"
        },
        {
          "output_type": "stream",
          "text": [
            " 57%|█████▋    | 39362/69499 [00:40<00:33, 890.83it/s]"
          ],
          "name": "stderr"
        },
        {
          "output_type": "stream",
          "text": [
            "Found Skill:  cucumber  In:  content     cucumber\n",
            "Found Skill:  java  In:  content     java\n",
            "Found Skill:  junit  In:  content     junit\n",
            "Found Skill:  jira  In:  content     jira\n",
            "Found Skill:  maven  In:  content     maven\n",
            "Found Skill:  sql  In:  content     sql\n",
            "Found Skill:  junit  In:  content     junit\n",
            "Found Skill:  java  In:  content     and leading java projects.\n",
            "Found Skill:  cucumber  In:  content     solid experience on selenium using cucumber a...\n",
            "Found Skill:  sql  In:  content     proven skills in sql\n",
            "Found Skill:  sql  In:  content     expertise in writing sql queries\n",
            "Found Skill:  database  In:  content     sql scripts and performing database testing.\n",
            "Found Skill:  java  In:  content     java\n",
            "Found Skill:  java  In:  content     java\n",
            "Found Skill:  cucumber  In:  content     cucumber\n",
            "Found Skill:  java  In:  content     java\n",
            "Found Skill:  excel  In:  content     test data from excel files and sql.\n",
            "Found Skill:  maven  In:  content     databases..     configured maven for java aut...\n",
            "Found Skill:  cucumber  In:  content     developed bdd tests using cucumber by writing...\n",
            "Found Skill:  code  In:  content     required selenium support code in java for cu...\n",
            "Found Skill:  database  In:  content     queried database and generated test reports.\n",
            "Found Skill:  database  In:  content     purchase orders database testing by developin...\n",
            "Found Skill:  jira  In:  content     jira api..\n",
            "Found Skill:  jira  In:  content     jira reports..\n",
            "Found Skill:  maven  In:  content     maven\n",
            "Found Skill:  java  In:  content     java\n",
            "Found Skill:  jira  In:  content     jira\n",
            "Found Skill:  sql  In:  content     sql\n",
            "Found Skill:  natural  In:  content     determined that moving away from the natural ...\n",
            "Found Skill:  java  In:  content     developed hybrid automation framework java by...\n",
            "Found Skill:  java  In:  content     developed 7 java class libraries\n",
            "Found Skill:  xml  In:  content     16 junit test scripts to test xml build data ...\n",
            "Found Skill:  sql  In:  content     using sql queries..\n"
          ],
          "name": "stdout"
        },
        {
          "output_type": "stream",
          "text": [
            " 57%|█████▋    | 39545/69499 [00:40<00:34, 877.68it/s]"
          ],
          "name": "stderr"
        },
        {
          "output_type": "stream",
          "text": [
            "Found Skill:  java  In:  content     java\n",
            "Found Skill:  junit  In:  content     junit\n",
            "Found Skill:  maven  In:  content     maven\n",
            "Found Skill:  jira  In:  content     jira\n",
            "Found Skill:  access  In:  content     access to trade finance information and trans...\n",
            "Found Skill:  database  In:  content     performed database testing using sql in order...\n",
            "Found Skill:  java  In:  content     tools/environments: java\n",
            "Found Skill:  java  In:  content     tools/environments: java\n",
            "Found Skill:  groovy  In:  content     grails and groovy\n",
            "Found Skill:  processing  In:  content     project: pops (purchase order processing syst...\n",
            "Found Skill:  sql  In:  content     sql server and windows2008\n",
            "Found Skill:  java  In:  content     java (3 years)\n",
            "Found Skill:  junit  In:  content     junit (2 years)\n",
            "Found Skill:  cucumber  In:  content     cucumber\n",
            "Found Skill:  maven  In:  content     maven\n",
            "Found Skill:  java  In:  content     languages/frameworks: java\n",
            "Found Skill:  junit  In:  content     junit\n",
            "Found Skill:  cucumber  In:  content     cucumber\n",
            "Found Skill:  jira  In:  content     defect tracking tools: jira\n",
            "Found Skill:  xml  In:  content     xml\n",
            "Found Skill:  mysql  In:  content     rdbms: mysql\n"
          ],
          "name": "stdout"
        },
        {
          "output_type": "stream",
          "text": [
            " 57%|█████▋    | 39721/69499 [00:41<00:34, 857.06it/s]"
          ],
          "name": "stderr"
        },
        {
          "output_type": "stream",
          "text": [
            "Found Skill:  chef  In:  content     deployed chef for configuration management in...\n",
            "Found Skill:  code  In:  content     releasing of code from one environment to oth...\n",
            "Found Skill:  maven  In:  content     extensive experience using maven and ant as b...\n",
            "Found Skill:  code  In:  content     expert in deploying the code through web appl...\n",
            "Found Skill:  chef  In:  content     deployed chef for configuration management in...\n",
            "Found Skill:  java  In:  content     environment: java 1.7\n",
            "Found Skill:  jira  In:  content     jira 6.3\n",
            "Found Skill:  database  In:  content     database administration\n",
            "Found Skill:  chef  In:  content     deployed chef for configuration management in...\n",
            "Found Skill:  maven  In:  content     maven\n",
            "Found Skill:  code  In:  content     static code analysis: sonarqube check style.\n",
            "Found Skill:  maven  In:  content     git maven jenkins vagrant docker nagios sonar...\n",
            "Found Skill:  code  In:  content     co-coordinator of code hunter at cgc fest.\n",
            "Found Skill:  code  In:  content     co-coordinator of code hunter at cgc fest.\n",
            "Found Skill:  sql  In:  content     oracle sql -.\n"
          ],
          "name": "stdout"
        },
        {
          "output_type": "stream",
          "text": [
            " 57%|█████▋    | 39906/69499 [00:41<00:33, 891.20it/s]"
          ],
          "name": "stderr"
        },
        {
          "output_type": "stream",
          "text": [
            "Found Skill:  access  In:  content     access (less than 1 year)\n",
            "Found Skill:  css  In:  content     css (less than 1 year)\n",
            "Found Skill:  database  In:  content     database (less than 1 year).\n",
            "Found Skill:  sql  In:  content     database: sql server.\n",
            "Found Skill:  html  In:  content     other technologies: html\n",
            "Found Skill:  css  In:  content     css\n",
            "Found Skill:  excel  In:  content     excel\n",
            "Found Skill:  css  In:  content     language used: css\n",
            "Found Skill:  sql  In:  content     sql server and html.. .\n",
            "Found Skill:  java  In:  content     java scripting.\n",
            "Found Skill:  database  In:  content     imported data from relational database into j...\n",
            "Found Skill:  database  In:  content     database: experience in database designing\n",
            "Found Skill:  code  In:  content     optimizing sql code and stored procedures\n",
            "Found Skill:  sql  In:  content     sql azure\n",
            "Found Skill:  plus  In:  content     plus\n",
            "Found Skill:  plus  In:  content     plus\n"
          ],
          "name": "stdout"
        },
        {
          "output_type": "stream",
          "text": [
            " 58%|█████▊    | 40099/69499 [00:41<00:31, 925.01it/s]"
          ],
          "name": "stderr"
        },
        {
          "output_type": "stream",
          "text": [
            "Found Skill:  sql  In:  content     sql server 2014\n",
            "Found Skill:  .net  In:  content     .net api\n",
            "Found Skill:  java  In:  content     oracle 5 years 2 month     core java developer.\n",
            "Found Skill:  java  In:  content     languages core java\n",
            "Found Skill:  java  In:  content     languages: core java\n",
            "Found Skill:  sql  In:  content     sql developer\n",
            "Found Skill:  pl/sql  In:  content     pl/sql developer\n",
            "Found Skill:  javascript  In:  content     web technologies: javascript\n",
            "Found Skill:  xml  In:  content     xml\n",
            "Found Skill:  html  In:  content     html\n",
            "Found Skill:  blue  In:  content     blue prism\n",
            "Found Skill:  blue  In:  content     test automation tools: blue prism\n",
            "Found Skill:  sql  In:  content     sql server.. .\n",
            "Found Skill:  processing  In:  content     well site data acquisition processing and int...\n"
          ],
          "name": "stdout"
        },
        {
          "output_type": "stream",
          "text": [
            " 58%|█████▊    | 40285/69499 [00:41<00:32, 899.13it/s]"
          ],
          "name": "stderr"
        },
        {
          "output_type": "stream",
          "text": [
            "Found Skill:  focus  In:  content     your caregivers to focus on what matters most...\n",
            "Found Skill:  access  In:  content     access not only helps clinicians make better ...\n",
            "Found Skill:  access  In:  content     anywhere access to the complete patient recor...\n",
            "Found Skill:  blue  In:  content     involved in preparing bots using blue prism t...\n",
            "Found Skill:  sql  In:  content     using sql and r. o market basket analysis usi...\n",
            "Found Skill:  python  In:  content     python (2 years)\n",
            "Found Skill:  python  In:  content     languages   technologies: python\n",
            "Found Skill:  sql  In:  content     sql\n",
            "Found Skill:  java  In:  content     java (preliminary).\n",
            "Found Skill:  matlab  In:  content     matlab\n",
            "Found Skill:  sql  In:  content     oracle sql developer\n",
            "Found Skill:  mysql  In:  content     mysql\n",
            "Found Skill:  excel  In:  content     excel\n",
            "Found Skill:  java  In:  content     testing and support.. software used: java\n",
            "Found Skill:  java  In:  content     on java server pages (jsp) and our aim was to...\n",
            "Found Skill:  flex  In:  content     completion of that we incorporated flex in to...\n",
            "Found Skill:  database  In:  content     from database is taken by the flex using a re...\n"
          ],
          "name": "stdout"
        },
        {
          "output_type": "stream",
          "text": [
            " 58%|█████▊    | 40473/69499 [00:42<00:32, 904.24it/s]"
          ],
          "name": "stderr"
        },
        {
          "output_type": "stream",
          "text": [
            "Found Skill:  java  In:  content     testing and support.. software used: java\n",
            "Found Skill:  flex  In:  content     front end/gui tools programming: adobe flex\n",
            "Found Skill:  java  In:  content     java developer.\n",
            "Found Skill:  java  In:  content     wrote services in java using data annotation ...\n",
            "Found Skill:  code  In:  content     using code generation tool.. .\n",
            "Found Skill:  junit  In:  content     used junit for testing services\n",
            "Found Skill:  java  In:  content     used java to write batches for fetching of bu...\n",
            "Found Skill:  java  In:  content     java (1 year)\n",
            "Found Skill:  css  In:  content     css (1 year)\n",
            "Found Skill:  html  In:  content     html (1 year)\n",
            "Found Skill:  mysql  In:  content     mysql (1 year)\n",
            "Found Skill:  javascript  In:  content     javascript (less than 1 year)\n",
            "Found Skill:  java  In:  content     java\n",
            "Found Skill:  java  In:  content     java servlet\n",
            "Found Skill:  html  In:  content     html\n",
            "Found Skill:  java  In:  content     java script\n",
            "Found Skill:  mysql  In:  content     mysql\n",
            "Found Skill:  css  In:  content     css\n",
            "Found Skill:  code  In:  content     code blocks\n",
            "Found Skill:  sql  In:  content     sql oracle -.\n",
            "Found Skill:  code  In:  content     code optimization.\n"
          ],
          "name": "stdout"
        },
        {
          "output_type": "stream",
          "text": [
            " 59%|█████▊    | 40761/69499 [00:42<00:30, 931.30it/s]"
          ],
          "name": "stderr"
        },
        {
          "output_type": "stream",
          "text": [
            "Found Skill:  small  In:  content     small leather goods\n",
            "Found Skill:  processing  In:  content     configuring and processing the business trans...\n",
            "Found Skill:  able  In:  content     adept multitasker able to deal a very high.\n",
            "Found Skill:  css  In:  content     css for quick find of availability alerts and...\n",
            "Found Skill:  .net  In:  content     trained in .net technology..\n"
          ],
          "name": "stdout"
        },
        {
          "output_type": "stream",
          "text": [
            " 59%|█████▉    | 41057/69499 [00:42<00:29, 961.43it/s]"
          ],
          "name": "stderr"
        },
        {
          "output_type": "stream",
          "text": [
            "Found Skill:  sql  In:  content     key skills - microsoft azure sql dw\n",
            "Found Skill:  sql  In:  content     sql server 2016\n",
            "Found Skill:  sql  In:  content     sql server 2014\n",
            "Found Skill:  .net  In:  content     .net app development.\n",
            "Found Skill:  sql  In:  content     sql server 2012.. methodologies - iterative\n",
            "Found Skill:  sql  In:  content     sql server pi\n",
            "Found Skill:  sql  In:  content     sql navigator.\n"
          ],
          "name": "stdout"
        },
        {
          "output_type": "stream",
          "text": [
            " 59%|█████▉    | 41251/69499 [00:42<00:29, 949.84it/s]"
          ],
          "name": "stderr"
        },
        {
          "output_type": "stream",
          "text": [
            "Found Skill:  java  In:  content     technologies: java\n",
            "Found Skill:  access  In:  content     su10..     control firefighter access in grc1...\n",
            "Found Skill:  access  In:  content     providing access in controlled environment.\n",
            "Found Skill:  access  In:  content     restrict table access through authorization g...\n",
            "Found Skill:  c++  In:  content     math and c++ for 4 years.. .\n",
            "Found Skill:  sql  In:  content     sql\n",
            "Found Skill:  c++  In:  content     c++\n",
            "Found Skill:  database  In:  content     quicksilver) database tool (sql\n",
            "Found Skill:  python  In:  content     experience in coding python\n",
            "Found Skill:  sql  In:  content     sql\n",
            "Found Skill:  xml  In:  content     and xml as per the requirement..     have kno...\n",
            "Found Skill:  code  In:  content     develop the code on the design in splunk..   ...\n",
            "Found Skill:  sql  In:  content     sql\n",
            "Found Skill:  python  In:  content     technologies: python coding\n",
            "Found Skill:  xml  In:  content     xml coding\n",
            "Found Skill:  sql  In:  content     sql query writing.\n"
          ],
          "name": "stdout"
        },
        {
          "output_type": "stream",
          "text": [
            " 60%|█████▉    | 41443/69499 [00:43<00:31, 897.59it/s]"
          ],
          "name": "stderr"
        },
        {
          "output_type": "stream",
          "text": [
            "Found Skill:  database  In:  content     database and infrastructure monitoring and al...\n",
            "Found Skill:  database  In:  content     database (3 years)\n",
            "Found Skill:  python  In:  content     python (3 years)\n",
            "Found Skill:  sql  In:  content     sql (3 years)\n",
            "Found Skill:  xml  In:  content     xml (3 years).\n",
            "Found Skill:  python  In:  content     programming languages: python\n",
            "Found Skill:  access  In:  content     ran (radio access network) engineer..     new...\n",
            "Found Skill:  verilog  In:  content     module coding and verification using verilog ...\n",
            "Found Skill:  verilog  In:  content     verilog hdl.\n"
          ],
          "name": "stdout"
        },
        {
          "output_type": "stream",
          "text": [
            " 60%|█████▉    | 41634/69499 [00:43<00:30, 923.92it/s]"
          ],
          "name": "stderr"
        },
        {
          "output_type": "stream",
          "text": [
            "Found Skill:  abap  In:  content     sap abap -  noida\n",
            "Found Skill:  abap  In:  content     sap abap 7.4 2.\n",
            "Found Skill:  excel  In:  content     uploading excel data using bdc.. 3.\n",
            "Found Skill:  self  In:  content     self motivated.\n",
            "Found Skill:  jira  In:  content     atlassian tools: jira\n",
            "Found Skill:  mysql  In:  content     mysql\n",
            "Found Skill:  python  In:  content     programming languages: python and java.\n",
            "Found Skill:  jira  In:  content     jira project management/administration..     ...\n",
            "Found Skill:  access  In:  content     streamlining tools access management with cro...\n",
            "Found Skill:  jira  In:  content     jira\n",
            "Found Skill:  python  In:  content     python\n"
          ],
          "name": "stdout"
        },
        {
          "output_type": "stream",
          "text": [
            " 60%|██████    | 41820/69499 [00:43<00:29, 922.66it/s]"
          ],
          "name": "stderr"
        },
        {
          "output_type": "stream",
          "text": [
            "Found Skill:  chef  In:  content     chef\n",
            "Found Skill:  powershell  In:  content     powershell scripting.\n",
            "Found Skill:  mouse  In:  content     etc on mouse and object events..\n",
            "Found Skill:  abap  In:  content     abap development of large scale erp packages..\n",
            "Found Skill:  html  In:  content     ecc environments also having experience in html\n",
            "Found Skill:  javascript  In:  content     javascript\n",
            "Found Skill:  xml  In:  content     xml\n",
            "Found Skill:  javascript  In:  content     javascript\n",
            "Found Skill:  excel  In:  content     worked on complex functionality like excel da...\n",
            "Found Skill:  excel  In:  content     excel link\n"
          ],
          "name": "stdout"
        },
        {
          "output_type": "stream",
          "text": [
            " 61%|██████    | 42109/69499 [00:43<00:28, 945.97it/s]"
          ],
          "name": "stderr"
        },
        {
          "output_type": "stream",
          "text": [
            "Found Skill:  abap  In:  content     sap abap (2 years).\n",
            "Found Skill:  c++  In:  content     c++\n",
            "Found Skill:  html  In:  content     html\n",
            "Found Skill:  css  In:  content     css\n",
            "Found Skill:  javascript  In:  content     javascript\n",
            "Found Skill:  php  In:  content     php\n",
            "Found Skill:  mysql  In:  content     database mysql\n",
            "Found Skill:  java  In:  content     core java\n",
            "Found Skill:  java  In:  content     core java\n",
            "Found Skill:  python  In:  content     experience in python scripting and pyats fram...\n",
            "Found Skill:  perl  In:  content     scripting language perl\n"
          ],
          "name": "stdout"
        },
        {
          "output_type": "stream",
          "text": [
            " 61%|██████    | 42301/69499 [00:43<00:28, 943.48it/s]"
          ],
          "name": "stderr"
        },
        {
          "output_type": "stream",
          "text": [
            "Found Skill:  tcl  In:  content     knowledge on tcl scripting and automated cust...\n",
            "Found Skill:  able  In:  content     also able to troubleshoot the script issues.. .\n",
            "Found Skill:  tcl  In:  content     tcl (4 years)\n",
            "Found Skill:  python  In:  content     python (2 years).\n",
            "Found Skill:  tcl  In:  content     automaton tools: tcl\n",
            "Found Skill:  python  In:  content    python\n",
            "Found Skill:  self  In:  content     like - oracle fusion supplier self service\n",
            "Found Skill:  clean  In:  content     global country wise clean up initiative focus...\n",
            "Found Skill:  self  In:  content     oracle fusion uat- supplier self service.\n",
            "Found Skill:  code  In:  content     withholding and tds code\n",
            "Found Skill:  sql  In:  content     possess sound knowledge of sql\n",
            "Found Skill:  jira  In:  content     jira\n",
            "Found Skill:  sql  In:  content     there i had been explored sql\n",
            "Found Skill:  sql  In:  content     sql server studio.\n"
          ],
          "name": "stdout"
        },
        {
          "output_type": "stream",
          "text": [
            " 61%|██████▏   | 42597/69499 [00:44<00:27, 972.19it/s]"
          ],
          "name": "stderr"
        },
        {
          "output_type": "stream",
          "text": [
            "Found Skill:  sql  In:  content     sql (oracle db)    .\n",
            "Found Skill:  .net  In:  content     .net    .\n",
            "Found Skill:  xml  In:  content     xml\n",
            "Found Skill:  sql  In:  content     databases sql server 2008/2005\n",
            "Found Skill:  database  In:  content     database connectivity odbc.\n",
            "Found Skill:  jira  In:  content    jira\n",
            "Found Skill:  sql  In:  content     sql developer\n"
          ],
          "name": "stdout"
        },
        {
          "output_type": "stream",
          "text": [
            " 62%|██████▏   | 42794/69499 [00:44<00:27, 970.95it/s]"
          ],
          "name": "stderr"
        },
        {
          "output_type": "stream",
          "text": [
            "Found Skill:  access  In:  content     internet access\n",
            "Found Skill:  database  In:  content     o performed database testing for one of the a...\n",
            "Found Skill:  jira  In:  content     jira\n",
            "Found Skill:  java  In:  content     java\n",
            "Found Skill:  sql  In:  content     sql\n",
            "Found Skill:  html  In:  content     html\n",
            "Found Skill:  excel  In:  content     excel\n",
            "Found Skill:  plus  In:  content     365 pro plus (outlook.\n",
            "Found Skill:  excel  In:  content     and other office tools such as excel\n",
            "Found Skill:  word  In:  content     word\n"
          ],
          "name": "stdout"
        },
        {
          "output_type": "stream",
          "text": [
            " 62%|██████▏   | 42989/69499 [00:44<00:28, 944.90it/s]"
          ],
          "name": "stderr"
        },
        {
          "output_type": "stream",
          "text": [
            "Found Skill:  sql  In:  content     sql\n",
            "Found Skill:  excel  In:  content     ms office tools: ms excel\n",
            "Found Skill:  word  In:  content     ms word\n",
            "Found Skill:  c++  In:  content     c++\n",
            "Found Skill:  .net  In:  content     .net application maintenance and do the code ...\n",
            "Found Skill:  .net  In:  content     .net\n",
            "Found Skill:  sql  In:  content     sql server\n",
            "Found Skill:  css  In:  content     css\n",
            "Found Skill:  html  In:  content     html     system backups.\n",
            "Found Skill:  sql  In:  content     sql server 2005\n",
            "Found Skill:  abap  In:  content     sap abap -  noida\n",
            "Found Skill:  abap  In:  content     sap abap -.\n"
          ],
          "name": "stdout"
        },
        {
          "output_type": "stream",
          "text": [
            " 62%|██████▏   | 43187/69499 [00:44<00:27, 950.29it/s]"
          ],
          "name": "stderr"
        },
        {
          "output_type": "stream",
          "text": [
            "Found Skill:  abap  In:  content     abap (2 years)\n",
            "Found Skill:  c++  In:  content     c++ (less than 1 year)\n",
            "Found Skill:  sql  In:  content     familiar with sql\n",
            "Found Skill:  sql  In:  content     creating sql scripts and deploying on the loc...\n",
            "Found Skill:  xml  In:  content     xml (3 years).\n",
            "Found Skill:  html  In:  content     programming   scripting languages: - html\n",
            "Found Skill:  css  In:  content     css\n",
            "Found Skill:  xml  In:  content     xml\n",
            "Found Skill:  sql  In:  content     sql\n",
            "Found Skill:  java  In:  content     java (basic)\n",
            "Found Skill:  lisa  In:  content     testing tools: - ca lisa\n",
            "Found Skill:  sql  In:  content     sql\n",
            "Found Skill:  database  In:  content     database\n"
          ],
          "name": "stdout"
        },
        {
          "output_type": "stream",
          "text": [
            " 62%|██████▏   | 43375/69499 [00:45<00:28, 904.63it/s]"
          ],
          "name": "stderr"
        },
        {
          "output_type": "stream",
          "text": [
            "Found Skill:  python  In:  content     worked with technologies like python\n",
            "Found Skill:  mysql  In:  content     mysql\n",
            "Found Skill:  python  In:  content     worked on various technologies such as python\n",
            "Found Skill:  java  In:  content     java\n",
            "Found Skill:  java  In:  content     java (3 years)\n",
            "Found Skill:  mysql  In:  content     mysql (3 years)\n",
            "Found Skill:  python  In:  content     python (6 years).\n",
            "Found Skill:  python  In:  content     python\n",
            "Found Skill:  java  In:  content     java\n",
            "Found Skill:  html  In:  content     html\n",
            "Found Skill:  mysql  In:  content     mysql\n",
            "Found Skill:  php  In:  content     languages used: php\n",
            "Found Skill:  mysql  In:  content     mysql\n",
            "Found Skill:  html  In:  content     html\n",
            "Found Skill:  css  In:  content     css\n",
            "Found Skill:  javascript  In:  content     javascript and jquery.. .\n",
            "Found Skill:  database  In:  content     constantly involved in querying the database ...\n",
            "Found Skill:  clean  In:  content     i am capable of building clean and responsive...\n",
            "Found Skill:  small  In:  content     and small business websites..     http://www....\n",
            "Found Skill:  small  In:  content     small map feature included which also support...\n",
            "Found Skill:  php  In:  content     php\n",
            "Found Skill:  javascript  In:  content     javascript\n",
            "Found Skill:  css  In:  content     css\n",
            "Found Skill:  java  In:  content     programming language: core java\n",
            "Found Skill:  php  In:  content     scripting languages: php\n"
          ],
          "name": "stdout"
        },
        {
          "output_type": "stream",
          "text": [
            " 63%|██████▎   | 43558/69499 [00:45<00:29, 881.21it/s]"
          ],
          "name": "stderr"
        },
        {
          "output_type": "stream",
          "text": [
            "Found Skill:  html  In:  content     web languages: html\n",
            "Found Skill:  database  In:  content     database language: sql..     frameworks: boot...\n",
            "Found Skill:  javascript  In:  content     project specific skills javascript\n",
            "Found Skill:  code  In:  content     code collaborator.\n",
            "Found Skill:  html  In:  content     the ui supports html 5 features..\n",
            "Found Skill:  javascript  In:  content     project specific skills javascript\n",
            "Found Skill:  css  In:  content     css\n",
            "Found Skill:  javascript  In:  content     project specific skills javascript\n",
            "Found Skill:  css  In:  content     css\n",
            "Found Skill:  javascript  In:  content     scripting languages: javascript\n",
            "Found Skill:  code  In:  content     code collaborator\n",
            "Found Skill:  html  In:  content     web designing tools: html 4\n",
            "Found Skill:  html  In:  content     html 5\n",
            "Found Skill:  css  In:  content     css 3\n",
            "Found Skill:  java  In:  content     java\n",
            "Found Skill:  html  In:  content     html\n",
            "Found Skill:  sql  In:  content     sql\n",
            "Found Skill:  c++  In:  content     c++\n",
            "Found Skill:  access  In:  content     tags and providing svn user access to all dev...\n"
          ],
          "name": "stdout"
        },
        {
          "output_type": "stream",
          "text": [
            " 63%|██████▎   | 43740/69499 [00:45<00:29, 887.82it/s]"
          ],
          "name": "stderr"
        },
        {
          "output_type": "stream",
          "text": [
            "Found Skill:  chef  In:  content     chef kitchen\n",
            "Found Skill:  code  In:  content     code on svn server.\n",
            "Found Skill:  database  In:  content     oracle database\n",
            "Found Skill:  maven  In:  content     maven 3. .\n",
            "Found Skill:  red  In:  content     red hat linux 5. .\n",
            "Found Skill:  maven  In:  content     environment : maven\n",
            "Found Skill:  chef  In:  content     chef\n",
            "Found Skill:  java  In:  content     application is based on java technology.\n",
            "Found Skill:  code  In:  content     code from development team and have to build ...\n",
            "Found Skill:  maven  In:  content     environment: maven\n",
            "Found Skill:  java  In:  content     this application is based on java technology....\n",
            "Found Skill:  code  In:  content     have to build and deploy the code later have ...\n",
            "Found Skill:  java  In:  content     executing java applications build and deploym...\n"
          ],
          "name": "stdout"
        },
        {
          "output_type": "stream",
          "text": [
            " 63%|██████▎   | 44025/69499 [00:45<00:27, 915.86it/s]"
          ],
          "name": "stderr"
        },
        {
          "output_type": "stream",
          "text": [
            "Found Skill:  jira  In:  content     jira\n",
            "Found Skill:  maven  In:  content     environment: maven\n",
            "Found Skill:  java  In:  content     this application is based on java technology.\n",
            "Found Skill:  code  In:  content     collect code from development team and have t...\n",
            "Found Skill:  java  In:  content     java\n",
            "Found Skill:  jira  In:  content     jira\n",
            "Found Skill:  access  In:  content     tags and providing svn user access to all dev...\n",
            "Found Skill:  chef  In:  content     chef kitchen\n",
            "Found Skill:  code  In:  content     code on svn server.\n",
            "Found Skill:  database  In:  content     oracle database\n",
            "Found Skill:  chef  In:  content     chef (1 year)\n",
            "Found Skill:  maven  In:  content     maven\n",
            "Found Skill:  red  In:  content     red hat linux 5.\n",
            "Found Skill:  database  In:  content     database oracle 11g.\n",
            "Found Skill:  chef  In:  content     configuration tools chef\n",
            "Found Skill:  python  In:  content     perform automation through python and batch s...\n",
            "Found Skill:  c++  In:  content     c++ (less than 1 year)\n",
            "Found Skill:  python  In:  content     python\n"
          ],
          "name": "stdout"
        },
        {
          "output_type": "stream",
          "text": [
            " 64%|██████▎   | 44219/69499 [00:46<00:26, 939.01it/s]"
          ],
          "name": "stderr"
        },
        {
          "output_type": "stream",
          "text": [
            "Found Skill:  java  In:  content     languages: java\n",
            "Found Skill:  c++  In:  content     c++\n",
            "Found Skill:  python  In:  content     python\n",
            "Found Skill:  dynamo  In:  content     dynamo db..     utilized cloud watch to monit...\n",
            "Found Skill:  code  In:  content     history of code and helping the developers in...\n",
            "Found Skill:  maven  In:  content     maven\n",
            "Found Skill:  jira  In:  content     jira\n",
            "Found Skill:  database  In:  content     application and implementation of database ma...\n",
            "Found Skill:  maven  In:  content     maven\n"
          ],
          "name": "stdout"
        },
        {
          "output_type": "stream",
          "text": [
            " 64%|██████▍   | 44422/69499 [00:46<00:25, 974.22it/s]"
          ],
          "name": "stderr"
        },
        {
          "output_type": "stream",
          "text": [
            "Found Skill:  excel  In:  content     ms excel (2 years)\n",
            "Found Skill:  word  In:  content     ms word (2 years)\n",
            "Found Skill:  excel  In:  content     advanced excel\n",
            "Found Skill:  pike  In:  content     pike international\n",
            "Found Skill:  focus  In:  content     issues between various systems with focus on ...\n",
            "Found Skill:  sql  In:  content     sql\n",
            "Found Skill:  pl/sql  In:  content     pl/sql\n",
            "Found Skill:  html  In:  content     html\n",
            "Found Skill:  xml  In:  content     xml\n",
            "Found Skill:  java  In:  content     java\n"
          ],
          "name": "stdout"
        },
        {
          "output_type": "stream",
          "text": [
            " 64%|██████▍   | 44725/69499 [00:46<00:25, 979.15it/s]"
          ],
          "name": "stderr"
        },
        {
          "output_type": "stream",
          "text": [
            "Found Skill:  code  In:  content     being implemented in the code base and execut...\n",
            "Found Skill:  database  In:  content     database (less than 1 year)\n",
            "Found Skill:  java  In:  content     java (less than.\n",
            "Found Skill:  sql  In:  content     sql (less than 1 year)\n",
            "Found Skill:  database  In:  content     database mysql.\n",
            "Found Skill:  blue  In:  content     prepared blue print of the new warehouse faci...\n",
            "Found Skill:  gap  In:  content     gap analysis and design   finalization of.\n",
            "Found Skill:  abap  In:  content     consultant / abap consultant.\n",
            "Found Skill:  sql  In:  content     computing languages: sql\n",
            "Found Skill:  html  In:  content     html\n",
            "Found Skill:  php  In:  content     php\n"
          ],
          "name": "stdout"
        },
        {
          "output_type": "stream",
          "text": [
            " 65%|██████▍   | 45018/69499 [00:46<00:26, 939.55it/s]"
          ],
          "name": "stderr"
        },
        {
          "output_type": "stream",
          "text": [
            "Found Skill:  flavors  In:  content     linux - various flavors and distributions (re...\n",
            "Found Skill:  sql  In:  content     microsoft sql       r2.\n",
            "Found Skill:  access  In:  content     management gateway and unified access gateway...\n",
            "Found Skill:  java  In:  content     java developer/senior systems engineer - info...\n",
            "Found Skill:  java  In:  content     of experience in development using java techn...\n",
            "Found Skill:  java  In:  content     java developer/senior systems engineer.\n",
            "Found Skill:  java  In:  content     aqc is a java enterprise web based applicatio...\n",
            "Found Skill:  code  In:  content     deploying code over different servers\n",
            "Found Skill:  code  In:  content     finding defects and giving code fixes in.\n",
            "Found Skill:  java  In:  content     java intern.\n",
            "Found Skill:  java  In:  content     experience in core java\n",
            "Found Skill:  sql  In:  content     sql server\n",
            "Found Skill:  java  In:  content     core java\n",
            "Found Skill:  sql  In:  content     database: sql server 2008.\n",
            "Found Skill:  abap  In:  content     sap abap -  kolkata\n"
          ],
          "name": "stdout"
        },
        {
          "output_type": "stream",
          "text": [
            " 65%|██████▌   | 45210/69499 [00:47<00:26, 918.76it/s]"
          ],
          "name": "stderr"
        },
        {
          "output_type": "stream",
          "text": [
            "Found Skill:  abap  In:  content     sap abap -  kolkata\n",
            "Found Skill:  abap  In:  content     sap abap -.\n",
            "Found Skill:  abap  In:  content     sap abap -  kolkata\n",
            "Found Skill:  abap  In:  content     sap abap -  kolkata\n",
            "Found Skill:  abap  In:  content     sap abap -  kolkata\n",
            "Found Skill:  abap  In:  content     sap abap -  bengaluru\n",
            "Found Skill:  abap  In:  content     sap abap -  kolkata\n",
            "Found Skill:  abap  In:  content     sap abap -  kolkata\n",
            "Found Skill:  abap  In:  content     sap abap -  kolkata\n",
            "Found Skill:  max  In:  content     client: max life insurance.\n",
            "Found Skill:  scheme  In:  content     the pmjjby scheme is.\n",
            "Found Skill:  scheme  In:  content     main administrator within the scheme could be...\n",
            "Found Skill:  java  In:  content     expertise in the areas of core java\n"
          ],
          "name": "stdout"
        },
        {
          "output_type": "stream",
          "text": [
            " 65%|██████▌   | 45395/69499 [00:47<00:26, 910.45it/s]"
          ],
          "name": "stderr"
        },
        {
          "output_type": "stream",
          "text": [
            "Found Skill:  sql  In:  content     expertise in pl sql programming and oracle ap...\n",
            "Found Skill:  processing  In:  content     processing\n",
            "Found Skill:  java  In:  content     implementation of modules using core java apis\n",
            "Found Skill:  java  In:  content     java collection\n",
            "Found Skill:  xml  In:  content     xml technologies and.\n",
            "Found Skill:  database  In:  content     utilize oracle as back-end database and toad ...\n",
            "Found Skill:  maven  In:  content     used maven build scripts to create and deploy...\n",
            "Found Skill:  code  In:  content     code reviews and independent unit testing for...\n",
            "Found Skill:  code  In:  content     manage code release deployment into development\n",
            "Found Skill:  maven  In:  content     maven\n",
            "Found Skill:  java  In:  content     core java\n",
            "Found Skill:  java  In:  content     developed required back java components..    ...\n",
            "Found Skill:  xml  In:  content     xml\n",
            "Found Skill:  maven  In:  content     maven\n"
          ],
          "name": "stdout"
        },
        {
          "output_type": "stream",
          "text": [
            " 66%|██████▌   | 45577/69499 [00:47<00:27, 882.04it/s]"
          ],
          "name": "stderr"
        },
        {
          "output_type": "stream",
          "text": [
            "Found Skill:  code  In:  content     develop code using knowledge of relevant tech...\n",
            "Found Skill:  self  In:  content     perform testing - self and independent (funct...\n",
            "Found Skill:  java  In:  content     technologies: java 1.5\n",
            "Found Skill:  xml  In:  content     xml\n",
            "Found Skill:  pl/sql  In:  content     implemented the pl/sql based on the requireme...\n",
            "Found Skill:  pl/sql  In:  content     technologies: pl/sql\n",
            "Found Skill:  sql  In:  content     technologies: sql server\n",
            "Found Skill:  unity  In:  content     project: arrow unity (sales work bench).\n",
            "Found Skill:  database  In:  content     and views for backend database access..     u...\n",
            "Found Skill:  java  In:  content     java (3 years)\n",
            "Found Skill:  java  In:  content     languages java\n",
            "Found Skill:  java  In:  content     java script\n",
            "Found Skill:  pl/sql  In:  content     pl/sql\n",
            "Found Skill:  sql  In:  content     sql server\n",
            "Found Skill:  html  In:  content     html\n",
            "Found Skill:  xml  In:  content     xml\n",
            "Found Skill:  sql  In:  content     sql server.\n",
            "Found Skill:  xml  In:  content     xml\n",
            "Found Skill:  java  In:  content     java/j2eetechnologies java\n"
          ],
          "name": "stdout"
        },
        {
          "output_type": "stream",
          "text": [
            " 66%|██████▌   | 45976/69499 [00:47<00:24, 964.43it/s]"
          ],
          "name": "stderr"
        },
        {
          "output_type": "stream",
          "text": [
            "Found Skill:  processing  In:  content     responsible for processing vendor invoices.\n",
            "Found Skill:  cobol  In:  content     cobol (4 years)\n",
            "Found Skill:  cics  In:  content     cics (4. years)\n",
            "Found Skill:  rexx  In:  content     rexx (4 years).\n",
            "Found Skill:  ispf  In:  content     tools: ispf\n",
            "Found Skill:  sql  In:  content     sql server.\n",
            "Found Skill:  java  In:  content     secondary skills: java script\n",
            "Found Skill:  html  In:  content     html\n",
            "Found Skill:  java  In:  content     java\n",
            "Found Skill:  access  In:  content     mpls or at access level post migration activi...\n",
            "Found Skill:  focus  In:  content     focus on customer requirements and providing ...\n"
          ],
          "name": "stdout"
        },
        {
          "output_type": "stream",
          "text": [
            " 67%|██████▋   | 46292/69499 [00:48<00:22, 1013.14it/s]"
          ],
          "name": "stderr"
        },
        {
          "output_type": "stream",
          "text": [
            "Found Skill:  access  In:  content     clusterxl etc..     asa firewall: access cont...\n",
            "Found Skill:  access  In:  content     access all their accounts\n"
          ],
          "name": "stdout"
        },
        {
          "output_type": "stream",
          "text": [
            " 67%|██████▋   | 46495/69499 [00:48<00:23, 968.54it/s]"
          ],
          "name": "stderr"
        },
        {
          "output_type": "stream",
          "text": [
            "Found Skill:  abap  In:  content     knowledge of abap debugging\n",
            "Found Skill:  abap  In:  content     basic abap (tables\n",
            "Found Skill:  abap  In:  content     sap abap consultant.\n",
            "Found Skill:  abap  In:  content     sap abap consultant.\n",
            "Found Skill:  abap  In:  content     sap abap -  badi\n",
            "Found Skill:  rapid  In:  content     company has witnessed rapid expansion that ha...\n",
            "Found Skill:  excel  In:  content     developed a class to download multi excel she...\n",
            "Found Skill:  abap  In:  content     sap abap -.\n",
            "Found Skill:  abap  In:  content     sap abap -.\n",
            "Found Skill:  abap  In:  content     sap abap -  bangalore\n",
            "Found Skill:  abap  In:  content     sap abap -.\n"
          ],
          "name": "stdout"
        },
        {
          "output_type": "stream",
          "text": [
            " 67%|██████▋   | 46693/69499 [00:48<00:23, 967.14it/s]"
          ],
          "name": "stderr"
        },
        {
          "output_type": "stream",
          "text": [
            "Found Skill:  abap  In:  content     sap abap -  marmagao\n",
            "Found Skill:  abap  In:  content     sap abap consultant.\n",
            "Found Skill:  database  In:  content     customers and updates the database as  bc .\n",
            "Found Skill:  abap  In:  content     worked on abap workflow.\n",
            "Found Skill:  html  In:  content     web technologies: html (5)\n",
            "Found Skill:  css  In:  content     css (3).\n"
          ],
          "name": "stdout"
        },
        {
          "output_type": "stream",
          "text": [
            " 67%|██████▋   | 46886/69499 [00:48<00:24, 921.99it/s]"
          ],
          "name": "stderr"
        },
        {
          "output_type": "stream",
          "text": [
            "Found Skill:  java  In:  content     java\n",
            "Found Skill:  java  In:  content     features   is also expandable.. - used java\n",
            "Found Skill:  java  In:  content     criteria.. - used java\n",
            "Found Skill:  html  In:  content     html (less than 1 year)\n",
            "Found Skill:  php  In:  content     php (less than.\n",
            "Found Skill:  sql  In:  content     sql (less than 1 year)\n",
            "Found Skill:  java  In:  content     java (less than 1 year)\n",
            "Found Skill:  c++  In:  content     c++\n",
            "Found Skill:  database  In:  content     database management (less than 1 year).\n",
            "Found Skill:  java  In:  content     java\n",
            "Found Skill:  java  In:  content     criteria.. - used java\n",
            "Found Skill:  sql  In:  content     sql\n",
            "Found Skill:  java  In:  content     core java\n",
            "Found Skill:  php  In:  content     * web development - php\n",
            "Found Skill:  code  In:  content     integrated code quality\n",
            "Found Skill:  code  In:  content     code coverage\n",
            "Found Skill:  powershell  In:  content     develop powershell scripts to upload artifact...\n",
            "Found Skill:  maven  In:  content     maven\n",
            "Found Skill:  jira  In:  content     jira\n",
            "Found Skill:  powershell  In:  content     scripting language powershell scripting\n",
            "Found Skill:  sql  In:  content     sql server.\n",
            "Found Skill:  maven  In:  content     build tools maven\n",
            "Found Skill:  jira  In:  content     jira\n"
          ],
          "name": "stdout"
        },
        {
          "output_type": "stream",
          "text": [
            " 68%|██████▊   | 47173/69499 [00:49<00:23, 932.91it/s]"
          ],
          "name": "stderr"
        },
        {
          "output_type": "stream",
          "text": [
            "Found Skill:  java  In:  content     java\n",
            "Found Skill:  c++  In:  content     attended a three-day workshop on c and c++ pr...\n",
            "Found Skill:  java  In:  content     attended a one-day workshop on java and hardw...\n",
            "Found Skill:  spark  In:  content     attended spark training program in infosys my...\n",
            "Found Skill:  sql  In:  content     oracle sql\n",
            "Found Skill:  code  In:  content     creation of input   output tax code\n"
          ],
          "name": "stdout"
        },
        {
          "output_type": "stream",
          "text": [
            " 68%|██████▊   | 47362/69499 [00:49<00:24, 916.51it/s]"
          ],
          "name": "stderr"
        },
        {
          "output_type": "stream",
          "text": [
            "Found Skill:  word  In:  content     tally..     office productivity: microsoft word\n",
            "Found Skill:  excel  In:  content     excel\n",
            "Found Skill:  java  In:  content     finished diploma in java course from niit.\n",
            "Found Skill:  java  In:  content     java (6 years)\n",
            "Found Skill:  abap  In:  content     abap (less than 1 year)\n",
            "Found Skill:  access  In:  content     access (less than 1. year).\n",
            "Found Skill:  database  In:  content     database administration.\n",
            "Found Skill:  database  In:  content     database administration on oracle 10 g\n",
            "Found Skill:  database  In:  content     monitoring   perform database backup at db13 ...\n",
            "Found Skill:  database  In:  content     12 c... sap hana database administration.\n",
            "Found Skill:  c++  In:  content     c++\n",
            "Found Skill:  java  In:  content     core java\n",
            "Found Skill:  java  In:  content     monitoring and troubleshooting java systems u...\n",
            "Found Skill:  database  In:  content     database cluster administration..     system ...\n",
            "Found Skill:  database  In:  content     creation database source in java systems..\n",
            "Found Skill:  abap  In:  content     bw abap 7.31.\n",
            "Found Skill:  java  In:  content     monitoring and troubleshooting java systems u...\n",
            "Found Skill:  database  In:  content     database administration using brtools..     k...\n",
            "Found Skill:  abap  In:  content     bw abap 7.31\n"
          ],
          "name": "stdout"
        },
        {
          "output_type": "stream",
          "text": [
            " 69%|██████▊   | 47651/69499 [00:49<00:23, 949.66it/s]"
          ],
          "name": "stderr"
        },
        {
          "output_type": "stream",
          "text": [
            "Found Skill:  sql  In:  content     sql and hp storage servers.. * participate in...\n",
            "Found Skill:  processing  In:  content     processing units (cpus)\n",
            "Found Skill:  genie  In:  content     test tool: genie (target testing   signal logs).\n",
            "Found Skill:  java  In:  content     java application\n"
          ],
          "name": "stdout"
        },
        {
          "output_type": "stream",
          "text": [
            " 69%|██████▉   | 47847/69499 [00:49<00:22, 964.55it/s]"
          ],
          "name": "stderr"
        },
        {
          "output_type": "stream",
          "text": [
            "Found Skill:  tea  In:  content     jivraj tea limited -  mumbai\n",
            "Found Skill:  chain  In:  content     negotiation tot with local chain   stand alon...\n",
            "Found Skill:  chain  In:  content     with modern trade / local chain   stand alone...\n",
            "Found Skill:  scheme  In:  content     handled distributors   scheme distribution.. .\n"
          ],
          "name": "stdout"
        },
        {
          "output_type": "stream",
          "text": [
            " 69%|██████▉   | 48046/69499 [00:50<00:22, 958.74it/s]"
          ],
          "name": "stderr"
        },
        {
          "output_type": "stream",
          "text": [
            "Found Skill:  pure  In:  content     led the first stand-alone pure cloud bi deal ...\n",
            "Found Skill:  sas  In:  content     secured the first sas implementation deal in ...\n",
            "Found Skill:  self  In:  content     self employed own.\n"
          ],
          "name": "stdout"
        },
        {
          "output_type": "stream",
          "text": [
            " 70%|██████▉   | 48338/69499 [00:50<00:22, 934.38it/s]"
          ],
          "name": "stderr"
        },
        {
          "output_type": "stream",
          "text": [
            "Found Skill:  clean  In:  content     clean and maintain work areas as directed.\n",
            "Found Skill:  self  In:  content     initiative   self - driven.\n",
            "Found Skill:  able  In:  content     versatile and able to work under pressure.\n",
            "Found Skill:  processing  In:  content     knowledge of plastic processing equipment   a...\n",
            "Found Skill:  excel  In:  content     excel\n"
          ],
          "name": "stdout"
        },
        {
          "output_type": "stream",
          "text": [
            " 70%|██████▉   | 48533/69499 [00:50<00:21, 953.71it/s]"
          ],
          "name": "stderr"
        },
        {
          "output_type": "stream",
          "text": [
            "Found Skill:  tie  In:  content     tie up companies..     to deal in transaction...\n"
          ],
          "name": "stdout"
        },
        {
          "output_type": "stream",
          "text": [
            " 70%|███████   | 48830/69499 [00:50<00:21, 972.71it/s]"
          ],
          "name": "stderr"
        },
        {
          "output_type": "stream",
          "text": [
            "Found Skill:  small  In:  content     have a. very small time.\n",
            "Found Skill:  processing  In:  content     automation for order processing\n",
            "Found Skill:  excel  In:  content     excel (less than 1 year)\n",
            "Found Skill:  excel  In:  content     ms excel (less than 1 year)\n"
          ],
          "name": "stdout"
        },
        {
          "output_type": "stream",
          "text": [
            " 71%|███████   | 49232/69499 [00:51<00:20, 977.18it/s]"
          ],
          "name": "stderr"
        },
        {
          "output_type": "stream",
          "text": [
            "Found Skill:  plus  In:  content     plus produce fulfillment.\n",
            "Found Skill:  focus  In:  content     focus to be make maximum cabs to be on road..\n",
            "Found Skill:  able  In:  content     train fc effectively and make them able to un...\n",
            "Found Skill:  chain  In:  content     coordinated with branch supply chain manageme...\n"
          ],
          "name": "stdout"
        },
        {
          "output_type": "stream",
          "text": [
            " 71%|███████   | 49434/69499 [00:51<00:20, 992.77it/s]"
          ],
          "name": "stderr"
        },
        {
          "output_type": "stream",
          "text": [
            "Found Skill:  scratch  In:  content     establishing new stores from scratch through ...\n",
            "Found Skill:  excel  In:  content     excel and win.\n",
            "Found Skill:  code  In:  content     provide cost centre   project code spend repo...\n",
            "Found Skill:  processing  In:  content     invoice processing time from 12 mins to 5 min...\n",
            "Found Skill:  chain  In:  content     supply chain finance\n"
          ],
          "name": "stdout"
        },
        {
          "output_type": "stream",
          "text": [
            " 72%|███████▏  | 49726/69499 [00:51<00:20, 955.47it/s]"
          ],
          "name": "stderr"
        },
        {
          "output_type": "stream",
          "text": [
            "Found Skill:  gap  In:  content     forecast and gap analysis..     igaap / ifrs ...\n"
          ],
          "name": "stdout"
        },
        {
          "output_type": "stream",
          "text": [
            " 72%|███████▏  | 49929/69499 [00:52<00:19, 984.21it/s]"
          ],
          "name": "stderr"
        },
        {
          "output_type": "stream",
          "text": [
            "Found Skill:  word  In:  content     word\n"
          ],
          "name": "stdout"
        },
        {
          "output_type": "stream",
          "text": [
            " 72%|███████▏  | 50137/69499 [00:52<00:19, 1010.38it/s]"
          ],
          "name": "stderr"
        },
        {
          "output_type": "stream",
          "text": [
            "Found Skill:  scratch  In:  content     built the team from scratch   developed the team\n"
          ],
          "name": "stdout"
        },
        {
          "output_type": "stream",
          "text": [
            " 72%|███████▏  | 50341/69499 [00:52<00:19, 1001.09it/s]"
          ],
          "name": "stderr"
        },
        {
          "output_type": "stream",
          "text": [
            "Found Skill:  tie  In:  content     tie up companies..     to deal in transaction...\n"
          ],
          "name": "stdout"
        },
        {
          "output_type": "stream",
          "text": [
            " 73%|███████▎  | 50646/69499 [00:52<00:18, 998.14it/s]"
          ],
          "name": "stderr"
        },
        {
          "output_type": "stream",
          "text": [
            "Found Skill:  scratch  In:  content     scratch (2008 - 2010).\n"
          ],
          "name": "stdout"
        },
        {
          "output_type": "stream",
          "text": [
            " 73%|███████▎  | 50944/69499 [00:53<00:19, 971.85it/s]"
          ],
          "name": "stderr"
        },
        {
          "output_type": "stream",
          "text": [
            "Found Skill:  database  In:  content     database and advertisements.. .\n",
            "Found Skill:  excel  In:  content     excel in both independent and collaborative w...\n"
          ],
          "name": "stdout"
        },
        {
          "output_type": "stream",
          "text": [
            " 74%|███████▎  | 51246/69499 [00:53<00:18, 994.62it/s]"
          ],
          "name": "stderr"
        },
        {
          "output_type": "stream",
          "text": [
            "Found Skill:  metal  In:  content     ink industry and metal working fluid industry..\n",
            "Found Skill:  metal  In:  content     metal working fluid industry..\n"
          ],
          "name": "stdout"
        },
        {
          "output_type": "stream",
          "text": [
            " 74%|███████▍  | 51541/69499 [00:53<00:19, 938.57it/s]"
          ],
          "name": "stderr"
        },
        {
          "output_type": "stream",
          "text": [
            "Found Skill:  chain  In:  content     housing and supply chain solution.\n",
            "Found Skill:  focus  In:  content     focus on core competencies.\n",
            "Found Skill:  excel  In:  content     excel (less than 1 year)\n",
            "Found Skill:  word  In:  content     ms word (less than 1 year)\n",
            "Found Skill:  word  In:  content     word (less than 1 year).\n",
            "Found Skill:  word  In:  content     applications ms word\n",
            "Found Skill:  excel  In:  content     excel\n",
            "Found Skill:  focus  In:  content     tax invoicing in focus   busy software..     ...\n",
            "Found Skill:  excel  In:  content     excel (3 years)\n",
            "Found Skill:  html  In:  content     html (less than 1 year)\n",
            "Found Skill:  excel  In:  content     excel\n"
          ],
          "name": "stdout"
        },
        {
          "output_type": "stream",
          "text": [
            " 74%|███████▍  | 51738/69499 [00:53<00:18, 955.85it/s]"
          ],
          "name": "stderr"
        },
        {
          "output_type": "stream",
          "text": [
            "Found Skill:  pure  In:  content     pure gold jewelers -.\n",
            "Found Skill:  pilot  In:  content     active participation in pilot batch during th...\n",
            "Found Skill:  pilot  In:  content     active participation in pilot batch during th...\n",
            "Found Skill:  processing  In:  content     processing data of visa   mastercard.\n"
          ],
          "name": "stdout"
        },
        {
          "output_type": "stream",
          "text": [
            " 75%|███████▍  | 51929/69499 [00:54<00:19, 921.70it/s]"
          ],
          "name": "stderr"
        },
        {
          "output_type": "stream",
          "text": [
            "Found Skill:  processing  In:  content     processing of the files by coordinating with ...\n",
            "Found Skill:  processing  In:  content     processing\n",
            "Found Skill:  span  In:  content     process by 70  in a span of 3 months..\n",
            "Found Skill:  tie  In:  content     new third party tie ups in adventity leading.\n",
            "Found Skill:  plus  In:  content     99  plus accuracy consistently in all process...\n",
            "Found Skill:  processing  In:  content     analytics and processing services.\n",
            "Found Skill:  processing  In:  content     processing of the files by coordinating with ...\n"
          ],
          "name": "stdout"
        },
        {
          "output_type": "stream",
          "text": [
            " 75%|███████▍  | 52115/69499 [00:54<00:19, 893.96it/s]"
          ],
          "name": "stderr"
        },
        {
          "output_type": "stream",
          "text": [
            "Found Skill:  processing  In:  content     processing\n",
            "Found Skill:  span  In:  content     process by 70  in a span of 3 months..\n",
            "Found Skill:  tie  In:  content     new third party tie ups in adventity leading.\n",
            "Found Skill:  plus  In:  content     99  plus accuracy consistently in all process...\n",
            "Found Skill:  processing  In:  content     analytics and processing services.\n",
            "Found Skill:  word  In:  content     word\n"
          ],
          "name": "stdout"
        },
        {
          "output_type": "stream",
          "text": [
            " 76%|███████▌  | 52511/69499 [00:54<00:17, 959.98it/s]"
          ],
          "name": "stderr"
        },
        {
          "output_type": "stream",
          "text": [
            "Found Skill:  excel  In:  content     excel (less than 1 year)\n",
            "Found Skill:  word  In:  content     word (less than 1 year).\n",
            "Found Skill:  word  In:  content     word   excel.\n",
            "Found Skill:  processing  In:  content     order processing through yanmar system\n",
            "Found Skill:  acc  In:  content    acc\n"
          ],
          "name": "stdout"
        },
        {
          "output_type": "stream",
          "text": [
            " 76%|███████▌  | 52822/69499 [00:55<00:17, 971.93it/s]"
          ],
          "name": "stderr"
        },
        {
          "output_type": "stream",
          "text": [
            "Found Skill:  amos  In:  content     worked in purchasing software like amos\n",
            "Found Skill:  processing  In:  content     processing of queries\n",
            "Found Skill:  span  In:  content     in span of one year.\n",
            "Found Skill:  processing  In:  content     processing salary revision of employees\n"
          ],
          "name": "stdout"
        },
        {
          "output_type": "stream",
          "text": [
            " 77%|███████▋  | 53332/69499 [00:55<00:16, 973.39it/s] "
          ],
          "name": "stderr"
        },
        {
          "output_type": "stream",
          "text": [
            "Found Skill:  focal  In:  content     management perusal and act as the focal point...\n",
            "Found Skill:  able  In:  content     able to work in all situation .. .\n",
            "Found Skill:  access  In:  content     access and fulfill company needs..\n",
            "Found Skill:  access  In:  content     access and fulfill.\n",
            "Found Skill:  access  In:  content     access (less than 1 year)\n",
            "Found Skill:  excel  In:  content     excel (less than 1 year)\n",
            "Found Skill:  word  In:  content     (microsoft office suite word\n",
            "Found Skill:  excel  In:  content     excel\n"
          ],
          "name": "stdout"
        },
        {
          "output_type": "stream",
          "text": [
            " 77%|███████▋  | 53741/69499 [00:55<00:15, 999.99it/s]"
          ],
          "name": "stderr"
        },
        {
          "output_type": "stream",
          "text": [
            "Found Skill:  latex  In:  content     all india domestic sales for synthetic latex ...\n",
            "Found Skill:  latex  In:  content     part of the latex business team which turned ...\n",
            "Found Skill:  ici  In:  content     ici india limited -.\n",
            "Found Skill:  database  In:  content     product/services - financial database (capita...\n"
          ],
          "name": "stdout"
        },
        {
          "output_type": "stream",
          "text": [
            " 78%|███████▊  | 54044/69499 [00:56<00:15, 994.25it/s]"
          ],
          "name": "stderr"
        },
        {
          "output_type": "stream",
          "text": [
            "Found Skill:  focus  In:  content     crossknowledge s focus on learning innovation\n"
          ],
          "name": "stdout"
        },
        {
          "output_type": "stream",
          "text": [
            " 78%|███████▊  | 54349/69499 [00:56<00:15, 1005.23it/s]"
          ],
          "name": "stderr"
        },
        {
          "output_type": "stream",
          "text": [
            "Found Skill:  self  In:  content     self motivated (less than 1 year).\n"
          ],
          "name": "stdout"
        },
        {
          "output_type": "stream",
          "text": [
            " 78%|███████▊  | 54551/69499 [00:56<00:15, 970.68it/s]"
          ],
          "name": "stderr"
        },
        {
          "output_type": "stream",
          "text": [
            "Found Skill:  excel  In:  content     excel (less than 1 year)\n",
            "Found Skill:  word  In:  content     ms word (less than 1 year)\n",
            "Found Skill:  word  In:  content     word (less.\n",
            "Found Skill:  word  In:  content     it skills: well versed with ms word\n",
            "Found Skill:  excel  In:  content     excel\n",
            "Found Skill:  plus  In:  content     mba in sales   marketing with above 12 plus y...\n",
            "Found Skill:  pilot  In:  content     pilot project management: successfully planne...\n",
            "Found Skill:  gap  In:  content     product range gap to be.\n"
          ],
          "name": "stdout"
        },
        {
          "output_type": "stream",
          "text": [
            " 79%|███████▉  | 54851/69499 [00:57<00:14, 980.89it/s]"
          ],
          "name": "stderr"
        },
        {
          "output_type": "stream",
          "text": [
            "Found Skill:  chain  In:  content     streamlined supply chain in pilot regions to ...\n"
          ],
          "name": "stdout"
        },
        {
          "output_type": "stream",
          "text": [
            " 79%|███████▉  | 55153/69499 [00:57<00:14, 988.24it/s]"
          ],
          "name": "stderr"
        },
        {
          "output_type": "stream",
          "text": [
            "Found Skill:  chain  In:  content     operations manager for chain of restaurants a...\n",
            "Found Skill:  goal  In:  content     management process from goal setting\n",
            "Found Skill:  goal  In:  content     goal audit till normalization bpcl internal.\n",
            "Found Skill:  goal  In:  content     goal audit..\n"
          ],
          "name": "stdout"
        },
        {
          "output_type": "stream",
          "text": [
            " 80%|████████  | 55768/69499 [00:57<00:13, 981.09it/s] "
          ],
          "name": "stderr"
        },
        {
          "output_type": "stream",
          "text": [
            "Found Skill:  chain  In:  content     uk s largest grocery retail chain on sku leve...\n",
            "Found Skill:  focus  In:  content     customer focus\n",
            "Found Skill:  access  In:  content     computer: proficient in access\n",
            "Found Skill:  sql  In:  content     sql\n",
            "Found Skill:  sas  In:  content     sas\n",
            "Found Skill:  self  In:  content     sales consultant - cloud practice - self empl...\n",
            "Found Skill:  self  In:  content     self employed -.\n"
          ],
          "name": "stdout"
        },
        {
          "output_type": "stream",
          "text": [
            " 81%|████████  | 56068/69499 [00:58<00:13, 983.50it/s]"
          ],
          "name": "stderr"
        },
        {
          "output_type": "stream",
          "text": [
            "Found Skill:  nice  In:  content     nice call logging system\n"
          ],
          "name": "stdout"
        },
        {
          "output_type": "stream",
          "text": [
            " 81%|████████  | 56265/69499 [00:58<00:13, 957.02it/s]"
          ],
          "name": "stderr"
        },
        {
          "output_type": "stream",
          "text": [
            "Found Skill:  able  In:  content     able to prepare.\n",
            "Found Skill:  focus  In:  content     focus on generation of revenue through servic...\n",
            "Found Skill:  able  In:  content     able to prepare.\n",
            "Found Skill:  focus  In:  content     managing service operations with focus on imp...\n",
            "Found Skill:  able  In:  content     able to prepare.\n"
          ],
          "name": "stdout"
        },
        {
          "output_type": "stream",
          "text": [
            " 81%|████████  | 56463/69499 [00:58<00:13, 951.27it/s]"
          ],
          "name": "stderr"
        },
        {
          "output_type": "stream",
          "text": [
            "Found Skill:  ease  In:  content     strategic planning with sales team to ease th...\n",
            "Found Skill:  scheme  In:  content     national service scheme (nss) -  mumbai\n",
            "Found Skill:  plus  In:  content     alpha plus technologies pvt.\n"
          ],
          "name": "stdout"
        },
        {
          "output_type": "stream",
          "text": [
            " 82%|████████▏ | 56861/69499 [00:59<00:13, 955.53it/s]"
          ],
          "name": "stderr"
        },
        {
          "output_type": "stream",
          "text": [
            "Found Skill:  excel  In:  content     excel (less than 1 year)\n",
            "Found Skill:  excel  In:  content     excel 2003 (less than 1 year)\n",
            "Found Skill:  excel  In:  content     microsoft excel (less than 1. year)\n",
            "Found Skill:  excel  In:  content     windows xp     ms. office 2003     excel 2003...\n",
            "Found Skill:  excel  In:  content     to excel in marketing   sales and to make thi...\n",
            "Found Skill:  able  In:  content     patiently able to work.\n",
            "Found Skill:  able  In:  content     patiently able to work     can work in team  ...\n",
            "Found Skill:  processing  In:  content     employed strict procedures for processing cla...\n",
            "Found Skill:  database  In:  content     managed customer database and updated them ab...\n"
          ],
          "name": "stdout"
        },
        {
          "output_type": "stream",
          "text": [
            " 83%|████████▎ | 57355/69499 [00:59<00:12, 943.17it/s]"
          ],
          "name": "stderr"
        },
        {
          "output_type": "stream",
          "text": [
            "Found Skill:  able  In:  content     wherein i can able to dedicate myself and add...\n",
            "Found Skill:  plus  In:  content     company owned retail stores plus managed lavi...\n",
            "Found Skill:  cola  In:  content     coca cola and himalaya.\n",
            "Found Skill:  focus  In:  content     customer focus enhancing brand recall and foo...\n",
            "Found Skill:  gap  In:  content     identified market gap and launched various ca...\n",
            "Found Skill:  small  In:  content     product availability reach through small kios...\n",
            "Found Skill:  cola  In:  content     coca cola -  chennai\n"
          ],
          "name": "stdout"
        },
        {
          "output_type": "stream",
          "text": [
            " 83%|████████▎ | 57653/69499 [00:59<00:12, 961.83it/s]"
          ],
          "name": "stderr"
        },
        {
          "output_type": "stream",
          "text": [
            "Found Skill:  abc  In:  content     abc bearings ltd\n",
            "Found Skill:  powerhouse  In:  content     ador welding limited is a welding powerhouse ...\n",
            "Found Skill:  focus  In:  content     brand management with focus on market   reven...\n",
            "Found Skill:  planner  In:  content     different locations..     a keen planner with...\n"
          ],
          "name": "stdout"
        },
        {
          "output_type": "stream",
          "text": [
            " 83%|████████▎ | 57942/69499 [01:00<00:12, 943.27it/s]"
          ],
          "name": "stderr"
        },
        {
          "output_type": "stream",
          "text": [
            "Found Skill:  pilot  In:  content     initiated a pilot on a concept of pain clinics.\n",
            "Found Skill:  excel  In:  content     excel (less than 1 year)\n",
            "Found Skill:  excel  In:  content     ms excel (less than 1 year)\n",
            "Found Skill:  word  In:  content     ms. word (less than 1 year)\n",
            "Found Skill:  excel  In:  content     ms excel and powerpoint etc.\n",
            "Found Skill:  small  In:  content     project manager for small engagement to roll ...\n",
            "Found Skill:  sail  In:  content     onsite pm for sap implementation at sail corp...\n"
          ],
          "name": "stdout"
        },
        {
          "output_type": "stream",
          "text": [
            " 84%|████████▎ | 58134/69499 [01:00<00:12, 930.93it/s]"
          ],
          "name": "stderr"
        },
        {
          "output_type": "stream",
          "text": [
            "Found Skill:  excel  In:  content     excel avanc   (9 years)\n",
            "Found Skill:  able  In:  content     being able to estimate project technical skil...\n",
            "Found Skill:  flex  In:  content     flex\n",
            "Found Skill:  plus  In:  content     100 plus events -  agra\n",
            "Found Skill:  plus  In:  content     100 plus events with hni clients in 5 star pr...\n"
          ],
          "name": "stdout"
        },
        {
          "output_type": "stream",
          "text": [
            " 84%|████████▍ | 58423/69499 [01:00<00:11, 939.13it/s]"
          ],
          "name": "stderr"
        },
        {
          "output_type": "stream",
          "text": [
            "Found Skill:  java  In:  content     java (less than 1 year)\n",
            "Found Skill:  kotlin  In:  content     kotlin\n",
            "Found Skill:  html  In:  content     html\n",
            "Found Skill:  sql  In:  content     sql dba\n",
            "Found Skill:  c++  In:  content     c++\n",
            "Found Skill:  unity  In:  content     to do this there is unity and displn .....i m...\n",
            "Found Skill:  unity  In:  content     with unity and displn .... thank u.. .\n",
            "Found Skill:  java  In:  content     java (less than 1 year)\n",
            "Found Skill:  matlab  In:  content     matlab\n"
          ],
          "name": "stdout"
        },
        {
          "output_type": "stream",
          "text": [
            " 85%|████████▍ | 58925/69499 [01:01<00:10, 982.64it/s]"
          ],
          "name": "stderr"
        },
        {
          "output_type": "stream",
          "text": [
            "Found Skill:  focus  In:  content     features and benefits with focus on the value...\n",
            "Found Skill:  focus  In:  content     features and benefits with focus on the value...\n"
          ],
          "name": "stdout"
        },
        {
          "output_type": "stream",
          "text": [
            " 85%|████████▌ | 59230/69499 [01:01<00:10, 999.52it/s]"
          ],
          "name": "stderr"
        },
        {
          "output_type": "stream",
          "text": [
            "Found Skill:  processing  In:  content     activities for processing lease rentals / out...\n",
            "Found Skill:  scheme  In:  content     trade scheme planning\n"
          ],
          "name": "stdout"
        },
        {
          "output_type": "stream",
          "text": [
            " 86%|████████▌ | 59427/69499 [01:01<00:10, 940.37it/s]"
          ],
          "name": "stderr"
        },
        {
          "output_type": "stream",
          "text": [
            "Found Skill:  tie  In:  content     corporate tie ups for yearly subscription and...\n",
            "Found Skill:  clean  In:  content     introduced a new program clean   green market\n"
          ],
          "name": "stdout"
        },
        {
          "output_type": "stream",
          "text": [
            " 86%|████████▌ | 59717/69499 [01:02<00:10, 933.81it/s]"
          ],
          "name": "stderr"
        },
        {
          "output_type": "stream",
          "text": [
            "Found Skill:  clean  In:  content     introduced a new program clean   green mumbai\n",
            "Found Skill:  pilot  In:  content     set up and did a pilot for a corporate channe...\n",
            "Found Skill:  span  In:  content     managed to triple the numbers within a span o...\n"
          ],
          "name": "stdout"
        },
        {
          "output_type": "stream",
          "text": [
            " 86%|████████▋ | 60015/69499 [01:02<00:09, 971.80it/s]"
          ],
          "name": "stderr"
        },
        {
          "output_type": "stream",
          "text": [
            "Found Skill:  focus  In:  content     and genuine in its focus on the.\n",
            "Found Skill:  able  In:  content     adept multitasker able to deal a very high.\n",
            "Found Skill:  css  In:  content     css for quick find of availability alerts and...\n"
          ],
          "name": "stdout"
        },
        {
          "output_type": "stream",
          "text": [
            " 87%|████████▋ | 60212/69499 [01:02<00:09, 954.69it/s]"
          ],
          "name": "stderr"
        },
        {
          "output_type": "stream",
          "text": [
            "Found Skill:  .net  In:  content     trained in .net technology..\n",
            "Found Skill:  python  In:  content     experience in python scripting and pyats fram...\n",
            "Found Skill:  perl  In:  content     scripting language perl\n",
            "Found Skill:  tcl  In:  content     knowledge on tcl scripting and automated cust...\n",
            "Found Skill:  able  In:  content     also able to troubleshoot the script issues.. .\n"
          ],
          "name": "stdout"
        },
        {
          "output_type": "stream",
          "text": [
            " 87%|████████▋ | 60406/69499 [01:02<00:09, 928.20it/s]"
          ],
          "name": "stderr"
        },
        {
          "output_type": "stream",
          "text": [
            "Found Skill:  tcl  In:  content     tcl (4 years)\n",
            "Found Skill:  python  In:  content     python (2 years).\n",
            "Found Skill:  tcl  In:  content     automaton tools: tcl\n",
            "Found Skill:  python  In:  content    python\n",
            "Found Skill:  java  In:  content     programming     java\n",
            "Found Skill:  c++  In:  content     c++\n",
            "Found Skill:  matlab  In:  content     matlab\n",
            "Found Skill:  excel  In:  content     learn and excel in highly competitive environ...\n",
            "Found Skill:  able  In:  content     able to handle and overcome objections.\n",
            "Found Skill:  sql  In:  content     sql\n"
          ],
          "name": "stdout"
        },
        {
          "output_type": "stream",
          "text": [
            " 87%|████████▋ | 60689/69499 [01:03<00:09, 921.61it/s]"
          ],
          "name": "stderr"
        },
        {
          "output_type": "stream",
          "text": [
            "Found Skill:  sql  In:  content     sql\n",
            "Found Skill:  processing  In:  content     hsbc electronic data processing india pvt -  ...\n"
          ],
          "name": "stdout"
        },
        {
          "output_type": "stream",
          "text": [
            " 88%|████████▊ | 60874/69499 [01:03<00:09, 904.87it/s]"
          ],
          "name": "stderr"
        },
        {
          "output_type": "stream",
          "text": [
            "Found Skill:  c++  In:  content     c++ (less than 1 year)\n",
            "Found Skill:  css  In:  content     css (less than 1 year).\n",
            "Found Skill:  c++  In:  content     c++ and java.. .\n",
            "Found Skill:  mysql  In:  content     databases: mysql\n",
            "Found Skill:  sql  In:  content     sql server (sqlyog).\n",
            "Found Skill:  html  In:  content     web tools: html\n",
            "Found Skill:  java  In:  content     java 8 applications for login credentials wit...\n",
            "Found Skill:  excel  In:  content     excel\n",
            "Found Skill:  excel  In:  content     basic knowledge of excel\n",
            "Found Skill:  word  In:  content     ms word\n",
            "Found Skill:  excel  In:  content     excel\n"
          ],
          "name": "stdout"
        },
        {
          "output_type": "stream",
          "text": [
            " 88%|████████▊ | 61161/69499 [01:03<00:09, 920.66it/s]"
          ],
          "name": "stderr"
        },
        {
          "output_type": "stream",
          "text": [
            "Found Skill:  abc  In:  content     abc bearings ltd\n",
            "Found Skill:  powerhouse  In:  content     ador welding limited is a welding powerhouse ...\n",
            "Found Skill:  python  In:  content     perform automation through python and batch s...\n",
            "Found Skill:  c++  In:  content     c++ (less than 1 year)\n",
            "Found Skill:  python  In:  content     python\n",
            "Found Skill:  java  In:  content     languages: java\n",
            "Found Skill:  c++  In:  content     c++\n",
            "Found Skill:  python  In:  content     python\n",
            "Found Skill:  access  In:  content     mpls or at access level post migration activi...\n",
            "Found Skill:  focus  In:  content     focus on customer requirements and providing ...\n"
          ],
          "name": "stdout"
        },
        {
          "output_type": "stream",
          "text": [
            " 88%|████████▊ | 61359/69499 [01:03<00:08, 955.02it/s]"
          ],
          "name": "stderr"
        },
        {
          "output_type": "stream",
          "text": [
            "Found Skill:  access  In:  content     clusterxl etc..     asa firewall: access cont...\n",
            "Found Skill:  php  In:  content     php developer freshers.\n"
          ],
          "name": "stdout"
        },
        {
          "output_type": "stream",
          "text": [
            " 89%|████████▊ | 61655/69499 [01:04<00:08, 966.17it/s]"
          ],
          "name": "stderr"
        },
        {
          "output_type": "stream",
          "text": [
            "Found Skill:  c++  In:  content     c++ (less than 1 year)\n",
            "Found Skill:  java  In:  content     java (less than 1 year)\n",
            "Found Skill:  c++  In:  content     c++\n",
            "Found Skill:  java  In:  content     training on core java in h.p.e.s\n",
            "Found Skill:  java  In:  content     training on java (core + advance) and android...\n",
            "Found Skill:  java  In:  content     worked on java technology for the creation of...\n"
          ],
          "name": "stdout"
        },
        {
          "output_type": "stream",
          "text": [
            " 89%|████████▉ | 61848/69499 [01:04<00:08, 921.96it/s]"
          ],
          "name": "stderr"
        },
        {
          "output_type": "stream",
          "text": [
            "Found Skill:  focus  In:  content     any field as my main focus is to gain more an...\n",
            "Found Skill:  code  In:  content     commit the code to the repository and also pu...\n",
            "Found Skill:  maven  In:  content     creation of freestyle and maven projects.\n",
            "Found Skill:  snowball  In:  content     snowball\n",
            "Found Skill:  html  In:  content     web technologies: html\n",
            "Found Skill:  javascript  In:  content     javascript\n",
            "Found Skill:  php  In:  content     languages used: php\n",
            "Found Skill:  mysql  In:  content     mysql\n",
            "Found Skill:  html  In:  content     html\n",
            "Found Skill:  css  In:  content     css\n",
            "Found Skill:  javascript  In:  content     javascript and jquery.. .\n",
            "Found Skill:  database  In:  content     constantly involved in querying the database ...\n",
            "Found Skill:  clean  In:  content     i am capable of building clean and responsive...\n",
            "Found Skill:  small  In:  content     and small business websites..     http://www....\n",
            "Found Skill:  small  In:  content     small map feature included which also support...\n"
          ],
          "name": "stdout"
        },
        {
          "output_type": "stream",
          "text": [
            " 89%|████████▉ | 62029/69499 [01:04<00:08, 843.01it/s]"
          ],
          "name": "stderr"
        },
        {
          "output_type": "stream",
          "text": [
            "Found Skill:  php  In:  content     php\n",
            "Found Skill:  javascript  In:  content     javascript\n",
            "Found Skill:  css  In:  content     css\n",
            "Found Skill:  java  In:  content     programming language: core java\n",
            "Found Skill:  php  In:  content     scripting languages: php\n",
            "Found Skill:  html  In:  content     web languages: html\n",
            "Found Skill:  database  In:  content     database language: sql..     frameworks: boot...\n",
            "Found Skill:  sql  In:  content     sql and msbi developer with experience in azu...\n",
            "Found Skill:  sql  In:  content     expertise in sql server(2008 r2\n",
            "Found Skill:  sql  In:  content     sql and ssis developer/sustain resource.\n",
            "Found Skill:  database  In:  content     database combined with microsoft office excel...\n",
            "Found Skill:  database  In:  content     and download data from the forecast database\n",
            "Found Skill:  database  In:  content     uploaded back to the forecast database throug...\n",
            "Found Skill:  database  In:  content     stored in the online database and subsequentl...\n",
            "Found Skill:  sql  In:  content     developed sql server integration services pac...\n",
            "Found Skill:  code  In:  content     promptly check in the final code in vstf.. .\n",
            "Found Skill:  sql  In:  content     sql server\n",
            "Found Skill:  t-sql  In:  content     t-sql\n"
          ],
          "name": "stdout"
        },
        {
          "output_type": "stream",
          "text": [
            " 90%|████████▉ | 62293/69499 [01:04<00:08, 854.50it/s]"
          ],
          "name": "stderr"
        },
        {
          "output_type": "stream",
          "text": [
            "Found Skill:  excel  In:  content     excel (less than 1 year)\n",
            "Found Skill:  excel  In:  content     excel\n",
            "Found Skill:  .net  In:  content     .net (less than 1 year)\n",
            "Found Skill:  database  In:  content     database (less than 1 year)\n",
            "Found Skill:  sql  In:  content     ms sql server.\n",
            "Found Skill:  sql  In:  content     sql (less than 1 year).\n",
            "Found Skill:  javascript  In:  content     javascript\n",
            "Found Skill:  html  In:  content     frontend html and .net.\n",
            "Found Skill:  database  In:  content     database sql server and oracle.\n",
            "Found Skill:  powershell  In:  content     automation powershell and vsts.\n",
            "Found Skill:  database  In:  content     experience in oracle database\n",
            "Found Skill:  sql  In:  content     sql queries\n",
            "Found Skill:  sql  In:  content     sql loader\n",
            "Found Skill:  sql  In:  content     sql plus.\n",
            "Found Skill:  database  In:  content     database (3 years)\n",
            "Found Skill:  java  In:  content     core java (1 year).\n",
            "Found Skill:  database  In:  content     database tools: sql developer\n"
          ],
          "name": "stdout"
        },
        {
          "output_type": "stream",
          "text": [
            " 90%|█████████ | 62559/69499 [01:05<00:07, 875.21it/s]"
          ],
          "name": "stderr"
        },
        {
          "output_type": "stream",
          "text": [
            "Found Skill:  excel  In:  content     excel\n",
            "Found Skill:  scheme  In:  content     besides implanting promotional scheme and event.\n",
            "Found Skill:  sql  In:  content     using sql and r. o market basket analysis usi...\n",
            "Found Skill:  python  In:  content     python (2 years)\n",
            "Found Skill:  python  In:  content     languages   technologies: python\n",
            "Found Skill:  sql  In:  content     sql\n",
            "Found Skill:  java  In:  content     java (preliminary).\n"
          ],
          "name": "stdout"
        },
        {
          "output_type": "stream",
          "text": [
            " 90%|█████████ | 62748/69499 [01:05<00:07, 908.27it/s]"
          ],
          "name": "stderr"
        },
        {
          "output_type": "stream",
          "text": [
            "Found Skill:  matlab  In:  content     matlab\n",
            "Found Skill:  sql  In:  content     oracle sql developer\n",
            "Found Skill:  mysql  In:  content     mysql\n",
            "Found Skill:  excel  In:  content     excel\n"
          ],
          "name": "stdout"
        },
        {
          "output_type": "stream",
          "text": [
            " 91%|█████████ | 63030/69499 [01:05<00:07, 875.60it/s]"
          ],
          "name": "stderr"
        },
        {
          "output_type": "stream",
          "text": [
            "Found Skill:  vba  In:  content     vba developer (august\n",
            "Found Skill:  sql  In:  content     ado.net and sql server for.\n",
            "Found Skill:  sql  In:  content     ado.net and sql server for clients.. used to ...\n",
            "Found Skill:  sql  In:  content     ms sql server\n",
            "Found Skill:  xml  In:  content     xml\n",
            "Found Skill:  sql  In:  content     ms sql server\n",
            "Found Skill:  xml  In:  content     xml\n",
            "Found Skill:  sql  In:  content     primarily worked in ms sql server and c#.net ...\n",
            "Found Skill:  sql  In:  content     sql server (3 years)\n",
            "Found Skill:  javascript  In:  content     javascript (6. years)\n",
            "Found Skill:  vba  In:  content     vba (2 years)\n",
            "Found Skill:  able  In:  content     in 2012 can able to save 60\n",
            "Found Skill:  code  In:  content     code for beginner to advance level programmer.\n",
            "Found Skill:  mysql  In:  content     mysql\n",
            "Found Skill:  css  In:  content     css\n",
            "Found Skill:  mysql  In:  content     mysql db setup\n"
          ],
          "name": "stdout"
        },
        {
          "output_type": "stream",
          "text": [
            " 91%|█████████ | 63206/69499 [01:05<00:07, 859.98it/s]"
          ],
          "name": "stderr"
        },
        {
          "output_type": "stream",
          "text": [
            "Found Skill:  word  In:  content     word and excel and besic (3 years).\n",
            "Found Skill:  abap  In:  content     sap abap consultant.\n",
            "Found Skill:  abap  In:  content     sap abap consultant.\n",
            "Found Skill:  abap  In:  content     sap abap -  badi\n",
            "Found Skill:  rapid  In:  content     company has witnessed rapid expansion that ha...\n",
            "Found Skill:  excel  In:  content     developed a class to download multi excel she...\n",
            "Found Skill:  abap  In:  content     sap abap -.\n",
            "Found Skill:  abap  In:  content     sap abap -.\n",
            "Found Skill:  abap  In:  content     sap abap -  bangalore\n",
            "Found Skill:  abap  In:  content     sap abap -.\n"
          ],
          "name": "stdout"
        },
        {
          "output_type": "stream",
          "text": [
            " 91%|█████████▏| 63482/69499 [01:06<00:06, 893.84it/s]"
          ],
          "name": "stderr"
        },
        {
          "output_type": "stream",
          "text": [
            "Found Skill:  abap  In:  content     sap abap -  marmagao\n",
            "Found Skill:  abap  In:  content     sap abap consultant.\n",
            "Found Skill:  database  In:  content     customers and updates the database as  bc .\n",
            "Found Skill:  abap  In:  content     worked on abap workflow.\n"
          ],
          "name": "stdout"
        },
        {
          "output_type": "stream",
          "text": [
            " 92%|█████████▏| 63667/69499 [01:06<00:06, 903.84it/s]"
          ],
          "name": "stderr"
        },
        {
          "output_type": "stream",
          "text": [
            "Found Skill:  database  In:  content     maintain the full database of generated leads.\n",
            "Found Skill:  database  In:  content     responsible to maintain the database of the c...\n",
            "Found Skill:  clean  In:  content     euro clean - marketing section.\n",
            "Found Skill:  timber  In:  content       timber importers.\n",
            "Found Skill:  planner  In:  content     a keen planner and implementer with around 13...\n"
          ],
          "name": "stdout"
        },
        {
          "output_type": "stream",
          "text": [
            " 92%|█████████▏| 63951/69499 [01:06<00:05, 933.94it/s]"
          ],
          "name": "stderr"
        },
        {
          "output_type": "stream",
          "text": [
            "Found Skill:  natural  In:  content     ati promoted  devbhumi natural products produ...\n",
            "Found Skill:  chain  In:  content     departments..     supply chain development   ...\n",
            "Found Skill:  excel  In:  content     excel (10+ years)\n",
            "Found Skill:  excel  In:  content     ms excel (10+ years).\n",
            "Found Skill:  excel  In:  content     application/ms excel and ms word.\n",
            "Found Skill:  database  In:  content     * building own database of clients and contac...\n",
            "Found Skill:  able  In:  content     * excellent interpersonal skills and able to ...\n",
            "Found Skill:  focus  In:  content     focus on voice integration\n"
          ],
          "name": "stdout"
        },
        {
          "output_type": "stream",
          "text": [
            " 93%|█████████▎| 64338/69499 [01:07<00:05, 959.39it/s]"
          ],
          "name": "stderr"
        },
        {
          "output_type": "stream",
          "text": [
            "Found Skill:  database  In:  content     database management: dbase\n",
            "Found Skill:  foxpro  In:  content     visual foxpro\n",
            "Found Skill:  access  In:  content     ms access\n",
            "Found Skill:  mysql  In:  content     mysql\n",
            "Found Skill:  access  In:  content     recruited to serve in an area with access to ...\n"
          ],
          "name": "stdout"
        },
        {
          "output_type": "stream",
          "text": [
            " 93%|█████████▎| 64536/69499 [01:07<00:05, 952.37it/s]"
          ],
          "name": "stderr"
        },
        {
          "output_type": "stream",
          "text": [
            "Found Skill:  max  In:  content     max hospital.\n",
            "Found Skill:  chain  In:  content     handling pharmacy retail chain ipd as well as...\n"
          ],
          "name": "stdout"
        },
        {
          "output_type": "stream",
          "text": [
            " 93%|█████████▎| 64824/69499 [01:07<00:04, 945.44it/s]"
          ],
          "name": "stderr"
        },
        {
          "output_type": "stream",
          "text": [
            "Found Skill:  excel  In:  content     excel (less than 1 year)\n",
            "Found Skill:  word  In:  content     ms. word (less than 1 year)\n",
            "Found Skill:  self  In:  content     self motivated (less than 1 year).\n"
          ],
          "name": "stdout"
        },
        {
          "output_type": "stream",
          "text": [
            " 94%|█████████▎| 65013/69499 [01:07<00:04, 931.63it/s]"
          ],
          "name": "stderr"
        },
        {
          "output_type": "stream",
          "text": [
            "Found Skill:  tea  In:  content     khra sona tea co. ltd.. .\n",
            "Found Skill:  tea  In:  content     khra sona tea co. -.\n",
            "Found Skill:  small  In:  content     division: automotive sub division: small comm...\n",
            "Found Skill:  self  In:  content     self confidence\n",
            "Found Skill:  excel  In:  content     hard working and always strive to excel and a...\n",
            "Found Skill:  self  In:  content     i have not tied my self in a specific field\n"
          ],
          "name": "stdout"
        },
        {
          "output_type": "stream",
          "text": [
            " 94%|█████████▍| 65307/69499 [01:08<00:04, 961.50it/s]"
          ],
          "name": "stderr"
        },
        {
          "output_type": "stream",
          "text": [
            "Found Skill:  pilot  In:  content     set up and did a pilot for a corporate channe...\n",
            "Found Skill:  span  In:  content     managed to triple the numbers within a span o...\n"
          ],
          "name": "stdout"
        },
        {
          "output_type": "stream",
          "text": [
            " 94%|█████████▍| 65608/69499 [01:08<00:03, 981.91it/s]"
          ],
          "name": "stderr"
        },
        {
          "output_type": "stream",
          "text": [
            "Found Skill:  c++  In:  content     c++ (less than 1 year)\n",
            "Found Skill:  database  In:  content     database management system.\n",
            "Found Skill:  harbour  In:  content     western and harbour line)\n"
          ],
          "name": "stdout"
        },
        {
          "output_type": "stream",
          "text": [
            " 95%|█████████▍| 66005/69499 [01:08<00:03, 979.27it/s]"
          ],
          "name": "stderr"
        },
        {
          "output_type": "stream",
          "text": [
            "Found Skill:  self  In:  content     develop self   others..     analytical   data...\n",
            "Found Skill:  c++  In:  content     c++ (less than 1 year)\n"
          ],
          "name": "stdout"
        },
        {
          "output_type": "stream",
          "text": [
            " 95%|█████████▌| 66201/69499 [01:09<00:03, 945.76it/s]"
          ],
          "name": "stderr"
        },
        {
          "output_type": "stream",
          "text": [
            "Found Skill:  blue  In:  content     where in blue star s. presence is not there..\n",
            "Found Skill:  blue  In:  content     blue star make ahri certified screw chillers ...\n",
            "Found Skill:  blue  In:  content     sales of 9800 tr of blue star make screw chil...\n",
            "Found Skill:  blue  In:  content     blue star ltd -  gurgaon\n",
            "Found Skill:  blue  In:  content     blue star ltd -  gurgaon\n",
            "Found Skill:  blue  In:  content     blue star ltd -  gurgaon\n",
            "Found Skill:  blue  In:  content     blue star ltd -  gurgaon\n",
            "Found Skill:  blue  In:  content     m/s blue star ltd -  new delhi\n",
            "Found Skill:  plus  In:  content     plus four wheel\n",
            "Found Skill:  plus  In:  content     plus allowances and other perks.. .\n"
          ],
          "name": "stdout"
        },
        {
          "output_type": "stream",
          "text": [
            " 96%|█████████▌| 66488/69499 [01:09<00:03, 939.13it/s]"
          ],
          "name": "stderr"
        },
        {
          "output_type": "stream",
          "text": [
            "Found Skill:  sql  In:  content     sql\n",
            "Found Skill:  excel  In:  content     ms office tools: ms excel\n",
            "Found Skill:  word  In:  content     ms word\n",
            "Found Skill:  c++  In:  content     c++\n"
          ],
          "name": "stdout"
        },
        {
          "output_type": "stream",
          "text": [
            " 96%|█████████▌| 66778/69499 [01:09<00:02, 954.14it/s]"
          ],
          "name": "stderr"
        },
        {
          "output_type": "stream",
          "text": [
            "Found Skill:  small  In:  content     small towns like\n",
            "Found Skill:  acc  In:  content     m com in acc\n"
          ],
          "name": "stdout"
        },
        {
          "output_type": "stream",
          "text": [
            " 96%|█████████▋| 66976/69499 [01:09<00:02, 971.41it/s]"
          ],
          "name": "stderr"
        },
        {
          "output_type": "stream",
          "text": [
            "Found Skill:  max  In:  content     2) company name: working with max new york li...\n",
            "Found Skill:  max  In:  content     worked 9 months in max new york life insuranc...\n"
          ],
          "name": "stdout"
        },
        {
          "output_type": "stream",
          "text": [
            " 97%|█████████▋| 67272/69499 [01:10<00:02, 968.67it/s]"
          ],
          "name": "stderr"
        },
        {
          "output_type": "stream",
          "text": [
            "Found Skill:  scheme  In:  content     planned a scheme for the distributors and dea...\n",
            "Found Skill:  small  In:  content     generated the business from small towns\n"
          ],
          "name": "stdout"
        },
        {
          "output_type": "stream",
          "text": [
            " 97%|█████████▋| 67582/69499 [01:10<00:01, 990.14it/s]"
          ],
          "name": "stderr"
        },
        {
          "output_type": "stream",
          "text": [
            "Found Skill:  processing  In:  content     processing   determining the.\n",
            "Found Skill:  processing  In:  content     processing   determining the eligibility\n",
            "Found Skill:  processing  In:  content     data processing of u.s. based concern..\n",
            "Found Skill:  red  In:  content     maintenance and administration of red hat ent...\n"
          ],
          "name": "stdout"
        },
        {
          "output_type": "stream",
          "text": [
            " 98%|█████████▊| 67881/69499 [01:10<00:01, 955.52it/s]"
          ],
          "name": "stderr"
        },
        {
          "output_type": "stream",
          "text": [
            "Found Skill:  c++  In:  content     development experience in c++ while working o...\n",
            "Found Skill:  database  In:  content     working experience on database module and fix...\n",
            "Found Skill:  unity  In:  content     provided support of unity connection on cloud...\n",
            "Found Skill:  miranda  In:  content     miranda house -  delhi\n",
            "Found Skill:  c++  In:  content     c++ (3 years)\n",
            "Found Skill:  html  In:  content     html and .net programmer b.tech fresher.\n",
            "Found Skill:  html  In:  content     html\n",
            "Found Skill:  sql  In:  content     sql server.\n",
            "Found Skill:  c++  In:  content     c++\n",
            "Found Skill:  self  In:  content     self motivated\n"
          ],
          "name": "stdout"
        },
        {
          "output_type": "stream",
          "text": [
            " 98%|█████████▊| 68075/69499 [01:11<00:01, 938.03it/s]"
          ],
          "name": "stderr"
        },
        {
          "output_type": "stream",
          "text": [
            "Found Skill:  access  In:  content     reduction of access request processing cycle ...\n",
            "Found Skill:  sql  In:  content     sql server 2005\n"
          ],
          "name": "stdout"
        },
        {
          "output_type": "stream",
          "text": [
            " 98%|█████████▊| 68263/69499 [01:11<00:01, 894.08it/s]"
          ],
          "name": "stderr"
        },
        {
          "output_type": "stream",
          "text": [
            "Found Skill:  code  In:  content     handling framework..     review the bw code a...\n",
            "Found Skill:  code  In:  content     deploy the bw code in dev and qa environments...\n",
            "Found Skill:  sql  In:  content     sql server 2005.. .\n",
            "Found Skill:  database  In:  content     update iris database\n",
            "Found Skill:  sql  In:  content     integrate bw services with sql server\n",
            "Found Skill:  code  In:  content     deploy the bw code in dev and qa environments..\n",
            "Found Skill:  sql  In:  content     sql server 2005.. .\n",
            "Found Skill: "
          ],
          "name": "stdout"
        },
        {
          "output_type": "stream",
          "text": [
            " 98%|█████████▊| 68442/69499 [01:11<00:01, 877.99it/s]"
          ],
          "name": "stderr"
        },
        {
          "output_type": "stream",
          "text": [
            " xml  In:  content     designed xml schema definitions (xsd) for mes...\n",
            "Found Skill:  pipelines  In:  content     pipelines etc).\n",
            "Found Skill:  excel  In:  content     excel sheet.\n",
            "Found Skill:  code  In:  content     reviewed the code delivered based on design d...\n",
            "Found Skill:  code  In:  content     deployed the delivered code in dev environmen...\n",
            "Found Skill:  sql  In:  content     sql\n",
            "Found Skill:  access  In:  content     ms access\n",
            "Found Skill:  xml  In:  content     created sample xml and xsd for the business c...\n",
            "Found Skill:  .net  In:  content     developed .net program using the siebel adapt...\n",
            "Found Skill:  .net  In:  content     developed .net program to extract metadata fo...\n",
            "Found Skill:  .net  In:  content     developed .net program to post data into sieb...\n",
            "Found Skill:  .net  In:  content     whidbey (microsoft visual studio .net 2005)\n",
            "Found Skill:  .net  In:  content     .net 2.0.. .\n"
          ],
          "name": "stdout"
        },
        {
          "output_type": "stream",
          "text": [
            " 99%|█████████▊| 68617/69499 [01:11<00:01, 840.41it/s]"
          ],
          "name": "stderr"
        },
        {
          "output_type": "stream",
          "text": [
            "Found Skill:  focus  In:  content     primary focus is on development of tibco adap...\n",
            "Found Skill:  code  In:  content     prepared code review guide documentation for ...\n",
            "Found Skill:  code  In:  content     this document captures the code changes that ...\n",
            "Found Skill:  sql  In:  content     pl sql script changes for the all transaction...\n",
            "Found Skill:  code  In:  content     prepared code review guide documentation for ...\n",
            "Found Skill:  code  In:  content     its code level details to.\n",
            "Found Skill:  java  In:  content     environment: java\n",
            "Found Skill:  sql  In:  content     pl sql coding\n",
            "Found Skill:  red  In:  content     red hat linux as 3.0\n",
            "Found Skill:  java  In:  content     java programming\n",
            "Found Skill:  html  In:  content     html\n",
            "Found Skill:  java  In:  content     dhtml   java script.\n",
            "Found Skill:  .net  In:  content     the project involves development of the .net ...\n",
            "Found Skill:  .net  In:  content     a proof of concept where .net components are ...\n",
            "Found Skill:  excel  In:  content     share point portal and microsoft excel to sup...\n"
          ],
          "name": "stdout"
        },
        {
          "output_type": "stream",
          "text": [
            " 99%|█████████▉| 68871/69499 [01:12<00:00, 836.69it/s]"
          ],
          "name": "stderr"
        },
        {
          "output_type": "stream",
          "text": [
            "Found Skill:  bpel  In:  content     - oracle bpel\n",
            "Found Skill:  c++  In:  content     c++\n",
            "Found Skill:  .net  In:  content     .net 2.0\n",
            "Found Skill:  sql  In:  content     sql\n",
            "Found Skill:  pl/sql  In:  content     pl/sql\n",
            "Found Skill:  groovy  In:  content     groovy\n",
            "Found Skill:  java  In:  content     drools and java 1.4.x.\n",
            "Found Skill:  sql  In:  content     ms sql server 2000\n",
            "Found Skill:  sql  In:  content     ms sql server 2005.\n",
            "Found Skill:  xml  In:  content     xml xml\n",
            "Found Skill:  xpath  In:  content     xpath\n",
            "Found Skill:  html  In:  content     technology html\n",
            "Found Skill:  vbscript  In:  content     vbscript\n",
            "Found Skill:  javascript  In:  content     javascript\n",
            "Found Skill:  html  In:  content     html\n",
            "Found Skill:  sql  In:  content     sql dba\n",
            "Found Skill:  php  In:  content     php\n",
            "Found Skill:  self  In:  content     satisfaction and self development and help me...\n"
          ],
          "name": "stdout"
        },
        {
          "output_type": "stream",
          "text": [
            "100%|█████████▉| 69318/69499 [01:12<00:00, 881.29it/s]"
          ],
          "name": "stderr"
        },
        {
          "output_type": "stream",
          "text": [
            "Found Skill:  scheme  In:  content     logistics and scheme and marketing activities...\n",
            "Found Skill:  excel  In:  content     enthusiasm and a desire to excel\n"
          ],
          "name": "stdout"
        },
        {
          "output_type": "stream",
          "text": [
            "100%|██████████| 69499/69499 [01:12<00:00, 954.99it/s]\n"
          ],
          "name": "stderr"
        },
        {
          "output_type": "stream",
          "text": [
            "Found Skill:  clean  In:  content     regulate the process during batch and clean i...\n",
            "Found Skill:  processing  In:  content     upstream processing of h1n1 monovalent vaccin...\n"
          ],
          "name": "stdout"
        }
      ]
    },
    {
      "cell_type": "code",
      "metadata": {
        "colab_type": "code",
        "id": "p6Q_dBFOw0uw",
        "colab": {}
      },
      "source": [
        "label_model = LabelModel(cardinality=6, verbose=True)"
      ],
      "execution_count": 52,
      "outputs": []
    },
    {
      "cell_type": "code",
      "metadata": {
        "colab_type": "code",
        "id": "9kIeJlQ5w0ux",
        "colab": {}
      },
      "source": [
        "label_model.fit(L_train, n_epochs=500, log_freq=50, seed=123)"
      ],
      "execution_count": 53,
      "outputs": []
    },
    {
      "cell_type": "code",
      "metadata": {
        "colab_type": "code",
        "id": "uGXcOQ08w0uz",
        "colab": {}
      },
      "source": [
        "df_spacy[\"label\"] = label_model.predict(L=L_train, tie_break_policy=\"abstain\")"
      ],
      "execution_count": 54,
      "outputs": []
    },
    {
      "cell_type": "code",
      "metadata": {
        "colab_type": "code",
        "id": "joUCXpC_w0u2",
        "scrolled": true,
        "colab": {
          "base_uri": "https://localhost:8080/",
          "height": 228
        },
        "outputId": "1252f08e-0af3-4513-8e5e-5f5aeba32fdc"
      },
      "source": [
        "df_spacy[\"label\"]"
      ],
      "execution_count": 55,
      "outputs": [
        {
          "output_type": "execute_result",
          "data": {
            "text/plain": [
              "0       -1\n",
              "1       -1\n",
              "2       -1\n",
              "3       -1\n",
              "4       -1\n",
              "        ..\n",
              "69494   -1\n",
              "69495   -1\n",
              "69496   -1\n",
              "69497   -1\n",
              "69498   -1\n",
              "Name: label, Length: 69499, dtype: int64"
            ]
          },
          "metadata": {
            "tags": []
          },
          "execution_count": 55
        }
      ]
    },
    {
      "cell_type": "code",
      "metadata": {
        "colab_type": "code",
        "id": "omPvpuTZw0u4",
        "colab": {}
      },
      "source": [
        "df_spacy.to_csv(path_or_buf = 'snorkel_labeled.csv',index=False)\n",
        "df_spacy = df_spacy[df_spacy.label != ABSTAIN]"
      ],
      "execution_count": 56,
      "outputs": []
    }
  ]
}