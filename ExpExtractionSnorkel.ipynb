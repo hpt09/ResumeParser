{
  "nbformat": 4,
  "nbformat_minor": 0,
  "metadata": {
    "colab": {
      "name": "ExpExtractionSnorkel.ipynb",
      "provenance": [],
      "collapsed_sections": [],
      "include_colab_link": true
    },
    "kernelspec": {
      "display_name": "Python 3",
      "language": "python",
      "name": "python3"
    },
    "language_info": {
      "codemirror_mode": {
        "name": "ipython",
        "version": 3
      },
      "file_extension": ".py",
      "mimetype": "text/x-python",
      "name": "python",
      "nbconvert_exporter": "python",
      "pygments_lexer": "ipython3",
      "version": "3.8.5"
    }
  },
  "cells": [
    {
      "cell_type": "markdown",
      "metadata": {
        "id": "view-in-github",
        "colab_type": "text"
      },
      "source": [
        "<a href=\"https://colab.research.google.com/github/hpt09/ResumeParser/blob/master/ExpExtractionSnorkel.ipynb\" target=\"_parent\"><img src=\"https://colab.research.google.com/assets/colab-badge.svg\" alt=\"Open In Colab\"/></a>"
      ]
    },
    {
      "cell_type": "code",
      "metadata": {
        "colab_type": "code",
        "id": "ug8PIEeYw-7_",
        "scrolled": true,
        "colab": {
          "base_uri": "https://localhost:8080/",
          "height": 1000
        },
        "outputId": "76a0628d-dfda-476b-e197-77fcd3f8e584"
      },
      "source": [
        "!pip install snorkel\n",
        "!pip install nltk\n",
        "!pip install spacy\n",
        "!pip install phonenumbers"
      ],
      "execution_count": null,
      "outputs": [
        {
          "output_type": "stream",
          "text": [
            "Collecting snorkel\n",
            "\u001b[?25l  Downloading https://files.pythonhosted.org/packages/4e/6a/e33babd8b4fb34867b695b5ab6b02c9106ec9de05ed4a02b2b9417eb3ae7/snorkel-0.9.6-py3-none-any.whl (144kB)\n",
            "\r\u001b[K     |██▎                             | 10kB 17.5MB/s eta 0:00:01\r\u001b[K     |████▌                           | 20kB 2.9MB/s eta 0:00:01\r\u001b[K     |██████▉                         | 30kB 3.9MB/s eta 0:00:01\r\u001b[K     |█████████                       | 40kB 4.1MB/s eta 0:00:01\r\u001b[K     |███████████▍                    | 51kB 3.3MB/s eta 0:00:01\r\u001b[K     |█████████████▋                  | 61kB 3.7MB/s eta 0:00:01\r\u001b[K     |███████████████▉                | 71kB 4.1MB/s eta 0:00:01\r\u001b[K     |██████████████████▏             | 81kB 4.2MB/s eta 0:00:01\r\u001b[K     |████████████████████▍           | 92kB 4.4MB/s eta 0:00:01\r\u001b[K     |██████████████████████▊         | 102kB 4.6MB/s eta 0:00:01\r\u001b[K     |█████████████████████████       | 112kB 4.6MB/s eta 0:00:01\r\u001b[K     |███████████████████████████▎    | 122kB 4.6MB/s eta 0:00:01\r\u001b[K     |█████████████████████████████▌  | 133kB 4.6MB/s eta 0:00:01\r\u001b[K     |███████████████████████████████▊| 143kB 4.6MB/s eta 0:00:01\r\u001b[K     |████████████████████████████████| 153kB 4.6MB/s \n",
            "\u001b[?25hRequirement already satisfied: numpy<2.0.0,>=1.16.0 in /usr/local/lib/python3.6/dist-packages (from snorkel) (1.18.5)\n",
            "Requirement already satisfied: scipy<2.0.0,>=1.2.0 in /usr/local/lib/python3.6/dist-packages (from snorkel) (1.4.1)\n",
            "Collecting munkres>=1.0.6\n",
            "  Downloading https://files.pythonhosted.org/packages/64/97/61ddc63578870e04db6eb1d3bee58ad4e727f682068a7c7405edb8b2cdeb/munkres-1.1.2-py2.py3-none-any.whl\n",
            "Collecting scikit-learn<0.22.0,>=0.20.2\n",
            "\u001b[?25l  Downloading https://files.pythonhosted.org/packages/a0/c5/d2238762d780dde84a20b8c761f563fe882b88c5a5fb03c056547c442a19/scikit_learn-0.21.3-cp36-cp36m-manylinux1_x86_64.whl (6.7MB)\n",
            "\u001b[K     |████████████████████████████████| 6.7MB 8.6MB/s \n",
            "\u001b[?25hCollecting networkx<2.4,>=2.2\n",
            "\u001b[?25l  Downloading https://files.pythonhosted.org/packages/85/08/f20aef11d4c343b557e5de6b9548761811eb16e438cee3d32b1c66c8566b/networkx-2.3.zip (1.7MB)\n",
            "\u001b[K     |████████████████████████████████| 1.8MB 22.4MB/s \n",
            "\u001b[?25hRequirement already satisfied: torch<2.0.0,>=1.2.0 in /usr/local/lib/python3.6/dist-packages (from snorkel) (1.6.0+cu101)\n",
            "Requirement already satisfied: tqdm<5.0.0,>=4.33.0 in /usr/local/lib/python3.6/dist-packages (from snorkel) (4.41.1)\n",
            "Requirement already satisfied: pandas<2.0.0,>=0.25.0 in /usr/local/lib/python3.6/dist-packages (from snorkel) (1.0.5)\n",
            "Collecting tensorboard<2.0.0,>=1.14.0\n",
            "\u001b[?25l  Downloading https://files.pythonhosted.org/packages/1e/e9/d3d747a97f7188f48aa5eda486907f3b345cd409f0a0850468ba867db246/tensorboard-1.15.0-py3-none-any.whl (3.8MB)\n",
            "\u001b[K     |████████████████████████████████| 3.8MB 45.2MB/s \n",
            "\u001b[?25hRequirement already satisfied: joblib>=0.11 in /usr/local/lib/python3.6/dist-packages (from scikit-learn<0.22.0,>=0.20.2->snorkel) (0.16.0)\n",
            "Requirement already satisfied: decorator>=4.3.0 in /usr/local/lib/python3.6/dist-packages (from networkx<2.4,>=2.2->snorkel) (4.4.2)\n",
            "Requirement already satisfied: future in /usr/local/lib/python3.6/dist-packages (from torch<2.0.0,>=1.2.0->snorkel) (0.16.0)\n",
            "Requirement already satisfied: pytz>=2017.2 in /usr/local/lib/python3.6/dist-packages (from pandas<2.0.0,>=0.25.0->snorkel) (2018.9)\n",
            "Requirement already satisfied: python-dateutil>=2.6.1 in /usr/local/lib/python3.6/dist-packages (from pandas<2.0.0,>=0.25.0->snorkel) (2.8.1)\n",
            "Requirement already satisfied: absl-py>=0.4 in /usr/local/lib/python3.6/dist-packages (from tensorboard<2.0.0,>=1.14.0->snorkel) (0.8.1)\n",
            "Requirement already satisfied: markdown>=2.6.8 in /usr/local/lib/python3.6/dist-packages (from tensorboard<2.0.0,>=1.14.0->snorkel) (3.2.2)\n",
            "Requirement already satisfied: protobuf>=3.6.0 in /usr/local/lib/python3.6/dist-packages (from tensorboard<2.0.0,>=1.14.0->snorkel) (3.12.4)\n",
            "Requirement already satisfied: setuptools>=41.0.0 in /usr/local/lib/python3.6/dist-packages (from tensorboard<2.0.0,>=1.14.0->snorkel) (49.6.0)\n",
            "Requirement already satisfied: wheel>=0.26; python_version >= \"3\" in /usr/local/lib/python3.6/dist-packages (from tensorboard<2.0.0,>=1.14.0->snorkel) (0.35.1)\n",
            "Requirement already satisfied: six>=1.10.0 in /usr/local/lib/python3.6/dist-packages (from tensorboard<2.0.0,>=1.14.0->snorkel) (1.15.0)\n",
            "Requirement already satisfied: grpcio>=1.6.3 in /usr/local/lib/python3.6/dist-packages (from tensorboard<2.0.0,>=1.14.0->snorkel) (1.31.0)\n",
            "Requirement already satisfied: werkzeug>=0.11.15 in /usr/local/lib/python3.6/dist-packages (from tensorboard<2.0.0,>=1.14.0->snorkel) (1.0.1)\n",
            "Requirement already satisfied: importlib-metadata; python_version < \"3.8\" in /usr/local/lib/python3.6/dist-packages (from markdown>=2.6.8->tensorboard<2.0.0,>=1.14.0->snorkel) (1.7.0)\n",
            "Requirement already satisfied: zipp>=0.5 in /usr/local/lib/python3.6/dist-packages (from importlib-metadata; python_version < \"3.8\"->markdown>=2.6.8->tensorboard<2.0.0,>=1.14.0->snorkel) (3.1.0)\n",
            "Building wheels for collected packages: networkx\n",
            "  Building wheel for networkx (setup.py) ... \u001b[?25l\u001b[?25hdone\n",
            "  Created wheel for networkx: filename=networkx-2.3-py2.py3-none-any.whl size=1556409 sha256=4b5c2cf1791bf836a7d6c78a38c946999634688a156c87d6383096f86dd19e5a\n",
            "  Stored in directory: /root/.cache/pip/wheels/de/63/64/3699be2a9d0ccdb37c7f16329acf3863fd76eda58c39c737af\n",
            "Successfully built networkx\n",
            "\u001b[31mERROR: tensorflow 2.3.0 has requirement tensorboard<3,>=2.3.0, but you'll have tensorboard 1.15.0 which is incompatible.\u001b[0m\n",
            "\u001b[31mERROR: albumentations 0.1.12 has requirement imgaug<0.2.7,>=0.2.5, but you'll have imgaug 0.2.9 which is incompatible.\u001b[0m\n",
            "Installing collected packages: munkres, scikit-learn, networkx, tensorboard, snorkel\n",
            "  Found existing installation: scikit-learn 0.22.2.post1\n",
            "    Uninstalling scikit-learn-0.22.2.post1:\n",
            "      Successfully uninstalled scikit-learn-0.22.2.post1\n",
            "  Found existing installation: networkx 2.5\n",
            "    Uninstalling networkx-2.5:\n",
            "      Successfully uninstalled networkx-2.5\n",
            "  Found existing installation: tensorboard 2.3.0\n",
            "    Uninstalling tensorboard-2.3.0:\n",
            "      Successfully uninstalled tensorboard-2.3.0\n",
            "Successfully installed munkres-1.1.2 networkx-2.3 scikit-learn-0.21.3 snorkel-0.9.6 tensorboard-1.15.0\n",
            "Requirement already satisfied: nltk in /usr/local/lib/python3.6/dist-packages (3.2.5)\n",
            "Requirement already satisfied: six in /usr/local/lib/python3.6/dist-packages (from nltk) (1.15.0)\n",
            "Requirement already satisfied: spacy in /usr/local/lib/python3.6/dist-packages (2.2.4)\n",
            "Requirement already satisfied: thinc==7.4.0 in /usr/local/lib/python3.6/dist-packages (from spacy) (7.4.0)\n",
            "Requirement already satisfied: murmurhash<1.1.0,>=0.28.0 in /usr/local/lib/python3.6/dist-packages (from spacy) (1.0.2)\n",
            "Requirement already satisfied: plac<1.2.0,>=0.9.6 in /usr/local/lib/python3.6/dist-packages (from spacy) (1.1.3)\n",
            "Requirement already satisfied: cymem<2.1.0,>=2.0.2 in /usr/local/lib/python3.6/dist-packages (from spacy) (2.0.3)\n",
            "Requirement already satisfied: catalogue<1.1.0,>=0.0.7 in /usr/local/lib/python3.6/dist-packages (from spacy) (1.0.0)\n",
            "Requirement already satisfied: tqdm<5.0.0,>=4.38.0 in /usr/local/lib/python3.6/dist-packages (from spacy) (4.41.1)\n",
            "Requirement already satisfied: preshed<3.1.0,>=3.0.2 in /usr/local/lib/python3.6/dist-packages (from spacy) (3.0.2)\n",
            "Requirement already satisfied: requests<3.0.0,>=2.13.0 in /usr/local/lib/python3.6/dist-packages (from spacy) (2.23.0)\n",
            "Requirement already satisfied: srsly<1.1.0,>=1.0.2 in /usr/local/lib/python3.6/dist-packages (from spacy) (1.0.2)\n",
            "Requirement already satisfied: numpy>=1.15.0 in /usr/local/lib/python3.6/dist-packages (from spacy) (1.18.5)\n",
            "Requirement already satisfied: blis<0.5.0,>=0.4.0 in /usr/local/lib/python3.6/dist-packages (from spacy) (0.4.1)\n",
            "Requirement already satisfied: setuptools in /usr/local/lib/python3.6/dist-packages (from spacy) (49.6.0)\n",
            "Requirement already satisfied: wasabi<1.1.0,>=0.4.0 in /usr/local/lib/python3.6/dist-packages (from spacy) (0.7.1)\n",
            "Requirement already satisfied: importlib-metadata>=0.20; python_version < \"3.8\" in /usr/local/lib/python3.6/dist-packages (from catalogue<1.1.0,>=0.0.7->spacy) (1.7.0)\n",
            "Requirement already satisfied: certifi>=2017.4.17 in /usr/local/lib/python3.6/dist-packages (from requests<3.0.0,>=2.13.0->spacy) (2020.6.20)\n",
            "Requirement already satisfied: chardet<4,>=3.0.2 in /usr/local/lib/python3.6/dist-packages (from requests<3.0.0,>=2.13.0->spacy) (3.0.4)\n",
            "Requirement already satisfied: idna<3,>=2.5 in /usr/local/lib/python3.6/dist-packages (from requests<3.0.0,>=2.13.0->spacy) (2.10)\n",
            "Requirement already satisfied: urllib3!=1.25.0,!=1.25.1,<1.26,>=1.21.1 in /usr/local/lib/python3.6/dist-packages (from requests<3.0.0,>=2.13.0->spacy) (1.24.3)\n",
            "Requirement already satisfied: zipp>=0.5 in /usr/local/lib/python3.6/dist-packages (from importlib-metadata>=0.20; python_version < \"3.8\"->catalogue<1.1.0,>=0.0.7->spacy) (3.1.0)\n",
            "Collecting phonenumbers\n",
            "\u001b[?25l  Downloading https://files.pythonhosted.org/packages/fd/7a/bf7d31aee3bb295a49fc91854109615d368b99f9de53c959ed8c79b5532c/phonenumbers-8.12.9-py2.py3-none-any.whl (2.6MB)\n",
            "\u001b[K     |████████████████████████████████| 2.6MB 4.7MB/s \n",
            "\u001b[?25hInstalling collected packages: phonenumbers\n",
            "Successfully installed phonenumbers-8.12.9\n"
          ],
          "name": "stdout"
        }
      ]
    },
    {
      "cell_type": "code",
      "metadata": {
        "colab_type": "code",
        "id": "Mp6b0JFIw0tk",
        "colab": {}
      },
      "source": [
        "%load_ext autoreload\n",
        "%autoreload 2"
      ],
      "execution_count": null,
      "outputs": []
    },
    {
      "cell_type": "code",
      "metadata": {
        "colab_type": "code",
        "id": "jqy21lfaw0to",
        "colab": {}
      },
      "source": [
        "import pandas as pd\n",
        "from snorkel.labeling import labeling_function\n",
        "import nltk\n",
        "import spacy\n",
        "import phonenumbers"
      ],
      "execution_count": null,
      "outputs": []
    },
    {
      "cell_type": "code",
      "metadata": {
        "colab_type": "code",
        "id": "hMAr5WYEyGkz",
        "colab": {
          "base_uri": "https://localhost:8080/",
          "height": 67
        },
        "outputId": "486347b0-5943-417a-adb2-1a8933ff774c"
      },
      "source": [
        "nltk.download('punkt')"
      ],
      "execution_count": null,
      "outputs": [
        {
          "output_type": "stream",
          "text": [
            "[nltk_data] Downloading package punkt to /root/nltk_data...\n",
            "[nltk_data]   Unzipping tokenizers/punkt.zip.\n"
          ],
          "name": "stdout"
        },
        {
          "output_type": "execute_result",
          "data": {
            "text/plain": [
              "True"
            ]
          },
          "metadata": {
            "tags": []
          },
          "execution_count": 4
        }
      ]
    },
    {
      "cell_type": "markdown",
      "metadata": {
        "id": "UvMV9zUK4DHI",
        "colab_type": "text"
      },
      "source": [
        "### Information Extraction"
      ]
    },
    {
      "cell_type": "code",
      "metadata": {
        "id": "WFtXT-eu4gtZ",
        "colab_type": "code",
        "colab": {}
      },
      "source": [
        "import pandas as pd\n",
        "from snorkel.labeling import labeling_function\n",
        "import nltk\n",
        "\n",
        "import spacy\n",
        "nlp = spacy.load(\"en_core_web_sm\")"
      ],
      "execution_count": null,
      "outputs": []
    },
    {
      "cell_type": "code",
      "metadata": {
        "id": "AWDf906b4hDW",
        "colab_type": "code",
        "colab": {}
      },
      "source": [
        "df_spacy = pd.read_csv(r\"cleaned_sentences.csv\")"
      ],
      "execution_count": null,
      "outputs": []
    },
    {
      "cell_type": "code",
      "metadata": {
        "id": "xQSZLL1Z4hWK",
        "colab_type": "code",
        "colab": {}
      },
      "source": [
        "ABSTAIN = -1\n",
        "NAME = 1\n",
        "SKILL = 2\n",
        "EMAIL = 3\n",
        "PHONE = 4\n",
        "EXP = 5"
      ],
      "execution_count": null,
      "outputs": []
    },
    {
      "cell_type": "code",
      "metadata": {
        "id": "Zl0otazn4DHJ",
        "colab_type": "code",
        "colab": {}
      },
      "source": [
        "import re\n",
        "@labeling_function()\n",
        "def lf_phone_extraction(x):\n",
        "    x = x.to_string()\n",
        "    text = x.lower()\n",
        "    pattern = r'[\\+\\(]?[1-9][0-9 .\\-\\(\\)]{8,}[0-9]'    \n",
        "    match = re.findall(pattern, text)\n",
        "    if(len(match)> 0):\n",
        "        print(\"Found Phone: \", match, \" In: \",text)\n",
        "        return PHONE\n",
        "    else:\n",
        "        return ABSTAIN"
      ],
      "execution_count": null,
      "outputs": []
    },
    {
      "cell_type": "code",
      "metadata": {
        "colab_type": "code",
        "id": "NBbC9yhrw0uh",
        "colab": {}
      },
      "source": [
        "import json\n",
        "# exps = [\"experience\", \"year\", \"month\", \"1\" , \"2\" , \"3\", \"4\", \"5\", \"6\", \"7\", \"8\", \"9\"]\n",
        "exps = [\"year\", \"month\", \"day\"]\n",
        "experience_array = []\n",
        "\n",
        "@labeling_function()\n",
        "def lf_skill_extraction(x):\n",
        "    x = x.to_string()\n",
        "    text = x.lower()\n",
        "    text = text.strip()\n",
        "    obj = None\n",
        "    with open('cleaned_skills.json', 'r') as skills:\n",
        "        data = skills.read()\n",
        "        obj = json.loads(data)\n",
        "    for skill in obj:\n",
        "        skill = skill.lower()\n",
        " #       skill = (\" \" + skill + \" \")\n",
        "        for word in text.split():\n",
        "          if(skill == word):\n",
        "              print(\"Found Skill: \", skill, \" In: \",text)\n",
        "              for exp in exps:\n",
        "                if exp in text:\n",
        "                  experience_array.append(text)\n",
        "                  return EXP\n",
        "              return SKILL\n",
        "    return ABSTAIN"
      ],
      "execution_count": null,
      "outputs": []
    },
    {
      "cell_type": "code",
      "metadata": {
        "id": "_EerpY8d4DHT",
        "colab_type": "code",
        "colab": {}
      },
      "source": [
        "import re\n",
        "@labeling_function()\n",
        "def lf_email_extraction(x):\n",
        "    x = x.to_string()\n",
        "    ners = nlp(x)\n",
        "    text = x.lower()\n",
        "    pattern = '[a-z0-9]+[\\._]?[a-z0-9]+[@]\\w+[.]\\w{2,3}'\n",
        "    match = re.findall(pattern, text)\n",
        "    if(len(match)> 0):\n",
        "        print(\"Found Email: \", match, \" In: \",text)\n",
        "        return EMAIL\n",
        "    else:\n",
        "        return ABSTAIN"
      ],
      "execution_count": null,
      "outputs": []
    },
    {
      "cell_type": "code",
      "metadata": {
        "id": "0761gyN84DHY",
        "colab_type": "code",
        "colab": {}
      },
      "source": [
        "# TODO: Work on getting less false positives\n",
        "from spacy.matcher import Matcher\n",
        "@labeling_function()\n",
        "def lf_name_extraction(x):\n",
        "    x = str(x)\n",
        "    nlp = spacy.load('en_core_web_sm')\n",
        "    matcher = Matcher(nlp.vocab)\n",
        "    nlp_text = nlp(x)\n",
        "    pattern = [{'POS': 'PROPN'}, {'POS': 'PROPN'}]\n",
        "    matcher.add('NAME', None, pattern)\n",
        "    matches = matcher(nlp_text)\n",
        "    if len(matches)>0:\n",
        "        for match_id, start, end in matches:\n",
        "            span = nlp_text[start:end]\n",
        "            print(\"Found Name: \", span)\n",
        "        return NAME\n",
        "           \n",
        "    else:\n",
        "        return ABSTAIN\n",
        "@labeling_function()\n",
        "def lf_temp1(x):\n",
        "    return ABSTAIN\n",
        "    \n",
        "@labeling_function()\n",
        "def lf_temp2(x):\n",
        "    return ABSTAIN"
      ],
      "execution_count": null,
      "outputs": []
    },
    {
      "cell_type": "code",
      "metadata": {
        "colab_type": "code",
        "id": "kJhyuPQkw0uj",
        "colab": {}
      },
      "source": [
        "from snorkel.labeling import PandasLFApplier\n",
        "from snorkel.labeling.model import LabelModel"
      ],
      "execution_count": null,
      "outputs": []
    },
    {
      "cell_type": "code",
      "metadata": {
        "colab_type": "code",
        "id": "dgmE0N5qw0ul",
        "colab": {}
      },
      "source": [
        "lfs = [lf_skill_extraction, lf_temp1, lf_temp2]"
      ],
      "execution_count": null,
      "outputs": []
    },
    {
      "cell_type": "code",
      "metadata": {
        "colab_type": "code",
        "id": "RjKIqWTHw0up",
        "colab": {}
      },
      "source": [
        "applier = PandasLFApplier(lfs)"
      ],
      "execution_count": null,
      "outputs": []
    },
    {
      "cell_type": "code",
      "metadata": {
        "colab_type": "code",
        "id": "XC0xdyM8w0ut",
        "colab": {
          "base_uri": "https://localhost:8080/",
          "height": 1000
        },
        "outputId": "cc1554e1-3a6a-4010-9030-7042c1bb3eac"
      },
      "source": [
        "L_train = applier.apply(df_spacy)"
      ],
      "execution_count": null,
      "outputs": [
        {
          "output_type": "stream",
          "text": [
            "\n",
            "  0%|          | 0/69499 [00:00<?, ?it/s]\u001b[A\n",
            "  0%|          | 80/69499 [00:00<01:27, 797.26it/s]\u001b[A\n",
            "  0%|          | 163/69499 [00:00<01:25, 806.38it/s]\u001b[A"
          ],
          "name": "stderr"
        },
        {
          "output_type": "stream",
          "text": [
            "Found Skill:  database  In:  content     database (less than 1 year)\n",
            "Found Skill:  html  In:  content     html (less than 1 year)\n",
            "Found Skill:  access  In:  content     access (less than 1 year)\n",
            "Found Skill:  c++  In:  content     c++\n",
            "Found Skill:  java  In:  content     java\n",
            "Found Skill:  .net  In:  content     .net\n",
            "Found Skill:  html  In:  content     web designing: html\n",
            "Found Skill:  access  In:  content     database: ms access\n",
            "Found Skill:  sql  In:  content     ms sql server 2008\n",
            "Found Skill:  sql  In:  content     having 3.5 years of it experience in sql data...\n",
            "Found Skill:  sql  In:  content     development   support of ms sql servers in pr...\n",
            "Found Skill:  database  In:  content     working experience with relational database s...\n",
            "Found Skill:  sql  In:  content     maintenance and administration of sql server..\n",
            "Found Skill:  sql  In:  content     experience in upgrading sql server..     good...\n",
            "Found Skill:  database  In:  content     high availability of database servers using.\n",
            "Found Skill:  database  In:  content     database mirroring and replications and log s...\n",
            "Found Skill:  sql  In:  content     experience in implementing sql server securit...\n",
            "Found Skill:  database  In:  content     database authentication modes\n",
            "Found Skill:  sql  In:  content     sql mail agent.\n",
            "Found Skill:  sql  In:  content     sql profiler and optimizing the queries\n",
            "Found Skill:  sql  In:  content     having 3.5 years of it experience in sql data...\n",
            "Found Skill:  sql  In:  content     development   support of ms sql servers in pr...\n",
            "Found Skill:  database  In:  content     working experience with relational database s...\n",
            "Found Skill:  sql  In:  content     maintenance and administration of sql server.\n",
            "Found Skill:  sql  In:  content     experience in upgrading sql server..     good...\n",
            "Found Skill:  database  In:  content     high availability of database servers using.\n",
            "Found Skill:  database  In:  content     database mirroring and replications and log s...\n",
            "Found Skill:  sql  In:  content     experience in implementing sql server securit...\n",
            "Found Skill:  database  In:  content     database authentication modes\n",
            "Found Skill:  database  In:  content     responsible for database support\n",
            "Found Skill:  sql  In:  content     based on sql 2000 in upgrade project to sql 2...\n",
            "Found Skill:  database  In:  content     monitoring of database size and disk space in...\n",
            "Found Skill:  sql  In:  content     performed installation of sql enterprise 2005...\n",
            "Found Skill:  sql  In:  content     conducted performance tuning using sql profil...\n",
            "Found Skill:  sql  In:  content     installing sql server clients\n",
            "Found Skill:  sql  In:  content     performed installation of sql server service ...\n",
            "Found Skill:  sql  In:  content     upgraded databases from sql server 2000 to sq...\n",
            "Found Skill:  database  In:  content     improved the database server performance..   ...\n"
          ],
          "name": "stdout"
        },
        {
          "output_type": "stream",
          "text": [
            "\n",
            "  0%|          | 243/69499 [00:00<01:26, 803.54it/s]\u001b[A\n",
            "  0%|          | 326/69499 [00:00<01:25, 810.03it/s]\u001b[A"
          ],
          "name": "stderr"
        },
        {
          "output_type": "stream",
          "text": [
            "Found Skill:  sql  In:  content     installing sql server clients\n",
            "Found Skill:  sql  In:  content     performed installation of sql server service ...\n",
            "Found Skill:  sql  In:  content     upgraded databases from sql server 2000 to sq...\n",
            "Found Skill:  database  In:  content     the database server performance..     used sq...\n",
            "Found Skill:  sql  In:  content     installing sql server clients\n",
            "Found Skill:  database  In:  content     database (3 years)\n",
            "Found Skill:  sql  In:  content     sql (3 years)\n",
            "Found Skill:  sql  In:  content     sql dba.\n",
            "Found Skill:  database  In:  content     database tool: sql management studio (mssql)\n",
            "Found Skill:  database  In:  content     database language: sql\n",
            "Found Skill:  c++  In:  content     c++\n",
            "Found Skill:  pl/sql  In:  content     pl/sql\n",
            "Found Skill:  unity  In:  content     unity\n",
            "Found Skill:  spark  In:  content     apache spark and scala.. iaas implementation:...\n",
            "Found Skill:  natural  In:  content     identifying spam messages using natural langu...\n",
            "Found Skill:  java  In:  content     java (1 year)\n",
            "Found Skill:  c++  In:  content     c++ (less than 1 year)\n",
            "Found Skill:  css  In:  content     css (less than 1 year).\n",
            "Found Skill:  c++  In:  content     c++\n",
            "Found Skill:  java  In:  content     java\n",
            "Found Skill:  python  In:  content     python\n",
            "Found Skill:  mysql  In:  content     mysql\n",
            "Found Skill:  spark  In:  content     hadoop and spark\n",
            "Found Skill:  self  In:  content     pro active and self starter with the great ab...\n",
            "Found Skill:  able  In:  content     able to handle multiple projects under tight ...\n",
            "Found Skill:  able  In:  content     able to develop excellent rapport with peers\n"
          ],
          "name": "stdout"
        },
        {
          "output_type": "stream",
          "text": [
            "\n",
            "  1%|          | 422/69499 [00:00<01:21, 848.70it/s]\u001b[A\n",
            "  1%|          | 518/69499 [00:00<01:18, 879.16it/s]\u001b[A\n",
            "  1%|          | 612/69499 [00:00<01:16, 895.55it/s]\u001b[A"
          ],
          "name": "stderr"
        },
        {
          "output_type": "stream",
          "text": [
            "Found Skill:  able  In:  content     able to coordinate with different support tea...\n",
            "Found Skill:  able  In:  content     able to manage teams as per sops (standard op...\n",
            "Found Skill:  goal  In:  content     work allocation   goal setting and performanc...\n",
            "Found Skill:  creo  In:  content     creo (less than 1 year)\n",
            "Found Skill:  python  In:  content     python (less than 1 year)\n",
            "Found Skill:  creo  In:  content     creo parametric 2.0\n",
            "Found Skill:  able  In:  content     able to handle complex situation under process.\n",
            "Found Skill:  java  In:  content     expertise in java\n",
            "Found Skill:  php  In:  content     php\n",
            "Found Skill:  javascript  In:  content     javascript\n"
          ],
          "name": "stdout"
        },
        {
          "output_type": "stream",
          "text": [
            "\n",
            "  1%|          | 696/69499 [00:00<01:18, 872.98it/s]\u001b[A\n",
            "  1%|          | 789/69499 [00:00<01:17, 888.50it/s]\u001b[A"
          ],
          "name": "stderr"
        },
        {
          "output_type": "stream",
          "text": [
            "Found Skill:  java  In:  content     environment: java 1.8\n",
            "Found Skill:  sql  In:  content     sql server\n",
            "Found Skill:  maven  In:  content     maven\n",
            "Found Skill:  jira  In:  content     jira\n",
            "Found Skill:  database  In:  content     mining and preserve into database as report g...\n",
            "Found Skill:  sql  In:  content     it into sql server.\n",
            "Found Skill:  java  In:  content     environment: java 1.8\n",
            "Found Skill:  php  In:  content     php\n",
            "Found Skill:  css  In:  content     css\n",
            "Found Skill:  mysql  In:  content     mysql\n",
            "Found Skill:  maven  In:  content     maven\n",
            "Found Skill:  jira  In:  content     jira\n",
            "Found Skill:  php  In:  content     developed php backend services.\n",
            "Found Skill:  java  In:  content     environment: java 1.8\n",
            "Found Skill:  mysql  In:  content     mysql\n",
            "Found Skill:  maven  In:  content     maven\n",
            "Found Skill:  jira  In:  content     jira\n",
            "Found Skill:  sql  In:  content     it into sql server.\n",
            "Found Skill:  database  In:  content     database (less than 1 year)\n",
            "Found Skill:  java  In:  content     java (less than 1 year)\n",
            "Found Skill:  jira  In:  content     jira (less than 1. year)\n",
            "Found Skill:  java  In:  content     programming languages: java   j2ee\n",
            "Found Skill:  php  In:  content     php\n",
            "Found Skill:  junit  In:  content     junit\n",
            "Found Skill:  mysql  In:  content     database: mysql\n",
            "Found Skill:  sql  In:  content     sql server\n",
            "Found Skill:  jira  In:  content     jira\n",
            "Found Skill:  code  In:  content     code generation tools.\n"
          ],
          "name": "stdout"
        },
        {
          "output_type": "stream",
          "text": [
            "\n",
            "  1%|▏         | 885/69499 [00:01<01:15, 908.70it/s]\u001b[A\n",
            "  1%|▏         | 981/69499 [00:01<01:14, 921.86it/s]\u001b[A\n",
            "  2%|▏         | 1082/69499 [00:01<01:12, 946.05it/s]\u001b[A"
          ],
          "name": "stderr"
        },
        {
          "output_type": "stream",
          "text": [
            "Found Skill:  goal  In:  content     * goal oriented   self motivated.\n",
            "Found Skill:  css  In:  content     css (less than 1 year)\n",
            "Found Skill:  database  In:  content     and database update.\n",
            "Found Skill:  excel  In:  content     excel (less than 1 year)\n",
            "Found Skill:  excel  In:  content     ms excel (less than 1 year)\n",
            "Found Skill:  excel  In:  content     computer skills: ms excel\n",
            "Found Skill:  scheme  In:  content     project title: education loan scheme in credi...\n",
            "Found Skill:  java  In:  content     java web projects\n"
          ],
          "name": "stdout"
        },
        {
          "output_type": "stream",
          "text": [
            "\n",
            "  2%|▏         | 1176/69499 [00:01<01:14, 921.58it/s]\u001b[A"
          ],
          "name": "stderr"
        },
        {
          "output_type": "stream",
          "text": [
            "Found Skill:  cucumber  In:  content     cucumber\n",
            "Found Skill:  java  In:  content     java\n",
            "Found Skill:  junit  In:  content     junit\n",
            "Found Skill:  jira  In:  content     jira\n",
            "Found Skill:  maven  In:  content     maven\n",
            "Found Skill:  sql  In:  content     sql\n",
            "Found Skill:  junit  In:  content     junit\n",
            "Found Skill:  java  In:  content     and leading java projects.\n",
            "Found Skill:  cucumber  In:  content     solid experience on selenium using cucumber a...\n",
            "Found Skill:  sql  In:  content     proven skills in sql\n",
            "Found Skill:  sql  In:  content     expertise in writing sql queries\n",
            "Found Skill:  database  In:  content     sql scripts and performing database testing.\n",
            "Found Skill:  java  In:  content     java\n",
            "Found Skill:  java  In:  content     java\n",
            "Found Skill:  cucumber  In:  content     cucumber\n",
            "Found Skill:  java  In:  content     java\n",
            "Found Skill:  excel  In:  content     test data from excel files and sql.\n",
            "Found Skill:  maven  In:  content     databases..     configured maven for java aut...\n",
            "Found Skill:  cucumber  In:  content     developed bdd tests using cucumber by writing...\n",
            "Found Skill:  code  In:  content     required selenium support code in java for cu...\n",
            "Found Skill:  database  In:  content     queried database and generated test reports.\n",
            "Found Skill:  database  In:  content     purchase orders database testing by developin...\n",
            "Found Skill:  jira  In:  content     jira api..\n",
            "Found Skill:  jira  In:  content     jira reports..\n",
            "Found Skill:  maven  In:  content     maven\n",
            "Found Skill:  java  In:  content     java\n",
            "Found Skill:  jira  In:  content     jira\n",
            "Found Skill:  sql  In:  content     sql\n",
            "Found Skill:  natural  In:  content     determined that moving away from the natural ...\n",
            "Found Skill:  java  In:  content     developed hybrid automation framework java by...\n",
            "Found Skill:  java  In:  content     developed 7 java class libraries\n",
            "Found Skill:  xml  In:  content     16 junit test scripts to test xml build data ...\n",
            "Found Skill:  sql  In:  content     using sql queries..\n",
            "Found Skill:  java  In:  content     java\n"
          ],
          "name": "stdout"
        },
        {
          "output_type": "stream",
          "text": [
            "\n",
            "  2%|▏         | 1268/69499 [00:01<01:18, 866.18it/s]\u001b[A\n",
            "  2%|▏         | 1357/69499 [00:01<01:18, 872.02it/s]\u001b[A"
          ],
          "name": "stderr"
        },
        {
          "output_type": "stream",
          "text": [
            "Found Skill:  junit  In:  content     junit\n",
            "Found Skill:  maven  In:  content     maven\n",
            "Found Skill:  jira  In:  content     jira\n",
            "Found Skill:  access  In:  content     access to trade finance information and trans...\n",
            "Found Skill:  database  In:  content     performed database testing using sql in order...\n",
            "Found Skill:  java  In:  content     tools/environments: java\n",
            "Found Skill:  java  In:  content     tools/environments: java\n",
            "Found Skill:  groovy  In:  content     grails and groovy\n",
            "Found Skill:  processing  In:  content     project: pops (purchase order processing syst...\n",
            "Found Skill:  sql  In:  content     sql server and windows2008\n",
            "Found Skill:  java  In:  content     java (3 years)\n",
            "Found Skill:  junit  In:  content     junit (2 years)\n",
            "Found Skill:  cucumber  In:  content     cucumber\n",
            "Found Skill:  maven  In:  content     maven\n",
            "Found Skill:  java  In:  content     languages/frameworks: java\n",
            "Found Skill:  junit  In:  content     junit\n",
            "Found Skill:  cucumber  In:  content     cucumber\n",
            "Found Skill:  jira  In:  content     defect tracking tools: jira\n",
            "Found Skill:  xml  In:  content     xml\n",
            "Found Skill:  mysql  In:  content     rdbms: mysql\n"
          ],
          "name": "stdout"
        },
        {
          "output_type": "stream",
          "text": [
            "\n",
            "  2%|▏         | 1445/69499 [00:01<01:18, 869.80it/s]\u001b[A\n",
            "  2%|▏         | 1533/69499 [00:01<01:19, 859.22it/s]\u001b[A\n",
            "  2%|▏         | 1630/69499 [00:01<01:16, 888.42it/s]\u001b[A"
          ],
          "name": "stderr"
        },
        {
          "output_type": "stream",
          "text": [
            "Found Skill:  chef  In:  content     deployed chef for configuration management in...\n",
            "Found Skill:  code  In:  content     releasing of code from one environment to oth...\n",
            "Found Skill:  maven  In:  content     extensive experience using maven and ant as b...\n",
            "Found Skill:  code  In:  content     expert in deploying the code through web appl...\n",
            "Found Skill:  chef  In:  content     deployed chef for configuration management in...\n",
            "Found Skill:  java  In:  content     environment: java 1.7\n",
            "Found Skill:  jira  In:  content     jira 6.3\n",
            "Found Skill:  database  In:  content     database administration\n",
            "Found Skill:  chef  In:  content     deployed chef for configuration management in...\n",
            "Found Skill:  maven  In:  content     maven\n",
            "Found Skill:  code  In:  content     static code analysis: sonarqube check style.\n",
            "Found Skill:  maven  In:  content     git maven jenkins vagrant docker nagios sonar...\n",
            "Found Skill:  code  In:  content     co-coordinator of code hunter at cgc fest.\n",
            "Found Skill:  code  In:  content     co-coordinator of code hunter at cgc fest.\n",
            "Found Skill:  sql  In:  content     oracle sql -.\n",
            "Found Skill:  access  In:  content     access (less than 1 year)\n",
            "Found Skill:  css "
          ],
          "name": "stdout"
        },
        {
          "output_type": "stream",
          "text": [
            "\n",
            "  2%|▏         | 1720/69499 [00:01<01:16, 887.59it/s]\u001b[A\n",
            "  3%|▎         | 1817/69499 [00:02<01:14, 909.82it/s]\u001b[A"
          ],
          "name": "stderr"
        },
        {
          "output_type": "stream",
          "text": [
            " In:  content     css (less than 1 year)\n",
            "Found Skill:  database  In:  content     database (less than 1 year).\n",
            "Found Skill:  sql  In:  content     database: sql server.\n",
            "Found Skill:  html  In:  content     other technologies: html\n",
            "Found Skill:  css  In:  content     css\n",
            "Found Skill:  excel  In:  content     excel\n",
            "Found Skill:  css  In:  content     language used: css\n",
            "Found Skill:  sql  In:  content     sql server and html.. .\n",
            "Found Skill:  java  In:  content     java scripting.\n",
            "Found Skill:  database  In:  content     imported data from relational database into j...\n",
            "Found Skill:  database  In:  content     database: experience in database designing\n",
            "Found Skill:  code  In:  content     optimizing sql code and stored procedures\n",
            "Found Skill:  sql  In:  content     sql azure\n",
            "Found Skill:  plus  In:  content     plus\n",
            "Found Skill:  plus  In:  content     plus\n"
          ],
          "name": "stdout"
        },
        {
          "output_type": "stream",
          "text": [
            "\n",
            "  3%|▎         | 1909/69499 [00:02<01:15, 896.91it/s]\u001b[A\n",
            "  3%|▎         | 2006/69499 [00:02<01:13, 915.89it/s]\u001b[A"
          ],
          "name": "stderr"
        },
        {
          "output_type": "stream",
          "text": [
            "Found Skill:  sql  In:  content     sql server 2014\n",
            "Found Skill:  .net  In:  content     .net api\n",
            "Found Skill:  java  In:  content     oracle 5 years 2 month     core java developer.\n",
            "Found Skill:  java  In:  content     languages core java\n",
            "Found Skill:  java  In:  content     languages: core java\n",
            "Found Skill:  sql  In:  content     sql developer\n",
            "Found Skill:  pl/sql  In:  content     pl/sql developer\n",
            "Found Skill:  javascript  In:  content     web technologies: javascript\n",
            "Found Skill:  xml  In:  content     xml\n",
            "Found Skill:  html  In:  content     html\n",
            "Found Skill:  blue  In:  content     blue prism\n",
            "Found Skill:  blue  In:  content     test automation tools: blue prism\n",
            "Found Skill:  sql  In:  content     sql server.. .\n"
          ],
          "name": "stdout"
        },
        {
          "output_type": "stream",
          "text": [
            "\n",
            "  3%|▎         | 2098/69499 [00:02<01:18, 859.80it/s]\u001b[A\n",
            "  3%|▎         | 2190/69499 [00:02<01:16, 876.68it/s]\u001b[A"
          ],
          "name": "stderr"
        },
        {
          "output_type": "stream",
          "text": [
            "Found Skill:  processing  In:  content     well site data acquisition processing and int...\n",
            "Found Skill:  focus  In:  content     your caregivers to focus on what matters most...\n",
            "Found Skill:  access  In:  content     access not only helps clinicians make better ...\n",
            "Found Skill:  access  In:  content     anywhere access to the complete patient recor...\n",
            "Found Skill:  blue  In:  content     involved in preparing bots using blue prism t...\n",
            "Found Skill:  sql  In:  content     using sql and r. o market basket analysis usi...\n",
            "Found Skill:  python  In:  content     python (2 years)\n",
            "Found Skill:  python  In:  content     languages   technologies: python\n",
            "Found Skill:  sql  In:  content     sql\n",
            "Found Skill:  java  In:  content     java (preliminary).\n",
            "Found Skill:  matlab  In:  content     matlab\n",
            "Found Skill:  sql  In:  content     oracle sql developer\n",
            "Found Skill:  mysql  In:  content     mysql\n",
            "Found Skill:  excel  In:  content     excel\n",
            "Found Skill:  java  In:  content     testing and support.. software used: java\n",
            "Found Skill:  java  In:  content     on java server pages (jsp) and our aim was to...\n",
            "Found Skill:  flex  In:  content     completion of that we incorporated flex in to...\n",
            "Found Skill:  database  In:  content     from database is taken by the flex using a re...\n"
          ],
          "name": "stdout"
        },
        {
          "output_type": "stream",
          "text": [
            "\n",
            "  3%|▎         | 2280/69499 [00:02<01:16, 883.24it/s]\u001b[A\n",
            "  3%|▎         | 2369/69499 [00:02<01:17, 867.48it/s]\u001b[A"
          ],
          "name": "stderr"
        },
        {
          "output_type": "stream",
          "text": [
            "Found Skill:  java  In:  content     testing and support.. software used: java\n",
            "Found Skill:  flex  In:  content     front end/gui tools programming: adobe flex\n",
            "Found Skill:  java  In:  content     java developer.\n",
            "Found Skill:  java  In:  content     wrote services in java using data annotation ...\n",
            "Found Skill:  code  In:  content     using code generation tool.. .\n",
            "Found Skill:  junit  In:  content     used junit for testing services\n",
            "Found Skill:  java  In:  content     used java to write batches for fetching of bu...\n",
            "Found Skill:  java  In:  content     java (1 year)\n",
            "Found Skill:  css  In:  content     css (1 year)\n",
            "Found Skill:  html  In:  content     html (1 year)\n",
            "Found Skill:  mysql  In:  content     mysql (1 year)\n",
            "Found Skill:  javascript  In:  content     javascript (less than 1 year)\n",
            "Found Skill:  java  In:  content     java\n",
            "Found Skill:  java  In:  content     java servlet\n",
            "Found Skill:  html  In:  content     html\n",
            "Found Skill:  java  In:  content     java script\n",
            "Found Skill:  mysql  In:  content     mysql\n",
            "Found Skill:  css  In:  content     css\n",
            "Found Skill:  code  In:  content     code blocks\n",
            "Found Skill:  sql  In:  content     sql oracle -.\n",
            "Found Skill:  code  In:  content     code optimization.\n"
          ],
          "name": "stdout"
        },
        {
          "output_type": "stream",
          "text": [
            "\n",
            "  4%|▎         | 2462/69499 [00:02<01:15, 882.88it/s]\u001b[A\n",
            "  4%|▎         | 2568/69499 [00:02<01:12, 926.18it/s]\u001b[A\n",
            "  4%|▍         | 2662/69499 [00:02<01:12, 928.07it/s]\u001b[A"
          ],
          "name": "stderr"
        },
        {
          "output_type": "stream",
          "text": [
            "Found Skill:  small  In:  content     small leather goods\n",
            "Found Skill:  processing  In:  content     configuring and processing the business trans...\n",
            "Found Skill:  able  In:  content     adept multitasker able to deal a very high.\n",
            "Found Skill:  css  In:  content     css for quick find of availability alerts and...\n",
            "Found Skill:  .net  In:  content     trained in .net technology..\n"
          ],
          "name": "stdout"
        },
        {
          "output_type": "stream",
          "text": [
            "\n",
            "  4%|▍         | 2761/69499 [00:03<01:10, 943.82it/s]\u001b[A\n",
            "  4%|▍         | 2858/69499 [00:03<01:10, 948.88it/s]\u001b[A\n",
            "  4%|▍         | 2955/69499 [00:03<01:09, 952.81it/s]\u001b[A"
          ],
          "name": "stderr"
        },
        {
          "output_type": "stream",
          "text": [
            "Found Skill:  sql  In:  content     key skills - microsoft azure sql dw\n",
            "Found Skill:  sql  In:  content     sql server 2016\n",
            "Found Skill:  sql  In:  content     sql server 2014\n",
            "Found Skill:  .net  In:  content     .net app development.\n",
            "Found Skill:  sql  In:  content     sql server 2012.. methodologies - iterative\n",
            "Found Skill:  sql  In:  content     sql server pi\n",
            "Found Skill:  sql  In:  content     sql navigator.\n"
          ],
          "name": "stdout"
        },
        {
          "output_type": "stream",
          "text": [
            "\n",
            "  4%|▍         | 3051/69499 [00:03<01:10, 947.82it/s]\u001b[A\n",
            "  5%|▍         | 3146/69499 [00:03<01:09, 948.20it/s]\u001b[A"
          ],
          "name": "stderr"
        },
        {
          "output_type": "stream",
          "text": [
            "Found Skill:  java  In:  content     technologies: java\n",
            "Found Skill:  access  In:  content     su10..     control firefighter access in grc1...\n",
            "Found Skill:  access  In:  content     providing access in controlled environment.\n",
            "Found Skill:  access  In:  content     restrict table access through authorization g...\n",
            "Found Skill:  c++  In:  content     math and c++ for 4 years.. .\n",
            "Found Skill:  sql  In:  content     sql\n",
            "Found Skill:  c++  In:  content     c++\n",
            "Found Skill:  database  In:  content     quicksilver) database tool (sql\n",
            "Found Skill:  python  In:  content     experience in coding python\n",
            "Found Skill:  sql  In:  content     sql\n",
            "Found Skill:  xml  In:  content     and xml as per the requirement..     have kno...\n",
            "Found Skill:  code  In:  content     develop the code on the design in splunk..   ...\n",
            "Found Skill:  sql  In:  content     sql\n",
            "Found Skill:  python  In:  content     technologies: python coding\n",
            "Found Skill:  xml  In:  content     xml coding\n",
            "Found Skill:  sql  In:  content     sql query writing.\n",
            "Found Skill:  database  In:  content     database and infrastructure monitoring and al...\n"
          ],
          "name": "stdout"
        },
        {
          "output_type": "stream",
          "text": [
            "\n",
            "  5%|▍         | 3241/69499 [00:03<01:12, 914.72it/s]\u001b[A\n",
            "  5%|▍         | 3341/69499 [00:03<01:10, 937.39it/s]\u001b[A"
          ],
          "name": "stderr"
        },
        {
          "output_type": "stream",
          "text": [
            "Found Skill:  database  In:  content     database (3 years)\n",
            "Found Skill:  python  In:  content     python (3 years)\n",
            "Found Skill:  sql  In:  content     sql (3 years)\n",
            "Found Skill:  xml  In:  content     xml (3 years).\n",
            "Found Skill:  python  In:  content     programming languages: python\n",
            "Found Skill:  access  In:  content     ran (radio access network) engineer..     new...\n",
            "Found Skill:  verilog  In:  content     module coding and verification using verilog ...\n",
            "Found Skill:  verilog  In:  content     verilog hdl.\n",
            "Found Skill:  abap  In:  content     sap abap -  noida\n",
            "Found Skill:  abap  In:  content     sap abap 7.4 2.\n",
            "Found Skill:  excel  In:  content     uploading excel data using bdc.. 3.\n"
          ],
          "name": "stdout"
        },
        {
          "output_type": "stream",
          "text": [
            "\n",
            "  5%|▍         | 3445/69499 [00:03<01:08, 964.06it/s]\u001b[A\n",
            "  5%|▌         | 3542/69499 [00:03<01:08, 964.97it/s]\u001b[A\n",
            "  5%|▌         | 3640/69499 [00:04<01:07, 968.87it/s]\u001b[A"
          ],
          "name": "stderr"
        },
        {
          "output_type": "stream",
          "text": [
            "Found Skill:  self  In:  content     self motivated.\n",
            "Found Skill:  jira  In:  content     atlassian tools: jira\n",
            "Found Skill:  mysql  In:  content     mysql\n",
            "Found Skill:  python  In:  content     programming languages: python and java.\n",
            "Found Skill:  jira  In:  content     jira project management/administration..     ...\n",
            "Found Skill:  access  In:  content     streamlining tools access management with cro...\n",
            "Found Skill:  jira  In:  content     jira\n",
            "Found Skill:  python  In:  content     python\n",
            "Found Skill:  chef  In:  content     chef\n",
            "Found Skill:  powershell  In:  content     powershell scripting.\n",
            "Found Skill:  mouse  In:  content     etc on mouse and object events..\n"
          ],
          "name": "stdout"
        },
        {
          "output_type": "stream",
          "text": [
            "\n",
            "  5%|▌         | 3738/69499 [00:04<01:10, 935.31it/s]\u001b[A\n",
            "  6%|▌         | 3832/69499 [00:04<01:10, 930.19it/s]\u001b[A"
          ],
          "name": "stderr"
        },
        {
          "output_type": "stream",
          "text": [
            "Found Skill:  abap  In:  content     abap development of large scale erp packages..\n",
            "Found Skill:  html  In:  content     ecc environments also having experience in html\n",
            "Found Skill:  javascript  In:  content     javascript\n",
            "Found Skill:  xml  In:  content     xml\n",
            "Found Skill:  javascript  In:  content     javascript\n",
            "Found Skill:  excel  In:  content     worked on complex functionality like excel da...\n",
            "Found Skill:  excel  In:  content     excel link\n",
            "Found Skill:  abap  In:  content     sap abap (2 years).\n",
            "Found Skill:  c++  In:  content     c++\n",
            "Found Skill:  html  In:  content     html\n",
            "Found Skill:  css  In:  content     css\n",
            "Found Skill:  javascript  In:  content     javascript\n",
            "Found Skill:  php  In:  content     php\n",
            "Found Skill:  mysql  In:  content     database mysql\n"
          ],
          "name": "stdout"
        },
        {
          "output_type": "stream",
          "text": [
            "\n",
            "  6%|▌         | 3926/69499 [00:04<01:10, 927.35it/s]\u001b[A\n",
            "  6%|▌         | 4032/69499 [00:04<01:08, 962.09it/s]\u001b[A"
          ],
          "name": "stderr"
        },
        {
          "output_type": "stream",
          "text": [
            "Found Skill:  java  In:  content     core java\n",
            "Found Skill:  java  In:  content     core java\n",
            "Found Skill:  python  In:  content     experience in python scripting and pyats fram...\n",
            "Found Skill:  perl  In:  content     scripting language perl\n"
          ],
          "name": "stdout"
        },
        {
          "output_type": "stream",
          "text": [
            "\n",
            "  6%|▌         | 4129/69499 [00:04<01:10, 921.52it/s]\u001b[A\n",
            "  6%|▌         | 4224/69499 [00:04<01:10, 928.38it/s]\u001b[A"
          ],
          "name": "stderr"
        },
        {
          "output_type": "stream",
          "text": [
            "Found Skill:  tcl  In:  content     knowledge on tcl scripting and automated cust...\n",
            "Found Skill:  able  In:  content     also able to troubleshoot the script issues.. .\n",
            "Found Skill:  tcl  In:  content     tcl (4 years)\n",
            "Found Skill:  python  In:  content     python (2 years).\n",
            "Found Skill:  tcl  In:  content     automaton tools: tcl\n",
            "Found Skill:  python  In:  content    python\n",
            "Found Skill:  self  In:  content     like - oracle fusion supplier self service\n",
            "Found Skill:  clean  In:  content     global country wise clean up initiative focus...\n",
            "Found Skill:  self  In:  content     oracle fusion uat- supplier self service.\n",
            "Found Skill:  code  In:  content     withholding and tds code\n",
            "Found Skill:  sql  In:  content     possess sound knowledge of sql\n",
            "Found Skill:  jira  In:  content     jira\n",
            "Found Skill:  sql  In:  content     there i had been explored sql\n"
          ],
          "name": "stdout"
        },
        {
          "output_type": "stream",
          "text": [
            "\n",
            "  6%|▌         | 4318/69499 [00:04<01:11, 913.15it/s]\u001b[A\n",
            "  6%|▋         | 4419/69499 [00:04<01:09, 939.25it/s]\u001b[A"
          ],
          "name": "stderr"
        },
        {
          "output_type": "stream",
          "text": [
            "Found Skill:  sql  In:  content     sql server studio.\n",
            "Found Skill:  sql  In:  content     sql (oracle db)    .\n",
            "Found Skill:  .net  In:  content     .net    .\n",
            "Found Skill:  xml  In:  content     xml\n",
            "Found Skill:  sql  In:  content     databases sql server 2008/2005\n",
            "Found Skill:  database  In:  content     database connectivity odbc.\n",
            "Found Skill:  jira  In:  content    jira\n",
            "Found Skill:  sql  In:  content     sql developer\n"
          ],
          "name": "stdout"
        },
        {
          "output_type": "stream",
          "text": [
            "\n",
            "  6%|▋         | 4514/69499 [00:04<01:09, 935.72it/s]\u001b[A\n",
            "  7%|▋         | 4613/69499 [00:05<01:08, 949.16it/s]\u001b[A"
          ],
          "name": "stderr"
        },
        {
          "output_type": "stream",
          "text": [
            "Found Skill:  access  In:  content     internet access\n",
            "Found Skill:  database  In:  content     o performed database testing for one of the a...\n",
            "Found Skill:  jira  In:  content     jira\n",
            "Found Skill:  java  In:  content     java\n",
            "Found Skill:  sql  In:  content     sql\n",
            "Found Skill:  html  In:  content     html\n",
            "Found Skill:  excel  In:  content     excel\n",
            "Found Skill:  plus  In:  content     365 pro plus (outlook.\n",
            "Found Skill:  excel  In:  content     and other office tools such as excel\n",
            "Found Skill:  word  In:  content     word\n"
          ],
          "name": "stdout"
        },
        {
          "output_type": "stream",
          "text": [
            "\n",
            "  7%|▋         | 4709/69499 [00:05<01:09, 932.86it/s]\u001b[A\n",
            "  7%|▋         | 4803/69499 [00:05<01:09, 931.13it/s]\u001b[A\n",
            "  7%|▋         | 4899/69499 [00:05<01:08, 937.73it/s]\u001b[A"
          ],
          "name": "stderr"
        },
        {
          "output_type": "stream",
          "text": [
            "Found Skill:  sql  In:  content     sql\n",
            "Found Skill:  excel  In:  content     ms office tools: ms excel\n",
            "Found Skill:  word  In:  content     ms word\n",
            "Found Skill:  c++  In:  content     c++\n",
            "Found Skill:  .net  In:  content     .net application maintenance and do the code ...\n",
            "Found Skill:  .net  In:  content     .net\n",
            "Found Skill:  sql  In:  content     sql server\n",
            "Found Skill:  css  In:  content     css\n",
            "Found Skill:  html  In:  content     html     system backups.\n",
            "Found Skill:  sql  In:  content     sql server 2005\n",
            "Found Skill:  abap  In:  content     sap abap -  noida\n",
            "Found Skill:  abap  In:  content     sap abap -.\n"
          ],
          "name": "stdout"
        },
        {
          "output_type": "stream",
          "text": [
            "\n",
            "  7%|▋         | 4993/69499 [00:05<01:09, 930.76it/s]\u001b[A\n",
            "  7%|▋         | 5089/69499 [00:05<01:08, 935.01it/s]\u001b[A"
          ],
          "name": "stderr"
        },
        {
          "output_type": "stream",
          "text": [
            "Found Skill:  abap  In:  content     abap (2 years)\n",
            "Found Skill:  c++  In:  content     c++ (less than 1 year)\n",
            "Found Skill:  sql  In:  content     familiar with sql\n",
            "Found Skill:  sql  In:  content     creating sql scripts and deploying on the loc...\n",
            "Found Skill:  xml  In:  content     xml (3 years).\n",
            "Found Skill:  html  In:  content     programming   scripting languages: - html\n",
            "Found Skill:  css  In:  content     css\n",
            "Found Skill:  xml  In:  content     xml\n",
            "Found Skill:  sql  In:  content     sql\n",
            "Found Skill:  java  In:  content     java (basic)\n",
            "Found Skill:  lisa  In:  content     testing tools: - ca lisa\n",
            "Found Skill:  sql  In:  content     sql\n",
            "Found Skill:  database  In:  content     database\n",
            "Found Skill:  python  In:  content     worked with technologies like python\n"
          ],
          "name": "stdout"
        },
        {
          "output_type": "stream",
          "text": [
            "\n",
            "  7%|▋         | 5183/69499 [00:05<01:09, 928.48it/s]\u001b[A\n",
            "  8%|▊         | 5276/69499 [00:05<01:10, 914.87it/s]\u001b[A"
          ],
          "name": "stderr"
        },
        {
          "output_type": "stream",
          "text": [
            "Found Skill:  mysql  In:  content     mysql\n",
            "Found Skill:  python  In:  content     worked on various technologies such as python\n",
            "Found Skill:  java  In:  content     java\n",
            "Found Skill:  java  In:  content     java (3 years)\n",
            "Found Skill:  mysql  In:  content     mysql (3 years)\n",
            "Found Skill:  python  In:  content     python (6 years).\n",
            "Found Skill:  python  In:  content     python\n",
            "Found Skill:  java  In:  content     java\n",
            "Found Skill:  html  In:  content     html\n",
            "Found Skill:  mysql  In:  content     mysql\n",
            "Found Skill:  php  In:  content     languages used: php\n",
            "Found Skill:  mysql  In:  content     mysql\n",
            "Found Skill:  html  In:  content     html\n",
            "Found Skill:  css  In:  content     css\n",
            "Found Skill:  javascript  In:  content     javascript and jquery.. .\n",
            "Found Skill:  database  In:  content     constantly involved in querying the database ...\n",
            "Found Skill:  clean  In:  content     i am capable of building clean and responsive...\n",
            "Found Skill:  small  In:  content     and small business websites..     http://www....\n",
            "Found Skill:  small  In:  content     small map feature included which also support...\n",
            "Found Skill:  php  In:  content     php\n",
            "Found Skill:  javascript  In:  content     javascript\n",
            "Found Skill:  css  In:  content     css\n",
            "Found Skill:  java  In:  content     programming language: core java\n",
            "Found Skill:  php  In:  content     scripting languages: php\n",
            "Found Skill:  html  In:  content     web languages: html\n",
            "Found Skill:  database  In:  content     database language: sql..     frameworks: boot...\n"
          ],
          "name": "stdout"
        },
        {
          "output_type": "stream",
          "text": [
            "\n",
            "  8%|▊         | 5368/69499 [00:05<01:12, 884.85it/s]\u001b[A\n",
            "  8%|▊         | 5467/69499 [00:05<01:10, 913.59it/s]\u001b[A"
          ],
          "name": "stderr"
        },
        {
          "output_type": "stream",
          "text": [
            "Found Skill:  javascript  In:  content     project specific skills javascript\n",
            "Found Skill:  code  In:  content     code collaborator.\n",
            "Found Skill:  html  In:  content     the ui supports html 5 features..\n",
            "Found Skill:  javascript  In:  content     project specific skills javascript\n",
            "Found Skill:  css  In:  content     css\n",
            "Found Skill:  javascript  In:  content     project specific skills javascript\n",
            "Found Skill:  css  In:  content     css\n",
            "Found Skill:  javascript  In:  content     scripting languages: javascript\n",
            "Found Skill:  code  In:  content     code collaborator\n",
            "Found Skill:  html  In:  content     web designing tools: html 4\n",
            "Found Skill:  html  In:  content     html 5\n",
            "Found Skill:  css  In:  content     css 3\n",
            "Found Skill:  java  In:  content     java\n",
            "Found Skill:  html  In:  content     html\n",
            "Found Skill:  sql  In:  content     sql\n",
            "Found Skill:  c++  In:  content     c++\n",
            "Found Skill:  access  In:  content     tags and providing svn user access to all dev...\n",
            "Found Skill:  chef  In:  content     chef kitchen\n",
            "Found Skill:  code  In:  content     code on svn server.\n",
            "Found Skill:  database  In:  content     oracle database\n"
          ],
          "name": "stdout"
        },
        {
          "output_type": "stream",
          "text": [
            "\n",
            "  8%|▊         | 5559/69499 [00:06<01:11, 899.76it/s]\u001b[A\n",
            "  8%|▊         | 5650/69499 [00:06<01:11, 890.18it/s]\u001b[A"
          ],
          "name": "stderr"
        },
        {
          "output_type": "stream",
          "text": [
            "Found Skill:  maven  In:  content     maven 3. .\n",
            "Found Skill:  red  In:  content     red hat linux 5. .\n",
            "Found Skill:  maven  In:  content     environment : maven\n",
            "Found Skill:  chef  In:  content     chef\n",
            "Found Skill:  java  In:  content     application is based on java technology.\n",
            "Found Skill:  code  In:  content     code from development team and have to build ...\n",
            "Found Skill:  maven  In:  content     environment: maven\n",
            "Found Skill:  java  In:  content     this application is based on java technology....\n",
            "Found Skill:  code  In:  content     have to build and deploy the code later have ...\n",
            "Found Skill:  java  In:  content     executing java applications build and deploym...\n",
            "Found Skill:  jira  In:  content     jira\n",
            "Found Skill:  maven  In:  content     environment: maven\n",
            "Found Skill:  java  In:  content     this application is based on java technology.\n",
            "Found Skill:  code  In:  content     collect code from development team and have t...\n"
          ],
          "name": "stdout"
        },
        {
          "output_type": "stream",
          "text": [
            "\n",
            "  8%|▊         | 5740/69499 [00:06<01:11, 888.20it/s]\u001b[A\n",
            "  8%|▊         | 5838/69499 [00:06<01:09, 913.51it/s]\u001b[A\n",
            "  9%|▊         | 5930/69499 [00:06<01:09, 911.23it/s]\u001b[A"
          ],
          "name": "stderr"
        },
        {
          "output_type": "stream",
          "text": [
            "Found Skill:  java  In:  content     java\n",
            "Found Skill:  jira  In:  content     jira\n",
            "Found Skill:  access  In:  content     tags and providing svn user access to all dev...\n",
            "Found Skill:  chef  In:  content     chef kitchen\n",
            "Found Skill:  code  In:  content     code on svn server.\n",
            "Found Skill:  database  In:  content     oracle database\n",
            "Found Skill:  chef  In:  content     chef (1 year)\n",
            "Found Skill:  maven  In:  content     maven\n",
            "Found Skill:  red  In:  content     red hat linux 5.\n",
            "Found Skill:  database  In:  content     database oracle 11g.\n",
            "Found Skill:  chef  In:  content     configuration tools chef\n",
            "Found Skill:  sql  In:  content     sql\n",
            "Found Skill:  pl/sql  In:  content     pl/sql\n",
            "Found Skill:  sql  In:  content     sql\n",
            "Found Skill:  pl/sql  In:  content     pl/sql\n"
          ],
          "name": "stdout"
        },
        {
          "output_type": "stream",
          "text": [
            "\n",
            "  9%|▊         | 6028/69499 [00:06<01:08, 929.38it/s]\u001b[A\n",
            "  9%|▉         | 6133/69499 [00:06<01:05, 962.53it/s]\u001b[A"
          ],
          "name": "stderr"
        },
        {
          "output_type": "stream",
          "text": [
            "Found Skill:  sql  In:  content     sql\n",
            "Found Skill:  sql  In:  content     sql developer\n",
            "Found Skill:  database  In:  content     database (less than 1 year).\n",
            "Found Skill:  slip  In:  content     wage slip\n",
            "Found Skill:  database  In:  content     database foxpro 6.22.\n"
          ],
          "name": "stdout"
        },
        {
          "output_type": "stream",
          "text": [
            "\n",
            "  9%|▉         | 6230/69499 [00:06<01:06, 950.26it/s]\u001b[A\n",
            "  9%|▉         | 6326/69499 [00:06<01:06, 948.02it/s]\u001b[A"
          ],
          "name": "stderr"
        },
        {
          "output_type": "stream",
          "text": [
            "Found Skill:  html  In:  content     familiar with web technology html css.\n",
            "Found Skill:  html  In:  content     html (1 year)\n",
            "Found Skill:  excel  In:  content     excel\n",
            "Found Skill:  java  In:  content     micromedia flash etc..     java netbeans\n",
            "Found Skill:  sql  In:  content     sql\n",
            "Found Skill:  html  In:  content     html\n",
            "Found Skill:  php  In:  content     php etc..\n",
            "Found Skill:  python  In:  content     perform automation through python and batch s...\n",
            "Found Skill:  c++  In:  content     c++ (less than 1 year)\n",
            "Found Skill:  python  In:  content     python\n",
            "Found Skill:  java  In:  content     languages: java\n",
            "Found Skill:  c++  In:  content     c++\n",
            "Found Skill:  python  In:  content     python\n",
            "Found Skill:  dynamo  In:  content     dynamo db..     utilized cloud watch to monit...\n",
            "Found Skill:  code  In:  content     history of code and helping the developers in...\n",
            "Found Skill:  maven  In:  content     maven\n",
            "Found Skill:  jira  In:  content     jira\n"
          ],
          "name": "stdout"
        },
        {
          "output_type": "stream",
          "text": [
            "\n",
            "  9%|▉         | 6422/69499 [00:07<01:07, 934.25it/s]\u001b[A\n",
            "  9%|▉         | 6519/69499 [00:07<01:06, 943.89it/s]\u001b[A\n",
            " 10%|▉         | 6615/69499 [00:07<01:06, 948.58it/s]\u001b[A"
          ],
          "name": "stderr"
        },
        {
          "output_type": "stream",
          "text": [
            "Found Skill:  database  In:  content     application and implementation of database ma...\n",
            "Found Skill:  maven  In:  content     maven\n",
            "Found Skill:  excel  In:  content     ms excel (2 years)\n",
            "Found Skill:  word  In:  content     ms word (2 years)\n",
            "Found Skill:  excel  In:  content     advanced excel\n",
            "Found Skill:  pike  In:  content     pike international\n"
          ],
          "name": "stdout"
        },
        {
          "output_type": "stream",
          "text": [
            "\n",
            " 10%|▉         | 6710/69499 [00:07<01:07, 931.54it/s]\u001b[A\n",
            " 10%|▉         | 6804/69499 [00:07<01:07, 931.84it/s]\u001b[A"
          ],
          "name": "stderr"
        },
        {
          "output_type": "stream",
          "text": [
            "Found Skill:  focus  In:  content     issues between various systems with focus on ...\n",
            "Found Skill:  sql  In:  content     sql\n",
            "Found Skill:  pl/sql  In:  content     pl/sql\n",
            "Found Skill:  html  In:  content     html\n",
            "Found Skill:  xml  In:  content     xml\n",
            "Found Skill:  java  In:  content     java\n"
          ],
          "name": "stdout"
        },
        {
          "output_type": "stream",
          "text": [
            "\n",
            " 10%|▉         | 6901/69499 [00:07<01:06, 940.11it/s]\u001b[A\n",
            " 10%|█         | 6996/69499 [00:07<01:06, 934.18it/s]\u001b[A"
          ],
          "name": "stderr"
        },
        {
          "output_type": "stream",
          "text": [
            "Found Skill:  code  In:  content     being implemented in the code base and execut...\n",
            "Found Skill:  database  In:  content     database (less than 1 year)\n",
            "Found Skill:  java  In:  content     java (less than.\n",
            "Found Skill:  sql  In:  content     sql (less than 1 year)\n",
            "Found Skill:  database  In:  content     database mysql.\n",
            "Found Skill:  blue  In:  content     prepared blue print of the new warehouse faci...\n",
            "Found Skill:  gap  In:  content     gap analysis and design   finalization of.\n",
            "Found Skill:  abap  In:  content     consultant / abap consultant.\n"
          ],
          "name": "stdout"
        },
        {
          "output_type": "stream",
          "text": [
            "\n",
            " 10%|█         | 7090/69499 [00:07<01:09, 899.88it/s]\u001b[A\n",
            " 10%|█         | 7184/69499 [00:07<01:08, 909.77it/s]\u001b[A"
          ],
          "name": "stderr"
        },
        {
          "output_type": "stream",
          "text": [
            "Found Skill:  sql  In:  content     computing languages: sql\n",
            "Found Skill:  html  In:  content     html\n",
            "Found Skill:  php  In:  content     php\n",
            "Found Skill:  flavors  In:  content     linux - various flavors and distributions (re...\n",
            "Found Skill:  sql  In:  content     microsoft sql       r2.\n",
            "Found Skill:  access  In:  content     management gateway and unified access gateway...\n",
            "Found Skill:  java  In:  content     java developer/senior systems engineer - info...\n",
            "Found Skill:  java  In:  content     of experience in development using java techn...\n"
          ],
          "name": "stdout"
        },
        {
          "output_type": "stream",
          "text": [
            "\n",
            " 10%|█         | 7276/69499 [00:07<01:08, 907.91it/s]\u001b[A\n",
            " 11%|█         | 7367/69499 [00:08<01:14, 833.99it/s]\u001b[A"
          ],
          "name": "stderr"
        },
        {
          "output_type": "stream",
          "text": [
            "Found Skill:  java  In:  content     java developer/senior systems engineer.\n",
            "Found Skill:  java  In:  content     aqc is a java enterprise web based applicatio...\n",
            "Found Skill:  code  In:  content     deploying code over different servers\n",
            "Found Skill:  code  In:  content     finding defects and giving code fixes in.\n",
            "Found Skill:  java  In:  content     java intern.\n",
            "Found Skill:  java  In:  content     experience in core java\n",
            "Found Skill:  sql  In:  content     sql server\n",
            "Found Skill:  java  In:  content     core java\n",
            "Found Skill:  sql  In:  content     database: sql server 2008.\n",
            "Found Skill:  abap  In:  content     sap abap -  kolkata\n",
            "Found Skill:  abap  In:  content     sap abap -  kolkata\n",
            "Found Skill:  abap  In:  content     sap abap -.\n",
            "Found Skill:  abap  In:  content     sap abap -  kolkata\n",
            "Found Skill:  abap  In:  content     sap abap -  kolkata\n",
            "Found Skill:  abap  In:  content     sap abap -  kolkata\n",
            "Found Skill:  abap  In:  content     sap abap -  bengaluru\n",
            "Found Skill:  abap  In:  content     sap abap -  kolkata\n",
            "Found Skill:  abap  In:  content     sap abap -  kolkata\n"
          ],
          "name": "stdout"
        },
        {
          "output_type": "stream",
          "text": [
            "\n",
            " 11%|█         | 7452/69499 [00:08<01:16, 810.13it/s]\u001b[A\n",
            " 11%|█         | 7540/69499 [00:08<01:14, 827.20it/s]\u001b[A"
          ],
          "name": "stderr"
        },
        {
          "output_type": "stream",
          "text": [
            "Found Skill:  abap  In:  content     sap abap -  kolkata\n",
            "Found Skill:  max  In:  content     client: max life insurance.\n",
            "Found Skill:  scheme  In:  content     the pmjjby scheme is.\n",
            "Found Skill:  scheme  In:  content     main administrator within the scheme could be...\n",
            "Found Skill:  java  In:  content     expertise in the areas of core java\n",
            "Found Skill:  sql  In:  content     expertise in pl sql programming and oracle ap...\n",
            "Found Skill:  processing  In:  content     processing\n",
            "Found Skill:  java  In:  content     implementation of modules using core java apis\n",
            "Found Skill:  java  In:  content     java collection\n",
            "Found Skill:  xml  In:  content     xml technologies and.\n",
            "Found Skill:  database  In:  content     utilize oracle as back-end database and toad ...\n"
          ],
          "name": "stdout"
        },
        {
          "output_type": "stream",
          "text": [
            "\n",
            " 11%|█         | 7624/69499 [00:08<01:14, 826.14it/s]\u001b[A\n",
            " 11%|█         | 7713/69499 [00:08<01:13, 842.30it/s]\u001b[A"
          ],
          "name": "stderr"
        },
        {
          "output_type": "stream",
          "text": [
            "Found Skill:  maven  In:  content     used maven build scripts to create and deploy...\n",
            "Found Skill:  code  In:  content     code reviews and independent unit testing for...\n",
            "Found Skill:  code  In:  content     manage code release deployment into development\n",
            "Found Skill:  maven  In:  content     maven\n",
            "Found Skill:  java  In:  content     core java\n",
            "Found Skill:  java  In:  content     developed required back java components..    ...\n",
            "Found Skill:  xml  In:  content     xml\n",
            "Found Skill:  maven  In:  content     maven\n",
            "Found Skill:  code  In:  content     develop code using knowledge of relevant tech...\n",
            "Found Skill:  self  In:  content     perform testing - self and independent (funct...\n",
            "Found Skill:  java  In:  content     technologies: java 1.5\n",
            "Found Skill:  xml  In:  content     xml\n"
          ],
          "name": "stdout"
        },
        {
          "output_type": "stream",
          "text": [
            "\n",
            " 11%|█         | 7798/69499 [00:08<01:13, 835.38it/s]\u001b[A\n",
            " 11%|█▏        | 7882/69499 [00:08<01:15, 814.97it/s]\u001b[A"
          ],
          "name": "stderr"
        },
        {
          "output_type": "stream",
          "text": [
            "Found Skill:  pl/sql  In:  content     implemented the pl/sql based on the requireme...\n",
            "Found Skill:  pl/sql  In:  content     technologies: pl/sql\n",
            "Found Skill:  sql  In:  content     technologies: sql server\n",
            "Found Skill:  unity  In:  content     project: arrow unity (sales work bench).\n",
            "Found Skill:  database  In:  content     and views for backend database access..     u...\n",
            "Found Skill:  java  In:  content     java (3 years)\n",
            "Found Skill:  java  In:  content     languages java\n",
            "Found Skill:  java  In:  content     java script\n",
            "Found Skill:  pl/sql  In:  content     pl/sql\n",
            "Found Skill:  sql  In:  content     sql server\n",
            "Found Skill:  html  In:  content     html\n",
            "Found Skill:  xml  In:  content     xml\n",
            "Found Skill:  sql  In:  content     sql server.\n",
            "Found Skill:  xml  In:  content     xml\n",
            "Found Skill:  java  In:  content     java/j2eetechnologies java\n"
          ],
          "name": "stdout"
        },
        {
          "output_type": "stream",
          "text": [
            "\n",
            " 11%|█▏        | 7971/69499 [00:08<01:13, 835.82it/s]\u001b[A\n",
            " 12%|█▏        | 8070/69499 [00:08<01:10, 876.10it/s]\u001b[A\n",
            " 12%|█▏        | 8167/69499 [00:08<01:08, 900.33it/s]\u001b[A\n",
            " 12%|█▏        | 8261/69499 [00:09<01:07, 910.73it/s]\u001b[A\n",
            " 12%|█▏        | 8353/69499 [00:09<01:07, 907.15it/s]\u001b[A"
          ],
          "name": "stderr"
        },
        {
          "output_type": "stream",
          "text": [
            "Found Skill:  processing  In:  content     responsible for processing vendor invoices.\n",
            "Found Skill:  cobol  In:  content     cobol (4 years)\n",
            "Found Skill:  cics  In:  content     cics (4. years)\n",
            "Found Skill:  rexx  In:  content     rexx (4 years).\n",
            "Found Skill:  ispf  In:  content     tools: ispf\n",
            "Found Skill:  sql  In:  content     sql server.\n",
            "Found Skill:  java  In:  content     secondary skills: java script\n",
            "Found Skill:  html  In:  content     html\n",
            "Found Skill:  java  In:  content     java\n",
            "Found Skill:  access  In:  content     mpls or at access level post migration activi...\n",
            "Found Skill:  focus  In:  content     focus on customer requirements and providing ...\n"
          ],
          "name": "stdout"
        },
        {
          "output_type": "stream",
          "text": [
            "\n",
            " 12%|█▏        | 8458/69499 [00:09<01:04, 943.86it/s]\u001b[A\n",
            " 12%|█▏        | 8554/69499 [00:09<01:05, 929.75it/s]\u001b[A"
          ],
          "name": "stderr"
        },
        {
          "output_type": "stream",
          "text": [
            "Found Skill:  access  In:  content     clusterxl etc..     asa firewall: access cont...\n"
          ],
          "name": "stdout"
        },
        {
          "output_type": "stream",
          "text": [
            "\n",
            " 12%|█▏        | 8648/69499 [00:09<01:08, 894.80it/s]\u001b[A\n",
            " 13%|█▎        | 8739/69499 [00:09<01:08, 882.51it/s]\u001b[A\n",
            " 13%|█▎        | 8835/69499 [00:09<01:07, 901.03it/s]\u001b[A"
          ],
          "name": "stderr"
        },
        {
          "output_type": "stream",
          "text": [
            "Found Skill:  access  In:  content     access all their accounts\n",
            "Found Skill:  abap  In:  content     knowledge of abap debugging\n",
            "Found Skill:  abap  In:  content     basic abap (tables\n",
            "Found Skill:  abap  In:  content     sap abap consultant.\n"
          ],
          "name": "stdout"
        },
        {
          "output_type": "stream",
          "text": [
            "\n",
            " 13%|█▎        | 8926/69499 [00:09<01:09, 866.02it/s]\u001b[A\n",
            " 13%|█▎        | 9014/69499 [00:09<01:10, 862.33it/s]\u001b[A"
          ],
          "name": "stderr"
        },
        {
          "output_type": "stream",
          "text": [
            "Found Skill:  abap  In:  content     sap abap consultant.\n",
            "Found Skill:  abap  In:  content     sap abap -  badi\n",
            "Found Skill:  rapid  In:  content     company has witnessed rapid expansion that ha...\n",
            "Found Skill:  excel  In:  content     developed a class to download multi excel she...\n",
            "Found Skill:  abap  In:  content     sap abap -.\n",
            "Found Skill:  abap  In:  content     sap abap -.\n",
            "Found Skill:  abap  In:  content     sap abap -  bangalore\n",
            "Found Skill:  abap  In:  content     sap abap -.\n",
            "Found Skill:  abap  In:  content     sap abap -  marmagao\n"
          ],
          "name": "stdout"
        },
        {
          "output_type": "stream",
          "text": [
            "\n",
            " 13%|█▎        | 9101/69499 [00:10<01:10, 858.21it/s]\u001b[A\n",
            " 13%|█▎        | 9199/69499 [00:10<01:07, 889.33it/s]\u001b[A"
          ],
          "name": "stderr"
        },
        {
          "output_type": "stream",
          "text": [
            "Found Skill:  abap  In:  content     sap abap consultant.\n",
            "Found Skill:  database  In:  content     customers and updates the database as  bc .\n",
            "Found Skill:  abap  In:  content     worked on abap workflow.\n",
            "Found Skill:  html  In:  content     web technologies: html (5)\n",
            "Found Skill:  css  In:  content     css (3).\n",
            "Found Skill:  java  In:  content     java\n",
            "Found Skill:  java  In:  content     features   is also expandable.. - used java\n",
            "Found Skill:  java  In:  content     criteria.. - used java\n"
          ],
          "name": "stdout"
        },
        {
          "output_type": "stream",
          "text": [
            "\n",
            " 13%|█▎        | 9289/69499 [00:10<01:09, 864.31it/s]\u001b[A\n",
            " 13%|█▎        | 9376/69499 [00:10<01:12, 824.57it/s]\u001b[A"
          ],
          "name": "stderr"
        },
        {
          "output_type": "stream",
          "text": [
            "Found Skill:  html  In:  content     html (less than 1 year)\n",
            "Found Skill:  php  In:  content     php (less than.\n",
            "Found Skill:  sql  In:  content     sql (less than 1 year)\n",
            "Found Skill:  java  In:  content     java (less than 1 year)\n",
            "Found Skill:  c++  In:  content     c++\n",
            "Found Skill:  database  In:  content     database management (less than 1 year).\n",
            "Found Skill:  java  In:  content     java\n",
            "Found Skill:  java  In:  content     criteria.. - used java\n",
            "Found Skill:  sql  In:  content     sql\n",
            "Found Skill:  java  In:  content     core java\n",
            "Found Skill:  php  In:  content     * web development - php\n",
            "Found Skill:  goal  In:  content     a professional in challenging and goal orient...\n",
            "Found Skill:  bpel  In:  content     experience in developing and deploying bpel p...\n",
            "Found Skill:  bpel  In:  content     part of a team for developing a bpel process ...\n",
            "Found Skill:  bpel  In:  content     orchestrated bpel process had process activit...\n",
            "Found Skill:  bpel  In:  content     developed and deployed bpel processes to impo...\n",
            "Found Skill:  bpel  In:  content     worked on bpel process to create sales order ...\n",
            "Found Skill:  xslt  In:  content     xslt and xpath.\n",
            "Found Skill:  xml  In:  content     xml\n",
            "Found Skill:  java  In:  content     core java\n",
            "Found Skill:  database  In:  content     adapters database\n",
            "Found Skill:  xml  In:  content     programming languages xml\n",
            "Found Skill:  c++  In:  content     c++ and core java.\n",
            "Found Skill:  chain  In:  content     holt renfrew is 180 years old chain of high-e...\n"
          ],
          "name": "stdout"
        },
        {
          "output_type": "stream",
          "text": [
            "\n",
            " 14%|█▎        | 9460/69499 [00:10<01:15, 796.88it/s]\u001b[A\n",
            " 14%|█▎        | 9548/69499 [00:10<01:13, 819.33it/s]\u001b[A"
          ],
          "name": "stderr"
        },
        {
          "output_type": "stream",
          "text": [
            "Found Skill:  bpel  In:  content     bpel and mediator components)..     providing...\n",
            "Found Skill:  sql  In:  content     expertise in implementing sql\n",
            "Found Skill:  html  In:  content     html\n",
            "Found Skill:  javascript  In:  content     javascript\n",
            "Found Skill:  css  In:  content     css\n",
            "Found Skill:  html  In:  content     html\n",
            "Found Skill:  css  In:  content     css\n",
            "Found Skill:  javascript  In:  content     javascript\n",
            "Found Skill:  code  In:  content     integrated code quality\n",
            "Found Skill:  code  In:  content     code coverage\n",
            "Found Skill:  powershell  In:  content     develop powershell scripts to upload artifact...\n",
            "Found Skill:  maven  In:  content     maven\n",
            "Found Skill:  jira  In:  content     jira\n",
            "Found Skill:  powershell  In:  content     scripting language powershell scripting\n"
          ],
          "name": "stdout"
        },
        {
          "output_type": "stream",
          "text": [
            "\n",
            " 14%|█▍        | 9631/69499 [00:10<01:14, 807.07it/s]\u001b[A\n",
            " 14%|█▍        | 9730/69499 [00:10<01:10, 852.30it/s]\u001b[A"
          ],
          "name": "stderr"
        },
        {
          "output_type": "stream",
          "text": [
            "Found Skill:  sql  In:  content     sql server.\n",
            "Found Skill:  maven  In:  content     build tools maven\n",
            "Found Skill:  jira  In:  content     jira\n",
            "Found Skill:  java  In:  content     java\n",
            "Found Skill:  c++  In:  content     attended a three-day workshop on c and c++ pr...\n",
            "Found Skill:  java  In:  content     attended a one-day workshop on java and hardw...\n",
            "Found Skill:  spark  In:  content     attended spark training program in infosys my...\n"
          ],
          "name": "stdout"
        },
        {
          "output_type": "stream",
          "text": [
            "\n",
            " 14%|█▍        | 9820/69499 [00:10<01:08, 865.89it/s]\u001b[A\n",
            " 14%|█▍        | 9908/69499 [00:11<01:08, 864.87it/s]\u001b[A"
          ],
          "name": "stderr"
        },
        {
          "output_type": "stream",
          "text": [
            "Found Skill:  sql  In:  content     oracle sql\n",
            "Found Skill:  sql  In:  content     sql workbench\n",
            "Found Skill:  sql  In:  content     sql developer\n",
            "Found Skill:  excel  In:  content     ms excel\n",
            "Found Skill:  database  In:  content     - working as a database developer in this pro...\n"
          ],
          "name": "stdout"
        },
        {
          "output_type": "stream",
          "text": [
            "\n",
            " 14%|█▍        | 10003/69499 [00:11<01:07, 885.99it/s]\u001b[A\n",
            " 15%|█▍        | 10093/69499 [00:11<01:06, 889.88it/s]\u001b[A\n",
            " 15%|█▍        | 10183/69499 [00:11<01:06, 888.05it/s]\u001b[A"
          ],
          "name": "stderr"
        },
        {
          "output_type": "stream",
          "text": [
            "Found Skill:  chain  In:  content     telecom/ bfsi/supply chain trading applications.\n",
            "Found Skill:  java  In:  content     java\n",
            "Found Skill:  .net  In:  content     .net\n",
            "Found Skill:  sql  In:  content     sql\n",
            "Found Skill:  xml  In:  content     xml\n",
            "Found Skill:  junit  In:  content     junit\n",
            "Found Skill:  cucumber  In:  content     cucumber\n",
            "Found Skill:  jira  In:  content     jira\n",
            "Found Skill:  maven  In:  content     maven\n",
            "Found Skill:  small  In:  content     helped many large and small organizations to ...\n",
            "Found Skill:  blue  In:  content     bcbs (blue cross blue shield\n",
            "Found Skill:  dynamo  In:  content     dynamo\n"
          ],
          "name": "stdout"
        },
        {
          "output_type": "stream",
          "text": [
            "\n",
            " 15%|█▍        | 10276/69499 [00:11<01:05, 898.64it/s]\u001b[A\n",
            " 15%|█▍        | 10368/69499 [00:11<01:05, 904.39it/s]\u001b[A"
          ],
          "name": "stderr"
        },
        {
          "output_type": "stream",
          "text": [
            "Found Skill:  java  In:  content     java\n",
            "Found Skill:  scala  In:  content     scala\n",
            "Found Skill:  java  In:  content     java (10+ years)\n"
          ],
          "name": "stdout"
        },
        {
          "output_type": "stream",
          "text": [
            "\n",
            " 15%|█▌        | 10464/69499 [00:11<01:04, 919.82it/s]\u001b[A\n",
            " 15%|█▌        | 10557/69499 [00:11<01:05, 906.79it/s]\u001b[A\n",
            " 15%|█▌        | 10648/69499 [00:11<01:05, 902.62it/s]\u001b[A"
          ],
          "name": "stderr"
        },
        {
          "output_type": "stream",
          "text": [
            "Found Skill:  java  In:  content     trained on java\n",
            "Found Skill:  code  In:  content     worked on code incremental and db incremental...\n",
            "Found Skill:  java  In:  content     java (less.\n",
            "Found Skill:  javascript  In:  content     javascript (less than 1 year).\n",
            "Found Skill:  java  In:  content     java\n",
            "Found Skill:  javascript  In:  content     javascript\n",
            "Found Skill:  pl/sql  In:  content     languages: pl/sql\n",
            "Found Skill:  database  In:  content     database conversion from non-rac to 2 node\n",
            "Found Skill:  database  In:  content     database switchover code written for oto.\n",
            "Found Skill:  database  In:  content     experienced with database upgrades as well.\n",
            "Found Skill:  xml  In:  content     xml plug-in\n",
            "Found Skill:  database  In:  content     database\n"
          ],
          "name": "stdout"
        },
        {
          "output_type": "stream",
          "text": [
            "\n",
            " 15%|█▌        | 10739/69499 [00:11<01:08, 854.60it/s]\u001b[A\n",
            " 16%|█▌        | 10833/69499 [00:12<01:06, 876.85it/s]\u001b[A"
          ],
          "name": "stderr"
        },
        {
          "output_type": "stream",
          "text": [
            "Found Skill:  database  In:  content     conversion of database from non-rac to rac.\n",
            "Found Skill:  database  In:  content     also the recovery of database is involved..\n",
            "Found Skill:  pl/sql  In:  content     pl/sql and html.\n",
            "Found Skill:  pl/sql  In:  content     * developed the pl/sql procedures   packages\n",
            "Found Skill:  html  In:  content     html forms required for the portal\n",
            "Found Skill:  java  In:  content     using java scripting\n",
            "Found Skill:  code  In:  content     creation of input   output tax code\n"
          ],
          "name": "stdout"
        },
        {
          "output_type": "stream",
          "text": [
            "\n",
            " 16%|█▌        | 10922/69499 [00:12<01:08, 861.23it/s]\u001b[A\n",
            " 16%|█▌        | 11010/69499 [00:12<01:07, 866.65it/s]\u001b[A"
          ],
          "name": "stderr"
        },
        {
          "output_type": "stream",
          "text": [
            "Found Skill:  word  In:  content     tally..     office productivity: microsoft word\n",
            "Found Skill:  excel  In:  content     excel\n",
            "Found Skill:  c++  In:  content     c++\n",
            "Found Skill:  .net  In:  content     .net (less than 1 year)\n",
            "Found Skill:  c++  In:  content     using c++ stl.\n",
            "Found Skill:  able  In:  content     able to understand and review java and scala ...\n",
            "Found Skill:  code  In:  content     issues by fixing the code bugs..\n",
            "Found Skill:  able  In:  content     gui is able to provide all information in a u...\n",
            "Found Skill:  word  In:  content     line number and time indexes for word and phr...\n"
          ],
          "name": "stdout"
        },
        {
          "output_type": "stream",
          "text": [
            "\n",
            " 16%|█▌        | 11097/69499 [00:12<01:07, 865.29it/s]\u001b[A\n",
            " 16%|█▌        | 11185/69499 [00:12<01:07, 868.26it/s]\u001b[A"
          ],
          "name": "stderr"
        },
        {
          "output_type": "stream",
          "text": [
            "Found Skill:  excel  In:  content     implemented tool to create an excel with mani...\n",
            "Found Skill:  python  In:  content     knowledge in python scripting.. .\n",
            "Found Skill:  code  In:  content     code to cater to a group of customers.\n",
            "Found Skill:  tcl  In:  content     automating testcases using tcl scripting.\n",
            "Found Skill:  gap  In:  content     gap analysis using cserv.\n",
            "Found Skill:  gap  In:  content     gap analysis (5 years)\n",
            "Found Skill:  sql  In:  content     databases: oracle  sql server.\n"
          ],
          "name": "stdout"
        },
        {
          "output_type": "stream",
          "text": [
            "\n",
            " 16%|█▌        | 11272/69499 [00:12<01:08, 845.18it/s]\u001b[A\n",
            " 16%|█▋        | 11360/69499 [00:12<01:08, 854.65it/s]\u001b[A"
          ],
          "name": "stderr"
        },
        {
          "output_type": "stream",
          "text": [
            "Found Skill:  gap  In:  content     gap analysis using cserv\n",
            "Found Skill:  red  In:  content     red hat -  bengaluru\n",
            "Found Skill:  red  In:  content     responsible for sales of entire red hat produ...\n",
            "Found Skill:  small  In:  content     improved brand presence in small cities and t...\n",
            "Found Skill:  mysql  In:  content     responsible for mysql\n",
            "Found Skill:  java  In:  content     programming     java\n",
            "Found Skill:  c++  In:  content     c++\n",
            "Found Skill:  matlab  In:  content     matlab\n",
            "Found Skill:  java  In:  content     finished diploma in java course from niit.\n",
            "Found Skill:  java  In:  content     java (6 years)\n",
            "Found Skill:  abap  In:  content     abap (less than 1 year)\n",
            "Found Skill:  access  In:  content     access (less than 1. year).\n",
            "Found Skill:  database  In:  content     database administration.\n",
            "Found Skill:  database  In:  content     database administration on oracle 10 g\n",
            "Found Skill:  database  In:  content     monitoring   perform database backup at db13 ...\n",
            "Found Skill:  database  In:  content     12 c... sap hana database administration.\n"
          ],
          "name": "stdout"
        },
        {
          "output_type": "stream",
          "text": [
            "\n",
            " 16%|█▋        | 11446/69499 [00:12<01:10, 821.79it/s]\u001b[A\n",
            " 17%|█▋        | 11529/69499 [00:12<01:11, 814.11it/s]\u001b[A"
          ],
          "name": "stderr"
        },
        {
          "output_type": "stream",
          "text": [
            "Found Skill:  c++  In:  content     c++\n",
            "Found Skill:  java  In:  content     core java\n",
            "Found Skill:  java  In:  content     monitoring and troubleshooting java systems u...\n",
            "Found Skill:  database  In:  content     database cluster administration..     system ...\n",
            "Found Skill:  database  In:  content     creation database source in java systems..\n",
            "Found Skill:  abap  In:  content     bw abap 7.31.\n",
            "Found Skill:  java  In:  content     monitoring and troubleshooting java systems u...\n",
            "Found Skill:  database  In:  content     database administration using brtools..     k...\n",
            "Found Skill:  abap  In:  content     bw abap 7.31\n",
            "Found Skill:  access  In:  content     and access management activities\n",
            "Found Skill:  access  In:  content     updating existing access and provisioning wor...\n",
            "Found Skill:  python  In:  content     i m trained in python\n",
            "Found Skill:  java  In:  content     java and plsql.\n",
            "Found Skill:  able  In:  content     i m able to handle multiple tasks.\n",
            "Found Skill:  goal  In:  content     i m committed  goal oriented\n",
            "Found Skill:  python  In:  content     b. python automation:.\n"
          ],
          "name": "stdout"
        },
        {
          "output_type": "stream",
          "text": [
            "\n",
            " 17%|█▋        | 11611/69499 [00:12<01:13, 786.67it/s]\u001b[A\n",
            " 17%|█▋        | 11694/69499 [00:13<01:12, 797.25it/s]\u001b[A"
          ],
          "name": "stderr"
        },
        {
          "output_type": "stream",
          "text": [
            "Found Skill:  processing  In:  content     tracking and processing identity creation for...\n",
            "Found Skill:  access  In:  content     access is disabled on the user s departure da...\n",
            "Found Skill:  access  In:  content     access periodically and updating it according...\n",
            "Found Skill:  access  In:  content     access management:.\n",
            "Found Skill:  database  In:  content     database and application front end.\n",
            "Found Skill:  access  In:  content     access is granted.. .\n",
            "Found Skill:  python  In:  content     languages: python\n",
            "Found Skill:  java  In:  content     core java\n",
            "Found Skill:  sql  In:  content     sql\n",
            "Found Skill:  python  In:  content     python scripts developed by the team.\n",
            "Found Skill:  excel  In:  content     extracting data from excel and csv files\n",
            "Found Skill:  excel  In:  content     posting results in excel file with python..\n",
            "Found Skill:  tcl  In:  content     language tcl programming\n",
            "Found Skill:  python  In:  content     python\n",
            "Found Skill:  tcl  In:  content     language tcl programming\n"
          ],
          "name": "stdout"
        },
        {
          "output_type": "stream",
          "text": [
            "\n",
            " 17%|█▋        | 11780/69499 [00:13<01:10, 814.65it/s]\u001b[A\n",
            " 17%|█▋        | 11862/69499 [00:13<01:10, 815.54it/s]\u001b[A\n",
            " 17%|█▋        | 11954/69499 [00:13<01:08, 843.35it/s]\u001b[A"
          ],
          "name": "stderr"
        },
        {
          "output_type": "stream",
          "text": [
            "Found Skill:  tcl  In:  content     language tcl programming\n",
            "Found Skill:  python  In:  content     python (4 years)\n",
            "Found Skill:  tcl  In:  content     tcl (4 years)\n",
            "Found Skill:  python  In:  content     programming languages python\n",
            "Found Skill:  tcl  In:  content     tcl\n",
            "Found Skill:  sql  In:  content     sql\n",
            "Found Skill:  ats  In:  content     automation framework ats (automated test system)\n",
            "Found Skill:  database  In:  content     database configuration.\n",
            "Found Skill:  database  In:  content     database configuration.\n",
            "Found Skill:  database  In:  content     database configuration\n"
          ],
          "name": "stdout"
        },
        {
          "output_type": "stream",
          "text": [
            "\n",
            " 17%|█▋        | 12040/69499 [00:13<01:07, 845.91it/s]\u001b[A\n",
            " 17%|█▋        | 12125/69499 [00:13<01:09, 821.65it/s]\u001b[A\n",
            " 18%|█▊        | 12226/69499 [00:13<01:05, 868.89it/s]\u001b[A"
          ],
          "name": "stderr"
        },
        {
          "output_type": "stream",
          "text": [
            "Found Skill:  small  In:  content     esthetical issues: font too small\n",
            "Found Skill:  logo  In:  content     this current report will display the logo bas...\n",
            "Found Skill:  able  In:  content     be able to select this base as needed to suit...\n",
            "Found Skill:  focus  In:  content     from defect prevent analysis focus on specifi...\n",
            "Found Skill:  database  In:  content     database configuration.\n",
            "Found Skill:  database  In:  content     database configuration\n"
          ],
          "name": "stdout"
        },
        {
          "output_type": "stream",
          "text": [
            "\n",
            " 18%|█▊        | 12315/69499 [00:13<01:05, 872.83it/s]\u001b[A\n",
            " 18%|█▊        | 12409/69499 [00:13<01:04, 889.25it/s]\u001b[A"
          ],
          "name": "stderr"
        },
        {
          "output_type": "stream",
          "text": [
            "Found Skill:  small  In:  content     esthetical issues: font too small\n",
            "Found Skill:  logo  In:  content     this current report will display the logo bas...\n",
            "Found Skill:  able  In:  content     be able to select this base as needed to suit...\n",
            "Found Skill:  focus  In:  content     from defect prevent analysis focus on specifi...\n",
            "Found Skill:  database  In:  content     database (4 years)\n",
            "Found Skill:  database  In:  content     database oracle.\n",
            "Found Skill:  sql  In:  content     languages sql\n",
            "Found Skill:  html  In:  content     web technologies tools html sql developer\n",
            "Found Skill:  abap  In:  content     trained on sap abap\n",
            "Found Skill:  java  In:  content     knowledge of xslt and java mapping and dynami...\n",
            "Found Skill:  factor  In:  content     project name success factor integration with ...\n",
            "Found Skill:  java  In:  content     technologies java script\n"
          ],
          "name": "stdout"
        },
        {
          "output_type": "stream",
          "text": [
            "\n",
            " 18%|█▊        | 12503/69499 [00:14<01:03, 902.73it/s]\u001b[A\n",
            " 18%|█▊        | 12600/69499 [00:14<01:01, 920.74it/s]\u001b[A"
          ],
          "name": "stderr"
        },
        {
          "output_type": "stream",
          "text": [
            "Found Skill:  groovy  In:  content     groovy script\n",
            "Found Skill:  java  In:  content     java (2 years).\n",
            "Found Skill:  sql  In:  content     sql server data\n",
            "Found Skill:  java  In:  content     languages core java\n",
            "Found Skill:  c++  In:  content     c++\n",
            "Found Skill:  .net  In:  content     .net framework 4.7. .\n",
            "Found Skill:  .net  In:  content     design azure components using azure .net sdks...\n",
            "Found Skill:  scratch  In:  content     sharepoint 2013 start from scratch using nintex.\n",
            "Found Skill:  database  In:  content     responsible for maintaining database of the p...\n",
            "Found Skill:  excel  In:  content     responsible for creating excel reports in sha...\n"
          ],
          "name": "stdout"
        },
        {
          "output_type": "stream",
          "text": [
            "\n",
            " 18%|█▊        | 12693/69499 [00:14<01:01, 922.19it/s]\u001b[A\n",
            " 18%|█▊        | 12788/69499 [00:14<01:00, 929.76it/s]\u001b[A"
          ],
          "name": "stderr"
        },
        {
          "output_type": "stream",
          "text": [
            "Found Skill:  sql  In:  content     microsoft sql server 2008 r2\n",
            "Found Skill:  database  In:  content     responsible for maintaining database of the p...\n",
            "Found Skill:  .net  In:  content     .net (6 years)\n",
            "Found Skill:  javascript  In:  content     javascript etc..     professional experience ...\n",
            "Found Skill:  html  In:  content     html\n",
            "Found Skill:  css  In:  content     css\n",
            "Found Skill:  javascript  In:  content     javascript\n",
            "Found Skill:  sql  In:  content     msbi sql server 2008\n",
            "Found Skill:  sql  In:  content     sql server 2012\n",
            "Found Skill:  c++  In:  content     c++\n",
            "Found Skill:  excel  In:  content     excel\n",
            "Found Skill:  self  In:  content     satisfaction and self development and help me...\n",
            "Found Skill:  word  In:  content     microsoft office: microsoft word\n"
          ],
          "name": "stdout"
        },
        {
          "output_type": "stream",
          "text": [
            "\n",
            " 19%|█▊        | 12889/69499 [00:14<00:59, 950.76it/s]\u001b[A\n",
            " 19%|█▊        | 12990/69499 [00:14<00:58, 964.77it/s]\u001b[A"
          ],
          "name": "stderr"
        },
        {
          "output_type": "stream",
          "text": [
            "Found Skill:  java  In:  content     java\n",
            "Found Skill:  java  In:  content     skills: java\n",
            "Found Skill:  self  In:  content     self-employed in family business - self emplo...\n",
            "Found Skill:  self  In:  content     self employed -.\n",
            "Found Skill:  html  In:  content     html (less than 1 year)\n",
            "Found Skill:  accent  In:  content     voice and accent trainer :masters in journali...\n",
            "Found Skill:  accent  In:  content     voice and accent trainer.\n"
          ],
          "name": "stdout"
        },
        {
          "output_type": "stream",
          "text": [
            "\n",
            " 19%|█▉        | 13087/69499 [00:14<00:59, 953.04it/s]\u001b[A\n",
            " 19%|█▉        | 13192/69499 [00:14<00:57, 980.09it/s]\u001b[A"
          ],
          "name": "stderr"
        },
        {
          "output_type": "stream",
          "text": [
            "Found Skill:  sql  In:  content     sql and hp storage servers.. * participate in...\n",
            "Found Skill:  processing  In:  content     processing units (cpus)\n",
            "Found Skill:  genie  In:  content     test tool: genie (target testing  amp  signal...\n",
            "Found Skill:  java  In:  content     java application\n"
          ],
          "name": "stdout"
        },
        {
          "output_type": "stream",
          "text": [
            "\n",
            " 19%|█▉        | 13293/69499 [00:14<00:56, 987.11it/s]\u001b[A\n",
            " 19%|█▉        | 13394/69499 [00:14<00:56, 991.18it/s]\u001b[A"
          ],
          "name": "stderr"
        },
        {
          "output_type": "stream",
          "text": [
            "Found Skill:  focus  In:  content     my focus as part of this role was as a dev op...\n",
            "Found Skill:  sql  In:  content     sql\n",
            "Found Skill:  powershell  In:  content     powershell\n",
            "Found Skill:  junit  In:  content     junit\n",
            "Found Skill:  code  In:  content     o code reviews .\n",
            "Found Skill:  sql  In:  content     sql (6 years)\n",
            "Found Skill:  .net  In:  content     microsoft .net platform\n",
            "Found Skill:  sql  In:  content     sql azure\n",
            "Found Skill:  access  In:  content     access control.\n",
            "Found Skill:  sql  In:  content     sql azure data sync\n",
            "Found Skill:  sql  In:  content     sql azure federation etc.. * deployment archi...\n",
            "Found Skill:  powershell  In:  content     using service management apis and powershell ...\n"
          ],
          "name": "stdout"
        },
        {
          "output_type": "stream",
          "text": [
            "\n",
            " 19%|█▉        | 13494/69499 [00:15<00:57, 978.68it/s]\u001b[A\n",
            " 20%|█▉        | 13596/69499 [00:15<00:56, 989.23it/s]\u001b[A"
          ],
          "name": "stderr"
        },
        {
          "output_type": "stream",
          "text": [
            "Found Skill:  junit  In:  content     junit\n",
            "Found Skill:  sql  In:  content     sql\n",
            "Found Skill:  powershell  In:  content     powershell\n",
            "Found Skill:  junit  In:  content     junit\n",
            "Found Skill:  code  In:  content     code reviews.\n",
            "Found Skill:  sql  In:  content     sql azure\n",
            "Found Skill:  code  In:  content     and improving code coverage\n",
            "Found Skill:  code  In:  content     code reviews.\n",
            "Found Skill:  code  In:  content     code reviews.\n"
          ],
          "name": "stdout"
        },
        {
          "output_type": "stream",
          "text": [
            "\n",
            " 20%|█▉        | 13696/69499 [00:15<00:56, 986.77it/s]\u001b[A\n",
            " 20%|█▉        | 13795/69499 [00:15<00:57, 963.92it/s]\u001b[A\n",
            " 20%|█▉        | 13895/69499 [00:15<00:57, 973.24it/s]\u001b[A"
          ],
          "name": "stderr"
        },
        {
          "output_type": "stream",
          "text": [
            "Found Skill:  sql  In:  content     sql azure\n",
            "Found Skill:  sql  In:  content     sql azure\n",
            "Found Skill:  database  In:  content     security and database architect.\n",
            "Found Skill:  sql  In:  content     sql azure\n",
            "Found Skill:  sql  In:  content     sql azure\n",
            "Found Skill:  sql  In:  content     sql 2005\n",
            "Found Skill:  sql  In:  content     sql 2005. .\n",
            "Found Skill:  sql  In:  content     ms sql\n",
            "Found Skill:  database  In:  content     database design\n"
          ],
          "name": "stdout"
        },
        {
          "output_type": "stream",
          "text": [
            "\n",
            " 20%|██        | 13993/69499 [00:15<00:57, 971.33it/s]\u001b[A\n",
            " 20%|██        | 14098/69499 [00:15<00:55, 990.84it/s]\u001b[A"
          ],
          "name": "stderr"
        },
        {
          "output_type": "stream",
          "text": [
            "Found Skill:  egl  In:  content     new premises in egl is a 5000-square foot fac...\n",
            "Found Skill:  focal  In:  content     responsible focal point for all interactions ...\n",
            "Found Skill:  focus  In:  content     process..     brought a strong focus on  voic...\n"
          ],
          "name": "stdout"
        },
        {
          "output_type": "stream",
          "text": [
            "\n",
            " 20%|██        | 14201/69499 [00:15<00:55, 1000.08it/s]\u001b[A\n",
            " 21%|██        | 14302/69499 [00:15<00:57, 962.76it/s] \u001b[A"
          ],
          "name": "stderr"
        },
        {
          "output_type": "stream",
          "text": [
            "Found Skill:  gap  In:  content     * creating functional specification and gap a...\n",
            "Found Skill:  gap  In:  content     * creating functional specification and gap a...\n",
            "Found Skill:  gap  In:  content     * creating functional specification and gap a...\n",
            "Found Skill:  blue  In:  content     * conducting blue print workshops with client...\n",
            "Found Skill:  gap  In:  content     * creating functional specification and gap a...\n"
          ],
          "name": "stdout"
        },
        {
          "output_type": "stream",
          "text": [
            "\n",
            " 21%|██        | 14399/69499 [00:15<00:57, 951.22it/s]\u001b[A\n",
            " 21%|██        | 14495/69499 [00:16<00:58, 942.77it/s]\u001b[A"
          ],
          "name": "stderr"
        },
        {
          "output_type": "stream",
          "text": [
            "Found Skill:  excel  In:  content     learn and excel in highly competitive environ...\n",
            "Found Skill:  able  In:  content     able to handle and overcome objections.\n",
            "Found Skill:  sql  In:  content     sql and msbi developer with experience in azu...\n",
            "Found Skill:  sql  In:  content     expertise in sql server(2008 r2\n",
            "Found Skill:  sql  In:  content     sql and ssis developer/sustain resource.\n",
            "Found Skill:  database  In:  content     database combined with microsoft office excel...\n",
            "Found Skill:  database  In:  content     and download data from the forecast database\n",
            "Found Skill:  database  In:  content     uploaded back to the forecast database throug...\n",
            "Found Skill:  database  In:  content     stored in the online database and subsequentl...\n",
            "Found Skill:  sql  In:  content     developed sql server integration services pac...\n"
          ],
          "name": "stdout"
        },
        {
          "output_type": "stream",
          "text": [
            "\n",
            " 21%|██        | 14590/69499 [00:16<00:59, 917.85it/s]\u001b[A\n",
            " 21%|██        | 14683/69499 [00:16<01:00, 906.85it/s]\u001b[A"
          ],
          "name": "stderr"
        },
        {
          "output_type": "stream",
          "text": [
            "Found Skill:  code  In:  content     promptly check in the final code in vstf.. .\n",
            "Found Skill:  sql  In:  content     sql server\n",
            "Found Skill:  t-sql  In:  content     t-sql\n",
            "Found Skill:  jira  In:  content     jira\n",
            "Found Skill:  database  In:  content     database (less than 1 year)\n",
            "Found Skill:  java  In:  content     java (less than 1 year)\n",
            "Found Skill:  jira  In:  content     jira (less than 1. year)\n",
            "Found Skill:  sql  In:  content     database: sql server 2012\n",
            "Found Skill:  jira  In:  content     management tools: jira\n",
            "Found Skill:  java  In:  content     microsoft office and java (less than 1 year).\n"
          ],
          "name": "stdout"
        },
        {
          "output_type": "stream",
          "text": [
            "\n",
            " 21%|██▏       | 14777/69499 [00:16<00:59, 915.87it/s]\u001b[A\n",
            " 21%|██▏       | 14869/69499 [00:16<00:59, 912.74it/s]\u001b[A"
          ],
          "name": "stderr"
        },
        {
          "output_type": "stream",
          "text": [
            "Found Skill:  able  In:  content     able to create scripts for automation..\n",
            "Found Skill:  database  In:  content     database management like\n",
            "Found Skill:  sql  In:  content     sql and compiling them to and s navigational ...\n",
            "Found Skill:  perl  In:  content     perl scripts\n",
            "Found Skill:  sql  In:  content     sql query\n",
            "Found Skill:  perl  In:  content     perl (10+ years)\n",
            "Found Skill:  sql  In:  content     sql (10+ years)\n",
            "Found Skill:  database  In:  content     database (10+ years)\n",
            "Found Skill:  perl  In:  content     basic perl (unix\n",
            "Found Skill:  c++  In:  content     c++\n",
            "Found Skill:  mysql  In:  content     mysql\n",
            "Found Skill:  access  In:  content     access\n",
            "Found Skill:  sql  In:  content     sql\n",
            "Found Skill:  perl  In:  content     perl (intermediate level)\n",
            "Found Skill:  .net  In:  content     have delivered .net\n"
          ],
          "name": "stdout"
        },
        {
          "output_type": "stream",
          "text": [
            "\n",
            " 22%|██▏       | 14965/69499 [00:16<00:58, 925.05it/s]\u001b[A\n",
            " 22%|██▏       | 15061/69499 [00:16<00:58, 933.91it/s]\u001b[A\n",
            " 22%|██▏       | 15158/69499 [00:16<00:57, 942.36it/s]\u001b[A"
          ],
          "name": "stderr"
        },
        {
          "output_type": "stream",
          "text": [
            "Found Skill:  access  In:  content     and vpn access for company user s and contrac...\n",
            "Found Skill:  access  In:  content     outlook web access\n",
            "Found Skill:  word  In:  content     microsoft word\n",
            "Found Skill:  excel  In:  content     excel\n",
            "Found Skill:  access  In:  content     access\n",
            "Found Skill:  excel  In:  content     hardware and connectivity issues.. excel in a...\n",
            "Found Skill:  excel  In:  content     excel (2 years)\n",
            "Found Skill:  word  In:  content     send word now\n",
            "Found Skill:  excel  In:  content     ms excel\n",
            "Found Skill:  c++  In:  content     c++\n",
            "Found Skill:  java  In:  content     java (1 year).\n",
            "Found Skill:  beta  In:  content     beta tester.\n",
            "Found Skill:  beta  In:  content     i am a beta tester.\n"
          ],
          "name": "stdout"
        },
        {
          "output_type": "stream",
          "text": [
            "\n",
            " 22%|██▏       | 15257/69499 [00:16<00:56, 954.81it/s]\u001b[A\n",
            " 22%|██▏       | 15354/69499 [00:16<00:56, 957.06it/s]\u001b[A"
          ],
          "name": "stderr"
        },
        {
          "output_type": "stream",
          "text": [
            "Found Skill:  java  In:  content    java (less than 1 year).\n",
            "Found Skill:  database  In:  content     database: experience in database designing\n",
            "Found Skill:  code  In:  content     optimizing sql code and stored procedures\n",
            "Found Skill:  sql  In:  content     sql azure\n",
            "Found Skill:  plus  In:  content     plus\n",
            "Found Skill:  plus  In:  content     plus\n"
          ],
          "name": "stdout"
        },
        {
          "output_type": "stream",
          "text": [
            "\n",
            " 22%|██▏       | 15450/69499 [00:17<00:56, 949.10it/s]\u001b[A\n",
            " 22%|██▏       | 15546/69499 [00:17<00:56, 950.50it/s]\u001b[A"
          ],
          "name": "stderr"
        },
        {
          "output_type": "stream",
          "text": [
            "Found Skill:  sql  In:  content     sql server 2014\n",
            "Found Skill:  .net  In:  content     .net api\n",
            "Found Skill:  c++  In:  content     attended a three-day workshop on c and c++ pr...\n",
            "Found Skill:  java  In:  content     attended a one-day workshop on java and hardw...\n",
            "Found Skill:  spark  In:  content     attended spark training program in infosys my...\n"
          ],
          "name": "stdout"
        },
        {
          "output_type": "stream",
          "text": [
            "\n",
            " 23%|██▎       | 15642/69499 [00:17<00:58, 926.24it/s]\u001b[A\n",
            " 23%|██▎       | 15736/69499 [00:17<00:57, 928.34it/s]\u001b[A"
          ],
          "name": "stderr"
        },
        {
          "output_type": "stream",
          "text": [
            "Found Skill:  database  In:  content     database (1 year)\n",
            "Found Skill:  sql  In:  content     database: ms sql server 2016.\n",
            "Found Skill:  sql  In:  content     languages: sql\n",
            "Found Skill:  html  In:  content     web technologies: html\n",
            "Found Skill:  xml  In:  content     xml\n",
            "Found Skill:  cobol  In:  content     cobol\n",
            "Found Skill:  c++  In:  content     c++\n",
            "Found Skill:  html  In:  content     html\n",
            "Found Skill:  javascript  In:  content     javascript\n",
            "Found Skill:  .net  In:  content     actively looking for opportunity in .net deve...\n"
          ],
          "name": "stdout"
        },
        {
          "output_type": "stream",
          "text": [
            "\n",
            " 23%|██▎       | 15829/69499 [00:17<00:58, 916.83it/s]\u001b[A\n",
            " 23%|██▎       | 15921/69499 [00:17<00:59, 907.84it/s]\u001b[A\n",
            " 23%|██▎       | 16012/69499 [00:17<00:59, 893.65it/s]\u001b[A"
          ],
          "name": "stderr"
        },
        {
          "output_type": "stream",
          "text": [
            "Found Skill:  sql  In:  content     their web application by using ms sql server ...\n",
            "Found Skill:  .net  In:  content     .net (3 years)\n",
            "Found Skill:  c++  In:  content     c++\n",
            "Found Skill:  css  In:  content     css\n",
            "Found Skill:  javascript  In:  content     javascript\n",
            "Found Skill:  html  In:  content     html\n",
            "Found Skill:  .net  In:  content     programming languages c# .net\n",
            "Found Skill:  html  In:  content     html\n",
            "Found Skill:  css  In:  content     css\n",
            "Found Skill:  sql  In:  content     ms sql server v2008.\n",
            "Found Skill:  c++  In:  content     basic knowledge about c and c++ programming.. .\n",
            "Found Skill:  python  In:  content     python developer.\n",
            "Found Skill:  python  In:  content     python developer.\n",
            "Found Skill:  python  In:  content     languages: python\n",
            "Found Skill:  java  In:  content     java\n",
            "Found Skill:  mysql  In:  content     mysql 5.0\n",
            "Found Skill:  sql  In:  content     cloud sql\n",
            "Found Skill:  database  In:  content     webex database\n"
          ],
          "name": "stdout"
        },
        {
          "output_type": "stream",
          "text": [
            "\n",
            " 23%|██▎       | 16107/69499 [00:17<00:58, 908.18it/s]\u001b[A\n",
            " 23%|██▎       | 16198/69499 [00:17<00:59, 900.43it/s]\u001b[A"
          ],
          "name": "stderr"
        },
        {
          "output_type": "stream",
          "text": [
            "Found Skill:  excel  In:  content     excel (less than 1 year)\n",
            "Found Skill:  word  In:  content     microsoft word (less than 1 year)\n",
            "Found Skill:  word  In:  content     microsoft word 2010 (less.\n",
            "Found Skill:  excel  In:  content     ms excel (less than 1 year)\n",
            "Found Skill:  word  In:  content     word (less than 1 year).\n",
            "Found Skill:  word  In:  content     microsoft word 2010\n",
            "Found Skill:  able  In:  content     science background i was able to understand t...\n",
            "Found Skill:  excel  In:  content     excel (less than 1 year)\n",
            "Found Skill:  html  In:  content     html (less than 1 year)\n",
            "Found Skill:  javascript  In:  content     javascript (less than 1 year)\n",
            "Found Skill:  sql  In:  content     sql (less than 1 year).\n",
            "Found Skill:  javascript  In:  content     javascript\n"
          ],
          "name": "stdout"
        },
        {
          "output_type": "stream",
          "text": [
            "\n",
            " 23%|██▎       | 16289/69499 [00:18<00:59, 890.62it/s]\u001b[A\n",
            " 24%|██▎       | 16393/69499 [00:18<00:57, 928.23it/s]\u001b[A\n",
            " 24%|██▎       | 16487/69499 [00:18<00:58, 901.02it/s]\u001b[A"
          ],
          "name": "stderr"
        },
        {
          "output_type": "stream",
          "text": [
            "Found Skill:  excel  In:  content     excel  amp  power point).\n",
            "Found Skill:  word  In:  content     word\n",
            "Found Skill:  excel  In:  content     tools used: ms excel\n",
            "Found Skill:  word  In:  content     ms word\n",
            "Found Skill:  sql  In:  content     sql database..     handling pan india ola caf...\n",
            "Found Skill:  processing  In:  content     processing of vendor bills\n",
            "Found Skill:  pilot  In:  content     worked on pilot process (ola prime) to set al...\n",
            "Found Skill:  database  In:  content     tools used: sql database\n",
            "Found Skill:  excel  In:  content     ms excel (macros)\n",
            "Found Skill:  word  In:  content     ms word\n",
            "Found Skill:  processing  In:  content     processing of vendor bills\n",
            "Found Skill:  access  In:  content     availability and easy access of all relevant ...\n",
            "Found Skill:  processing  In:  content     processed the daily internal processing files...\n",
            "Found Skill:  database  In:  content     tools used: sql database\n",
            "Found Skill:  excel  In:  content     ms excel\n",
            "Found Skill:  word  In:  content     ms word\n",
            "Found Skill:  excel  In:  content     ms excel\n",
            "Found Skill:  database  In:  content     operating system: sql database\n",
            "Found Skill:  excel  In:  content     ms excel\n",
            "Found Skill:  word  In:  content     ms word\n"
          ],
          "name": "stdout"
        },
        {
          "output_type": "stream",
          "text": [
            "\n",
            " 24%|██▍       | 16578/69499 [00:18<01:00, 878.96it/s]\u001b[A\n",
            " 24%|██▍       | 16679/69499 [00:18<00:57, 913.54it/s]\u001b[A\n",
            " 24%|██▍       | 16781/69499 [00:18<00:55, 942.82it/s]\u001b[A"
          ],
          "name": "stderr"
        },
        {
          "output_type": "stream",
          "text": [
            "Found Skill:  mysql  In:  content     database tools: mysql\n",
            "Found Skill:  sql  In:  content     sql server 2008\n",
            "Found Skill:  sql  In:  content     sql server 2010\n",
            "Found Skill:  excel  In:  content     excel (less than 1 year)\n",
            "Found Skill:  excel  In:  content     excel\n",
            "Found Skill:  pilot  In:  content     pilot batch under the aegis of infosys campus...\n"
          ],
          "name": "stdout"
        },
        {
          "output_type": "stream",
          "text": [
            "\n",
            " 24%|██▍       | 16876/69499 [00:18<00:55, 940.91it/s]\u001b[A\n",
            " 24%|██▍       | 16971/69499 [00:18<00:57, 917.66it/s]\u001b[A"
          ],
          "name": "stderr"
        },
        {
          "output_type": "stream",
          "text": [
            "Found Skill:  java  In:  content     java and middleware projects at.\n",
            "Found Skill:  pipelines  In:  content     continuous deployment pipelines and devops pr...\n",
            "Found Skill:  jira  In:  content     involved in agile implementation using jira\n",
            "Found Skill:  jira  In:  content     jira\n",
            "Found Skill:  maven  In:  content     maven\n",
            "Found Skill:  code  In:  content     release automation/automic for code build\n",
            "Found Skill:  code  In:  content     code deploy\n",
            "Found Skill:  chef  In:  content     chef\n",
            "Found Skill:  java  In:  content     good experience in java\n",
            "Found Skill:  java  In:  content     java script\n",
            "Found Skill:  powershell  In:  content     powershell\n",
            "Found Skill:  groovy  In:  content     groovy\n",
            "Found Skill:  python  In:  content     python script.\n",
            "Found Skill:  sql  In:  content     sql server\n",
            "Found Skill:  maven  In:  content     maven\n",
            "Found Skill:  jira  In:  content     jira agile\n",
            "Found Skill:  code  In:  content     source code management\n",
            "Found Skill:  jira  In:  content     and deployment automations using jira\n",
            "Found Skill:  maven  In:  content     maven\n",
            "Found Skill:  .net  In:  content     .net (less than 1 year)\n",
            "Found Skill:  .net  In:  content     .net 4.5 (less than 1 year)\n"
          ],
          "name": "stdout"
        },
        {
          "output_type": "stream",
          "text": [
            "\n",
            " 25%|██▍       | 17069/69499 [00:18<00:56, 935.17it/s]\u001b[A\n",
            " 25%|██▍       | 17163/69499 [00:18<00:56, 933.05it/s]\u001b[A"
          ],
          "name": "stderr"
        },
        {
          "output_type": "stream",
          "text": [
            "Found Skill:  .net  In:  content     .net 4.5\n",
            "Found Skill:  jira  In:  content     jira\n",
            "Found Skill:  maven  In:  content     maven\n",
            "Found Skill:  code  In:  content     ci-cd services - code commit\n",
            "Found Skill:  code  In:  content     code deploy\n",
            "Found Skill:  access  In:  content     3 tcs security guard access control room 1 ye...\n",
            "Found Skill:  access  In:  content     3 tcs security guard access control room 1 year.\n",
            "Found Skill:  small  In:  content     managing small to large scale projects as per...\n",
            "Found Skill:  red  In:  content     red hat inc -  pune\n",
            "Found Skill:  red  In:  content     global support delivery   red hat inc. pune\n"
          ],
          "name": "stdout"
        },
        {
          "output_type": "stream",
          "text": [
            "\n",
            " 25%|██▍       | 17257/69499 [00:19<00:56, 931.39it/s]\u001b[A\n",
            " 25%|██▍       | 17359/69499 [00:19<00:54, 955.29it/s]\u001b[A"
          ],
          "name": "stderr"
        },
        {
          "output_type": "stream",
          "text": [
            "Found Skill:  red  In:  content     red cross society -.\n",
            "Found Skill:  database  In:  content     data protection and database team for the bac...\n",
            "Found Skill:  forth  In:  content     harmoniously in a team to bring forth the bes...\n"
          ],
          "name": "stdout"
        },
        {
          "output_type": "stream",
          "text": [
            "\n",
            " 25%|██▌       | 17458/69499 [00:19<00:53, 964.83it/s]\u001b[A\n",
            " 25%|██▌       | 17555/69499 [00:19<00:54, 951.24it/s]\u001b[A\n",
            " 25%|██▌       | 17651/69499 [00:19<00:54, 946.91it/s]\u001b[A\n",
            " 26%|██▌       | 17751/69499 [00:19<00:53, 960.74it/s]\u001b[A"
          ],
          "name": "stderr"
        },
        {
          "output_type": "stream",
          "text": [
            "Found Skill:  excel  In:  content     excel (3 years)\n",
            "Found Skill:  word  In:  content     ms word (3 years)\n",
            "Found Skill:  word  In:  content     word (3 years).\n",
            "Found Skill:  excel  In:  content     excel\n",
            "Found Skill:  self  In:  content     self confidence.\n",
            "Found Skill:  excel  In:  content     underwent training in courses like ms excel l...\n",
            "Found Skill:  word  In:  content     ms word  amp  powerpoint.\n",
            "Found Skill:  abc  In:  content     use abc\n",
            "Found Skill:  oak  In:  content     client: accentia oak technologies.. .\n"
          ],
          "name": "stdout"
        },
        {
          "output_type": "stream",
          "text": [
            "\n",
            " 26%|██▌       | 17848/69499 [00:19<00:54, 956.32it/s]\u001b[A\n",
            " 26%|██▌       | 17949/69499 [00:19<00:53, 970.07it/s]\u001b[A"
          ],
          "name": "stderr"
        },
        {
          "output_type": "stream",
          "text": [
            "Found Skill:  excel  In:  content     microsoft office package: ms excel\n",
            "Found Skill:  word  In:  content     ms word\n",
            "Found Skill:  access  In:  content     ms access and power point..\n",
            "Found Skill:  excel  In:  content     completed ms excel level 1\n",
            "Found Skill:  database  In:  content     database migration projects..     capacity pl...\n",
            "Found Skill:  pl/sql  In:  content     worked extensively on oracle pl/sql\n",
            "Found Skill:  database  In:  content     it is national database for all quality.\n"
          ],
          "name": "stdout"
        },
        {
          "output_type": "stream",
          "text": [
            "\n",
            " 26%|██▌       | 18047/69499 [00:19<00:56, 914.26it/s]\u001b[A\n",
            " 26%|██▌       | 18140/69499 [00:19<00:56, 908.68it/s]\u001b[A"
          ],
          "name": "stderr"
        },
        {
          "output_type": "stream",
          "text": [
            "Found Skill:  css  In:  content     various systems like css\n",
            "Found Skill:  scratch  In:  content     this application was developed from scratch s...\n",
            "Found Skill:  database  In:  content     database design\n",
            "Found Skill:  database  In:  content     gui design..     development of database obje...\n",
            "Found Skill:  c++  In:  content     c++\n",
            "Found Skill:  sql  In:  content     sql\n",
            "Found Skill:  pl/sql  In:  content     pl/sql developer\n",
            "Found Skill:  jira  In:  content     jira\n",
            "Found Skill:  excel  In:  content     excel\n",
            "Found Skill:  access  In:  content     access\n",
            "Found Skill:  processing  In:  content     corporate and processing of cash and cheque c...\n"
          ],
          "name": "stdout"
        },
        {
          "output_type": "stream",
          "text": [
            "\n",
            " 26%|██▌       | 18232/69499 [00:20<00:56, 907.40it/s]\u001b[A\n",
            " 26%|██▋       | 18336/69499 [00:20<00:54, 943.43it/s]\u001b[A\n",
            " 27%|██▋       | 18432/69499 [00:20<00:53, 947.98it/s]\u001b[A\n",
            " 27%|██▋       | 18528/69499 [00:20<00:53, 946.23it/s]\u001b[A"
          ],
          "name": "stderr"
        },
        {
          "output_type": "stream",
          "text": [
            "Found Skill:  .net  In:  content     .net (less than 1 year)\n",
            "Found Skill:  database  In:  content     database (less than 1 year)\n",
            "Found Skill:  sql  In:  content     ms sql server.\n",
            "Found Skill:  sql  In:  content     sql (less than 1 year).\n",
            "Found Skill:  javascript  In:  content     javascript\n",
            "Found Skill:  html  In:  content     frontend html and .net.\n",
            "Found Skill:  database  In:  content     database sql server and oracle.\n",
            "Found Skill:  powershell  In:  content     automation powershell and vsts.\n"
          ],
          "name": "stdout"
        },
        {
          "output_type": "stream",
          "text": [
            "\n",
            " 27%|██▋       | 18629/69499 [00:20<00:52, 962.67it/s]\u001b[A\n",
            " 27%|██▋       | 18726/69499 [00:20<00:54, 934.82it/s]\u001b[A"
          ],
          "name": "stderr"
        },
        {
          "output_type": "stream",
          "text": [
            "Found Skill:  small  In:  content     effectively managing a small team and deliver...\n",
            "Found Skill:  pl/sql  In:  content     oracle pl/sql (6 years)\n",
            "Found Skill:  pl/sql  In:  content     sql and pl/sql\n",
            "Found Skill:  java  In:  content     core java\n",
            "Found Skill:  css  In:  content     css  amp  html..     having knowledge of orac...\n",
            "Found Skill:  c++  In:  content     c++ including advanced concepts such as point...\n",
            "Found Skill:  scala  In:  content     hive and map reduce..     learning scala with...\n",
            "Found Skill:  sql  In:  content     sql and.\n",
            "Found Skill:  sql  In:  content     involved in developing sql scripts for variou...\n",
            "Found Skill:  java  In:  content     involved in development of java module to rem...\n",
            "Found Skill:  excel  In:  content     excel to rdbms data load application.\n",
            "Found Skill:  excel  In:  content     an application to load data from excel sheets...\n",
            "Found Skill:  database  In:  content     ibm db2 academic associate: db2 database and ...\n",
            "Found Skill:  java  In:  content     java\n",
            "Found Skill:  sql  In:  content     sql\n",
            "Found Skill:  javascript  In:  content     javascript\n",
            "Found Skill:  html  In:  content     html\n",
            "Found Skill:  cobol  In:  content    cobol\n",
            "Found Skill:  jcl  In:  content    jcl\n"
          ],
          "name": "stdout"
        },
        {
          "output_type": "stream",
          "text": [
            "\n",
            " 27%|██▋       | 18820/69499 [00:20<00:55, 915.69it/s]\u001b[A\n",
            " 27%|██▋       | 18931/69499 [00:20<00:52, 965.00it/s]\u001b[A"
          ],
          "name": "stderr"
        },
        {
          "output_type": "stream",
          "text": [
            "Found Skill:  database  In:  content     database tools.\n",
            "Found Skill:  sql  In:  content     : sql developer\n",
            "Found Skill:  database  In:  content     database tools.\n",
            "Found Skill:  sql  In:  content     : sql developer.\n",
            "Found Skill:  excel  In:  content     excel (less than 1 year)\n",
            "Found Skill:  word  In:  content     word (less than 1 year).\n",
            "Found Skill:  word  In:  content     word\n",
            "Found Skill:  blue  In:  content     blue star ltd -  pune\n"
          ],
          "name": "stdout"
        },
        {
          "output_type": "stream",
          "text": [
            "\n",
            " 27%|██▋       | 19032/69499 [00:20<00:51, 977.56it/s]\u001b[A\n",
            " 28%|██▊       | 19131/69499 [00:21<00:51, 975.38it/s]\u001b[A\n",
            " 28%|██▊       | 19230/69499 [00:21<00:52, 956.73it/s]\u001b[A"
          ],
          "name": "stderr"
        },
        {
          "output_type": "stream",
          "text": [
            "Found Skill:  excel  In:  content     excel (less than 1 year)\n",
            "Found Skill:  excel  In:  content     ms excel\n",
            "Found Skill:  simulink  In:  content     in the simulink toolset..\n",
            "Found Skill:  matlab  In:  content     simulation visualization tools for matlab and...\n",
            "Found Skill:  simulink  In:  content     simulink models developed and used by engineers\n",
            "Found Skill:  javascript  In:  content     javascript\n",
            "Found Skill:  java  In:  content     java\n",
            "Found Skill:  signal  In:  content     improved performance of rendering signal name...\n",
            "Found Skill:  c++  In:  content     languages  amp  technologies: c++\n",
            "Found Skill:  java  In:  content     java\n",
            "Found Skill:  javascript  In:  content     javascript\n",
            "Found Skill:  matlab  In:  content     matlab\n",
            "Found Skill:  c++  In:  content     languages  amp  technologies: c++\n",
            "Found Skill:  jira  In:  content     jira\n",
            "Found Skill:  labview  In:  content     labview\n",
            "Found Skill:  c++  In:  content     c++\n",
            "Found Skill: "
          ],
          "name": "stdout"
        },
        {
          "output_type": "stream",
          "text": [
            "\n",
            " 28%|██▊       | 19327/69499 [00:21<00:54, 920.55it/s]\u001b[A\n",
            " 28%|██▊       | 19420/69499 [00:21<00:54, 911.67it/s]\u001b[A"
          ],
          "name": "stderr"
        },
        {
          "output_type": "stream",
          "text": [
            " jira  In:  content     jira\n",
            "Found Skill:  vhdl  In:  content     implemented i2c protocol in vhdl for interfac...\n",
            "Found Skill:  vhdl  In:  content     languages  amp  technologies: vhdl\n",
            "Found Skill:  c++  In:  content     c++ (6 years)\n",
            "Found Skill:  .net  In:  content     .net (2 years)\n",
            "Found Skill:  java  In:  content     java (1 year).\n",
            "Found Skill:  java  In:  content     java\n",
            "Found Skill:  python  In:  content     python\n",
            "Found Skill:  javascript  In:  content     javascript\n",
            "Found Skill:  matlab  In:  content     matlab\n",
            "Found Skill:  sql  In:  content     sql\n",
            "Found Skill:  jira  In:  content     jira\n",
            "Found Skill:  labview  In:  content     labview\n",
            "Found Skill:  sql  In:  content     databases: oracle       microsoft sql server\n",
            "Found Skill:  dart  In:  content     creating dart id from the requested details a...\n",
            "Found Skill:  html  In:  content     html (less than 1 year)\n",
            "Found Skill:  html  In:  content     html\n"
          ],
          "name": "stdout"
        },
        {
          "output_type": "stream",
          "text": [
            "\n",
            " 28%|██▊       | 19517/69499 [00:21<00:53, 928.12it/s]\u001b[A\n",
            " 28%|██▊       | 19618/69499 [00:21<00:52, 949.85it/s]\u001b[A"
          ],
          "name": "stderr"
        },
        {
          "output_type": "stream",
          "text": [
            "Found Skill:  small  In:  content     configure small lan  amp  share printers at t...\n",
            "Found Skill:  excel  In:  content     excel\n",
            "Found Skill:  mysql  In:  content     mysql\n",
            "Found Skill:  javascript  In:  content     javascript\n"
          ],
          "name": "stdout"
        },
        {
          "output_type": "stream",
          "text": [
            "\n",
            " 28%|██▊       | 19714/69499 [00:21<00:54, 905.82it/s]\u001b[A\n",
            " 29%|██▊       | 19808/69499 [00:21<00:54, 912.26it/s]\u001b[A"
          ],
          "name": "stderr"
        },
        {
          "output_type": "stream",
          "text": [
            "Found Skill:  java  In:  content     java (2 years)\n",
            "Found Skill:  sql  In:  content     sql (2 years).\n",
            "Found Skill:  python  In:  content     web technologies python\n",
            "Found Skill:  java  In:  content     java\n",
            "Found Skill:  python  In:  content     programming languages python\n",
            "Found Skill:  javascript  In:  content     javascript\n",
            "Found Skill:  sql  In:  content     databases: sql\n",
            "Found Skill:  python  In:  content     automating manual tasks by writing python scr...\n",
            "Found Skill:  java  In:  content     developing controllers classes in java using ...\n",
            "Found Skill:  sql  In:  content     creating tables and generating sql queries..\n",
            "Found Skill:  excel  In:  content     libraries and and import data from excel to t...\n",
            "Found Skill:  sql  In:  content     sql 2012.\n",
            "Found Skill:  access  In:  content     secure access to.\n",
            "Found Skill:  java  In:  content     environment: java\n",
            "Found Skill:  sql  In:  content     sql\n"
          ],
          "name": "stdout"
        },
        {
          "output_type": "stream",
          "text": [
            "\n",
            " 29%|██▊       | 19900/69499 [00:21<00:56, 871.75it/s]\u001b[A\n",
            " 29%|██▉       | 20000/69499 [00:21<00:54, 904.33it/s]\u001b[A"
          ],
          "name": "stderr"
        },
        {
          "output_type": "stream",
          "text": [
            "Found Skill:  sql  In:  content     environment: oracle sql developer (oracle 9i)\n",
            "Found Skill:  sql  In:  content     ms sql server 2008 r2\n",
            "Found Skill:  database  In:  content     are stored in and maintain in our database an...\n",
            "Found Skill:  java  In:  content     environment: java\n",
            "Found Skill:  mysql  In:  content     mysql\n",
            "Found Skill:  mysql  In:  content     mysql workbench..\n",
            "Found Skill:  java  In:  content     programming languages: java 7..\n",
            "Found Skill:  sql  In:  content     database: sql\n",
            "Found Skill:  sql  In:  content     framework       and sql server 2012.\n",
            "Found Skill:  .net  In:  content     in depth knowledge of .net framework includin...\n",
            "Found Skill:  database  In:  content     good experience of database design and softwa...\n",
            "Found Skill:  javascript  In:  content     javascript\n",
            "Found Skill:  natural  In:  content     provides natural gas delivery service to more...\n",
            "Found Skill:  javascript  In:  content     javascript\n",
            "Found Skill:  .net  In:  content     .net (1 year)\n",
            "Found Skill:  javascript  In:  content     javascript\n",
            "Found Skill:  sql  In:  content     sql server 2012.\n",
            "Found Skill:  html  In:  content     web authoring tools html 5\n",
            "Found Skill:  css  In:  content     css 3.0\n"
          ],
          "name": "stdout"
        },
        {
          "output_type": "stream",
          "text": [
            "\n",
            " 29%|██▉       | 20092/69499 [00:22<00:54, 899.90it/s]\u001b[A\n",
            " 29%|██▉       | 20184/69499 [00:22<00:54, 905.79it/s]\u001b[A"
          ],
          "name": "stderr"
        },
        {
          "output_type": "stream",
          "text": [
            "Found Skill:  word  In:  content     ms word\n",
            "Found Skill:  code  In:  content     source code tfs 2013\n",
            "Found Skill:  natural  In:  content     provides natural gas delivery service to more...\n",
            "Found Skill:  c++  In:  content     c++\n",
            "Found Skill:  database  In:  content     database mysql.\n",
            "Found Skill:  jira  In:  content     tools jira\n",
            "Found Skill:  html  In:  content     web technologies html\n",
            "Found Skill:  php  In:  content     php\n",
            "Found Skill:  database  In:  content     experience in oracle database\n",
            "Found Skill:  sql  In:  content     sql queries\n",
            "Found Skill:  sql  In:  content     sql loader\n",
            "Found Skill:  sql  In:  content     sql plus.\n",
            "Found Skill:  database  In:  content     database (3 years)\n",
            "Found Skill:  java  In:  content     core java (1 year).\n",
            "Found Skill:  database  In:  content     database tools: sql developer\n"
          ],
          "name": "stdout"
        },
        {
          "output_type": "stream",
          "text": [
            "\n",
            " 29%|██▉       | 20279/69499 [00:22<00:53, 917.20it/s]\u001b[A\n",
            " 29%|██▉       | 20372/69499 [00:22<00:53, 910.35it/s]\u001b[A"
          ],
          "name": "stderr"
        },
        {
          "output_type": "stream",
          "text": [
            "Found Skill:  self  In:  content     to add value to self and the organization.. .\n",
            "Found Skill:  excel  In:  content     excel (less than 1 year)\n",
            "Found Skill:  word  In:  content     basic word\n",
            "Found Skill:  excel  In:  content     excel and power point presentation.\n",
            "Found Skill:  java  In:  content     java\n",
            "Found Skill:  jira  In:  content     and other testing tools like jira\n",
            "Found Skill:  able  In:  content     excellent communications skills and able to l...\n",
            "Found Skill:  html  In:  content     selenium webdriver c# ado.net sql html\n",
            "Found Skill:  jira  In:  content     java unix quality center atlassian jira mtm.\n",
            "Found Skill:  rapid  In:  content     microsoft sql server visual studio rapid sql ...\n",
            "Found Skill:  sql  In:  content     writing sql queries to validate data from dat...\n",
            "Found Skill:  sql  In:  content     a detailed hands on training of c# and sql co...\n"
          ],
          "name": "stdout"
        },
        {
          "output_type": "stream",
          "text": [
            "\n",
            " 29%|██▉       | 20464/69499 [00:22<00:54, 894.40it/s]\u001b[A\n",
            " 30%|██▉       | 20563/69499 [00:22<00:53, 917.77it/s]\u001b[A"
          ],
          "name": "stderr"
        },
        {
          "output_type": "stream",
          "text": [
            "Found Skill:  sql  In:  content     sql\n",
            "Found Skill:  sql  In:  content     sql\n",
            "Found Skill:  java  In:  content     java\n",
            "Found Skill:  excel  In:  content     excel report tool\n",
            "Found Skill:  access  In:  content     access\n",
            "Found Skill:  excel  In:  content     excel\n",
            "Found Skill:  red  In:  content     red hat cloud director.\n",
            "Found Skill:  python  In:  content     aws python sdk\n"
          ],
          "name": "stdout"
        },
        {
          "output_type": "stream",
          "text": [
            "\n",
            " 30%|██▉       | 20660/69499 [00:22<00:52, 932.60it/s]\u001b[A\n",
            " 30%|██▉       | 20754/69499 [00:22<00:53, 918.94it/s]\u001b[A"
          ],
          "name": "stderr"
        },
        {
          "output_type": "stream",
          "text": [
            "Found Skill:  sql  In:  content     gcp - cloud sql\n",
            "Found Skill:  chef  In:  content     automation: chef\n",
            "Found Skill:  maven  In:  content     maven\n",
            "Found Skill:  red  In:  content     red hat cloud director.\n",
            "Found Skill:  python  In:  content     aws python sdk\n",
            "Found Skill:  sql  In:  content     gcp - cloud sql\n",
            "Found Skill:  chef  In:  content     automation: chef\n",
            "Found Skill:  maven  In:  content     maven\n",
            "Found Skill:  sql  In:  content     sql server\n",
            "Found Skill:  chef  In:  content     chef\n",
            "Found Skill:  maven  In:  content     maven\n",
            "Found Skill:  excel  In:  content     ms office (ms excel\n",
            "Found Skill:  word  In:  content     ms word and power point).\n"
          ],
          "name": "stdout"
        },
        {
          "output_type": "stream",
          "text": [
            "\n",
            " 30%|███       | 20851/69499 [00:22<00:52, 933.61it/s]\u001b[A\n",
            " 30%|███       | 20950/69499 [00:22<00:51, 947.71it/s]\u001b[A\n",
            " 30%|███       | 21045/69499 [00:23<00:52, 929.55it/s]\u001b[A"
          ],
          "name": "stderr"
        },
        {
          "output_type": "stream",
          "text": [
            "Found Skill:  access  In:  content     ms access\n",
            "Found Skill:  processing  In:  content     based on network processing units (npu).\n",
            "Found Skill:  code  In:  content     - quick solution provided in rsp code for han...\n",
            "Found Skill:  code  In:  content     one of the key code reviewers in the program ...\n",
            "Found Skill:  processing  In:  content     after acquiring the processing result\n"
          ],
          "name": "stdout"
        },
        {
          "output_type": "stream",
          "text": [
            "\n",
            " 30%|███       | 21139/69499 [00:23<00:52, 921.79it/s]\u001b[A\n",
            " 31%|███       | 21237/69499 [00:23<00:51, 936.86it/s]\u001b[A"
          ],
          "name": "stderr"
        },
        {
          "output_type": "stream",
          "text": [
            "Found Skill:  c++  In:  content     software: c++\n",
            "Found Skill:  access  In:  content     access point is a special.\n",
            "Found Skill:  access  In:  content     several access points can be connected to a d...\n",
            "Found Skill:  code  In:  content     and code the necessary changes.\n",
            "Found Skill:  processing  In:  content     hsbc electronic data processing india pvt -  ...\n"
          ],
          "name": "stdout"
        },
        {
          "output_type": "stream",
          "text": [
            "\n",
            " 31%|███       | 21331/69499 [00:23<00:53, 902.65it/s]\u001b[A\n",
            " 31%|███       | 21432/69499 [00:23<00:51, 931.27it/s]\u001b[A\n",
            " 31%|███       | 21538/69499 [00:23<00:49, 965.96it/s]\u001b[A"
          ],
          "name": "stderr"
        },
        {
          "output_type": "stream",
          "text": [
            "Found Skill:  c++  In:  content     c++ (less than 1 year)\n",
            "Found Skill:  css  In:  content     css (less than 1 year).\n",
            "Found Skill:  c++  In:  content     c++ and java.. .\n",
            "Found Skill:  mysql  In:  content     databases: mysql\n",
            "Found Skill:  sql  In:  content     sql server (sqlyog).\n",
            "Found Skill:  html  In:  content     web tools: html\n",
            "Found Skill:  java  In:  content     java 8 applications for login credentials wit...\n",
            "Found Skill:  excel  In:  content     excel\n",
            "Found Skill:  red  In:  content     maintenance and administration of red hat ent...\n",
            "Found Skill:  java  In:  content     core java\n",
            "Found Skill:  access  In:  content     two factor data access control with efficient...\n"
          ],
          "name": "stdout"
        },
        {
          "output_type": "stream",
          "text": [
            "\n",
            " 31%|███       | 21636/69499 [00:23<00:51, 935.12it/s]\u001b[A\n",
            " 31%|███▏      | 21731/69499 [00:23<00:51, 934.21it/s]\u001b[A"
          ],
          "name": "stderr"
        },
        {
          "output_type": "stream",
          "text": [
            "Found Skill:  sql  In:  content     sql server 2000. .\n",
            "Found Skill:  word  In:  content     microsoft office word\n",
            "Found Skill:  excel  In:  content     microsoft office excel\n",
            "Found Skill:  word  In:  content     word\n"
          ],
          "name": "stdout"
        },
        {
          "output_type": "stream",
          "text": [
            "\n",
            " 31%|███▏      | 21825/69499 [00:23<00:51, 931.55it/s]\u001b[A\n",
            " 32%|███▏      | 21919/69499 [00:24<00:53, 896.69it/s]\u001b[A"
          ],
          "name": "stderr"
        },
        {
          "output_type": "stream",
          "text": [
            "Found Skill:  pl/sql  In:  content     developed complex sql and pl/sql scripts as p...\n",
            "Found Skill:  sql  In:  content     sql server.\n",
            "Found Skill:  ease  In:  content     ease license management and.\n",
            "Found Skill:  sql  In:  content     production support in sql server 2008 for lpo...\n",
            "Found Skill:  database  In:  content     running the various database updates given by...\n",
            "Found Skill:  xml  In:  content     xml etc at.\n",
            "Found Skill:  access  In:  content     monitoring and administration of user access ...\n",
            "Found Skill:  database  In:  content     monitoring database growth..\n",
            "Found Skill:  sql  In:  content     creating reports using sql scripts (querying ...\n",
            "Found Skill:  sql  In:  content     languages: sql\n",
            "Found Skill:  pl/sql  In:  content     pl/sql\n",
            "Found Skill:  sql  In:  content     working knowledge of sql server.. .\n",
            "Found Skill:  sql  In:  content     sql\n"
          ],
          "name": "stdout"
        },
        {
          "output_type": "stream",
          "text": [
            "\n",
            " 32%|███▏      | 22016/69499 [00:24<00:51, 915.80it/s]\u001b[A\n",
            " 32%|███▏      | 22117/69499 [00:24<00:50, 940.37it/s]\u001b[A\n",
            " 32%|███▏      | 22212/69499 [00:24<00:50, 942.94it/s]\u001b[A"
          ],
          "name": "stderr"
        },
        {
          "output_type": "stream",
          "text": [
            "Found Skill:  access  In:  content     ulm) otherwise known as access management team\n",
            "Found Skill:  sql  In:  content     performed eod activities on sql   window s ba...\n",
            "Found Skill:  sql  In:  content     performed sql   oracle db backup s and restor...\n",
            "Found Skill:  c++  In:  content     c++\n",
            "Found Skill:  mysql  In:  content     mysql\n",
            "Found Skill:  html  In:  content     scripting language html\n",
            "Found Skill:  javascript  In:  content     javascript\n",
            "Found Skill:  database  In:  content     database designing\n",
            "Found Skill:  sql  In:  content     sql server 2005.\n"
          ],
          "name": "stdout"
        },
        {
          "output_type": "stream",
          "text": [
            "\n",
            " 32%|███▏      | 22307/69499 [00:24<00:50, 927.03it/s]\u001b[A\n",
            " 32%|███▏      | 22408/69499 [00:24<00:49, 948.94it/s]\u001b[A"
          ],
          "name": "stderr"
        },
        {
          "output_type": "stream",
          "text": [
            "Found Skill:  sql  In:  content     sql server\n",
            "Found Skill:  sql  In:  content     worked on gmo sql servers for troubleshooting...\n",
            "Found Skill:  sql  In:  content     sql (1 year)\n",
            "Found Skill:  html  In:  content     html (less than 1 year)\n",
            "Found Skill:  able  In:  content     i will be able to do my job.\n",
            "Found Skill:  excel  In:  content     excel (less than 1 year)\n",
            "Found Skill:  word  In:  content     word (less than 1 year).\n",
            "Found Skill:  word  In:  content     word\n",
            "Found Skill:  excel  In:  content     excel\n"
          ],
          "name": "stdout"
        },
        {
          "output_type": "stream",
          "text": [
            "\n",
            " 32%|███▏      | 22504/69499 [00:24<00:50, 938.95it/s]\u001b[A\n",
            " 33%|███▎      | 22599/69499 [00:24<00:50, 924.65it/s]\u001b[A"
          ],
          "name": "stderr"
        },
        {
          "output_type": "stream",
          "text": [
            "Found Skill:  vba  In:  content     vba developer (august\n",
            "Found Skill:  sql  In:  content     ado.net and sql server for.\n",
            "Found Skill:  sql  In:  content     ado.net and sql server for clients.. used to ...\n",
            "Found Skill:  sql  In:  content     ms sql server\n",
            "Found Skill:  xml  In:  content     xml\n",
            "Found Skill:  sql  In:  content     ms sql server\n",
            "Found Skill:  xml  In:  content     xml\n",
            "Found Skill:  sql  In:  content     primarily worked in ms sql server and c#.net ...\n",
            "Found Skill:  sql  In:  content     sql server (3 years)\n",
            "Found Skill:  javascript  In:  content     javascript (6. years)\n",
            "Found Skill:  vba  In:  content     vba (2 years)\n",
            "Found Skill:  able  In:  content     in 2012 can able to save 60\n",
            "Found Skill:  code  In:  content     code for beginner to advance level programmer.\n",
            "Found Skill:  mysql  In:  content     mysql\n",
            "Found Skill:  css  In:  content     css\n",
            "Found Skill:  mysql  In:  content     mysql db setup\n"
          ],
          "name": "stdout"
        },
        {
          "output_type": "stream",
          "text": [
            "\n",
            " 33%|███▎      | 22692/69499 [00:24<00:50, 926.14it/s]\u001b[A\n",
            " 33%|███▎      | 22797/69499 [00:24<00:48, 957.28it/s]\u001b[A"
          ],
          "name": "stderr"
        },
        {
          "output_type": "stream",
          "text": [
            "Found Skill:  excel  In:  content     microsoft excel\n",
            "Found Skill:  word  In:  content     microsoft word\n",
            "Found Skill:  excel  In:  content     computer skill: microsoft excel\n",
            "Found Skill:  word  In:  content     microsoft word\n",
            "Found Skill:  database  In:  content     sap database server backup in.\n",
            "Found Skill:  access  In:  content     with cctv and honeywell biometric access pro ...\n"
          ],
          "name": "stdout"
        },
        {
          "output_type": "stream",
          "text": [
            "\n",
            " 33%|███▎      | 22894/69499 [00:25<00:48, 953.22it/s]\u001b[A\n",
            " 33%|███▎      | 22996/69499 [00:25<00:47, 971.35it/s]\u001b[A\n",
            " 33%|███▎      | 23094/69499 [00:25<00:49, 943.51it/s]\u001b[A"
          ],
          "name": "stderr"
        },
        {
          "output_type": "stream",
          "text": [
            "Found Skill:  access  In:  content     access points (d-link\n",
            "Found Skill:  goal  In:  content     goal oriented finance professional with a gre...\n",
            "Found Skill:  sql  In:  content     tally erp - intermediate sql\n",
            "Found Skill:  access  In:  content     software access etc.).\n"
          ],
          "name": "stdout"
        },
        {
          "output_type": "stream",
          "text": [
            "\n",
            " 33%|███▎      | 23189/69499 [00:25<00:49, 939.25it/s]\u001b[A\n",
            " 34%|███▎      | 23286/69499 [00:25<00:48, 947.00it/s]\u001b[A"
          ],
          "name": "stderr"
        },
        {
          "output_type": "stream",
          "text": [
            "Found Skill:  sps  In:  content     for the expenses incurred by sps on the prope...\n",
            "Found Skill:  sps  In:  content     the state for the property foreclosed by sps ...\n",
            "Found Skill:  database  In:  content     database based on securities data provider (b...\n",
            "Found Skill:  excel  In:  content     excel (10+ years)\n",
            "Found Skill:  able  In:  content     confident and able to work on own initiative ...\n",
            "Found Skill:  word  In:  content     conversant with ms office - word\n",
            "Found Skill:  access  In:  content     access and excel..     well versed with inter...\n",
            "Found Skill:  arc  In:  content     arc sight (2 years)\n",
            "Found Skill:  arc  In:  content     arc sight\n"
          ],
          "name": "stdout"
        },
        {
          "output_type": "stream",
          "text": [
            "\n",
            " 34%|███▎      | 23381/69499 [00:25<00:49, 934.79it/s]\u001b[A\n",
            " 34%|███▍      | 23480/69499 [00:25<00:48, 949.38it/s]\u001b[A\n",
            " 34%|███▍      | 23585/69499 [00:25<00:46, 977.26it/s]\u001b[A\n",
            " 34%|███▍      | 23686/69499 [00:25<00:46, 985.77it/s]\u001b[A"
          ],
          "name": "stderr"
        },
        {
          "output_type": "stream",
          "text": [
            "Found Skill:  excel  In:  content     excel\n",
            "Found Skill:  self  In:  content     i was self employed for most part of my life ...\n",
            "Found Skill:  excel  In:  content     to excel in the field of sale and marketing a...\n",
            "Found Skill:  able  In:  content     logical and hard working in approach able to ...\n"
          ],
          "name": "stdout"
        },
        {
          "output_type": "stream",
          "text": [
            "\n",
            " 34%|███▍      | 23790/69499 [00:25<00:45, 999.13it/s]\u001b[A\n",
            " 34%|███▍      | 23893/69499 [00:26<00:45, 1004.92it/s]\u001b[A\n",
            " 35%|███▍      | 23994/69499 [00:26<00:45, 1000.58it/s]\u001b[A"
          ],
          "name": "stderr"
        },
        {
          "output_type": "stream",
          "text": [
            "Found Skill:  excel  In:  content     excel\n",
            "Found Skill:  self  In:  content     i was self employed for most part of my life ...\n"
          ],
          "name": "stdout"
        },
        {
          "output_type": "stream",
          "text": [
            "\n",
            " 35%|███▍      | 24095/69499 [00:26<00:46, 979.36it/s] \u001b[A\n",
            " 35%|███▍      | 24194/69499 [00:26<00:46, 981.28it/s]\u001b[A"
          ],
          "name": "stderr"
        },
        {
          "output_type": "stream",
          "text": [
            "Found Skill:  code  In:  content     i normally do a code calling\n",
            "Found Skill:  self  In:  content     regularity and self confidence.. .\n",
            "Found Skill:  self  In:  content    hard working and self confidence kind of perso...\n"
          ],
          "name": "stdout"
        },
        {
          "output_type": "stream",
          "text": [
            "\n",
            " 35%|███▍      | 24293/69499 [00:26<00:46, 974.24it/s]\u001b[A\n",
            " 35%|███▌      | 24396/69499 [00:26<00:45, 987.91it/s]\u001b[A\n",
            " 35%|███▌      | 24495/69499 [00:26<00:45, 979.17it/s]\u001b[A"
          ],
          "name": "stderr"
        },
        {
          "output_type": "stream",
          "text": [
            "Found Skill:  planner  In:  content     company.. * competent planner with abilities ...\n",
            "Found Skill:  focus  In:  content     developing focus\n",
            "Found Skill:  processing  In:  content     delegated the loan processing to loan process...\n",
            "Found Skill:  processing  In:  content     guided and assisted the processing staff in t...\n",
            "Found Skill:  excel  In:  content     excel\n",
            "Found Skill:  self  In:  content     positive and self - possessed..\n"
          ],
          "name": "stdout"
        },
        {
          "output_type": "stream",
          "text": [
            "\n",
            " 35%|███▌      | 24599/69499 [00:26<00:45, 994.70it/s]\u001b[A\n",
            " 36%|███▌      | 24699/69499 [00:26<00:45, 982.39it/s]\u001b[A\n",
            " 36%|███▌      | 24808/69499 [00:27<00:44, 1009.87it/s]\u001b[A\n",
            " 36%|███▌      | 24915/69499 [00:27<00:43, 1025.96it/s]\u001b[A\n",
            " 36%|███▌      | 25018/69499 [00:27<00:43, 1013.34it/s]\u001b[A\n",
            " 36%|███▌      | 25121/69499 [00:27<00:43, 1016.17it/s]\u001b[A"
          ],
          "name": "stderr"
        },
        {
          "output_type": "stream",
          "text": [
            "Found Skill:  able  In:  content     to work in an organization where i am able to...\n",
            "Found Skill:  red  In:  content     red label.. .\n",
            "Found Skill:  self  In:  content     optimistic attitude and self confidence..    ...\n",
            "Found Skill:  self  In:  content     self motivated\n",
            "Found Skill:  self  In:  content     self employed.\n",
            "Found Skill:  database  In:  content     participated in oracle 10g database administr...\n",
            "Found Skill:  database  In:  content     oracle certified database administrator (orac...\n"
          ],
          "name": "stdout"
        },
        {
          "output_type": "stream",
          "text": [
            "\n",
            " 36%|███▋      | 25223/69499 [00:27<00:45, 981.68it/s] \u001b[A\n",
            " 36%|███▋      | 25327/69499 [00:27<00:44, 997.01it/s]\u001b[A"
          ],
          "name": "stderr"
        },
        {
          "output_type": "stream",
          "text": [
            "Found Skill:  excel  In:  content     excel (less than 1 year)\n",
            "Found Skill:  word  In:  content     ms word (less than 1. year)\n",
            "Found Skill:  word  In:  content     experience in ms word\n",
            "Found Skill:  excel  In:  content     excel\n",
            "Found Skill:  self  In:  content     self motivated (less than 1 year)\n"
          ],
          "name": "stdout"
        },
        {
          "output_type": "stream",
          "text": [
            "\n",
            " 37%|███▋      | 25428/69499 [00:27<00:44, 984.31it/s]\u001b[A\n",
            " 37%|███▋      | 25527/69499 [00:27<00:44, 985.42it/s]\u001b[A"
          ],
          "name": "stderr"
        },
        {
          "output_type": "stream",
          "text": [
            "Found Skill:  pizza  In:  content     frozen pizza in chhattisgarh\n",
            "Found Skill:  excel  In:  content     basic knowledge of excel\n",
            "Found Skill:  word  In:  content     ms word\n",
            "Found Skill:  excel  In:  content     excel\n",
            "Found Skill:  focus  In:  content     customers preferences to determine focus on s...\n",
            "Found Skill:  database  In:  content     managing   organizing database of (client)\n"
          ],
          "name": "stdout"
        },
        {
          "output_type": "stream",
          "text": [
            "\n",
            " 37%|███▋      | 25626/69499 [00:27<00:45, 960.08it/s]\u001b[A\n",
            " 37%|███▋      | 25723/69499 [00:27<00:45, 953.61it/s]\u001b[A\n",
            " 37%|███▋      | 25828/69499 [00:28<00:44, 978.96it/s]\u001b[A\n",
            " 37%|███▋      | 25936/69499 [00:28<00:43, 1005.65it/s]\u001b[A\n",
            " 37%|███▋      | 26037/69499 [00:28<00:43, 993.87it/s] \u001b[A\n",
            " 38%|███▊      | 26137/69499 [00:28<00:44, 984.94it/s]\u001b[A"
          ],
          "name": "stderr"
        },
        {
          "output_type": "stream",
          "text": [
            "Found Skill:  scheme  In:  content     besides implanting promotional scheme and event.\n",
            "Found Skill:  database  In:  content     build strong database of customers.\n",
            "Found Skill:  excel  In:  content     good in excel\n"
          ],
          "name": "stdout"
        },
        {
          "output_type": "stream",
          "text": [
            "\n",
            " 38%|███▊      | 26236/69499 [00:28<00:44, 974.65it/s]\u001b[A\n",
            " 38%|███▊      | 26334/69499 [00:28<00:44, 966.94it/s]\u001b[A"
          ],
          "name": "stderr"
        },
        {
          "output_type": "stream",
          "text": [
            "Found Skill:  focus  In:  content     strategic planning     focus group   market r...\n",
            "Found Skill:  goal  In:  content     achieved projected sales goal monthly.\n"
          ],
          "name": "stdout"
        },
        {
          "output_type": "stream",
          "text": [
            "\n",
            " 38%|███▊      | 26431/69499 [00:28<00:44, 962.87it/s]\u001b[A\n",
            " 38%|███▊      | 26533/69499 [00:28<00:43, 978.20it/s]\u001b[A\n",
            " 38%|███▊      | 26631/69499 [00:28<00:43, 978.50it/s]\u001b[A\n",
            " 38%|███▊      | 26737/69499 [00:28<00:42, 1001.10it/s]\u001b[A"
          ],
          "name": "stderr"
        },
        {
          "output_type": "stream",
          "text": [
            "Found Skill:  excel  In:  content     excel (less than 1 year)\n",
            "Found Skill:  word  In:  content     ms. word (less than 1 year)\n"
          ],
          "name": "stdout"
        },
        {
          "output_type": "stream",
          "text": [
            "\n",
            " 39%|███▊      | 26842/69499 [00:29<00:42, 1013.49it/s]\u001b[A\n",
            " 39%|███▉      | 26944/69499 [00:29<00:42, 1003.05it/s]\u001b[A\n",
            " 39%|███▉      | 27045/69499 [00:29<00:42, 999.11it/s] \u001b[A"
          ],
          "name": "stderr"
        },
        {
          "output_type": "stream",
          "text": [
            "Found Skill:  focus  In:  content     focus on customer satisfaction and needs\n",
            "Found Skill:  focus  In:  content     focus on customer satisfaction and needs\n",
            "Found Skill:  charity  In:  content     applications to the charity commissioner.\n",
            "Found Skill:  foxpro  In:  content     foxpro (less than 1 year)\n"
          ],
          "name": "stdout"
        },
        {
          "output_type": "stream",
          "text": [
            "\n",
            " 39%|███▉      | 27146/69499 [00:29<00:42, 999.18it/s]\u001b[A\n",
            " 39%|███▉      | 27246/69499 [00:29<00:43, 978.53it/s]\u001b[A"
          ],
          "name": "stderr"
        },
        {
          "output_type": "stream",
          "text": [
            "Found Skill:  database  In:  content     handling customer database and looking after ...\n",
            "Found Skill:  database  In:  content     database (2 years)\n",
            "Found Skill:  excel  In:  content    excel\n",
            "Found Skill:  excel  In:  content     excel (less than 1 year)\n",
            "Found Skill:  word  In:  content     ms word (less than 1. year)\n",
            "Found Skill:  word  In:  content     experience in ms word\n",
            "Found Skill:  excel  In:  content     excel\n",
            "Found Skill:  word  In:  content     word and excel and besic (3 years).\n"
          ],
          "name": "stdout"
        },
        {
          "output_type": "stream",
          "text": [
            "\n",
            " 39%|███▉      | 27344/69499 [00:29<00:44, 953.00it/s]\u001b[A\n",
            " 39%|███▉      | 27445/69499 [00:29<00:43, 968.97it/s]\u001b[A\n",
            " 40%|███▉      | 27543/69499 [00:29<00:43, 960.10it/s]\u001b[A"
          ],
          "name": "stderr"
        },
        {
          "output_type": "stream",
          "text": [
            "Found Skill:  excel  In:  content    excel\n",
            "Found Skill:  excel  In:  content     excel (2 years)\n",
            "Found Skill:  word  In:  content     word (2 years).\n"
          ],
          "name": "stdout"
        },
        {
          "output_type": "stream",
          "text": [
            "\n",
            " 40%|███▉      | 27640/69499 [00:29<00:43, 954.45it/s]\u001b[A\n",
            " 40%|███▉      | 27743/69499 [00:30<00:42, 973.18it/s]\u001b[A"
          ],
          "name": "stderr"
        },
        {
          "output_type": "stream",
          "text": [
            "Found Skill:  goal  In:  content     my goal is to become an associated with a com...\n",
            "Found Skill:  self  In:  content     self directed\n",
            "Found Skill:  focus  In:  content     focus on building brands\n",
            "Found Skill:  rapid  In:  content     rapid account expansion   widening distributi...\n"
          ],
          "name": "stdout"
        },
        {
          "output_type": "stream",
          "text": [
            "\n",
            " 40%|████      | 27841/69499 [00:30<00:43, 953.68it/s]\u001b[A\n",
            " 40%|████      | 27940/69499 [00:30<00:43, 963.34it/s]\u001b[A\n",
            " 40%|████      | 28037/69499 [00:30<00:44, 924.69it/s]\u001b[A"
          ],
          "name": "stderr"
        },
        {
          "output_type": "stream",
          "text": [
            "Found Skill:  small  In:  content     across products with a small team of 2 sales ...\n",
            "Found Skill:  focus  In:  content     revenue and p  l focus to the tune of 30 lacs...\n",
            "Found Skill:  database  In:  content     handling customer database and looking after ...\n",
            "Found Skill:  database  In:  content     database (2 years)\n"
          ],
          "name": "stdout"
        },
        {
          "output_type": "stream",
          "text": [
            "\n",
            " 40%|████      | 28132/69499 [00:30<00:44, 932.07it/s]\u001b[A\n",
            " 41%|████      | 28227/69499 [00:30<00:44, 935.05it/s]\u001b[A\n",
            " 41%|████      | 28329/69499 [00:30<00:42, 958.47it/s]\u001b[A"
          ],
          "name": "stderr"
        },
        {
          "output_type": "stream",
          "text": [
            "Found Skill:  mouse  In:  content     mouse etc.. .\n",
            "Found Skill:  excel  In:  content     excel (4 years).\n",
            "Found Skill:  c++  In:  content     c++ (less than 1 year)\n",
            "Found Skill:  excel  In:  content     excel (less than 1 year)\n",
            "Found Skill:  word  In:  content     ms word (less than 1 year)\n",
            "Found Skill:  word  In:  content     word (less than 1 year).\n",
            "Found Skill:  word  In:  content     it skills-ms word\n",
            "Found Skill:  excel  In:  content     excel and powerpoint.\n",
            "Found Skill:  excel  In:  content     strong determination and to excel in the in i...\n"
          ],
          "name": "stdout"
        },
        {
          "output_type": "stream",
          "text": [
            "\n",
            " 41%|████      | 28426/69499 [00:30<00:43, 955.14it/s]\u001b[A\n",
            " 41%|████      | 28525/69499 [00:30<00:42, 964.21it/s]\u001b[A\n",
            " 41%|████      | 28626/69499 [00:30<00:41, 976.19it/s]\u001b[A"
          ],
          "name": "stderr"
        },
        {
          "output_type": "stream",
          "text": [
            "Found Skill:  code  In:  content     i normally do a code calling\n",
            "Found Skill:  self  In:  content     regularity and self confidence.. .\n",
            "Found Skill:  self  In:  content    hard working and self confidence kind of perso...\n",
            "Found Skill:  java  In:  content     java\n",
            "Found Skill:  javascript  In:  content     javascript\n",
            "Found Skill:  spin  In:  content     - spin selling.\n"
          ],
          "name": "stdout"
        },
        {
          "output_type": "stream",
          "text": [
            "\n",
            " 41%|████▏     | 28724/69499 [00:31<00:42, 967.41it/s]\u001b[A\n",
            " 41%|████▏     | 28826/69499 [00:31<00:41, 980.42it/s]\u001b[A"
          ],
          "name": "stderr"
        },
        {
          "output_type": "stream",
          "text": [
            "Found Skill:  able  In:  content     able to exceed sales goals consistently.\n",
            "Found Skill:  tie  In:  content     merger   tie ups with pathology labs.\n",
            "Found Skill:  rpg  In:  content     rpg life sciences ltd -  mumbai\n",
            "Found Skill:  focus  In:  content     managing business development with focus on t...\n"
          ],
          "name": "stdout"
        },
        {
          "output_type": "stream",
          "text": [
            "\n",
            " 42%|████▏     | 28929/69499 [00:31<00:40, 994.65it/s]\u001b[A\n",
            " 42%|████▏     | 29032/69499 [00:31<00:40, 1001.99it/s]\u001b[A\n",
            " 42%|████▏     | 29133/69499 [00:31<00:40, 1003.23it/s]\u001b[A\n",
            " 42%|████▏     | 29234/69499 [00:31<00:42, 950.63it/s] \u001b[A\n",
            " 42%|████▏     | 29338/69499 [00:31<00:41, 973.79it/s]\u001b[A"
          ],
          "name": "stderr"
        },
        {
          "output_type": "stream",
          "text": [
            "Found Skill:  processing  In:  content     the ordering and processing of goods and pape...\n"
          ],
          "name": "stdout"
        },
        {
          "output_type": "stream",
          "text": [
            "\n",
            " 42%|████▏     | 29436/69499 [00:31<00:41, 959.27it/s]\u001b[A\n",
            " 42%|████▏     | 29533/69499 [00:31<00:41, 959.90it/s]\u001b[A\n",
            " 43%|████▎     | 29636/69499 [00:31<00:40, 979.12it/s]\u001b[A"
          ],
          "name": "stderr"
        },
        {
          "output_type": "stream",
          "text": [
            "Found Skill:  able  In:  content     able to tailor pitch the product according to...\n",
            "Found Skill:  chain  In:  content     designated as the second in the chain of comm...\n"
          ],
          "name": "stdout"
        },
        {
          "output_type": "stream",
          "text": [
            "\n",
            " 43%|████▎     | 29735/69499 [00:32<00:41, 969.00it/s]\u001b[A\n",
            " 43%|████▎     | 29833/69499 [00:32<00:40, 970.04it/s]\u001b[A\n",
            " 43%|████▎     | 29931/69499 [00:32<00:41, 953.84it/s]\u001b[A"
          ],
          "name": "stderr"
        },
        {
          "output_type": "stream",
          "text": [
            "Found Skill:  excel  In:  content     excel\n",
            "Found Skill:  portable  In:  content     portable axle weighing systems which is used ...\n",
            "Found Skill:  metal  In:  content     needs of the metal welding 7cutting industry.. .\n",
            "Found Skill:  c++  In:  content     c++ (less than 1 year)\n"
          ],
          "name": "stdout"
        },
        {
          "output_type": "stream",
          "text": [
            "\n",
            " 43%|████▎     | 30027/69499 [00:32<00:42, 939.13it/s]\u001b[A\n",
            " 43%|████▎     | 30126/69499 [00:32<00:41, 950.05it/s]\u001b[A\n",
            " 43%|████▎     | 30222/69499 [00:32<00:41, 936.10it/s]\u001b[A\n",
            " 44%|████▎     | 30320/69499 [00:32<00:41, 947.25it/s]\u001b[A"
          ],
          "name": "stderr"
        },
        {
          "output_type": "stream",
          "text": [
            "Found Skill:  scratch  In:  content     significantly started business with scratch i...\n",
            "Found Skill:  beta  In:  content     sales and marketing of beta series alarm annu...\n",
            "Found Skill:  tie  In:  content     doing tie ups with the organizations for long...\n"
          ],
          "name": "stdout"
        },
        {
          "output_type": "stream",
          "text": [
            "\n",
            " 44%|████▍     | 30415/69499 [00:32<00:42, 924.49it/s]\u001b[A\n",
            " 44%|████▍     | 30510/69499 [00:32<00:41, 931.72it/s]\u001b[A"
          ],
          "name": "stderr"
        },
        {
          "output_type": "stream",
          "text": [
            "Found Skill:  span  In:  content     2 crores in just a span of a month.. .\n",
            "Found Skill:  plus  In:  content     plus produce fulfillment.\n",
            "Found Skill:  focus  In:  content     focus to be make maximum cabs to be on road..\n",
            "Found Skill:  able  In:  content     train fc effectively and make them able to un...\n"
          ],
          "name": "stdout"
        },
        {
          "output_type": "stream",
          "text": [
            "\n",
            " 44%|████▍     | 30604/69499 [00:33<00:42, 915.87it/s]\u001b[A\n",
            " 44%|████▍     | 30705/69499 [00:33<00:41, 940.42it/s]\u001b[A\n",
            " 44%|████▍     | 30805/69499 [00:33<00:40, 956.25it/s]\u001b[A"
          ],
          "name": "stderr"
        },
        {
          "output_type": "stream",
          "text": [
            "Found Skill:  chain  In:  content     coordinated with branch supply chain manageme...\n",
            "Found Skill:  scratch  In:  content     establishing new stores from scratch through ...\n"
          ],
          "name": "stdout"
        },
        {
          "output_type": "stream",
          "text": [
            "\n",
            " 44%|████▍     | 30901/69499 [00:33<00:40, 954.07it/s]\u001b[A\n",
            " 45%|████▍     | 31000/69499 [00:33<00:39, 963.45it/s]\u001b[A\n",
            " 45%|████▍     | 31103/69499 [00:33<00:39, 981.05it/s]\u001b[A"
          ],
          "name": "stderr"
        },
        {
          "output_type": "stream",
          "text": [
            "Found Skill:  excel  In:  content     excel (less than 1 year)\n",
            "Found Skill:  word  In:  content     ms word (less than 1 year)\n",
            "Found Skill:  word  In:  content     word (less.\n",
            "Found Skill:  word  In:  content     it skills: well versed with ms word\n",
            "Found Skill:  excel  In:  content     excel\n"
          ],
          "name": "stdout"
        },
        {
          "output_type": "stream",
          "text": [
            "\n",
            " 45%|████▍     | 31206/69499 [00:33<00:38, 993.75it/s]\u001b[A\n",
            " 45%|████▌     | 31306/69499 [00:33<00:38, 993.06it/s]\u001b[A\n",
            " 45%|████▌     | 31406/69499 [00:33<00:38, 991.39it/s]\u001b[A"
          ],
          "name": "stderr"
        },
        {
          "output_type": "stream",
          "text": [
            "Found Skill:  database  In:  content     product/services - financial database (capita...\n"
          ],
          "name": "stdout"
        },
        {
          "output_type": "stream",
          "text": [
            "\n",
            " 45%|████▌     | 31506/69499 [00:33<00:38, 977.93it/s]\u001b[A\n",
            " 45%|████▌     | 31607/69499 [00:34<00:38, 985.46it/s]\u001b[A\n",
            " 46%|████▌     | 31707/69499 [00:34<00:38, 988.28it/s]\u001b[A\n",
            " 46%|████▌     | 31813/69499 [00:34<00:37, 1006.59it/s]\u001b[A\n",
            " 46%|████▌     | 31914/69499 [00:34<00:37, 1005.65it/s]\u001b[A\n",
            " 46%|████▌     | 32015/69499 [00:34<00:37, 989.80it/s] \u001b[A"
          ],
          "name": "stderr"
        },
        {
          "output_type": "stream",
          "text": [
            "Found Skill:  c++  In:  content     basics of c++\n",
            "Found Skill:  word  In:  content     word 2010.\n",
            "Found Skill:  excel  In:  content     excel 2010.\n",
            "Found Skill:  scratch  In:  content     o established a new unit from scratch to team...\n",
            "Found Skill:  self  In:  content     self -discipline.\n"
          ],
          "name": "stdout"
        },
        {
          "output_type": "stream",
          "text": [
            "\n",
            " 46%|████▌     | 32115/69499 [00:34<00:38, 975.59it/s]\u001b[A\n",
            " 46%|████▋     | 32218/69499 [00:34<00:37, 990.68it/s]\u001b[A"
          ],
          "name": "stderr"
        },
        {
          "output_type": "stream",
          "text": [
            "Found Skill:  focus  In:  content     operational excellence and customer focus are...\n"
          ],
          "name": "stdout"
        },
        {
          "output_type": "stream",
          "text": [
            "\n",
            " 47%|████▋     | 32318/69499 [00:34<00:37, 986.74it/s]\u001b[A\n",
            " 47%|████▋     | 32419/69499 [00:34<00:37, 992.99it/s]\u001b[A"
          ],
          "name": "stderr"
        },
        {
          "output_type": "stream",
          "text": [
            "Found Skill:  gap  In:  content     identifying the gap area and accordingly exec...\n"
          ],
          "name": "stdout"
        },
        {
          "output_type": "stream",
          "text": [
            "\n",
            " 47%|████▋     | 32519/69499 [00:34<00:38, 966.61it/s]\u001b[A\n",
            " 47%|████▋     | 32618/69499 [00:35<00:37, 972.40it/s]\u001b[A"
          ],
          "name": "stderr"
        },
        {
          "output_type": "stream",
          "text": [
            "Found Skill:  able  In:  content     able to uphold and respect procurement ethics...\n",
            "Found Skill:  able  In:  content     flexibity and honesty.. be willing and able t...\n",
            "Found Skill:  able  In:  content     who is able to plan and manage his own work\n",
            "Found Skill:  able  In:  content     deadlines.. be able to work in a multicultura...\n",
            "Found Skill:  pure  In:  content     certified: 100  pure kiwi specialist\n"
          ],
          "name": "stdout"
        },
        {
          "output_type": "stream",
          "text": [
            "\n",
            " 47%|████▋     | 32721/69499 [00:35<00:37, 988.82it/s]\u001b[A\n",
            " 47%|████▋     | 32821/69499 [00:35<00:37, 987.37it/s]\u001b[A\n",
            " 47%|████▋     | 32926/69499 [00:35<00:36, 1004.99it/s]\u001b[A"
          ],
          "name": "stderr"
        },
        {
          "output_type": "stream",
          "text": [
            "Found Skill:  excel  In:  content     excel (less than 1 year)\n",
            "Found Skill:  excel  In:  content     ms excel (less than 1 year)\n",
            "Found Skill:  word  In:  content     ms word\n",
            "Found Skill:  excel  In:  content     ms excel\n",
            "Found Skill:  max  In:  content     max erectors (india) ltd -  pune\n",
            "Found Skill:  self  In:  content     self motivated (less than 1 year)\n"
          ],
          "name": "stdout"
        },
        {
          "output_type": "stream",
          "text": [
            "\n",
            " 48%|████▊     | 33031/69499 [00:35<00:35, 1016.19it/s]\u001b[A\n",
            " 48%|████▊     | 33133/69499 [00:35<00:36, 1008.68it/s]\u001b[A"
          ],
          "name": "stderr"
        },
        {
          "output_type": "stream",
          "text": [
            "Found Skill:  database  In:  content     database marketing on various real estate pro...\n",
            "Found Skill:  database  In:  content     generated database of 1200+ clients through p...\n",
            "Found Skill:  goal  In:  content     dynamic goal oriented personality with degree...\n",
            "Found Skill:  mouse  In:  content     mouse etc.. .\n",
            "Found Skill:  plus  In:  content     over 13 plus years of experience in mep systems.\n"
          ],
          "name": "stdout"
        },
        {
          "output_type": "stream",
          "text": [
            "\n",
            " 48%|████▊     | 33234/69499 [00:35<00:36, 1000.13it/s]\u001b[A\n",
            " 48%|████▊     | 33344/69499 [00:35<00:35, 1027.31it/s]\u001b[A\n",
            " 48%|████▊     | 33448/69499 [00:35<00:35, 1028.23it/s]\u001b[A\n",
            " 48%|████▊     | 33551/69499 [00:35<00:35, 1009.45it/s]\u001b[A"
          ],
          "name": "stderr"
        },
        {
          "output_type": "stream",
          "text": [
            "Found Skill:  mouse  In:  content     mouse etc.. .\n",
            "Found Skill:  self  In:  content     self -discipline.\n",
            "Found Skill:  scheme  In:  content     scheme town wise\n",
            "Found Skill:  able  In:  content     my cluster i am able to maintain 40  in all p...\n",
            "Found Skill:  scheme  In:  content     promotional scheme\n",
            "Found Skill:  able  In:  content     able to establish luminous appliances\n",
            "Found Skill:  scheme  In:  content     promotional scheme\n"
          ],
          "name": "stdout"
        },
        {
          "output_type": "stream",
          "text": [
            "\n",
            " 48%|████▊     | 33653/69499 [00:36<00:35, 1001.70it/s]\u001b[A\n",
            " 49%|████▊     | 33754/69499 [00:36<00:35, 998.37it/s] \u001b[A\n",
            " 49%|████▊     | 33854/69499 [00:36<00:35, 993.64it/s]\u001b[A"
          ],
          "name": "stderr"
        },
        {
          "output_type": "stream",
          "text": [
            "Found Skill:  cobra  In:  content     cobra beer.\n",
            "Found Skill:  chain  In:  content     chain needs for long term value creation..\n"
          ],
          "name": "stdout"
        },
        {
          "output_type": "stream",
          "text": [
            "\n",
            " 49%|████▉     | 33954/69499 [00:36<00:36, 981.59it/s]\u001b[A\n",
            " 49%|████▉     | 34053/69499 [00:36<00:37, 943.87it/s]\u001b[A"
          ],
          "name": "stderr"
        },
        {
          "output_type": "stream",
          "text": [
            "Found Skill:  spin  In:  content     spin techniques by huthwaite\n",
            "Found Skill:  focus  In:  content     * strong customer focus and service orientati...\n",
            "Found Skill:  able  In:  content     * able to make rapid assessments and quickly ...\n",
            "Found Skill:  self  In:  content     a self driven and self motivated top performi...\n"
          ],
          "name": "stdout"
        },
        {
          "output_type": "stream",
          "text": [
            "\n",
            " 49%|████▉     | 34148/69499 [00:36<00:38, 906.68it/s]\u001b[A\n",
            " 49%|████▉     | 34252/69499 [00:36<00:37, 942.05it/s]\u001b[A"
          ],
          "name": "stderr"
        },
        {
          "output_type": "stream",
          "text": [
            "Found Skill:  chain  In:  content     chain\n"
          ],
          "name": "stdout"
        },
        {
          "output_type": "stream",
          "text": [
            "\n",
            " 49%|████▉     | 34347/69499 [00:36<00:37, 933.06it/s]\u001b[A\n",
            " 50%|████▉     | 34445/69499 [00:36<00:37, 944.54it/s]\u001b[A"
          ],
          "name": "stderr"
        },
        {
          "output_type": "stream",
          "text": [
            "Found Skill:  word  In:  content     word\n",
            "Found Skill:  sql  In:  content     sybase sql server\n",
            "Found Skill:  c++  In:  content     c++ programming\n",
            "Found Skill:  excel  In:  content     excel (less than 1 year)\n",
            "Found Skill:  word  In:  content     ms. word (less than 1 year)\n",
            "Found Skill:  excel  In:  content     excel (less than 1 year)\n"
          ],
          "name": "stdout"
        },
        {
          "output_type": "stream",
          "text": [
            "\n",
            " 50%|████▉     | 34541/69499 [00:37<00:36, 947.16it/s]\u001b[A\n",
            " 50%|████▉     | 34639/69499 [00:37<00:36, 954.84it/s]\u001b[A"
          ],
          "name": "stderr"
        },
        {
          "output_type": "stream",
          "text": [
            "Found Skill:  word  In:  content     ms word (less than 1 year)\n",
            "Found Skill:  word  In:  content     word (less than 1 year).\n",
            "Found Skill:  word  In:  content     well versed with ms word\n",
            "Found Skill:  excel  In:  content     excel  power point.\n",
            "Found Skill:  excel  In:  content     teams to excel and win.\n"
          ],
          "name": "stdout"
        },
        {
          "output_type": "stream",
          "text": [
            "\n",
            " 50%|████▉     | 34738/69499 [00:37<00:36, 963.56it/s]\u001b[A\n",
            " 50%|█████     | 34835/69499 [00:37<00:36, 952.39it/s]\u001b[A\n",
            " 50%|█████     | 34931/69499 [00:37<00:37, 933.90it/s]\u001b[A"
          ],
          "name": "stderr"
        },
        {
          "output_type": "stream",
          "text": [
            "Found Skill:  grass  In:  content     supported grass roots effort to centralize em...\n",
            "Found Skill:  excel  In:  content     excel   powerpoint) and internet applications.\n",
            "Found Skill:  c++  In:  content     c++\n",
            "Found Skill:  java  In:  content     java\n",
            "Found Skill:  database  In:  content     database : ms- access.\n"
          ],
          "name": "stdout"
        },
        {
          "output_type": "stream",
          "text": [
            "\n",
            " 50%|█████     | 35034/69499 [00:37<00:35, 959.24it/s]\u001b[A\n",
            " 51%|█████     | 35131/69499 [00:37<00:37, 920.17it/s]\u001b[A\n",
            " 51%|█████     | 35230/69499 [00:37<00:36, 939.30it/s]\u001b[A"
          ],
          "name": "stderr"
        },
        {
          "output_type": "stream",
          "text": [
            "Found Skill:  processing  In:  content     experience in processing account transactions\n",
            "Found Skill:  excel  In:  content     excel (less than 1 year)\n",
            "Found Skill:  excel  In:  content     microsoft excel (less than 1 year)\n",
            "Found Skill:  word  In:  content     microsoft word (less than 1 year).\n",
            "Found Skill:  word  In:  content     technical skills: proficient in microsoft word\n",
            "Found Skill:  excel  In:  content     microsoft excel\n"
          ],
          "name": "stdout"
        },
        {
          "output_type": "stream",
          "text": [
            "\n",
            " 51%|█████     | 35329/69499 [00:37<00:35, 952.92it/s]\u001b[A\n",
            " 51%|█████     | 35429/69499 [00:37<00:35, 966.41it/s]\u001b[A"
          ],
          "name": "stderr"
        },
        {
          "output_type": "stream",
          "text": [
            "Found Skill:  database  In:  content     maintain customer/ client database and market...\n",
            "Found Skill:  database  In:  content     maintain customer/ client database and market...\n",
            "Found Skill:  goal  In:  content     goal setting\n",
            "Found Skill:  chain  In:  content     as a whole in a chain process with all the se...\n"
          ],
          "name": "stdout"
        },
        {
          "output_type": "stream",
          "text": [
            "\n",
            " 51%|█████     | 35526/69499 [00:38<00:35, 955.14it/s]\u001b[A\n",
            " 51%|█████▏    | 35622/69499 [00:38<00:35, 953.29it/s]\u001b[A"
          ],
          "name": "stderr"
        },
        {
          "output_type": "stream",
          "text": [
            "Found Skill:  chain  In:  content     as a whole in a chain process with all the se...\n",
            "Found Skill:  focus  In:  content     and building brand focus in conjunction with ...\n",
            "Found Skill:  focus  In:  content     major focus on ntpc\n",
            "Found Skill:  metal  In:  content     having robust design of metal seated ball.\n",
            "Found Skill:  metal  In:  content     selection of metal seated ball valve\n",
            "Found Skill:  metal  In:  content     assembly and disassembly of metal seated ball...\n"
          ],
          "name": "stdout"
        },
        {
          "output_type": "stream",
          "text": [
            "\n",
            " 51%|█████▏    | 35718/69499 [00:38<00:37, 906.69it/s]\u001b[A\n",
            " 52%|█████▏    | 35821/69499 [00:38<00:35, 938.92it/s]\u001b[A"
          ],
          "name": "stderr"
        },
        {
          "output_type": "stream",
          "text": [
            "Found Skill:  excel  In:  content     excel (less than 1 year)\n",
            "Found Skill:  word  In:  content     ms word\n",
            "Found Skill:  excel  In:  content     ms excel\n"
          ],
          "name": "stdout"
        },
        {
          "output_type": "stream",
          "text": [
            "\n",
            " 52%|█████▏    | 35922/69499 [00:38<00:35, 957.91it/s]\u001b[A\n",
            " 52%|█████▏    | 36019/69499 [00:38<00:34, 957.95it/s]\u001b[A\n",
            " 52%|█████▏    | 36118/69499 [00:38<00:34, 966.81it/s]\u001b[A\n",
            " 52%|█████▏    | 36217/69499 [00:38<00:34, 970.29it/s]\u001b[A\n",
            " 52%|█████▏    | 36316/69499 [00:38<00:33, 976.09it/s]\u001b[A"
          ],
          "name": "stderr"
        },
        {
          "output_type": "stream",
          "text": [
            "Found Skill:  pure  In:  content     pure health products ltd -.\n",
            "Found Skill:  gap  In:  content     gap analysis and price leadership tracking of...\n",
            "Found Skill:  code  In:  content     vendor code creation process for seller marke...\n"
          ],
          "name": "stdout"
        },
        {
          "output_type": "stream",
          "text": [
            "\n",
            " 52%|█████▏    | 36415/69499 [00:38<00:33, 978.99it/s]\u001b[A\n",
            " 53%|█████▎    | 36516/69499 [00:39<00:33, 984.52it/s]\u001b[A\n",
            " 53%|█████▎    | 36618/69499 [00:39<00:33, 992.91it/s]\u001b[A"
          ],
          "name": "stderr"
        },
        {
          "output_type": "stream",
          "text": [
            "Found Skill:  chain  In:  content     distinction of establishing separate chain of...\n",
            "Found Skill:  tie  In:  content     has made the tie up with govt.\n"
          ],
          "name": "stdout"
        },
        {
          "output_type": "stream",
          "text": [
            "\n",
            " 53%|█████▎    | 36718/69499 [00:39<00:32, 993.99it/s]\u001b[A\n",
            " 53%|█████▎    | 36821/69499 [00:39<00:32, 1002.93it/s]\u001b[A"
          ],
          "name": "stderr"
        },
        {
          "output_type": "stream",
          "text": [
            "Found Skill:  plus  In:  content     for 3000 plus insurance agents of life insura...\n",
            "Found Skill:  goal  In:  content     using google analytics for goal set -up\n"
          ],
          "name": "stdout"
        },
        {
          "output_type": "stream",
          "text": [
            "\n",
            " 53%|█████▎    | 36923/69499 [00:39<00:32, 1007.31it/s]\u001b[A\n",
            " 53%|█████▎    | 37024/69499 [00:39<00:32, 1002.42it/s]\u001b[A\n",
            " 53%|█████▎    | 37125/69499 [00:39<00:33, 976.88it/s] \u001b[A"
          ],
          "name": "stderr"
        },
        {
          "output_type": "stream",
          "text": [
            "Found Skill:  excel  In:  content     excel (less than 1 year)\n",
            "Found Skill:  word  In:  content     ms word (less than 1 year)\n",
            "Found Skill:  word  In:  content     word (less than 1 year).\n",
            "Found Skill:  word  In:  content     well versed with ms word\n",
            "Found Skill:  excel  In:  content     excel  power point.\n",
            "Found Skill:  abc  In:  content     abc bearings ltd\n",
            "Found Skill:  powerhouse  In:  content     ador welding limited is a welding powerhouse ...\n"
          ],
          "name": "stdout"
        },
        {
          "output_type": "stream",
          "text": [
            "\n",
            " 54%|█████▎    | 37223/69499 [00:39<00:33, 966.94it/s]\u001b[A\n",
            " 54%|█████▎    | 37330/69499 [00:39<00:32, 993.90it/s]\u001b[A"
          ],
          "name": "stderr"
        },
        {
          "output_type": "stream",
          "text": [
            "Found Skill:  gap  In:  content     fdd gap customization testing.\n",
            "Found Skill:  gap  In:  content     fdd gap customization testing.\n",
            "Found Skill:  gap  In:  content     identification of the gap s which were not ad...\n",
            "Found Skill:  sql  In:  content     databases sql server.\n",
            "Found Skill:  arc  In:  content     customer arc distributors.\n",
            "Found Skill:  excel  In:  content     strong determination and to excel in the in i...\n"
          ],
          "name": "stdout"
        },
        {
          "output_type": "stream",
          "text": [
            "\n",
            " 54%|█████▍    | 37430/69499 [00:39<00:32, 981.24it/s]\u001b[A\n",
            " 54%|█████▍    | 37529/69499 [00:40<00:32, 975.54it/s]\u001b[A\n",
            " 54%|█████▍    | 37636/69499 [00:40<00:31, 1001.31it/s]\u001b[A"
          ],
          "name": "stderr"
        },
        {
          "output_type": "stream",
          "text": [
            "Found Skill:  chain  In:  content     planning   setting up the restaurant chain an...\n",
            "Found Skill:  planner  In:  content     wedding planner - emars events   shows pvt.\n",
            "Found Skill:  mouse  In:  content     disney mickey mouse carnival.\n"
          ],
          "name": "stdout"
        },
        {
          "output_type": "stream",
          "text": [
            "\n",
            " 54%|█████▍    | 37737/69499 [00:40<00:32, 986.61it/s] \u001b[A\n",
            " 54%|█████▍    | 37836/69499 [00:40<00:32, 985.56it/s]\u001b[A"
          ],
          "name": "stderr"
        },
        {
          "output_type": "stream",
          "text": [
            "Found Skill:  excel  In:  content     excel\n",
            "Found Skill:  excel  In:  content     excel (less than 1 year)\n",
            "Found Skill:  word  In:  content     microsoft word (less than 1 year)\n",
            "Found Skill:  excel  In:  content     excel\n",
            "Found Skill:  access  In:  content     access and.\n",
            "Found Skill:  database  In:  content     database (less than 1 year)\n",
            "Found Skill:  database  In:  content     database management (less than 1 year)\n",
            "Found Skill:  database  In:  content     database management system (less than 1 year)\n",
            "Found Skill:  java  In:  content     java (less than 1 year).\n",
            "Found Skill:  c++  In:  content     c++\n",
            "Found Skill:  database  In:  content     database management system.\n"
          ],
          "name": "stdout"
        },
        {
          "output_type": "stream",
          "text": [
            "\n",
            " 55%|█████▍    | 37935/69499 [00:40<00:33, 955.94it/s]\u001b[A\n",
            " 55%|█████▍    | 38031/69499 [00:40<00:33, 934.91it/s]\u001b[A"
          ],
          "name": "stderr"
        },
        {
          "output_type": "stream",
          "text": [
            "Found Skill:  database  In:  content     database (less than 1 year)\n",
            "Found Skill:  html  In:  content     html (less than 1 year)\n",
            "Found Skill:  access  In:  content     access (less than 1 year)\n",
            "Found Skill:  c++  In:  content     c++\n",
            "Found Skill:  java  In:  content     java\n",
            "Found Skill:  .net  In:  content     .net\n",
            "Found Skill:  html  In:  content     web designing: html\n",
            "Found Skill:  access  In:  content     database: ms access\n",
            "Found Skill:  sql  In:  content     ms sql server 2008\n",
            "Found Skill:  processing  In:  content     maintained data processing using mainframe te...\n",
            "Found Skill:  cobol  In:  content     cobol (3 years)\n",
            "Found Skill:  jcl  In:  content     jcl (3 years)\n",
            "Found Skill:  jcl  In:  content     jcl\n",
            "Found Skill:  database  In:  content     database - db2\n",
            "Found Skill:  sql  In:  content     sql\n",
            "Found Skill:  sql  In:  content     sql assistant\n",
            "Found Skill:  sql  In:  content     having 3.5 years of it experience in sql data...\n",
            "Found Skill:  sql  In:  content     development   support of ms sql servers in pr...\n",
            "Found Skill:  database  In:  content     working experience with relational database s...\n",
            "Found Skill:  sql  In:  content     maintenance and administration of sql server..\n",
            "Found Skill:  sql  In:  content     experience in upgrading sql server..     good...\n",
            "Found Skill:  database  In:  content     high availability of database servers using.\n",
            "Found Skill:  database  In:  content     database mirroring and replications and log s...\n",
            "Found Skill:  sql  In:  content     experience in implementing sql server securit...\n",
            "Found Skill:  database  In:  content     database authentication modes\n",
            "Found Skill:  sql  In:  content     sql mail agent.\n",
            "Found Skill:  sql  In:  content     sql profiler and optimizing the queries\n",
            "Found Skill:  sql  In:  content     having 3.5 years of it experience in sql data...\n",
            "Found Skill:  sql  In:  content     development   support of ms sql servers in pr...\n"
          ],
          "name": "stdout"
        },
        {
          "output_type": "stream",
          "text": [
            "\n",
            " 55%|█████▍    | 38125/69499 [00:40<00:35, 878.92it/s]\u001b[A\n",
            " 55%|█████▍    | 38214/69499 [00:40<00:36, 851.23it/s]\u001b[A"
          ],
          "name": "stderr"
        },
        {
          "output_type": "stream",
          "text": [
            "Found Skill:  database  In:  content     working experience with relational database s...\n",
            "Found Skill:  sql  In:  content     maintenance and administration of sql server.\n",
            "Found Skill:  sql  In:  content     experience in upgrading sql server..     good...\n",
            "Found Skill:  database  In:  content     high availability of database servers using.\n",
            "Found Skill:  database  In:  content     database mirroring and replications and log s...\n",
            "Found Skill:  sql  In:  content     experience in implementing sql server securit...\n",
            "Found Skill:  database  In:  content     database authentication modes\n",
            "Found Skill:  database  In:  content     responsible for database support\n",
            "Found Skill:  sql  In:  content     based on sql 2000 in upgrade project to sql 2...\n",
            "Found Skill:  database  In:  content     monitoring of database size and disk space in...\n",
            "Found Skill:  sql  In:  content     performed installation of sql enterprise 2005...\n",
            "Found Skill:  sql  In:  content     conducted performance tuning using sql profil...\n",
            "Found Skill:  sql  In:  content     installing sql server clients\n",
            "Found Skill:  sql  In:  content     performed installation of sql server service ...\n",
            "Found Skill:  sql  In:  content     upgraded databases from sql server 2000 to sq...\n",
            "Found Skill:  database  In:  content     improved the database server performance..   ...\n",
            "Found Skill:  sql  In:  content     installing sql server clients\n",
            "Found Skill:  sql  In:  content     performed installation of sql server service ...\n",
            "Found Skill:  sql  In:  content     upgraded databases from sql server 2000 to sq...\n",
            "Found Skill:  database  In:  content     the database server performance..     used sq...\n",
            "Found Skill:  sql  In:  content     installing sql server clients\n",
            "Found Skill:  database  In:  content     database (3 years)\n",
            "Found Skill:  sql  In:  content     sql (3 years)\n",
            "Found Skill:  sql  In:  content     sql dba.\n",
            "Found Skill:  database  In:  content     database tool: sql management studio (mssql)\n",
            "Found Skill:  database  In:  content     database language: sql\n",
            "Found Skill:  c++  In:  content     c++\n",
            "Found Skill:  pl/sql  In:  content     pl/sql\n"
          ],
          "name": "stdout"
        },
        {
          "output_type": "stream",
          "text": [
            "\n",
            " 55%|█████▌    | 38302/69499 [00:40<00:36, 858.22it/s]\u001b[A\n",
            " 55%|█████▌    | 38402/69499 [00:41<00:34, 895.86it/s]\u001b[A"
          ],
          "name": "stderr"
        },
        {
          "output_type": "stream",
          "text": [
            "Found Skill:  access  In:  content     access (less than 1 year)\n",
            "Found Skill:  c++  In:  content     c++\n",
            "Found Skill:  java  In:  content     java (j2ee)\n",
            "Found Skill:  java  In:  content     java script\n",
            "Found Skill:  java  In:  content     front-end: java (j2ee)\n",
            "Found Skill:  html  In:  content     language: html and asp.\n",
            "Found Skill:  unity  In:  content     unity\n",
            "Found Skill:  spark  In:  content     apache spark and scala.. iaas implementation:...\n",
            "Found Skill:  natural  In:  content     identifying spam messages using natural langu...\n",
            "Found Skill:  java  In:  content     java (1 year)\n",
            "Found Skill:  c++  In:  content     c++ (less than 1 year)\n",
            "Found Skill:  css  In:  content     css (less than 1 year).\n",
            "Found Skill:  c++  In:  content     c++\n",
            "Found Skill:  java  In:  content     java\n",
            "Found Skill:  python  In:  content     python\n",
            "Found Skill:  mysql  In:  content     mysql\n",
            "Found Skill:  spark  In:  content     hadoop and spark\n",
            "Found Skill:  self  In:  content     pro active and self starter with the great ab...\n",
            "Found Skill:  able  In:  content     able to handle multiple projects under tight ...\n",
            "Found Skill:  able  In:  content     able to develop excellent rapport with peers\n"
          ],
          "name": "stdout"
        },
        {
          "output_type": "stream",
          "text": [
            "\n",
            " 55%|█████▌    | 38493/69499 [00:41<00:34, 891.35it/s]\u001b[A\n",
            " 56%|█████▌    | 38588/69499 [00:41<00:34, 907.26it/s]\u001b[A\n",
            " 56%|█████▌    | 38688/69499 [00:41<00:33, 933.11it/s]\u001b[A"
          ],
          "name": "stderr"
        },
        {
          "output_type": "stream",
          "text": [
            "Found Skill:  able  In:  content     able to coordinate with different support tea...\n",
            "Found Skill:  able  In:  content     able to manage teams as per sops (standard op...\n",
            "Found Skill:  goal  In:  content     work allocation   goal setting and performanc...\n",
            "Found Skill:  creo  In:  content     creo (less than 1 year)\n",
            "Found Skill:  python  In:  content     python (less than 1 year)\n",
            "Found Skill:  creo  In:  content     creo parametric 2.0\n",
            "Found Skill:  able  In:  content     able to handle complex situation under process.\n",
            "Found Skill:  java  In:  content     expertise in java\n",
            "Found Skill:  php  In:  content     php\n",
            "Found Skill:  javascript  In:  content     javascript\n"
          ],
          "name": "stdout"
        },
        {
          "output_type": "stream",
          "text": [
            "\n",
            " 56%|█████▌    | 38782/69499 [00:41<00:34, 881.44it/s]\u001b[A\n",
            " 56%|█████▌    | 38872/69499 [00:41<00:35, 871.65it/s]\u001b[A"
          ],
          "name": "stderr"
        },
        {
          "output_type": "stream",
          "text": [
            "Found Skill:  java  In:  content     environment: java 1.8\n",
            "Found Skill:  sql  In:  content     sql server\n",
            "Found Skill:  maven  In:  content     maven\n",
            "Found Skill:  jira  In:  content     jira\n",
            "Found Skill:  database  In:  content     mining and preserve into database as report g...\n",
            "Found Skill:  sql  In:  content     it into sql server.\n",
            "Found Skill:  java  In:  content     environment: java 1.8\n",
            "Found Skill:  php  In:  content     php\n",
            "Found Skill:  css  In:  content     css\n",
            "Found Skill:  mysql  In:  content     mysql\n",
            "Found Skill:  maven  In:  content     maven\n",
            "Found Skill:  jira  In:  content     jira\n",
            "Found Skill:  php  In:  content     developed php backend services.\n",
            "Found Skill:  java  In:  content     environment: java 1.8\n",
            "Found Skill:  mysql  In:  content     mysql\n",
            "Found Skill:  maven  In:  content     maven\n",
            "Found Skill:  jira  In:  content     jira\n",
            "Found Skill:  sql  In:  content     it into sql server.\n",
            "Found Skill:  database  In:  content     database (less than 1 year)\n",
            "Found Skill:  java  In:  content     java (less than 1 year)\n",
            "Found Skill:  jira  In:  content     jira (less than 1. year)\n",
            "Found Skill:  java  In:  content     programming languages: java   j2ee\n",
            "Found Skill:  php  In:  content     php\n",
            "Found Skill:  junit  In:  content     junit\n",
            "Found Skill:  mysql  In:  content     database: mysql\n",
            "Found Skill:  sql  In:  content     sql server\n",
            "Found Skill:  jira  In:  content     jira\n",
            "Found Skill:  code  In:  content     code generation tools.\n",
            "Found Skill:  processing  In:  content     invoice processing\n"
          ],
          "name": "stdout"
        },
        {
          "output_type": "stream",
          "text": [
            "\n",
            " 56%|█████▌    | 38964/69499 [00:41<00:34, 884.13it/s]\u001b[A\n",
            " 56%|█████▌    | 39060/69499 [00:41<00:33, 905.38it/s]\u001b[A\n",
            " 56%|█████▋    | 39167/69499 [00:41<00:32, 946.76it/s]\u001b[A"
          ],
          "name": "stderr"
        },
        {
          "output_type": "stream",
          "text": [
            "Found Skill:  goal  In:  content     * goal oriented   self motivated.\n",
            "Found Skill:  css  In:  content     css (less than 1 year)\n",
            "Found Skill:  database  In:  content     and database update.\n",
            "Found Skill:  excel  In:  content     excel (less than 1 year)\n",
            "Found Skill:  excel  In:  content     ms excel (less than 1 year)\n",
            "Found Skill:  excel  In:  content     computer skills: ms excel\n",
            "Found Skill:  scheme  In:  content     project title: education loan scheme in credi...\n",
            "Found Skill:  java  In:  content     java web projects\n"
          ],
          "name": "stdout"
        },
        {
          "output_type": "stream",
          "text": [
            "\n",
            " 56%|█████▋    | 39263/69499 [00:41<00:32, 929.26it/s]\u001b[A\n",
            " 57%|█████▋    | 39357/69499 [00:42<00:33, 898.55it/s]\u001b[A"
          ],
          "name": "stderr"
        },
        {
          "output_type": "stream",
          "text": [
            "Found Skill:  cucumber  In:  content     cucumber\n",
            "Found Skill:  java  In:  content     java\n",
            "Found Skill:  junit  In:  content     junit\n",
            "Found Skill:  jira  In:  content     jira\n",
            "Found Skill:  maven  In:  content     maven\n",
            "Found Skill:  sql  In:  content     sql\n",
            "Found Skill:  junit  In:  content     junit\n",
            "Found Skill:  java  In:  content     and leading java projects.\n",
            "Found Skill:  cucumber  In:  content     solid experience on selenium using cucumber a...\n",
            "Found Skill:  sql  In:  content     proven skills in sql\n",
            "Found Skill:  sql  In:  content     expertise in writing sql queries\n",
            "Found Skill:  database  In:  content     sql scripts and performing database testing.\n",
            "Found Skill:  java  In:  content     java\n",
            "Found Skill:  java  In:  content     java\n",
            "Found Skill:  cucumber  In:  content     cucumber\n",
            "Found Skill:  java  In:  content     java\n",
            "Found Skill:  excel  In:  content     test data from excel files and sql.\n",
            "Found Skill:  maven  In:  content     databases..     configured maven for java aut...\n",
            "Found Skill:  cucumber  In:  content     developed bdd tests using cucumber by writing...\n",
            "Found Skill:  code  In:  content     required selenium support code in java for cu...\n",
            "Found Skill:  database  In:  content     queried database and generated test reports.\n",
            "Found Skill:  database  In:  content     purchase orders database testing by developin...\n",
            "Found Skill:  jira  In:  content     jira api..\n",
            "Found Skill:  jira  In:  content     jira reports..\n",
            "Found Skill:  maven  In:  content     maven\n",
            "Found Skill:  java  In:  content     java\n",
            "Found Skill:  jira  In:  content     jira\n",
            "Found Skill:  sql  In:  content     sql\n",
            "Found Skill:  natural  In:  content     determined that moving away from the natural ...\n",
            "Found Skill:  java  In:  content     developed hybrid automation framework java by...\n",
            "Found Skill:  java  In:  content     developed 7 java class libraries\n",
            "Found Skill:  xml  In:  content     16 junit test scripts to test xml build data ...\n",
            "Found Skill:  sql  In:  content     using sql queries..\n"
          ],
          "name": "stdout"
        },
        {
          "output_type": "stream",
          "text": [
            "\n",
            " 57%|█████▋    | 39448/69499 [00:42<00:34, 873.86it/s]\u001b[A\n",
            " 57%|█████▋    | 39537/69499 [00:42<00:34, 876.80it/s]\u001b[A"
          ],
          "name": "stderr"
        },
        {
          "output_type": "stream",
          "text": [
            "Found Skill:  java  In:  content     java\n",
            "Found Skill:  junit  In:  content     junit\n",
            "Found Skill:  maven  In:  content     maven\n",
            "Found Skill:  jira  In:  content     jira\n",
            "Found Skill:  access  In:  content     access to trade finance information and trans...\n",
            "Found Skill:  database  In:  content     performed database testing using sql in order...\n",
            "Found Skill:  java  In:  content     tools/environments: java\n",
            "Found Skill:  java  In:  content     tools/environments: java\n",
            "Found Skill:  groovy  In:  content     grails and groovy\n",
            "Found Skill:  processing  In:  content     project: pops (purchase order processing syst...\n",
            "Found Skill:  sql  In:  content     sql server and windows2008\n",
            "Found Skill:  java  In:  content     java (3 years)\n",
            "Found Skill:  junit  In:  content     junit (2 years)\n",
            "Found Skill:  cucumber  In:  content     cucumber\n",
            "Found Skill:  maven  In:  content     maven\n",
            "Found Skill:  java  In:  content     languages/frameworks: java\n",
            "Found Skill:  junit  In:  content     junit\n",
            "Found Skill:  cucumber  In:  content     cucumber\n",
            "Found Skill:  jira  In:  content     defect tracking tools: jira\n",
            "Found Skill:  xml  In:  content     xml\n",
            "Found Skill:  mysql  In:  content     rdbms: mysql\n"
          ],
          "name": "stdout"
        },
        {
          "output_type": "stream",
          "text": [
            "\n",
            " 57%|█████▋    | 39626/69499 [00:42<00:34, 866.99it/s]\u001b[A\n",
            " 57%|█████▋    | 39722/69499 [00:42<00:33, 890.49it/s]\u001b[A"
          ],
          "name": "stderr"
        },
        {
          "output_type": "stream",
          "text": [
            "Found Skill:  chef  In:  content     deployed chef for configuration management in...\n",
            "Found Skill:  code  In:  content     releasing of code from one environment to oth...\n",
            "Found Skill:  maven  In:  content     extensive experience using maven and ant as b...\n",
            "Found Skill:  code  In:  content     expert in deploying the code through web appl...\n",
            "Found Skill:  chef  In:  content     deployed chef for configuration management in...\n",
            "Found Skill:  java  In:  content     environment: java 1.7\n",
            "Found Skill:  jira  In:  content     jira 6.3\n",
            "Found Skill:  database  In:  content     database administration\n",
            "Found Skill:  chef  In:  content     deployed chef for configuration management in...\n",
            "Found Skill:  maven  In:  content     maven\n",
            "Found Skill:  code  In:  content     static code analysis: sonarqube check style.\n",
            "Found Skill:  maven  In:  content     git maven jenkins vagrant docker nagios sonar...\n",
            "Found Skill:  code  In:  content     co-coordinator of code hunter at cgc fest.\n",
            "Found Skill:  code  In:  content     co-coordinator of code hunter at cgc fest.\n",
            "Found Skill:  sql  In:  content     oracle sql -.\n",
            "Found Skill:  access  In:  content     access (less than 1 year)\n",
            "Found Skill:  css  In:  "
          ],
          "name": "stdout"
        },
        {
          "output_type": "stream",
          "text": [
            "\n",
            " 57%|█████▋    | 39812/69499 [00:42<00:34, 852.55it/s]\u001b[A\n",
            " 57%|█████▋    | 39908/69499 [00:42<00:33, 880.34it/s]\u001b[A"
          ],
          "name": "stderr"
        },
        {
          "output_type": "stream",
          "text": [
            "content     css (less than 1 year)\n",
            "Found Skill:  database  In:  content     database (less than 1 year).\n",
            "Found Skill:  sql  In:  content     database: sql server.\n",
            "Found Skill:  html  In:  content     other technologies: html\n",
            "Found Skill:  css  In:  content     css\n",
            "Found Skill:  excel  In:  content     excel\n",
            "Found Skill:  css  In:  content     language used: css\n",
            "Found Skill:  sql  In:  content     sql server and html.. .\n",
            "Found Skill:  java  In:  content     java scripting.\n",
            "Found Skill:  database  In:  content     imported data from relational database into j...\n",
            "Found Skill:  database  In:  content     database: experience in database designing\n",
            "Found Skill:  code  In:  content     optimizing sql code and stored procedures\n",
            "Found Skill:  sql  In:  content     sql azure\n",
            "Found Skill:  plus  In:  content     plus\n",
            "Found Skill:  plus  In:  content     plus\n"
          ],
          "name": "stdout"
        },
        {
          "output_type": "stream",
          "text": [
            "\n",
            " 58%|█████▊    | 40005/69499 [00:42<00:32, 904.05it/s]\u001b[A\n",
            " 58%|█████▊    | 40099/69499 [00:42<00:32, 912.64it/s]\u001b[A"
          ],
          "name": "stderr"
        },
        {
          "output_type": "stream",
          "text": [
            "Found Skill:  sql  In:  content     sql server 2014\n",
            "Found Skill:  .net  In:  content     .net api\n",
            "Found Skill:  java  In:  content     oracle 5 years 2 month     core java developer.\n",
            "Found Skill:  java  In:  content     languages core java\n",
            "Found Skill:  java  In:  content     languages: core java\n",
            "Found Skill:  sql  In:  content     sql developer\n",
            "Found Skill:  pl/sql  In:  content     pl/sql developer\n",
            "Found Skill:  javascript  In:  content     web technologies: javascript\n",
            "Found Skill:  xml  In:  content     xml\n",
            "Found Skill:  html  In:  content     html\n",
            "Found Skill:  blue  In:  content     blue prism\n",
            "Found Skill:  blue  In:  content     test automation tools: blue prism\n",
            "Found Skill:  sql  In:  content     sql server.. .\n",
            "Found Skill:  processing  In:  content     well site data acquisition processing and int...\n"
          ],
          "name": "stdout"
        },
        {
          "output_type": "stream",
          "text": [
            "\n",
            " 58%|█████▊    | 40193/69499 [00:43<00:31, 919.67it/s]\u001b[A\n",
            " 58%|█████▊    | 40287/69499 [00:43<00:31, 922.34it/s]\u001b[A"
          ],
          "name": "stderr"
        },
        {
          "output_type": "stream",
          "text": [
            "Found Skill:  focus  In:  content     your caregivers to focus on what matters most...\n",
            "Found Skill:  access  In:  content     access not only helps clinicians make better ...\n",
            "Found Skill:  access  In:  content     anywhere access to the complete patient recor...\n",
            "Found Skill:  blue  In:  content     involved in preparing bots using blue prism t...\n",
            "Found Skill:  sql  In:  content     using sql and r. o market basket analysis usi...\n",
            "Found Skill:  python  In:  content     python (2 years)\n",
            "Found Skill:  python  In:  content     languages   technologies: python\n",
            "Found Skill:  sql  In:  content     sql\n",
            "Found Skill:  java  In:  content     java (preliminary).\n",
            "Found Skill:  matlab  In:  content     matlab\n",
            "Found Skill:  sql  In:  content     oracle sql developer\n",
            "Found Skill:  mysql  In:  content     mysql\n",
            "Found Skill:  excel  In:  content     excel\n",
            "Found Skill:  java  In:  content     testing and support.. software used: java\n",
            "Found Skill:  java  In:  content     on java server pages (jsp) and our aim was to...\n",
            "Found Skill:  flex  In:  content     completion of that we incorporated flex in to...\n",
            "Found Skill:  database  In:  content     from database is taken by the flex using a re...\n",
            "Found Skill:  java  In:  content     testing and support.. software used: java\n"
          ],
          "name": "stdout"
        },
        {
          "output_type": "stream",
          "text": [
            "\n",
            " 58%|█████▊    | 40380/69499 [00:43<00:32, 897.09it/s]\u001b[A\n",
            " 58%|█████▊    | 40471/69499 [00:43<00:32, 891.66it/s]\u001b[A\n",
            " 58%|█████▊    | 40561/69499 [00:43<00:32, 885.45it/s]\u001b[A"
          ],
          "name": "stderr"
        },
        {
          "output_type": "stream",
          "text": [
            "Found Skill:  flex  In:  content     front end/gui tools programming: adobe flex\n",
            "Found Skill:  java  In:  content     java developer.\n",
            "Found Skill:  java  In:  content     wrote services in java using data annotation ...\n",
            "Found Skill:  code  In:  content     using code generation tool.. .\n",
            "Found Skill:  junit  In:  content     used junit for testing services\n",
            "Found Skill:  java  In:  content     used java to write batches for fetching of bu...\n",
            "Found Skill:  java  In:  content     java (1 year)\n",
            "Found Skill:  css  In:  content     css (1 year)\n",
            "Found Skill:  html  In:  content     html (1 year)\n",
            "Found Skill:  mysql  In:  content     mysql (1 year)\n",
            "Found Skill:  javascript  In:  content     javascript (less than 1 year)\n",
            "Found Skill:  java  In:  content     java\n",
            "Found Skill:  java  In:  content     java servlet\n",
            "Found Skill:  html  In:  content     html\n",
            "Found Skill:  java  In:  content     java script\n",
            "Found Skill:  mysql  In:  content     mysql\n",
            "Found Skill:  css  In:  content     css\n",
            "Found Skill:  code  In:  content     code blocks\n",
            "Found Skill:  sql  In:  content     sql oracle -.\n",
            "Found Skill:  code  In:  content     code optimization.\n"
          ],
          "name": "stdout"
        },
        {
          "output_type": "stream",
          "text": [
            "\n",
            " 59%|█████▊    | 40659/69499 [00:43<00:31, 910.00it/s]\u001b[A\n",
            " 59%|█████▊    | 40751/69499 [00:43<00:31, 910.58it/s]\u001b[A"
          ],
          "name": "stderr"
        },
        {
          "output_type": "stream",
          "text": [
            "Found Skill:  small  In:  content     small leather goods\n",
            "Found Skill:  processing  In:  content     configuring and processing the business trans...\n",
            "Found Skill:  able  In:  content     adept multitasker able to deal a very high.\n",
            "Found Skill:  css  In:  content     css for quick find of availability alerts and...\n"
          ],
          "name": "stdout"
        },
        {
          "output_type": "stream",
          "text": [
            "\n",
            " 59%|█████▉    | 40844/69499 [00:43<00:31, 916.31it/s]\u001b[A\n",
            " 59%|█████▉    | 40947/69499 [00:43<00:30, 947.65it/s]\u001b[A"
          ],
          "name": "stderr"
        },
        {
          "output_type": "stream",
          "text": [
            "Found Skill:  .net  In:  content     trained in .net technology..\n",
            "Found Skill:  sql  In:  content     key skills - microsoft azure sql dw\n",
            "Found Skill:  sql  In:  content     sql server 2016\n",
            "Found Skill:  sql  In:  content     sql server 2014\n",
            "Found Skill:  .net  In:  content     .net app development.\n"
          ],
          "name": "stdout"
        },
        {
          "output_type": "stream",
          "text": [
            "\n",
            " 59%|█████▉    | 41045/69499 [00:43<00:29, 956.81it/s]\u001b[A\n",
            " 59%|█████▉    | 41145/69499 [00:44<00:29, 969.10it/s]\u001b[A\n",
            " 59%|█████▉    | 41243/69499 [00:44<00:29, 965.31it/s]\u001b[A"
          ],
          "name": "stderr"
        },
        {
          "output_type": "stream",
          "text": [
            "Found Skill:  sql  In:  content     sql server 2012.. methodologies - iterative\n",
            "Found Skill:  sql  In:  content     sql server pi\n",
            "Found Skill:  sql  In:  content     sql navigator.\n",
            "Found Skill:  java  In:  content     technologies: java\n",
            "Found Skill:  access  In:  content     su10..     control firefighter access in grc1...\n",
            "Found Skill:  access  In:  content     providing access in controlled environment.\n",
            "Found Skill:  access  In:  content     restrict table access through authorization g...\n",
            "Found Skill:  c++  In:  content     math and c++ for 4 years.. .\n",
            "Found Skill:  sql  In:  content     sql\n",
            "Found Skill:  c++  In:  content     c++\n",
            "Found Skill:  database  In:  content     quicksilver) database tool (sql\n"
          ],
          "name": "stdout"
        },
        {
          "output_type": "stream",
          "text": [
            "\n",
            " 59%|█████▉    | 41340/69499 [00:44<00:29, 940.14it/s]\u001b[A\n",
            " 60%|█████▉    | 41438/69499 [00:44<00:29, 951.08it/s]\u001b[A"
          ],
          "name": "stderr"
        },
        {
          "output_type": "stream",
          "text": [
            "Found Skill:  python  In:  content     experience in coding python\n",
            "Found Skill:  sql  In:  content     sql\n",
            "Found Skill:  xml  In:  content     and xml as per the requirement..     have kno...\n",
            "Found Skill:  code  In:  content     develop the code on the design in splunk..   ...\n",
            "Found Skill:  sql  In:  content     sql\n",
            "Found Skill:  python  In:  content     technologies: python coding\n",
            "Found Skill:  xml  In:  content     xml coding\n",
            "Found Skill:  sql  In:  content     sql query writing.\n",
            "Found Skill:  database  In:  content     database and infrastructure monitoring and al...\n",
            "Found Skill:  database  In:  content     database (3 years)\n",
            "Found Skill:  python  In:  content     python (3 years)\n",
            "Found Skill:  sql  In:  content     sql (3 years)\n",
            "Found Skill:  xml  In:  content     xml (3 years).\n",
            "Found Skill:  python  In:  content     programming languages: python\n",
            "Found Skill:  access  In:  content     ran (radio access network) engineer..     new...\n",
            "Found Skill:  verilog  In:  content     module coding and verification using verilog ...\n"
          ],
          "name": "stdout"
        },
        {
          "output_type": "stream",
          "text": [
            "\n",
            " 60%|█████▉    | 41536/69499 [00:44<00:29, 958.76it/s]\u001b[A\n",
            " 60%|█████▉    | 41636/69499 [00:44<00:28, 970.10it/s]\u001b[A"
          ],
          "name": "stderr"
        },
        {
          "output_type": "stream",
          "text": [
            "Found Skill:  verilog  In:  content     verilog hdl.\n",
            "Found Skill:  abap  In:  content     sap abap -  noida\n",
            "Found Skill:  abap  In:  content     sap abap 7.4 2.\n",
            "Found Skill:  excel  In:  content     uploading excel data using bdc.. 3.\n",
            "Found Skill:  self  In:  content     self motivated.\n",
            "Found Skill:  jira  In:  content     atlassian tools: jira\n",
            "Found Skill:  mysql  In:  content     mysql\n",
            "Found Skill:  python  In:  content     programming languages: python and java.\n",
            "Found Skill:  jira  In:  content     jira project management/administration..     ...\n",
            "Found Skill:  access  In:  content     streamlining tools access management with cro...\n"
          ],
          "name": "stdout"
        },
        {
          "output_type": "stream",
          "text": [
            "\n",
            " 60%|██████    | 41734/69499 [00:44<00:29, 945.50it/s]\u001b[A\n",
            " 60%|██████    | 41829/69499 [00:44<00:29, 937.68it/s]\u001b[A"
          ],
          "name": "stderr"
        },
        {
          "output_type": "stream",
          "text": [
            "Found Skill:  jira  In:  content     jira\n",
            "Found Skill:  python  In:  content     python\n",
            "Found Skill:  chef  In:  content     chef\n",
            "Found Skill:  powershell  In:  content     powershell scripting.\n",
            "Found Skill:  mouse  In:  content     etc on mouse and object events..\n",
            "Found Skill:  abap  In:  content     abap development of large scale erp packages..\n",
            "Found Skill:  html  In:  content     ecc environments also having experience in html\n",
            "Found Skill:  javascript  In:  content     javascript\n",
            "Found Skill:  xml  In:  content     xml\n",
            "Found Skill:  javascript  In:  content     javascript\n",
            "Found Skill:  excel  In:  content     worked on complex functionality like excel da...\n"
          ],
          "name": "stdout"
        },
        {
          "output_type": "stream",
          "text": [
            "\n",
            " 60%|██████    | 41923/69499 [00:44<00:30, 918.18it/s]\u001b[A\n",
            " 60%|██████    | 42019/69499 [00:44<00:29, 929.66it/s]\u001b[A"
          ],
          "name": "stderr"
        },
        {
          "output_type": "stream",
          "text": [
            "Found Skill:  excel  In:  content     excel link\n",
            "Found Skill:  abap  In:  content     sap abap (2 years).\n",
            "Found Skill:  c++  In:  content     c++\n",
            "Found Skill:  html  In:  content     html\n",
            "Found Skill:  css  In:  content     css\n",
            "Found Skill:  javascript  In:  content     javascript\n",
            "Found Skill:  php  In:  content     php\n",
            "Found Skill:  mysql  In:  content     database mysql\n",
            "Found Skill:  java  In:  content     core java\n",
            "Found Skill:  java  In:  content     core java\n",
            "Found Skill:  python  In:  content     experience in python scripting and pyats fram...\n"
          ],
          "name": "stdout"
        },
        {
          "output_type": "stream",
          "text": [
            "\n",
            " 61%|██████    | 42116/69499 [00:45<00:29, 939.82it/s]\u001b[A\n",
            " 61%|██████    | 42218/69499 [00:45<00:28, 961.53it/s]\u001b[A"
          ],
          "name": "stderr"
        },
        {
          "output_type": "stream",
          "text": [
            "Found Skill:  perl  In:  content     scripting language perl\n",
            "Found Skill:  tcl  In:  content     knowledge on tcl scripting and automated cust...\n",
            "Found Skill:  able  In:  content     also able to troubleshoot the script issues.. .\n",
            "Found Skill:  tcl  In:  content     tcl (4 years)\n",
            "Found Skill:  python  In:  content     python (2 years).\n",
            "Found Skill:  tcl  In:  content     automaton tools: tcl\n",
            "Found Skill:  python  In:  content    python\n",
            "Found Skill:  self  In:  content     like - oracle fusion supplier self service\n",
            "Found Skill:  clean  In:  content     global country wise clean up initiative focus...\n",
            "Found Skill:  self  In:  content     oracle fusion uat- supplier self service.\n",
            "Found Skill:  code  In:  content     withholding and tds code\n"
          ],
          "name": "stdout"
        },
        {
          "output_type": "stream",
          "text": [
            "\n",
            " 61%|██████    | 42315/69499 [00:45<00:28, 953.93it/s]\u001b[A\n",
            " 61%|██████    | 42414/69499 [00:45<00:28, 963.49it/s]\u001b[A\n",
            " 61%|██████    | 42511/69499 [00:45<00:29, 928.62it/s]\u001b[A"
          ],
          "name": "stderr"
        },
        {
          "output_type": "stream",
          "text": [
            "Found Skill:  sql  In:  content     possess sound knowledge of sql\n",
            "Found Skill:  jira  In:  content     jira\n",
            "Found Skill:  sql  In:  content     there i had been explored sql\n",
            "Found Skill:  sql  In:  content     sql server studio.\n",
            "Found Skill:  sql  In:  content     sql (oracle db)    .\n",
            "Found Skill:  .net  In:  content     .net    .\n",
            "Found Skill:  xml  In:  content     xml\n",
            "Found Skill:  sql  In:  content     databases sql server 2008/2005\n",
            "Found Skill:  database  In:  content     database connectivity odbc.\n",
            "Found Skill:  jira  In:  content    jira\n",
            "Found Skill:  sql  In:  content     sql developer\n"
          ],
          "name": "stdout"
        },
        {
          "output_type": "stream",
          "text": [
            "\n",
            " 61%|██████▏   | 42614/69499 [00:45<00:28, 956.62it/s]\u001b[A\n",
            " 61%|██████▏   | 42711/69499 [00:45<00:28, 949.08it/s]\u001b[A"
          ],
          "name": "stderr"
        },
        {
          "output_type": "stream",
          "text": [
            "Found Skill:  access  In:  content     internet access\n",
            "Found Skill:  database  In:  content     o performed database testing for one of the a...\n",
            "Found Skill:  jira  In:  content     jira\n",
            "Found Skill:  java  In:  content     java\n",
            "Found Skill:  sql  In:  content     sql\n",
            "Found Skill:  html  In:  content     html\n",
            "Found Skill:  excel  In:  content     excel\n",
            "Found Skill:  plus  In:  content     365 pro plus (outlook.\n",
            "Found Skill:  excel  In:  content     and other office tools such as excel\n",
            "Found Skill:  word  In:  content     word\n"
          ],
          "name": "stdout"
        },
        {
          "output_type": "stream",
          "text": [
            "\n",
            " 62%|██████▏   | 42809/69499 [00:45<00:27, 954.12it/s]\u001b[A\n",
            " 62%|██████▏   | 42905/69499 [00:45<00:28, 949.41it/s]\u001b[A\n",
            " 62%|██████▏   | 43005/69499 [00:46<00:27, 962.23it/s]\u001b[A"
          ],
          "name": "stderr"
        },
        {
          "output_type": "stream",
          "text": [
            "Found Skill:  sql  In:  content     sql\n",
            "Found Skill:  excel  In:  content     ms office tools: ms excel\n",
            "Found Skill:  word  In:  content     ms word\n",
            "Found Skill:  c++  In:  content     c++\n",
            "Found Skill:  .net  In:  content     .net application maintenance and do the code ...\n",
            "Found Skill:  .net  In:  content     .net\n",
            "Found Skill:  sql  In:  content     sql server\n",
            "Found Skill:  css  In:  content     css\n",
            "Found Skill:  html  In:  content     html     system backups.\n",
            "Found Skill:  sql  In:  content     sql server 2005\n",
            "Found Skill:  abap  In:  content     sap abap -  noida\n",
            "Found Skill:  abap  In:  content     sap abap -.\n"
          ],
          "name": "stdout"
        },
        {
          "output_type": "stream",
          "text": [
            "\n",
            " 62%|██████▏   | 43106/69499 [00:46<00:27, 972.75it/s]\u001b[A\n",
            " 62%|██████▏   | 43209/69499 [00:46<00:26, 988.27it/s]\u001b[A"
          ],
          "name": "stderr"
        },
        {
          "output_type": "stream",
          "text": [
            "Found Skill:  abap  In:  content     abap (2 years)\n",
            "Found Skill:  c++  In:  content     c++ (less than 1 year)\n",
            "Found Skill:  sql  In:  content     familiar with sql\n",
            "Found Skill:  sql  In:  content     creating sql scripts and deploying on the loc...\n",
            "Found Skill:  xml  In:  content     xml (3 years).\n",
            "Found Skill:  html  In:  content     programming   scripting languages: - html\n",
            "Found Skill:  css  In:  content     css\n",
            "Found Skill:  xml  In:  content     xml\n",
            "Found Skill:  sql  In:  content     sql\n",
            "Found Skill:  java  In:  content     java (basic)\n",
            "Found Skill:  lisa  In:  content     testing tools: - ca lisa\n",
            "Found Skill:  sql  In:  content     sql\n",
            "Found Skill:  database  In:  content     database\n",
            "Found Skill:  python  In:  content     worked with technologies like python\n",
            "Found Skill:  mysql  In:  content     mysql\n"
          ],
          "name": "stdout"
        },
        {
          "output_type": "stream",
          "text": [
            "\n",
            " 62%|██████▏   | 43308/69499 [00:46<00:28, 935.38it/s]\u001b[A\n",
            " 62%|██████▏   | 43403/69499 [00:46<00:27, 935.00it/s]\u001b[A"
          ],
          "name": "stderr"
        },
        {
          "output_type": "stream",
          "text": [
            "Found Skill:  python  In:  content     worked on various technologies such as python\n",
            "Found Skill:  java  In:  content     java\n",
            "Found Skill:  java  In:  content     java (3 years)\n",
            "Found Skill:  mysql  In:  content     mysql (3 years)\n",
            "Found Skill:  python  In:  content     python (6 years).\n",
            "Found Skill:  python  In:  content     python\n",
            "Found Skill:  java  In:  content     java\n",
            "Found Skill:  html  In:  content     html\n",
            "Found Skill:  mysql  In:  content     mysql\n",
            "Found Skill:  php  In:  content     languages used: php\n",
            "Found Skill:  mysql  In:  content     mysql\n",
            "Found Skill:  html  In:  content     html\n",
            "Found Skill:  css  In:  content     css\n",
            "Found Skill:  javascript  In:  content     javascript and jquery.. .\n",
            "Found Skill:  database  In:  content     constantly involved in querying the database ...\n",
            "Found Skill:  clean  In:  content     i am capable of building clean and responsive...\n",
            "Found Skill:  small  In:  content     and small business websites..     http://www....\n",
            "Found Skill:  small  In:  content     small map feature included which also support...\n",
            "Found Skill:  php  In:  content     php\n",
            "Found Skill:  javascript  In:  content     javascript\n",
            "Found Skill:  css  In:  content     css\n",
            "Found Skill:  java  In:  content     programming language: core java\n",
            "Found Skill:  php  In:  content     scripting languages: php\n",
            "Found Skill:  html  In:  content     web languages: html\n",
            "Found Skill:  database  In:  content     database language: sql..     frameworks: boot...\n",
            "Found Skill:  javascript  In:  content     project specific skills javascript\n",
            "Found Skill:  code  In:  content     code collaborator.\n"
          ],
          "name": "stdout"
        },
        {
          "output_type": "stream",
          "text": [
            "\n",
            " 63%|██████▎   | 43497/69499 [00:46<00:28, 906.92it/s]\u001b[A\n",
            " 63%|██████▎   | 43589/69499 [00:46<00:29, 887.17it/s]\u001b[A"
          ],
          "name": "stderr"
        },
        {
          "output_type": "stream",
          "text": [
            "Found Skill:  html  In:  content     the ui supports html 5 features..\n",
            "Found Skill:  javascript  In:  content     project specific skills javascript\n",
            "Found Skill:  css  In:  content     css\n",
            "Found Skill:  javascript  In:  content     project specific skills javascript\n",
            "Found Skill:  css  In:  content     css\n",
            "Found Skill:  javascript  In:  content     scripting languages: javascript\n",
            "Found Skill:  code  In:  content     code collaborator\n",
            "Found Skill:  html  In:  content     web designing tools: html 4\n",
            "Found Skill:  html  In:  content     html 5\n",
            "Found Skill:  css  In:  content     css 3\n",
            "Found Skill:  java  In:  content     java\n",
            "Found Skill:  html  In:  content     html\n",
            "Found Skill:  sql  In:  content     sql\n",
            "Found Skill:  c++  In:  content     c++\n",
            "Found Skill:  access  In:  content     tags and providing svn user access to all dev...\n",
            "Found Skill:  chef  In:  content     chef kitchen\n",
            "Found Skill:  code  In:  content     code on svn server.\n",
            "Found Skill:  database  In:  content     oracle database\n"
          ],
          "name": "stdout"
        },
        {
          "output_type": "stream",
          "text": [
            "\n",
            " 63%|██████▎   | 43679/69499 [00:46<00:29, 875.07it/s]\u001b[A\n",
            " 63%|██████▎   | 43775/69499 [00:46<00:28, 896.50it/s]\u001b[A\n",
            " 63%|██████▎   | 43871/69499 [00:46<00:28, 911.65it/s]\u001b[A"
          ],
          "name": "stderr"
        },
        {
          "output_type": "stream",
          "text": [
            "Found Skill:  maven  In:  content     maven 3. .\n",
            "Found Skill:  red  In:  content     red hat linux 5. .\n",
            "Found Skill:  maven  In:  content     environment : maven\n",
            "Found Skill:  chef  In:  content     chef\n",
            "Found Skill:  java  In:  content     application is based on java technology.\n",
            "Found Skill:  code  In:  content     code from development team and have to build ...\n",
            "Found Skill:  maven  In:  content     environment: maven\n",
            "Found Skill:  java  In:  content     this application is based on java technology....\n",
            "Found Skill:  code  In:  content     have to build and deploy the code later have ...\n",
            "Found Skill:  java  In:  content     executing java applications build and deploym...\n",
            "Found Skill:  jira  In:  content     jira\n",
            "Found Skill:  maven  In:  content     environment: maven\n",
            "Found Skill:  java  In:  content     this application is based on java technology.\n",
            "Found Skill:  code  In:  content     collect code from development team and have t...\n"
          ],
          "name": "stdout"
        },
        {
          "output_type": "stream",
          "text": [
            "\n",
            " 63%|██████▎   | 43963/69499 [00:47<00:28, 903.20it/s]\u001b[A\n",
            " 63%|██████▎   | 44054/69499 [00:47<00:28, 903.65it/s]\u001b[A"
          ],
          "name": "stderr"
        },
        {
          "output_type": "stream",
          "text": [
            "Found Skill:  java  In:  content     java\n",
            "Found Skill:  jira  In:  content     jira\n",
            "Found Skill:  access  In:  content     tags and providing svn user access to all dev...\n",
            "Found Skill:  chef  In:  content     chef kitchen\n",
            "Found Skill:  code  In:  content     code on svn server.\n",
            "Found Skill:  database  In:  content     oracle database\n",
            "Found Skill:  chef  In:  content     chef (1 year)\n",
            "Found Skill:  maven  In:  content     maven\n",
            "Found Skill:  red  In:  content     red hat linux 5.\n",
            "Found Skill:  database  In:  content     database oracle 11g.\n",
            "Found Skill:  chef  In:  content     configuration tools chef\n",
            "Found Skill:  python  In:  content     perform automation through python and batch s...\n",
            "Found Skill:  c++  In:  content     c++ (less than 1 year)\n",
            "Found Skill:  python  In:  content     python\n",
            "Found Skill:  java  In:  content     languages: java\n",
            "Found Skill:  c++  In:  content     c++\n",
            "Found Skill:  python  In:  content     python\n",
            "Found Skill:  dynamo  In:  content     dynamo db..     utilized cloud watch to monit...\n",
            "Found Skill:  code  In:  content     history of code and helping the developers in...\n"
          ],
          "name": "stdout"
        },
        {
          "output_type": "stream",
          "text": [
            "\n",
            " 64%|██████▎   | 44148/69499 [00:47<00:27, 911.84it/s]\u001b[A\n",
            " 64%|██████▎   | 44246/69499 [00:47<00:27, 931.26it/s]\u001b[A"
          ],
          "name": "stderr"
        },
        {
          "output_type": "stream",
          "text": [
            "Found Skill:  maven  In:  content     maven\n",
            "Found Skill:  jira  In:  content     jira\n",
            "Found Skill:  database  In:  content     application and implementation of database ma...\n",
            "Found Skill:  maven  In:  content     maven\n",
            "Found Skill:  excel  In:  content     ms excel (2 years)\n",
            "Found Skill:  word  In:  content     ms word (2 years)\n"
          ],
          "name": "stdout"
        },
        {
          "output_type": "stream",
          "text": [
            "\n",
            " 64%|██████▍   | 44340/69499 [00:47<00:27, 912.34it/s]\u001b[A\n",
            " 64%|██████▍   | 44440/69499 [00:47<00:26, 933.46it/s]\u001b[A"
          ],
          "name": "stderr"
        },
        {
          "output_type": "stream",
          "text": [
            "Found Skill:  excel  In:  content     advanced excel\n",
            "Found Skill:  pike  In:  content     pike international\n",
            "Found Skill:  focus  In:  content     issues between various systems with focus on ...\n",
            "Found Skill:  sql  In:  content     sql\n",
            "Found Skill:  pl/sql  In:  content     pl/sql\n",
            "Found Skill:  html  In:  content     html\n",
            "Found Skill:  xml  In:  content     xml\n",
            "Found Skill:  java  In:  content     java\n"
          ],
          "name": "stdout"
        },
        {
          "output_type": "stream",
          "text": [
            "\n",
            " 64%|██████▍   | 44541/69499 [00:47<00:26, 953.71it/s]\u001b[A\n",
            " 64%|██████▍   | 44637/69499 [00:47<00:26, 932.10it/s]\u001b[A\n",
            " 64%|██████▍   | 44731/69499 [00:47<00:26, 928.29it/s]\u001b[A"
          ],
          "name": "stderr"
        },
        {
          "output_type": "stream",
          "text": [
            "Found Skill:  code  In:  content     being implemented in the code base and execut...\n",
            "Found Skill:  database  In:  content     database (less than 1 year)\n",
            "Found Skill:  java  In:  content     java (less than.\n",
            "Found Skill:  sql  In:  content     sql (less than 1 year)\n",
            "Found Skill:  database  In:  content     database mysql.\n",
            "Found Skill:  blue  In:  content     prepared blue print of the new warehouse faci...\n",
            "Found Skill:  gap  In:  content     gap analysis and design   finalization of.\n",
            "Found Skill:  abap  In:  content     consultant / abap consultant.\n"
          ],
          "name": "stdout"
        },
        {
          "output_type": "stream",
          "text": [
            "\n",
            " 64%|██████▍   | 44825/69499 [00:48<00:26, 923.44it/s]\u001b[A\n",
            " 65%|██████▍   | 44926/69499 [00:48<00:25, 946.86it/s]\u001b[A"
          ],
          "name": "stderr"
        },
        {
          "output_type": "stream",
          "text": [
            "Found Skill:  sql  In:  content     computing languages: sql\n",
            "Found Skill:  html  In:  content     html\n",
            "Found Skill:  php  In:  content     php\n",
            "Found Skill:  flavors  In:  content     linux - various flavors and distributions (re...\n",
            "Found Skill:  sql  In:  content     microsoft sql       r2.\n",
            "Found Skill:  access  In:  content     management gateway and unified access gateway...\n",
            "Found Skill:  java  In:  content     java developer/senior systems engineer - info...\n",
            "Found Skill:  java  In:  content     of experience in development using java techn...\n",
            "Found Skill:  java  In:  content     java developer/senior systems engineer.\n"
          ],
          "name": "stdout"
        },
        {
          "output_type": "stream",
          "text": [
            "\n",
            " 65%|██████▍   | 45021/69499 [00:48<00:26, 930.50it/s]\u001b[A\n",
            " 65%|██████▍   | 45115/69499 [00:48<00:26, 906.65it/s]\u001b[A"
          ],
          "name": "stderr"
        },
        {
          "output_type": "stream",
          "text": [
            "Found Skill:  java  In:  content     aqc is a java enterprise web based applicatio...\n",
            "Found Skill:  code  In:  content     deploying code over different servers\n",
            "Found Skill:  code  In:  content     finding defects and giving code fixes in.\n",
            "Found Skill:  java  In:  content     java intern.\n",
            "Found Skill:  java  In:  content     experience in core java\n",
            "Found Skill:  sql  In:  content     sql server\n",
            "Found Skill:  java  In:  content     core java\n",
            "Found Skill:  sql  In:  content     database: sql server 2008.\n",
            "Found Skill:  abap  In:  content     sap abap -  kolkata\n",
            "Found Skill:  abap  In:  content     sap abap -  kolkata\n",
            "Found Skill:  abap  In:  content     sap abap -.\n",
            "Found Skill:  abap  In:  content     sap abap -  kolkata\n",
            "Found Skill:  abap  In:  content     sap abap -  kolkata\n",
            "Found Skill:  abap  In:  content     sap abap -  kolkata\n",
            "Found Skill:  abap  In:  content     sap abap -  bengaluru\n",
            "Found Skill:  abap  In:  content     sap abap -  kolkata\n",
            "Found Skill:  abap  In:  content     sap abap -  kolkata\n",
            "Found Skill:  abap  In:  content     sap abap -  kolkata\n"
          ],
          "name": "stdout"
        },
        {
          "output_type": "stream",
          "text": [
            "\n",
            " 65%|██████▌   | 45206/69499 [00:48<00:26, 901.54it/s]\u001b[A\n",
            " 65%|██████▌   | 45302/69499 [00:48<00:26, 915.87it/s]\u001b[A"
          ],
          "name": "stderr"
        },
        {
          "output_type": "stream",
          "text": [
            "Found Skill:  max  In:  content     client: max life insurance.\n",
            "Found Skill:  scheme  In:  content     the pmjjby scheme is.\n",
            "Found Skill:  scheme  In:  content     main administrator within the scheme could be...\n",
            "Found Skill:  java  In:  content     expertise in the areas of core java\n",
            "Found Skill:  sql  In:  content     expertise in pl sql programming and oracle ap...\n",
            "Found Skill:  processing  In:  content     processing\n",
            "Found Skill:  java  In:  content     implementation of modules using core java apis\n",
            "Found Skill:  java  In:  content     java collection\n",
            "Found Skill:  xml  In:  content     xml technologies and.\n",
            "Found Skill:  database  In:  content     utilize oracle as back-end database and toad ...\n",
            "Found Skill:  maven  In:  content     used maven build scripts to create and deploy...\n",
            "Found Skill:  code  In:  content     code reviews and independent unit testing for...\n",
            "Found Skill:  code  In:  content     manage code release deployment into development\n",
            "Found Skill:  maven  In:  content     maven\n",
            "Found Skill:  java  In:  content     core java\n"
          ],
          "name": "stdout"
        },
        {
          "output_type": "stream",
          "text": [
            "\n",
            " 65%|██████▌   | 45394/69499 [00:48<00:26, 896.33it/s]\u001b[A\n",
            " 65%|██████▌   | 45484/69499 [00:48<00:27, 883.80it/s]\u001b[A\n",
            " 66%|██████▌   | 45573/69499 [00:48<00:27, 877.04it/s]\u001b[A"
          ],
          "name": "stderr"
        },
        {
          "output_type": "stream",
          "text": [
            "Found Skill:  java  In:  content     developed required back java components..    ...\n",
            "Found Skill:  xml  In:  content     xml\n",
            "Found Skill:  maven  In:  content     maven\n",
            "Found Skill:  code  In:  content     develop code using knowledge of relevant tech...\n",
            "Found Skill:  self  In:  content     perform testing - self and independent (funct...\n",
            "Found Skill:  java  In:  content     technologies: java 1.5\n",
            "Found Skill:  xml  In:  content     xml\n",
            "Found Skill:  pl/sql  In:  content     implemented the pl/sql based on the requireme...\n",
            "Found Skill:  pl/sql  In:  content     technologies: pl/sql\n",
            "Found Skill:  sql  In:  content     technologies: sql server\n",
            "Found Skill:  unity  In:  content     project: arrow unity (sales work bench).\n",
            "Found Skill:  database  In:  content     and views for backend database access..     u...\n",
            "Found Skill:  java  In:  content     java (3 years)\n",
            "Found Skill:  java  In:  content     languages java\n",
            "Found Skill:  java  In:  content     java script\n",
            "Found Skill:  pl/sql  In:  content     pl/sql\n",
            "Found Skill:  sql  In:  content     sql server\n",
            "Found Skill:  html  In:  content     html\n",
            "Found Skill:  xml  In:  content     xml\n",
            "Found Skill:  sql  In:  content     sql server.\n",
            "Found Skill:  xml  In:  content     xml\n",
            "Found Skill:  java  In:  content     java/j2eetechnologies java\n"
          ],
          "name": "stdout"
        },
        {
          "output_type": "stream",
          "text": [
            "\n",
            " 66%|██████▌   | 45668/69499 [00:48<00:26, 897.41it/s]\u001b[A\n",
            " 66%|██████▌   | 45775/69499 [00:49<00:25, 942.64it/s]\u001b[A\n",
            " 66%|██████▌   | 45875/69499 [00:49<00:24, 956.63it/s]\u001b[A\n",
            " 66%|██████▌   | 45975/69499 [00:49<00:24, 966.40it/s]\u001b[A"
          ],
          "name": "stderr"
        },
        {
          "output_type": "stream",
          "text": [
            "Found Skill:  processing  In:  content     responsible for processing vendor invoices.\n",
            "Found Skill:  cobol  In:  content     cobol (4 years)\n",
            "Found Skill:  cics  In:  content     cics (4. years)\n",
            "Found Skill:  rexx  In:  content     rexx (4 years).\n",
            "Found Skill:  ispf  In:  content     tools: ispf\n",
            "Found Skill:  sql  In:  content     sql server.\n",
            "Found Skill:  java  In:  content     secondary skills: java script\n",
            "Found Skill:  html  In:  content     html\n",
            "Found Skill:  java  In:  content     java\n",
            "Found Skill:  access  In:  content     mpls or at access level post migration activi...\n",
            "Found Skill:  focus  In:  content     focus on customer requirements and providing ...\n"
          ],
          "name": "stdout"
        },
        {
          "output_type": "stream",
          "text": [
            "\n",
            " 66%|██████▋   | 46076/69499 [00:49<00:23, 978.32it/s]\u001b[A\n",
            " 66%|██████▋   | 46187/69499 [00:49<00:23, 1012.31it/s]\u001b[A\n",
            " 67%|██████▋   | 46294/69499 [00:49<00:22, 1026.57it/s]\u001b[A"
          ],
          "name": "stderr"
        },
        {
          "output_type": "stream",
          "text": [
            "Found Skill:  access  In:  content     clusterxl etc..     asa firewall: access cont...\n",
            "Found Skill:  access  In:  content     access all their accounts\n"
          ],
          "name": "stdout"
        },
        {
          "output_type": "stream",
          "text": [
            "\n",
            " 67%|██████▋   | 46398/69499 [00:49<00:22, 1011.87it/s]\u001b[A\n",
            " 67%|██████▋   | 46500/69499 [00:49<00:24, 954.75it/s] \u001b[A"
          ],
          "name": "stderr"
        },
        {
          "output_type": "stream",
          "text": [
            "Found Skill:  abap  In:  content     knowledge of abap debugging\n",
            "Found Skill:  abap  In:  content     basic abap (tables\n",
            "Found Skill:  abap  In:  content     sap abap consultant.\n",
            "Found Skill:  abap  In:  content     sap abap consultant.\n",
            "Found Skill:  abap  In:  content     sap abap -  badi\n",
            "Found Skill:  rapid  In:  content     company has witnessed rapid expansion that ha...\n",
            "Found Skill:  excel  In:  content     developed a class to download multi excel she...\n",
            "Found Skill:  abap  In:  content     sap abap -.\n",
            "Found Skill:  abap  In:  content     sap abap -.\n",
            "Found Skill:  abap  In:  content     sap abap -  bangalore\n"
          ],
          "name": "stdout"
        },
        {
          "output_type": "stream",
          "text": [
            "\n",
            " 67%|██████▋   | 46597/69499 [00:49<00:24, 921.77it/s]\u001b[A\n",
            " 67%|██████▋   | 46691/69499 [00:49<00:24, 919.70it/s]\u001b[A"
          ],
          "name": "stderr"
        },
        {
          "output_type": "stream",
          "text": [
            "Found Skill:  abap  In:  content     sap abap -.\n",
            "Found Skill:  abap  In:  content     sap abap -  marmagao\n",
            "Found Skill:  abap  In:  content     sap abap consultant.\n",
            "Found Skill:  database  In:  content     customers and updates the database as  bc .\n",
            "Found Skill:  abap  In:  content     worked on abap workflow.\n"
          ],
          "name": "stdout"
        },
        {
          "output_type": "stream",
          "text": [
            "\n",
            " 67%|██████▋   | 46784/69499 [00:50<00:24, 912.10it/s]\u001b[A\n",
            " 67%|██████▋   | 46876/69499 [00:50<00:25, 902.41it/s]\u001b[A"
          ],
          "name": "stderr"
        },
        {
          "output_type": "stream",
          "text": [
            "Found Skill:  html  In:  content     web technologies: html (5)\n",
            "Found Skill:  css  In:  content     css (3).\n",
            "Found Skill:  java  In:  content     java\n",
            "Found Skill:  java  In:  content     features   is also expandable.. - used java\n",
            "Found Skill:  java  In:  content     criteria.. - used java\n",
            "Found Skill:  html  In:  content     html (less than 1 year)\n",
            "Found Skill:  php  In:  content     php (less than.\n",
            "Found Skill:  sql  In:  content     sql (less than 1 year)\n",
            "Found Skill:  java  In:  content     java (less than 1 year)\n",
            "Found Skill:  c++  In:  content     c++\n",
            "Found Skill:  database  In:  content     database management (less than 1 year).\n",
            "Found Skill:  java  In:  content     java\n",
            "Found Skill:  java  In:  content     criteria.. - used java\n",
            "Found Skill:  sql  In:  content     sql\n",
            "Found Skill:  java  In:  content     core java\n",
            "Found Skill:  php  In:  content     * web development - php\n",
            "Found Skill:  code  In:  content     integrated code quality\n",
            "Found Skill:  code  In:  content     code coverage\n",
            "Found Skill:  powershell  In:  content     develop powershell scripts to upload artifact...\n"
          ],
          "name": "stdout"
        },
        {
          "output_type": "stream",
          "text": [
            "\n",
            " 68%|██████▊   | 46967/69499 [00:50<00:25, 895.33it/s]\u001b[A\n",
            " 68%|██████▊   | 47059/69499 [00:50<00:24, 901.37it/s]\u001b[A"
          ],
          "name": "stderr"
        },
        {
          "output_type": "stream",
          "text": [
            "Found Skill:  maven  In:  content     maven\n",
            "Found Skill:  jira  In:  content     jira\n",
            "Found Skill:  powershell  In:  content     scripting language powershell scripting\n",
            "Found Skill:  sql  In:  content     sql server.\n",
            "Found Skill:  maven  In:  content     build tools maven\n",
            "Found Skill:  jira  In:  content     jira\n",
            "Found Skill:  java  In:  content     java\n",
            "Found Skill:  c++  In:  content     attended a three-day workshop on c and c++ pr...\n",
            "Found Skill:  java  In:  content     attended a one-day workshop on java and hardw...\n",
            "Found Skill:  spark  In:  content     attended spark training program in infosys my...\n"
          ],
          "name": "stdout"
        },
        {
          "output_type": "stream",
          "text": [
            "\n",
            " 68%|██████▊   | 47151/69499 [00:50<00:24, 905.38it/s]\u001b[A\n",
            " 68%|██████▊   | 47242/69499 [00:50<00:24, 901.10it/s]\u001b[A"
          ],
          "name": "stderr"
        },
        {
          "output_type": "stream",
          "text": [
            "Found Skill:  sql  In:  content     oracle sql\n",
            "Found Skill:  code  In:  content     creation of input   output tax code\n",
            "Found Skill:  word  In:  content     tally..     office productivity: microsoft word\n",
            "Found Skill:  excel  In:  content     excel\n",
            "Found Skill:  java  In:  content     finished diploma in java course from niit.\n",
            "Found Skill:  java  In:  content     java (6 years)\n",
            "Found Skill:  abap  In:  content     abap (less than 1 year)\n",
            "Found Skill:  access  In:  content     access (less than 1. year).\n"
          ],
          "name": "stdout"
        },
        {
          "output_type": "stream",
          "text": [
            "\n",
            " 68%|██████▊   | 47333/69499 [00:50<00:25, 878.37it/s]\u001b[A\n",
            " 68%|██████▊   | 47422/69499 [00:50<00:25, 861.23it/s]\u001b[A"
          ],
          "name": "stderr"
        },
        {
          "output_type": "stream",
          "text": [
            "Found Skill:  database  In:  content     database administration.\n",
            "Found Skill:  database  In:  content     database administration on oracle 10 g\n",
            "Found Skill:  database  In:  content     monitoring   perform database backup at db13 ...\n",
            "Found Skill:  database  In:  content     12 c... sap hana database administration.\n",
            "Found Skill:  c++  In:  content     c++\n",
            "Found Skill:  java  In:  content     core java\n",
            "Found Skill:  java  In:  content     monitoring and troubleshooting java systems u...\n",
            "Found Skill:  database  In:  content     database cluster administration..     system ...\n",
            "Found Skill:  database  In:  content     creation database source in java systems..\n",
            "Found Skill:  abap  In:  content     bw abap 7.31.\n",
            "Found Skill:  java  In:  content     monitoring and troubleshooting java systems u...\n",
            "Found Skill:  database  In:  content     database administration using brtools..     k...\n",
            "Found Skill:  abap  In:  content     bw abap 7.31\n"
          ],
          "name": "stdout"
        },
        {
          "output_type": "stream",
          "text": [
            "\n",
            " 68%|██████▊   | 47511/69499 [00:50<00:25, 869.01it/s]\u001b[A\n",
            " 68%|██████▊   | 47601/69499 [00:51<00:24, 877.67it/s]\u001b[A"
          ],
          "name": "stderr"
        },
        {
          "output_type": "stream",
          "text": [
            "Found Skill:  sql  In:  content     sql and hp storage servers.. * participate in...\n",
            "Found Skill:  processing  In:  content     processing units (cpus)\n",
            "Found Skill:  genie  In:  content     test tool: genie (target testing   signal logs).\n",
            "Found Skill:  java  In:  content     java application\n"
          ],
          "name": "stdout"
        },
        {
          "output_type": "stream",
          "text": [
            "\n",
            " 69%|██████▊   | 47690/69499 [00:51<00:24, 881.05it/s]\u001b[A\n",
            " 69%|██████▉   | 47789/69499 [00:51<00:23, 911.10it/s]\u001b[A\n",
            " 69%|██████▉   | 47887/69499 [00:51<00:23, 929.64it/s]\u001b[A"
          ],
          "name": "stderr"
        },
        {
          "output_type": "stream",
          "text": [
            "Found Skill:  tea  In:  content     jivraj tea limited -  mumbai\n",
            "Found Skill:  chain  In:  content     negotiation tot with local chain   stand alon...\n",
            "Found Skill:  chain  In:  content     with modern trade / local chain   stand alone...\n",
            "Found Skill:  scheme  In:  content     handled distributors   scheme distribution.. .\n"
          ],
          "name": "stdout"
        },
        {
          "output_type": "stream",
          "text": [
            "\n",
            " 69%|██████▉   | 47981/69499 [00:51<00:23, 932.43it/s]\u001b[A\n",
            " 69%|██████▉   | 48085/69499 [00:51<00:22, 960.40it/s]\u001b[A"
          ],
          "name": "stderr"
        },
        {
          "output_type": "stream",
          "text": [
            "Found Skill:  pure  In:  content     led the first stand-alone pure cloud bi deal ...\n",
            "Found Skill:  sas  In:  content     secured the first sas implementation deal in ...\n",
            "Found Skill:  self  In:  content     self employed own.\n"
          ],
          "name": "stdout"
        },
        {
          "output_type": "stream",
          "text": [
            "\n",
            " 69%|██████▉   | 48182/69499 [00:51<00:22, 956.32it/s]\u001b[A\n",
            " 69%|██████▉   | 48286/69499 [00:51<00:21, 978.32it/s]\u001b[A"
          ],
          "name": "stderr"
        },
        {
          "output_type": "stream",
          "text": [
            "Found Skill:  clean  In:  content     clean and maintain work areas as directed.\n",
            "Found Skill:  self  In:  content     initiative   self - driven.\n",
            "Found Skill:  able  In:  content     versatile and able to work under pressure.\n",
            "Found Skill:  processing  In:  content     knowledge of plastic processing equipment   a...\n",
            "Found Skill:  excel  In:  content     excel\n",
            "Found Skill:  tie  In:  content     tie up companies..     to deal in transaction...\n"
          ],
          "name": "stdout"
        },
        {
          "output_type": "stream",
          "text": [
            "\n",
            " 70%|██████▉   | 48385/69499 [00:51<00:22, 943.38it/s]\u001b[A\n",
            " 70%|██████▉   | 48490/69499 [00:51<00:21, 972.59it/s]\u001b[A\n",
            " 70%|██████▉   | 48593/69499 [00:52<00:21, 987.15it/s]\u001b[A\n",
            " 70%|███████   | 48695/69499 [00:52<00:20, 993.99it/s]\u001b[A\n",
            " 70%|███████   | 48795/69499 [00:52<00:21, 980.64it/s]\u001b[A"
          ],
          "name": "stderr"
        },
        {
          "output_type": "stream",
          "text": [
            "Found Skill:  small  In:  content     have a. very small time.\n",
            "Found Skill:  processing  In:  content     automation for order processing\n",
            "Found Skill:  excel  In:  content     excel (less than 1 year)\n",
            "Found Skill:  excel  In:  content     ms excel (less than 1 year)\n"
          ],
          "name": "stdout"
        },
        {
          "output_type": "stream",
          "text": [
            "\n",
            " 70%|███████   | 48894/69499 [00:52<00:21, 972.13it/s]\u001b[A\n",
            " 71%|███████   | 48999/69499 [00:52<00:20, 992.97it/s]\u001b[A\n",
            " 71%|███████   | 49107/69499 [00:52<00:20, 1015.46it/s]\u001b[A\n",
            " 71%|███████   | 49209/69499 [00:52<00:20, 997.21it/s] \u001b[A"
          ],
          "name": "stderr"
        },
        {
          "output_type": "stream",
          "text": [
            "Found Skill:  plus  In:  content     plus produce fulfillment.\n",
            "Found Skill:  focus  In:  content     focus to be make maximum cabs to be on road..\n",
            "Found Skill:  able  In:  content     train fc effectively and make them able to un...\n",
            "Found Skill:  chain  In:  content     coordinated with branch supply chain manageme...\n",
            "Found Skill:  scratch  In:  content     establishing new stores from scratch through ...\n"
          ],
          "name": "stdout"
        },
        {
          "output_type": "stream",
          "text": [
            "\n",
            " 71%|███████   | 49312/69499 [00:52<00:20, 1004.69it/s]\u001b[A\n",
            " 71%|███████   | 49413/69499 [00:52<00:20, 981.59it/s] \u001b[A\n",
            " 71%|███████   | 49514/69499 [00:52<00:20, 988.82it/s]\u001b[A"
          ],
          "name": "stderr"
        },
        {
          "output_type": "stream",
          "text": [
            "Found Skill:  excel  In:  content     excel and win.\n",
            "Found Skill:  code  In:  content     provide cost centre   project code spend repo...\n",
            "Found Skill:  processing  In:  content     invoice processing time from 12 mins to 5 min...\n",
            "Found Skill:  chain  In:  content     supply chain finance\n"
          ],
          "name": "stdout"
        },
        {
          "output_type": "stream",
          "text": [
            "\n",
            " 71%|███████▏  | 49614/69499 [00:53<00:20, 974.40it/s]\u001b[A\n",
            " 72%|███████▏  | 49713/69499 [00:53<00:20, 978.56it/s]\u001b[A"
          ],
          "name": "stderr"
        },
        {
          "output_type": "stream",
          "text": [
            "Found Skill:  gap  In:  content     forecast and gap analysis..     igaap / ifrs ...\n"
          ],
          "name": "stdout"
        },
        {
          "output_type": "stream",
          "text": [
            "\n",
            " 72%|███████▏  | 49812/69499 [00:53<00:20, 980.67it/s]\u001b[A\n",
            " 72%|███████▏  | 49920/69499 [00:53<00:19, 1006.79it/s]\u001b[A"
          ],
          "name": "stderr"
        },
        {
          "output_type": "stream",
          "text": [
            "Found Skill:  word  In:  content     word\n"
          ],
          "name": "stdout"
        },
        {
          "output_type": "stream",
          "text": [
            "\n",
            " 72%|███████▏  | 50021/69499 [00:53<00:19, 980.77it/s] \u001b[A\n",
            " 72%|███████▏  | 50129/69499 [00:53<00:19, 1008.10it/s]\u001b[A"
          ],
          "name": "stderr"
        },
        {
          "output_type": "stream",
          "text": [
            "Found Skill:  scratch  In:  content     built the team from scratch   developed the team\n"
          ],
          "name": "stdout"
        },
        {
          "output_type": "stream",
          "text": [
            "\n",
            " 72%|███████▏  | 50233/69499 [00:53<00:18, 1016.90it/s]\u001b[A\n",
            " 72%|███████▏  | 50335/69499 [00:53<00:18, 1010.35it/s]\u001b[A"
          ],
          "name": "stderr"
        },
        {
          "output_type": "stream",
          "text": [
            "Found Skill:  tie  In:  content     tie up companies..     to deal in transaction...\n"
          ],
          "name": "stdout"
        },
        {
          "output_type": "stream",
          "text": [
            "\n",
            " 73%|███████▎  | 50437/69499 [00:53<00:19, 965.08it/s] \u001b[A\n",
            " 73%|███████▎  | 50535/69499 [00:54<00:19, 949.36it/s]\u001b[A\n",
            " 73%|███████▎  | 50631/69499 [00:54<00:19, 951.78it/s]\u001b[A"
          ],
          "name": "stderr"
        },
        {
          "output_type": "stream",
          "text": [
            "Found Skill:  scratch  In:  content     scratch (2008 - 2010).\n"
          ],
          "name": "stdout"
        },
        {
          "output_type": "stream",
          "text": [
            "\n",
            " 73%|███████▎  | 50736/69499 [00:54<00:19, 979.03it/s]\u001b[A\n",
            " 73%|███████▎  | 50837/69499 [00:54<00:18, 984.87it/s]\u001b[A\n",
            " 73%|███████▎  | 50939/69499 [00:54<00:18, 994.10it/s]\u001b[A"
          ],
          "name": "stderr"
        },
        {
          "output_type": "stream",
          "text": [
            "Found Skill:  database  In:  content     database and advertisements.. .\n",
            "Found Skill:  excel  In:  content     excel in both independent and collaborative w...\n"
          ],
          "name": "stdout"
        },
        {
          "output_type": "stream",
          "text": [
            "\n",
            " 73%|███████▎  | 51042/69499 [00:54<00:18, 1002.06it/s]\u001b[A\n",
            " 74%|███████▎  | 51143/69499 [00:54<00:18, 990.38it/s] \u001b[A\n",
            " 74%|███████▎  | 51248/69499 [00:54<00:18, 1005.60it/s]\u001b[A"
          ],
          "name": "stderr"
        },
        {
          "output_type": "stream",
          "text": [
            "Found Skill:  metal  In:  content     ink industry and metal working fluid industry..\n",
            "Found Skill:  metal  In:  content     metal working fluid industry..\n"
          ],
          "name": "stdout"
        },
        {
          "output_type": "stream",
          "text": [
            "\n",
            " 74%|███████▍  | 51349/69499 [00:54<00:18, 979.38it/s] \u001b[A\n",
            " 74%|███████▍  | 51448/69499 [00:54<00:18, 962.69it/s]\u001b[A\n",
            " 74%|███████▍  | 51548/69499 [00:55<00:18, 971.89it/s]\u001b[A"
          ],
          "name": "stderr"
        },
        {
          "output_type": "stream",
          "text": [
            "Found Skill:  chain  In:  content     housing and supply chain solution.\n",
            "Found Skill:  focus  In:  content     focus on core competencies.\n",
            "Found Skill:  excel  In:  content     excel (less than 1 year)\n",
            "Found Skill:  word  In:  content     ms word (less than 1 year)\n",
            "Found Skill:  word  In:  content     word (less than 1 year).\n",
            "Found Skill:  word  In:  content     applications ms word\n",
            "Found Skill:  excel  In:  content     excel\n",
            "Found Skill:  focus  In:  content     tax invoicing in focus   busy software..     ...\n",
            "Found Skill:  excel  In:  content     excel (3 years)\n",
            "Found Skill:  html  In:  content     html (less than 1 year)\n",
            "Found Skill:  excel  In:  content     excel\n"
          ],
          "name": "stdout"
        },
        {
          "output_type": "stream",
          "text": [
            "\n",
            " 74%|███████▍  | 51646/69499 [00:55<00:18, 966.55it/s]\u001b[A\n",
            " 74%|███████▍  | 51744/69499 [00:55<00:18, 969.33it/s]\u001b[A"
          ],
          "name": "stderr"
        },
        {
          "output_type": "stream",
          "text": [
            "Found Skill:  pure  In:  content     pure gold jewelers -.\n",
            "Found Skill:  pilot  In:  content     active participation in pilot batch during th...\n",
            "Found Skill:  pilot  In:  content     active participation in pilot batch during th...\n",
            "Found Skill:  processing  In:  content     processing data of visa   mastercard.\n"
          ],
          "name": "stdout"
        },
        {
          "output_type": "stream",
          "text": [
            "\n",
            " 75%|███████▍  | 51842/69499 [00:55<00:18, 953.71it/s]\u001b[A\n",
            " 75%|███████▍  | 51938/69499 [00:55<00:18, 945.27it/s]\u001b[A"
          ],
          "name": "stderr"
        },
        {
          "output_type": "stream",
          "text": [
            "Found Skill:  processing  In:  content     processing of the files by coordinating with ...\n",
            "Found Skill:  processing  In:  content     processing\n",
            "Found Skill:  span  In:  content     process by 70  in a span of 3 months..\n",
            "Found Skill:  tie  In:  content     new third party tie ups in adventity leading.\n",
            "Found Skill:  plus  In:  content     99  plus accuracy consistently in all process...\n",
            "Found Skill:  processing  In:  content     analytics and processing services.\n",
            "Found Skill:  processing  In:  content     processing of the files by coordinating with ...\n"
          ],
          "name": "stdout"
        },
        {
          "output_type": "stream",
          "text": [
            "\n",
            " 75%|███████▍  | 52033/69499 [00:55<00:18, 936.25it/s]\u001b[A\n",
            " 75%|███████▌  | 52132/69499 [00:55<00:18, 950.07it/s]\u001b[A"
          ],
          "name": "stderr"
        },
        {
          "output_type": "stream",
          "text": [
            "Found Skill:  processing  In:  content     processing\n",
            "Found Skill:  span  In:  content     process by 70  in a span of 3 months..\n",
            "Found Skill:  tie  In:  content     new third party tie ups in adventity leading.\n",
            "Found Skill:  plus  In:  content     99  plus accuracy consistently in all process...\n",
            "Found Skill:  processing  In:  content     analytics and processing services.\n",
            "Found Skill:  word  In:  content     word\n"
          ],
          "name": "stdout"
        },
        {
          "output_type": "stream",
          "text": [
            "\n",
            " 75%|███████▌  | 52228/69499 [00:55<00:18, 926.41it/s]\u001b[A\n",
            " 75%|███████▌  | 52324/69499 [00:55<00:18, 934.10it/s]\u001b[A\n",
            " 75%|███████▌  | 52421/69499 [00:55<00:18, 943.94it/s]\u001b[A\n",
            " 76%|███████▌  | 52527/69499 [00:56<00:17, 975.10it/s]\u001b[A"
          ],
          "name": "stderr"
        },
        {
          "output_type": "stream",
          "text": [
            "Found Skill:  excel  In:  content     excel (less than 1 year)\n",
            "Found Skill:  word  In:  content     word (less than 1 year).\n",
            "Found Skill:  word  In:  content     word   excel.\n",
            "Found Skill:  processing  In:  content     order processing through yanmar system\n",
            "Found Skill:  acc  In:  content    acc\n"
          ],
          "name": "stdout"
        },
        {
          "output_type": "stream",
          "text": [
            "\n",
            " 76%|███████▌  | 52633/69499 [00:56<00:16, 996.15it/s]\u001b[A\n",
            " 76%|███████▌  | 52738/69499 [00:56<00:16, 1008.56it/s]\u001b[A\n",
            " 76%|███████▌  | 52840/69499 [00:56<00:16, 1007.23it/s]\u001b[A"
          ],
          "name": "stderr"
        },
        {
          "output_type": "stream",
          "text": [
            "Found Skill:  amos  In:  content     worked in purchasing software like amos\n",
            "Found Skill:  processing  In:  content     processing of queries\n",
            "Found Skill:  span  In:  content     in span of one year.\n",
            "Found Skill:  processing  In:  content     processing salary revision of employees\n"
          ],
          "name": "stdout"
        },
        {
          "output_type": "stream",
          "text": [
            "\n",
            " 76%|███████▌  | 52941/69499 [00:56<00:16, 1004.39it/s]\u001b[A\n",
            " 76%|███████▋  | 53042/69499 [00:56<00:16, 993.25it/s] \u001b[A\n",
            " 76%|███████▋  | 53144/69499 [00:56<00:16, 999.11it/s]\u001b[A\n",
            " 77%|███████▋  | 53247/69499 [00:56<00:16, 1006.78it/s]\u001b[A"
          ],
          "name": "stderr"
        },
        {
          "output_type": "stream",
          "text": [
            "Found Skill:  focal  In:  content     management perusal and act as the focal point...\n",
            "Found Skill:  able  In:  content     able to work in all situation .. .\n",
            "Found Skill:  access  In:  content     access and fulfill company needs..\n",
            "Found Skill:  access  In:  content     access and fulfill.\n",
            "Found Skill:  access  In:  content     access (less than 1 year)\n",
            "Found Skill:  excel  In:  content     excel (less than 1 year)\n",
            "Found Skill:  word  In:  content     (microsoft office suite word\n",
            "Found Skill:  excel  In:  content     excel\n"
          ],
          "name": "stdout"
        },
        {
          "output_type": "stream",
          "text": [
            "\n",
            " 77%|███████▋  | 53348/69499 [00:56<00:16, 959.45it/s] \u001b[A\n",
            " 77%|███████▋  | 53451/69499 [00:56<00:16, 978.78it/s]\u001b[A\n",
            " 77%|███████▋  | 53550/69499 [00:57<00:16, 981.01it/s]\u001b[A\n",
            " 77%|███████▋  | 53649/69499 [00:57<00:16, 982.49it/s]\u001b[A\n",
            " 77%|███████▋  | 53749/69499 [00:57<00:15, 987.48it/s]\u001b[A"
          ],
          "name": "stderr"
        },
        {
          "output_type": "stream",
          "text": [
            "Found Skill:  latex  In:  content     all india domestic sales for synthetic latex ...\n",
            "Found Skill:  latex  In:  content     part of the latex business team which turned ...\n",
            "Found Skill:  ici  In:  content     ici india limited -.\n",
            "Found Skill:  database  In:  content     product/services - financial database (capita...\n"
          ],
          "name": "stdout"
        },
        {
          "output_type": "stream",
          "text": [
            "\n",
            " 77%|███████▋  | 53848/69499 [00:57<00:16, 958.52it/s]\u001b[A\n",
            " 78%|███████▊  | 53945/69499 [00:57<00:16, 950.91it/s]\u001b[A"
          ],
          "name": "stderr"
        },
        {
          "output_type": "stream",
          "text": [
            "Found Skill:  focus  In:  content     crossknowledge s focus on learning innovation\n"
          ],
          "name": "stdout"
        },
        {
          "output_type": "stream",
          "text": [
            "\n",
            " 78%|███████▊  | 54041/69499 [00:57<00:21, 713.15it/s]\u001b[A\n",
            " 78%|███████▊  | 54146/69499 [00:57<00:19, 788.27it/s]\u001b[A\n",
            " 78%|███████▊  | 54240/69499 [00:57<00:18, 828.03it/s]\u001b[A\n",
            " 78%|███████▊  | 54337/69499 [00:58<00:17, 865.61it/s]\u001b[A"
          ],
          "name": "stderr"
        },
        {
          "output_type": "stream",
          "text": [
            "Found Skill:  self  In:  content     self motivated (less than 1 year).\n"
          ],
          "name": "stdout"
        },
        {
          "output_type": "stream",
          "text": [
            "\n",
            " 78%|███████▊  | 54432/69499 [00:58<00:16, 887.70it/s]\u001b[A\n",
            " 78%|███████▊  | 54536/69499 [00:58<00:16, 927.95it/s]\u001b[A"
          ],
          "name": "stderr"
        },
        {
          "output_type": "stream",
          "text": [
            "Found Skill:  excel  In:  content     excel (less than 1 year)\n",
            "Found Skill:  word  In:  content     ms word (less than 1 year)\n",
            "Found Skill:  word  In:  content     word (less.\n",
            "Found Skill:  word  In:  content     it skills: well versed with ms word\n",
            "Found Skill:  excel  In:  content     excel\n",
            "Found Skill:  plus  In:  content     mba in sales   marketing with above 12 plus y...\n",
            "Found Skill:  pilot  In:  content     pilot project management: successfully planne...\n",
            "Found Skill:  gap  In:  content     product range gap to be.\n"
          ],
          "name": "stdout"
        },
        {
          "output_type": "stream",
          "text": [
            "\n",
            " 79%|███████▊  | 54632/69499 [00:58<00:15, 931.67it/s]\u001b[A\n",
            " 79%|███████▉  | 54736/69499 [00:58<00:15, 961.23it/s]\u001b[A\n",
            " 79%|███████▉  | 54840/69499 [00:58<00:14, 981.48it/s]\u001b[A"
          ],
          "name": "stderr"
        },
        {
          "output_type": "stream",
          "text": [
            "Found Skill:  chain  In:  content     streamlined supply chain in pilot regions to ...\n"
          ],
          "name": "stdout"
        },
        {
          "output_type": "stream",
          "text": [
            "\n",
            " 79%|███████▉  | 54940/69499 [00:58<00:14, 980.95it/s]\u001b[A\n",
            " 79%|███████▉  | 55042/69499 [00:58<00:14, 990.37it/s]\u001b[A\n",
            " 79%|███████▉  | 55145/69499 [00:58<00:14, 1000.60it/s]\u001b[A"
          ],
          "name": "stderr"
        },
        {
          "output_type": "stream",
          "text": [
            "Found Skill:  chain  In:  content     operations manager for chain of restaurants a...\n",
            "Found Skill:  goal  In:  content     management process from goal setting\n",
            "Found Skill:  goal  In:  content     goal audit till normalization bpcl internal.\n",
            "Found Skill:  goal  In:  content     goal audit..\n"
          ],
          "name": "stdout"
        },
        {
          "output_type": "stream",
          "text": [
            "\n",
            " 79%|███████▉  | 55246/69499 [00:58<00:14, 994.53it/s] \u001b[A\n",
            " 80%|███████▉  | 55353/69499 [00:59<00:13, 1013.83it/s]\u001b[A\n",
            " 80%|███████▉  | 55456/69499 [00:59<00:13, 1017.59it/s]\u001b[A\n",
            " 80%|███████▉  | 55563/69499 [00:59<00:13, 1030.12it/s]\u001b[A\n",
            " 80%|████████  | 55667/69499 [00:59<00:13, 1022.81it/s]\u001b[A"
          ],
          "name": "stderr"
        },
        {
          "output_type": "stream",
          "text": [
            "Found Skill:  chain  In:  content     uk s largest grocery retail chain on sku leve...\n",
            "Found Skill:  focus  In:  content     customer focus\n",
            "Found Skill:  access  In:  content     computer: proficient in access\n",
            "Found Skill:  sql  In:  content     sql\n",
            "Found Skill:  sas  In:  content     sas\n",
            "Found Skill:  self  In:  content     sales consultant - cloud practice - self empl...\n",
            "Found Skill:  self  In:  content     self employed -.\n"
          ],
          "name": "stdout"
        },
        {
          "output_type": "stream",
          "text": [
            "\n",
            " 80%|████████  | 55770/69499 [00:59<00:14, 979.97it/s] \u001b[A\n",
            " 80%|████████  | 55869/69499 [00:59<00:13, 982.58it/s]\u001b[A\n",
            " 81%|████████  | 55974/69499 [00:59<00:13, 1001.82it/s]\u001b[A\n",
            " 81%|████████  | 56076/69499 [00:59<00:13, 1005.95it/s]\u001b[A"
          ],
          "name": "stderr"
        },
        {
          "output_type": "stream",
          "text": [
            "Found Skill:  nice  In:  content     nice call logging system\n"
          ],
          "name": "stdout"
        },
        {
          "output_type": "stream",
          "text": [
            "\n",
            " 81%|████████  | 56177/69499 [00:59<00:13, 975.17it/s] \u001b[A\n",
            " 81%|████████  | 56275/69499 [00:59<00:13, 963.38it/s]\u001b[A"
          ],
          "name": "stderr"
        },
        {
          "output_type": "stream",
          "text": [
            "Found Skill:  able  In:  content     able to prepare.\n",
            "Found Skill:  focus  In:  content     focus on generation of revenue through servic...\n",
            "Found Skill:  able  In:  content     able to prepare.\n",
            "Found Skill:  focus  In:  content     managing service operations with focus on imp...\n",
            "Found Skill:  able  In:  content     able to prepare.\n"
          ],
          "name": "stdout"
        },
        {
          "output_type": "stream",
          "text": [
            "\n",
            " 81%|████████  | 56372/69499 [01:00<00:13, 950.06it/s]\u001b[A\n",
            " 81%|████████▏ | 56478/69499 [01:00<00:13, 978.30it/s]\u001b[A"
          ],
          "name": "stderr"
        },
        {
          "output_type": "stream",
          "text": [
            "Found Skill:  ease  In:  content     strategic planning with sales team to ease th...\n",
            "Found Skill:  scheme  In:  content     national service scheme (nss) -  mumbai\n",
            "Found Skill:  plus  In:  content     alpha plus technologies pvt.\n"
          ],
          "name": "stdout"
        },
        {
          "output_type": "stream",
          "text": [
            "\n",
            " 81%|████████▏ | 56579/69499 [01:00<00:13, 986.90it/s]\u001b[A\n",
            " 82%|████████▏ | 56681/69499 [01:00<00:12, 994.83it/s]\u001b[A\n",
            " 82%|████████▏ | 56782/69499 [01:00<00:12, 996.15it/s]\u001b[A\n",
            " 82%|████████▏ | 56882/69499 [01:00<00:12, 994.05it/s]\u001b[A"
          ],
          "name": "stderr"
        },
        {
          "output_type": "stream",
          "text": [
            "Found Skill:  excel  In:  content     excel (less than 1 year)\n",
            "Found Skill:  excel  In:  content     excel 2003 (less than 1 year)\n",
            "Found Skill:  excel  In:  content     microsoft excel (less than 1. year)\n",
            "Found Skill:  excel  In:  content     windows xp     ms. office 2003     excel 2003...\n",
            "Found Skill:  excel  In:  content     to excel in marketing   sales and to make thi...\n",
            "Found Skill:  able  In:  content     patiently able to work.\n",
            "Found Skill:  able  In:  content     patiently able to work     can work in team  ...\n",
            "Found Skill:  processing  In:  content     employed strict procedures for processing cla...\n",
            "Found Skill:  database  In:  content     managed customer database and updated them ab...\n"
          ],
          "name": "stdout"
        },
        {
          "output_type": "stream",
          "text": [
            "\n",
            " 82%|████████▏ | 56982/69499 [01:00<00:12, 991.22it/s]\u001b[A\n",
            " 82%|████████▏ | 57085/69499 [01:00<00:12, 1001.93it/s]\u001b[A\n",
            " 82%|████████▏ | 57194/69499 [01:00<00:11, 1026.39it/s]\u001b[A\n",
            " 82%|████████▏ | 57297/69499 [01:00<00:12, 960.85it/s] \u001b[A"
          ],
          "name": "stderr"
        },
        {
          "output_type": "stream",
          "text": [
            "Found Skill:  able  In:  content     wherein i can able to dedicate myself and add...\n",
            "Found Skill:  plus  In:  content     company owned retail stores plus managed lavi...\n",
            "Found Skill:  cola  In:  content     coca cola and himalaya.\n",
            "Found Skill:  focus  In:  content     customer focus enhancing brand recall and foo...\n",
            "Found Skill:  gap  In:  content     identified market gap and launched various ca...\n",
            "Found Skill:  small  In:  content     product availability reach through small kios...\n",
            "Found Skill:  cola  In:  content     coca cola -  chennai\n"
          ],
          "name": "stdout"
        },
        {
          "output_type": "stream",
          "text": [
            "\n",
            " 83%|████████▎ | 57395/69499 [01:01<00:12, 948.20it/s]\u001b[A\n",
            " 83%|████████▎ | 57496/69499 [01:01<00:12, 963.91it/s]\u001b[A\n",
            " 83%|████████▎ | 57593/69499 [01:01<00:12, 958.29it/s]\u001b[A\n",
            " 83%|████████▎ | 57690/69499 [01:01<00:12, 929.60it/s]\u001b[A"
          ],
          "name": "stderr"
        },
        {
          "output_type": "stream",
          "text": [
            "Found Skill:  abc  In:  content     abc bearings ltd\n",
            "Found Skill:  powerhouse  In:  content     ador welding limited is a welding powerhouse ...\n",
            "Found Skill:  focus  In:  content     brand management with focus on market   reven...\n",
            "Found Skill:  planner  In:  content     different locations..     a keen planner with...\n"
          ],
          "name": "stdout"
        },
        {
          "output_type": "stream",
          "text": [
            "\n",
            " 83%|████████▎ | 57784/69499 [01:01<00:12, 922.00it/s]\u001b[A\n",
            " 83%|████████▎ | 57884/69499 [01:01<00:12, 943.52it/s]\u001b[A\n",
            " 83%|████████▎ | 57980/69499 [01:01<00:12, 946.54it/s]\u001b[A"
          ],
          "name": "stderr"
        },
        {
          "output_type": "stream",
          "text": [
            "Found Skill:  pilot  In:  content     initiated a pilot on a concept of pain clinics.\n",
            "Found Skill:  excel  In:  content     excel (less than 1 year)\n",
            "Found Skill:  excel  In:  content     ms excel (less than 1 year)\n",
            "Found Skill:  word  In:  content     ms. word (less than 1 year)\n",
            "Found Skill:  excel  In:  content     ms excel and powerpoint etc.\n",
            "Found Skill:  small  In:  content     project manager for small engagement to roll ...\n",
            "Found Skill:  sail  In:  content     onsite pm for sap implementation at sail corp...\n"
          ],
          "name": "stdout"
        },
        {
          "output_type": "stream",
          "text": [
            "\n",
            " 84%|████████▎ | 58075/69499 [01:01<00:12, 934.43it/s]\u001b[A\n",
            " 84%|████████▎ | 58169/69499 [01:01<00:12, 926.16it/s]\u001b[A"
          ],
          "name": "stderr"
        },
        {
          "output_type": "stream",
          "text": [
            "Found Skill:  excel  In:  content     excel avanc   (9 years)\n",
            "Found Skill:  able  In:  content     being able to estimate project technical skil...\n",
            "Found Skill:  flex  In:  content     flex\n",
            "Found Skill:  plus  In:  content     100 plus events -  agra\n",
            "Found Skill:  plus  In:  content     100 plus events with hni clients in 5 star pr...\n"
          ],
          "name": "stdout"
        },
        {
          "output_type": "stream",
          "text": [
            "\n",
            " 84%|████████▍ | 58262/69499 [01:02<00:12, 926.00it/s]\u001b[A\n",
            " 84%|████████▍ | 58357/69499 [01:02<00:11, 928.59it/s]\u001b[A\n",
            " 84%|████████▍ | 58451/69499 [01:02<00:11, 931.68it/s]\u001b[A"
          ],
          "name": "stderr"
        },
        {
          "output_type": "stream",
          "text": [
            "Found Skill:  java  In:  content     java (less than 1 year)\n",
            "Found Skill:  kotlin  In:  content     kotlin\n",
            "Found Skill:  html  In:  content     html\n",
            "Found Skill:  sql  In:  content     sql dba\n",
            "Found Skill:  c++  In:  content     c++\n",
            "Found Skill:  unity  In:  content     to do this there is unity and displn .....i m...\n",
            "Found Skill:  unity  In:  content     with unity and displn .... thank u.. .\n"
          ],
          "name": "stdout"
        },
        {
          "output_type": "stream",
          "text": [
            "\n",
            " 84%|████████▍ | 58545/69499 [01:02<00:11, 931.80it/s]\u001b[A\n",
            " 84%|████████▍ | 58639/69499 [01:02<00:11, 921.85it/s]\u001b[A"
          ],
          "name": "stderr"
        },
        {
          "output_type": "stream",
          "text": [
            "Found Skill:  java  In:  content     java (less than 1 year)\n",
            "Found Skill:  matlab  In:  content     matlab\n"
          ],
          "name": "stdout"
        },
        {
          "output_type": "stream",
          "text": [
            "\n",
            " 85%|████████▍ | 58732/69499 [01:02<00:11, 907.11it/s]\u001b[A\n",
            " 85%|████████▍ | 58827/69499 [01:02<00:11, 918.17it/s]\u001b[A\n",
            " 85%|████████▍ | 58925/69499 [01:02<00:11, 933.89it/s]\u001b[A"
          ],
          "name": "stderr"
        },
        {
          "output_type": "stream",
          "text": [
            "Found Skill:  focus  In:  content     features and benefits with focus on the value...\n",
            "Found Skill:  focus  In:  content     features and benefits with focus on the value...\n"
          ],
          "name": "stdout"
        },
        {
          "output_type": "stream",
          "text": [
            "\n",
            " 85%|████████▍ | 59019/69499 [01:02<00:11, 931.78it/s]\u001b[A\n",
            " 85%|████████▌ | 59113/69499 [01:02<00:11, 923.63it/s]\u001b[A\n",
            " 85%|████████▌ | 59216/69499 [01:03<00:10, 951.19it/s]\u001b[A"
          ],
          "name": "stderr"
        },
        {
          "output_type": "stream",
          "text": [
            "Found Skill:  processing  In:  content     activities for processing lease rentals / out...\n",
            "Found Skill:  scheme  In:  content     trade scheme planning\n"
          ],
          "name": "stdout"
        },
        {
          "output_type": "stream",
          "text": [
            "\n",
            " 85%|████████▌ | 59312/69499 [01:03<00:10, 950.68it/s]\u001b[A\n",
            " 85%|████████▌ | 59412/69499 [01:03<00:10, 964.38it/s]\u001b[A\n",
            " 86%|████████▌ | 59514/69499 [01:03<00:10, 977.69it/s]\u001b[A"
          ],
          "name": "stderr"
        },
        {
          "output_type": "stream",
          "text": [
            "Found Skill:  tie  In:  content     corporate tie ups for yearly subscription and...\n",
            "Found Skill:  clean  In:  content     introduced a new program clean   green market\n"
          ],
          "name": "stdout"
        },
        {
          "output_type": "stream",
          "text": [
            "\n",
            " 86%|████████▌ | 59612/69499 [01:03<00:10, 960.21it/s]\u001b[A\n",
            " 86%|████████▌ | 59709/69499 [01:03<00:10, 951.01it/s]\u001b[A"
          ],
          "name": "stderr"
        },
        {
          "output_type": "stream",
          "text": [
            "Found Skill:  clean  In:  content     introduced a new program clean   green mumbai\n",
            "Found Skill:  pilot  In:  content     set up and did a pilot for a corporate channe...\n",
            "Found Skill:  span  In:  content     managed to triple the numbers within a span o...\n"
          ],
          "name": "stdout"
        },
        {
          "output_type": "stream",
          "text": [
            "\n",
            " 86%|████████▌ | 59807/69499 [01:03<00:10, 957.56it/s]\u001b[A\n",
            " 86%|████████▌ | 59906/69499 [01:03<00:09, 966.47it/s]\u001b[A\n",
            " 86%|████████▋ | 60007/69499 [01:03<00:09, 978.16it/s]\u001b[A"
          ],
          "name": "stderr"
        },
        {
          "output_type": "stream",
          "text": [
            "Found Skill:  focus  In:  content     and genuine in its focus on the.\n",
            "Found Skill:  able  In:  content     adept multitasker able to deal a very high.\n",
            "Found Skill:  css  In:  content     css for quick find of availability alerts and...\n"
          ],
          "name": "stdout"
        },
        {
          "output_type": "stream",
          "text": [
            "\n",
            " 86%|████████▋ | 60105/69499 [01:03<00:10, 925.30it/s]\u001b[A\n",
            " 87%|████████▋ | 60207/69499 [01:04<00:09, 949.78it/s]\u001b[A"
          ],
          "name": "stderr"
        },
        {
          "output_type": "stream",
          "text": [
            "Found Skill:  .net  In:  content     trained in .net technology..\n",
            "Found Skill:  python  In:  content     experience in python scripting and pyats fram...\n",
            "Found Skill:  perl  In:  content     scripting language perl\n",
            "Found Skill:  tcl  In:  content     knowledge on tcl scripting and automated cust...\n",
            "Found Skill:  able  In:  content     also able to troubleshoot the script issues.. .\n"
          ],
          "name": "stdout"
        },
        {
          "output_type": "stream",
          "text": [
            "\n",
            " 87%|████████▋ | 60310/69499 [01:04<00:09, 972.49it/s]\u001b[A\n",
            " 87%|████████▋ | 60412/69499 [01:04<00:09, 986.09it/s]\u001b[A\n",
            " 87%|████████▋ | 60512/69499 [01:04<00:09, 975.86it/s]\u001b[A"
          ],
          "name": "stderr"
        },
        {
          "output_type": "stream",
          "text": [
            "Found Skill:  tcl  In:  content     tcl (4 years)\n",
            "Found Skill:  python  In:  content     python (2 years).\n",
            "Found Skill:  tcl  In:  content     automaton tools: tcl\n",
            "Found Skill:  python  In:  content    python\n",
            "Found Skill:  java  In:  content     programming     java\n",
            "Found Skill:  c++  In:  content     c++\n",
            "Found Skill:  matlab  In:  content     matlab\n",
            "Found Skill:  excel  In:  content     learn and excel in highly competitive environ...\n",
            "Found Skill:  able  In:  content     able to handle and overcome objections.\n",
            "Found Skill:  sql  In:  content     sql\n",
            "Found Skill:  sql  In:  content     sql\n"
          ],
          "name": "stdout"
        },
        {
          "output_type": "stream",
          "text": [
            "\n",
            " 87%|████████▋ | 60610/69499 [01:04<00:09, 967.02it/s]\u001b[A\n",
            " 87%|████████▋ | 60707/69499 [01:04<00:09, 967.45it/s]\u001b[A"
          ],
          "name": "stderr"
        },
        {
          "output_type": "stream",
          "text": [
            "Found Skill:  processing  In:  content     hsbc electronic data processing india pvt -  ...\n",
            "Found Skill:  c++  In:  content     c++ (less than 1 year)\n",
            "Found Skill:  css  In:  content     css (less than 1 year).\n",
            "Found Skill:  c++  In:  content     c++ and java.. .\n",
            "Found Skill:  mysql  In:  content     databases: mysql\n",
            "Found Skill:  sql  In:  content     sql server (sqlyog).\n",
            "Found Skill:  html  In:  content     web tools: html\n",
            "Found Skill:  java  In:  content     java 8 applications for login credentials wit...\n"
          ],
          "name": "stdout"
        },
        {
          "output_type": "stream",
          "text": [
            "\n",
            " 87%|████████▋ | 60806/69499 [01:04<00:08, 971.74it/s]\u001b[A\n",
            " 88%|████████▊ | 60911/69499 [01:04<00:08, 993.16it/s]\u001b[A"
          ],
          "name": "stderr"
        },
        {
          "output_type": "stream",
          "text": [
            "Found Skill:  excel  In:  content     excel\n",
            "Found Skill:  excel  In:  content     basic knowledge of excel\n",
            "Found Skill:  word  In:  content     ms word\n",
            "Found Skill:  excel  In:  content     excel\n"
          ],
          "name": "stdout"
        },
        {
          "output_type": "stream",
          "text": [
            "\n",
            " 88%|████████▊ | 61011/69499 [01:04<00:08, 969.72it/s]\u001b[A\n",
            " 88%|████████▊ | 61109/69499 [01:05<00:08, 953.99it/s]\u001b[A"
          ],
          "name": "stderr"
        },
        {
          "output_type": "stream",
          "text": [
            "Found Skill:  abc  In:  content     abc bearings ltd\n",
            "Found Skill:  powerhouse  In:  content     ador welding limited is a welding powerhouse ...\n",
            "Found Skill:  python  In:  content     perform automation through python and batch s...\n",
            "Found Skill:  c++  In:  content     c++ (less than 1 year)\n",
            "Found Skill:  python  In:  content     python\n",
            "Found Skill:  java  In:  content     languages: java\n",
            "Found Skill:  c++  In:  content     c++\n",
            "Found Skill:  python  In:  content     python\n",
            "Found Skill:  access  In:  content     mpls or at access level post migration activi...\n",
            "Found Skill:  focus  In:  content     focus on customer requirements and providing ...\n"
          ],
          "name": "stdout"
        },
        {
          "output_type": "stream",
          "text": [
            "\n",
            " 88%|████████▊ | 61208/69499 [01:05<00:08, 964.44it/s]\u001b[A\n",
            " 88%|████████▊ | 61318/69499 [01:05<00:08, 998.98it/s]\u001b[A\n",
            " 88%|████████▊ | 61426/69499 [01:05<00:07, 1017.81it/s]\u001b[A"
          ],
          "name": "stderr"
        },
        {
          "output_type": "stream",
          "text": [
            "Found Skill:  access  In:  content     clusterxl etc..     asa firewall: access cont...\n",
            "Found Skill:  php  In:  content     php developer freshers.\n"
          ],
          "name": "stdout"
        },
        {
          "output_type": "stream",
          "text": [
            "\n",
            " 89%|████████▊ | 61529/69499 [01:05<00:07, 1017.69it/s]\u001b[A\n",
            " 89%|████████▊ | 61637/69499 [01:05<00:07, 1033.49it/s]\u001b[A"
          ],
          "name": "stderr"
        },
        {
          "output_type": "stream",
          "text": [
            "Found Skill:  c++  In:  content     c++ (less than 1 year)\n",
            "Found Skill:  java  In:  content     java (less than 1 year)\n",
            "Found Skill:  c++  In:  content     c++\n",
            "Found Skill:  java  In:  content     training on core java in h.p.e.s\n",
            "Found Skill:  java  In:  content     training on java (core + advance) and android...\n",
            "Found Skill:  java  In:  content     worked on java technology for the creation of...\n"
          ],
          "name": "stdout"
        },
        {
          "output_type": "stream",
          "text": [
            "\n",
            " 89%|████████▉ | 61741/69499 [01:05<00:07, 1028.70it/s]\u001b[A\n",
            " 89%|████████▉ | 61845/69499 [01:05<00:07, 1018.91it/s]\u001b[A"
          ],
          "name": "stderr"
        },
        {
          "output_type": "stream",
          "text": [
            "Found Skill:  focus  In:  content     any field as my main focus is to gain more an...\n",
            "Found Skill:  code  In:  content     commit the code to the repository and also pu...\n",
            "Found Skill:  maven  In:  content     creation of freestyle and maven projects.\n",
            "Found Skill:  snowball  In:  content     snowball\n",
            "Found Skill:  html  In:  content     web technologies: html\n",
            "Found Skill:  javascript  In:  content     javascript\n",
            "Found Skill:  php  In:  content     languages used: php\n",
            "Found Skill:  mysql  In:  content     mysql\n",
            "Found Skill:  html  In:  content     html\n",
            "Found Skill:  css  In:  content     css\n",
            "Found Skill:  javascript  In:  content     javascript and jquery.. .\n",
            "Found Skill:  database  In:  content     constantly involved in querying the database ...\n",
            "Found Skill:  clean  In:  content     i am capable of building clean and responsive...\n",
            "Found Skill:  small  In:  content     and small business websites..     http://www....\n",
            "Found Skill:  small  In:  content     small map feature included which also support...\n",
            "Found Skill:  php  In:  content     php\n",
            "Found Skill:  javascript  In:  content     javascript\n",
            "Found Skill:  css  In:  content     css\n",
            "Found Skill:  java  In:  content     programming language: core java\n",
            "Found Skill:  php  In:  content     scripting languages: php\n",
            "Found Skill:  html  In:  content     web languages: html\n"
          ],
          "name": "stdout"
        },
        {
          "output_type": "stream",
          "text": [
            "\n",
            " 89%|████████▉ | 61948/69499 [01:05<00:07, 968.42it/s] \u001b[A\n",
            " 89%|████████▉ | 62046/69499 [01:05<00:07, 947.16it/s]\u001b[A"
          ],
          "name": "stderr"
        },
        {
          "output_type": "stream",
          "text": [
            "Found Skill:  database  In:  content     database language: sql..     frameworks: boot...\n",
            "Found Skill:  sql  In:  content     sql and msbi developer with experience in azu...\n",
            "Found Skill:  sql  In:  content     expertise in sql server(2008 r2\n",
            "Found Skill:  sql  In:  content     sql and ssis developer/sustain resource.\n",
            "Found Skill:  database  In:  content     database combined with microsoft office excel...\n",
            "Found Skill:  database  In:  content     and download data from the forecast database\n",
            "Found Skill:  database  In:  content     uploaded back to the forecast database throug...\n",
            "Found Skill:  database  In:  content     stored in the online database and subsequentl...\n",
            "Found Skill:  sql  In:  content     developed sql server integration services pac...\n",
            "Found Skill:  code  In:  content     promptly check in the final code in vstf.. .\n",
            "Found Skill:  sql  In:  content     sql server\n",
            "Found Skill:  t-sql  In:  content     t-sql\n"
          ],
          "name": "stdout"
        },
        {
          "output_type": "stream",
          "text": [
            "\n",
            " 89%|████████▉ | 62144/69499 [01:06<00:07, 955.43it/s]\u001b[A\n",
            " 90%|████████▉ | 62244/69499 [01:06<00:07, 965.28it/s]\u001b[A\n",
            " 90%|████████▉ | 62341/69499 [01:06<00:07, 917.81it/s]\u001b[A"
          ],
          "name": "stderr"
        },
        {
          "output_type": "stream",
          "text": [
            "Found Skill:  excel  In:  content     excel (less than 1 year)\n",
            "Found Skill:  excel  In:  content     excel\n",
            "Found Skill:  .net  In:  content     .net (less than 1 year)\n",
            "Found Skill:  database  In:  content     database (less than 1 year)\n",
            "Found Skill:  sql  In:  content     ms sql server.\n",
            "Found Skill:  sql  In:  content     sql (less than 1 year).\n",
            "Found Skill:  javascript  In:  content     javascript\n",
            "Found Skill:  html  In:  content     frontend html and .net.\n",
            "Found Skill:  database  In:  content     database sql server and oracle.\n",
            "Found Skill:  powershell  In:  content     automation powershell and vsts.\n",
            "Found Skill:  database  In:  content     experience in oracle database\n",
            "Found Skill:  sql  In:  content     sql queries\n",
            "Found Skill:  sql  In:  content     sql loader\n",
            "Found Skill:  sql  In:  content     sql plus.\n",
            "Found Skill:  database  In:  content     database (3 years)\n",
            "Found Skill:  java  In:  content     core java (1 year).\n",
            "Found Skill:  database  In:  content     database tools: sql developer\n"
          ],
          "name": "stdout"
        },
        {
          "output_type": "stream",
          "text": [
            "\n",
            " 90%|████████▉ | 62446/69499 [01:06<00:07, 953.79it/s]\u001b[A\n",
            " 90%|████████▉ | 62543/69499 [01:06<00:07, 957.20it/s]\u001b[A"
          ],
          "name": "stderr"
        },
        {
          "output_type": "stream",
          "text": [
            "Found Skill:  excel  In:  content     excel\n",
            "Found Skill:  scheme  In:  content     besides implanting promotional scheme and event.\n",
            "Found Skill:  sql  In:  content     using sql and r. o market basket analysis usi...\n",
            "Found Skill:  python  In:  content     python (2 years)\n",
            "Found Skill:  python  In:  content     languages   technologies: python\n",
            "Found Skill:  sql  In:  content     sql\n",
            "Found Skill:  java  In:  content     java (preliminary).\n"
          ],
          "name": "stdout"
        },
        {
          "output_type": "stream",
          "text": [
            "\n",
            " 90%|█████████ | 62640/69499 [01:06<00:07, 913.40it/s]\u001b[A\n",
            " 90%|█████████ | 62733/69499 [01:06<00:07, 915.28it/s]\u001b[A"
          ],
          "name": "stderr"
        },
        {
          "output_type": "stream",
          "text": [
            "Found Skill:  matlab  In:  content     matlab\n",
            "Found Skill:  sql  In:  content     oracle sql developer\n",
            "Found Skill:  mysql  In:  content     mysql\n",
            "Found Skill:  excel  In:  content     excel\n"
          ],
          "name": "stdout"
        },
        {
          "output_type": "stream",
          "text": [
            "\n",
            " 90%|█████████ | 62835/69499 [01:06<00:07, 943.91it/s]\u001b[A\n",
            " 91%|█████████ | 62931/69499 [01:06<00:07, 934.30it/s]\u001b[A\n",
            " 91%|█████████ | 63025/69499 [01:07<00:07, 912.10it/s]\u001b[A"
          ],
          "name": "stderr"
        },
        {
          "output_type": "stream",
          "text": [
            "Found Skill:  vba  In:  content     vba developer (august\n",
            "Found Skill:  sql  In:  content     ado.net and sql server for.\n",
            "Found Skill:  sql  In:  content     ado.net and sql server for clients.. used to ...\n",
            "Found Skill:  sql  In:  content     ms sql server\n",
            "Found Skill:  xml  In:  content     xml\n",
            "Found Skill:  sql  In:  content     ms sql server\n",
            "Found Skill:  xml  In:  content     xml\n",
            "Found Skill:  sql  In:  content     primarily worked in ms sql server and c#.net ...\n",
            "Found Skill:  sql  In:  content     sql server (3 years)\n",
            "Found Skill:  javascript  In:  content     javascript (6. years)\n",
            "Found Skill:  vba  In:  content     vba (2 years)\n",
            "Found Skill:  able  In:  content     in 2012 can able to save 60\n",
            "Found Skill:  code  In:  content     code for beginner to advance level programmer.\n",
            "Found Skill:  mysql  In:  content     mysql\n",
            "Found Skill:  css  In:  content     css\n",
            "Found Skill:  mysql  In:  content     mysql db setup\n"
          ],
          "name": "stdout"
        },
        {
          "output_type": "stream",
          "text": [
            "\n",
            " 91%|█████████ | 63117/69499 [01:07<00:07, 905.44it/s]\u001b[A\n",
            " 91%|█████████ | 63208/69499 [01:07<00:06, 903.48it/s]\u001b[A"
          ],
          "name": "stderr"
        },
        {
          "output_type": "stream",
          "text": [
            "Found Skill:  word  In:  content     word and excel and besic (3 years).\n",
            "Found Skill:  abap  In:  content     sap abap consultant.\n",
            "Found Skill:  abap  In:  content     sap abap consultant.\n",
            "Found Skill:  abap  In:  content     sap abap -  badi\n",
            "Found Skill:  rapid  In:  content     company has witnessed rapid expansion that ha...\n",
            "Found Skill:  excel  In:  content     developed a class to download multi excel she...\n",
            "Found Skill:  abap  In:  content     sap abap -.\n",
            "Found Skill:  abap  In:  content     sap abap -.\n",
            "Found Skill:  abap  In:  content     sap abap -  bangalore\n"
          ],
          "name": "stdout"
        },
        {
          "output_type": "stream",
          "text": [
            "\n",
            " 91%|█████████ | 63299/69499 [01:07<00:06, 891.74it/s]\u001b[A\n",
            " 91%|█████████ | 63392/69499 [01:07<00:06, 901.71it/s]\u001b[A"
          ],
          "name": "stderr"
        },
        {
          "output_type": "stream",
          "text": [
            "Found Skill:  abap  In:  content     sap abap -.\n",
            "Found Skill:  abap  In:  content     sap abap -  marmagao\n",
            "Found Skill:  abap  In:  content     sap abap consultant.\n",
            "Found Skill:  database  In:  content     customers and updates the database as  bc .\n",
            "Found Skill:  abap  In:  content     worked on abap workflow.\n"
          ],
          "name": "stdout"
        },
        {
          "output_type": "stream",
          "text": [
            "\n",
            " 91%|█████████▏| 63489/69499 [01:07<00:06, 920.22it/s]\u001b[A\n",
            " 91%|█████████▏| 63582/69499 [01:07<00:06, 908.15it/s]\u001b[A\n",
            " 92%|█████████▏| 63679/69499 [01:07<00:06, 924.09it/s]\u001b[A"
          ],
          "name": "stderr"
        },
        {
          "output_type": "stream",
          "text": [
            "Found Skill:  database  In:  content     maintain the full database of generated leads.\n",
            "Found Skill:  database  In:  content     responsible to maintain the database of the c...\n",
            "Found Skill:  clean  In:  content     euro clean - marketing section.\n",
            "Found Skill:  timber  In:  content       timber importers.\n",
            "Found Skill:  planner  In:  content     a keen planner and implementer with around 13...\n"
          ],
          "name": "stdout"
        },
        {
          "output_type": "stream",
          "text": [
            "\n",
            " 92%|█████████▏| 63772/69499 [01:07<00:06, 914.75it/s]\u001b[A\n",
            " 92%|█████████▏| 63864/69499 [01:07<00:06, 909.27it/s]\u001b[A\n",
            " 92%|█████████▏| 63957/69499 [01:08<00:06, 915.05it/s]\u001b[A"
          ],
          "name": "stderr"
        },
        {
          "output_type": "stream",
          "text": [
            "Found Skill:  natural  In:  content     ati promoted  devbhumi natural products produ...\n",
            "Found Skill:  chain  In:  content     departments..     supply chain development   ...\n",
            "Found Skill:  excel  In:  content     excel (10+ years)\n",
            "Found Skill:  excel  In:  content     ms excel (10+ years).\n",
            "Found Skill:  excel  In:  content     application/ms excel and ms word.\n",
            "Found Skill:  database  In:  content     * building own database of clients and contac...\n",
            "Found Skill:  able  In:  content     * excellent interpersonal skills and able to ...\n"
          ],
          "name": "stdout"
        },
        {
          "output_type": "stream",
          "text": [
            "\n",
            " 92%|█████████▏| 64052/69499 [01:08<00:05, 923.96it/s]\u001b[A\n",
            " 92%|█████████▏| 64152/69499 [01:08<00:05, 945.22it/s]\u001b[A\n",
            " 92%|█████████▏| 64255/69499 [01:08<00:05, 967.57it/s]\u001b[A\n",
            " 93%|█████████▎| 64353/69499 [01:08<00:05, 968.04it/s]\u001b[A"
          ],
          "name": "stderr"
        },
        {
          "output_type": "stream",
          "text": [
            "Found Skill:  focus  In:  content     focus on voice integration\n",
            "Found Skill:  database  In:  content     database management: dbase\n",
            "Found Skill:  foxpro  In:  content     visual foxpro\n",
            "Found Skill:  access  In:  content     ms access\n",
            "Found Skill:  mysql  In:  content     mysql\n",
            "Found Skill:  access  In:  content     recruited to serve in an area with access to ...\n"
          ],
          "name": "stdout"
        },
        {
          "output_type": "stream",
          "text": [
            "\n",
            " 93%|█████████▎| 64450/69499 [01:08<00:05, 965.26it/s]\u001b[A\n",
            " 93%|█████████▎| 64553/69499 [01:08<00:05, 982.91it/s]\u001b[A"
          ],
          "name": "stderr"
        },
        {
          "output_type": "stream",
          "text": [
            "Found Skill:  max  In:  content     max hospital.\n",
            "Found Skill:  chain  In:  content     handling pharmacy retail chain ipd as well as...\n"
          ],
          "name": "stdout"
        },
        {
          "output_type": "stream",
          "text": [
            "\n",
            " 93%|█████████▎| 64654/69499 [01:08<00:04, 988.36it/s]\u001b[A\n",
            " 93%|█████████▎| 64756/69499 [01:08<00:04, 997.36it/s]\u001b[A\n",
            " 93%|█████████▎| 64857/69499 [01:08<00:04, 999.01it/s]\u001b[A"
          ],
          "name": "stderr"
        },
        {
          "output_type": "stream",
          "text": [
            "Found Skill:  excel  In:  content     excel (less than 1 year)\n",
            "Found Skill:  word  In:  content     ms. word (less than 1 year)\n",
            "Found Skill:  self  In:  content     self motivated (less than 1 year).\n"
          ],
          "name": "stdout"
        },
        {
          "output_type": "stream",
          "text": [
            "\n",
            " 93%|█████████▎| 64957/69499 [01:09<00:04, 974.41it/s]\u001b[A\n",
            " 94%|█████████▎| 65062/69499 [01:09<00:04, 995.08it/s]\u001b[A"
          ],
          "name": "stderr"
        },
        {
          "output_type": "stream",
          "text": [
            "Found Skill:  tea  In:  content     khra sona tea co. ltd.. .\n",
            "Found Skill:  tea  In:  content     khra sona tea co. -.\n",
            "Found Skill:  small  In:  content     division: automotive sub division: small comm...\n",
            "Found Skill:  self  In:  content     self confidence\n",
            "Found Skill:  excel  In:  content     hard working and always strive to excel and a...\n",
            "Found Skill:  self  In:  content     i have not tied my self in a specific field\n"
          ],
          "name": "stdout"
        },
        {
          "output_type": "stream",
          "text": [
            "\n",
            " 94%|█████████▍| 65164/69499 [01:09<00:04, 1000.57it/s]\u001b[A\n",
            " 94%|█████████▍| 65265/69499 [01:09<00:04, 1001.08it/s]\u001b[A\n",
            " 94%|█████████▍| 65371/69499 [01:09<00:04, 1017.28it/s]\u001b[A"
          ],
          "name": "stderr"
        },
        {
          "output_type": "stream",
          "text": [
            "Found Skill:  pilot  In:  content     set up and did a pilot for a corporate channe...\n",
            "Found Skill:  span  In:  content     managed to triple the numbers within a span o...\n"
          ],
          "name": "stdout"
        },
        {
          "output_type": "stream",
          "text": [
            "\n",
            " 94%|█████████▍| 65473/69499 [01:09<00:03, 1007.47it/s]\u001b[A\n",
            " 94%|█████████▍| 65578/69499 [01:09<00:03, 1017.64it/s]\u001b[A"
          ],
          "name": "stderr"
        },
        {
          "output_type": "stream",
          "text": [
            "Found Skill:  c++  In:  content     c++ (less than 1 year)\n",
            "Found Skill:  database  In:  content     database management system.\n",
            "Found Skill:  harbour  In:  content     western and harbour line)\n"
          ],
          "name": "stdout"
        },
        {
          "output_type": "stream",
          "text": [
            "\n",
            " 95%|█████████▍| 65680/69499 [01:09<00:03, 1004.86it/s]\u001b[A\n",
            " 95%|█████████▍| 65781/69499 [01:09<00:03, 984.14it/s] \u001b[A\n",
            " 95%|█████████▍| 65885/69499 [01:09<00:03, 999.68it/s]\u001b[A\n",
            " 95%|█████████▍| 65986/69499 [01:10<00:03, 974.02it/s]\u001b[A"
          ],
          "name": "stderr"
        },
        {
          "output_type": "stream",
          "text": [
            "Found Skill:  self  In:  content     develop self   others..     analytical   data...\n",
            "Found Skill:  c++  In:  content     c++ (less than 1 year)\n"
          ],
          "name": "stdout"
        },
        {
          "output_type": "stream",
          "text": [
            "\n",
            " 95%|█████████▌| 66085/69499 [01:10<00:03, 978.44it/s]\u001b[A\n",
            " 95%|█████████▌| 66184/69499 [01:10<00:03, 973.73it/s]\u001b[A\n",
            " 95%|█████████▌| 66288/69499 [01:10<00:03, 991.67it/s]\u001b[A"
          ],
          "name": "stderr"
        },
        {
          "output_type": "stream",
          "text": [
            "Found Skill:  blue  In:  content     where in blue star s. presence is not there..\n",
            "Found Skill:  blue  In:  content     blue star make ahri certified screw chillers ...\n",
            "Found Skill:  blue  In:  content     sales of 9800 tr of blue star make screw chil...\n",
            "Found Skill:  blue  In:  content     blue star ltd -  gurgaon\n",
            "Found Skill:  blue  In:  content     blue star ltd -  gurgaon\n",
            "Found Skill:  blue  In:  content     blue star ltd -  gurgaon\n",
            "Found Skill:  blue  In:  content     blue star ltd -  gurgaon\n",
            "Found Skill:  blue  In:  content     m/s blue star ltd -  new delhi\n",
            "Found Skill:  plus  In:  content     plus four wheel\n",
            "Found Skill:  plus  In:  content     plus allowances and other perks.. .\n"
          ],
          "name": "stdout"
        },
        {
          "output_type": "stream",
          "text": [
            "\n",
            " 96%|█████████▌| 66388/69499 [01:10<00:03, 984.09it/s]\u001b[A\n",
            " 96%|█████████▌| 66491/69499 [01:10<00:03, 995.65it/s]\u001b[A"
          ],
          "name": "stderr"
        },
        {
          "output_type": "stream",
          "text": [
            "Found Skill:  sql  In:  content     sql\n",
            "Found Skill:  excel  In:  content     ms office tools: ms excel\n",
            "Found Skill:  word  In:  content     ms word\n",
            "Found Skill:  c++  In:  content     c++\n"
          ],
          "name": "stdout"
        },
        {
          "output_type": "stream",
          "text": [
            "\n",
            " 96%|█████████▌| 66591/69499 [01:10<00:02, 975.00it/s]\u001b[A\n",
            " 96%|█████████▌| 66690/69499 [01:10<00:02, 978.98it/s]\u001b[A\n",
            " 96%|█████████▌| 66795/69499 [01:10<00:02, 998.88it/s]\u001b[A"
          ],
          "name": "stderr"
        },
        {
          "output_type": "stream",
          "text": [
            "Found Skill:  small  In:  content     small towns like\n",
            "Found Skill:  acc  In:  content     m com in acc\n"
          ],
          "name": "stdout"
        },
        {
          "output_type": "stream",
          "text": [
            "\n",
            " 96%|█████████▋| 66899/69499 [01:10<00:02, 1009.50it/s]\u001b[A\n",
            " 96%|█████████▋| 67001/69499 [01:11<00:02, 999.54it/s] \u001b[A"
          ],
          "name": "stderr"
        },
        {
          "output_type": "stream",
          "text": [
            "Found Skill:  max  In:  content     2) company name: working with max new york li...\n",
            "Found Skill:  max  In:  content     worked 9 months in max new york life insuranc...\n"
          ],
          "name": "stdout"
        },
        {
          "output_type": "stream",
          "text": [
            "\n",
            " 97%|█████████▋| 67102/69499 [01:11<00:02, 987.79it/s]\u001b[A\n",
            " 97%|█████████▋| 67203/69499 [01:11<00:02, 993.26it/s]\u001b[A\n",
            " 97%|█████████▋| 67305/69499 [01:11<00:02, 999.70it/s]\u001b[A"
          ],
          "name": "stderr"
        },
        {
          "output_type": "stream",
          "text": [
            "Found Skill:  scheme  In:  content     planned a scheme for the distributors and dea...\n",
            "Found Skill:  small  In:  content     generated the business from small towns\n"
          ],
          "name": "stdout"
        },
        {
          "output_type": "stream",
          "text": [
            "\n",
            " 97%|█████████▋| 67406/69499 [01:11<00:02, 973.82it/s]\u001b[A\n",
            " 97%|█████████▋| 67504/69499 [01:11<00:02, 971.67it/s]\u001b[A"
          ],
          "name": "stderr"
        },
        {
          "output_type": "stream",
          "text": [
            "Found Skill:  processing  In:  content     processing   determining the.\n",
            "Found Skill:  processing  In:  content     processing   determining the eligibility\n",
            "Found Skill:  processing  In:  content     data processing of u.s. based concern..\n",
            "Found Skill:  red  In:  content     maintenance and administration of red hat ent...\n"
          ],
          "name": "stdout"
        },
        {
          "output_type": "stream",
          "text": [
            "\n",
            " 97%|█████████▋| 67605/69499 [01:11<00:01, 981.37it/s]\u001b[A\n",
            " 97%|█████████▋| 67704/69499 [01:11<00:01, 946.84it/s]\u001b[A\n",
            " 98%|█████████▊| 67802/69499 [01:11<00:01, 954.64it/s]\u001b[A\n",
            " 98%|█████████▊| 67904/69499 [01:12<00:01, 972.48it/s]\u001b[A"
          ],
          "name": "stderr"
        },
        {
          "output_type": "stream",
          "text": [
            "Found Skill:  c++  In:  content     development experience in c++ while working o...\n",
            "Found Skill:  database  In:  content     working experience on database module and fix...\n",
            "Found Skill:  unity  In:  content     provided support of unity connection on cloud...\n",
            "Found Skill:  miranda  In:  content     miranda house -  delhi\n",
            "Found Skill:  c++  In:  content     c++ (3 years)\n",
            "Found Skill:  html  In:  content     html and .net programmer b.tech fresher.\n",
            "Found Skill:  html  In:  content     html\n",
            "Found Skill:  sql  In:  content     sql server.\n",
            "Found Skill:  c++  In:  content     c++\n",
            "Found Skill:  self  In:  content     self motivated\n"
          ],
          "name": "stdout"
        },
        {
          "output_type": "stream",
          "text": [
            "\n",
            " 98%|█████████▊| 68002/69499 [01:12<00:01, 960.21it/s]\u001b[A\n",
            " 98%|█████████▊| 68099/69499 [01:12<00:01, 960.78it/s]\u001b[A"
          ],
          "name": "stderr"
        },
        {
          "output_type": "stream",
          "text": [
            "Found Skill:  access  In:  content     reduction of access request processing cycle ...\n",
            "Found Skill:  sql  In:  content     sql server 2005\n"
          ],
          "name": "stdout"
        },
        {
          "output_type": "stream",
          "text": [
            "\n",
            " 98%|█████████▊| 68196/69499 [01:12<00:01, 961.55it/s]\u001b[A\n",
            " 98%|█████████▊| 68293/69499 [01:12<00:01, 946.98it/s]\u001b[A"
          ],
          "name": "stderr"
        },
        {
          "output_type": "stream",
          "text": [
            "Found Skill:  code  In:  content     handling framework..     review the bw code a...\n",
            "Found Skill:  code  In:  content     deploy the bw code in dev and qa environments...\n",
            "Found Skill:  sql  In:  content     sql server 2005.. .\n",
            "Found Skill:  database  In:  content     update iris database\n",
            "Found Skill:  sql  In:  content     integrate bw services with sql server\n",
            "Found Skill:  code  In:  content     deploy the bw code in dev and qa environments..\n",
            "Found Skill:  sql  In:  content     sql server 2005.. .\n",
            "Found Skill:  xml  In:  content     designed xml schema definitions (xsd) for mes...\n"
          ],
          "name": "stdout"
        },
        {
          "output_type": "stream",
          "text": [
            "\n",
            " 98%|█████████▊| 68388/69499 [01:12<00:01, 929.84it/s]\u001b[A\n",
            " 99%|█████████▊| 68484/69499 [01:12<00:01, 938.68it/s]\u001b[A"
          ],
          "name": "stderr"
        },
        {
          "output_type": "stream",
          "text": [
            "Found Skill:  pipelines  In:  content     pipelines etc).\n",
            "Found Skill:  excel  In:  content     excel sheet.\n",
            "Found Skill:  code  In:  content     reviewed the code delivered based on design d...\n",
            "Found Skill:  code  In:  content     deployed the delivered code in dev environmen...\n",
            "Found Skill:  sql  In:  content     sql\n",
            "Found Skill:  access  In:  content     ms access\n",
            "Found Skill:  xml  In:  content     created sample xml and xsd for the business c...\n",
            "Found Skill:  .net  In:  content     developed .net program using the siebel adapt...\n",
            "Found Skill:  .net  In:  content     developed .net program to extract metadata fo...\n",
            "Found Skill:  .net  In:  content     developed .net program to post data into sieb...\n",
            "Found Skill:  .net  In:  content     whidbey (microsoft visual studio .net 2005)\n",
            "Found Skill:  .net  In:  content     .net 2.0.. .\n",
            "Found Skill:  focus  In:  content     primary focus is on development of tibco adap...\n"
          ],
          "name": "stdout"
        },
        {
          "output_type": "stream",
          "text": [
            "\n",
            " 99%|█████████▊| 68578/69499 [01:12<00:00, 929.96it/s]\u001b[A\n",
            " 99%|█████████▉| 68672/69499 [01:12<00:00, 904.40it/s]\u001b[A"
          ],
          "name": "stderr"
        },
        {
          "output_type": "stream",
          "text": [
            "Found Skill:  code  In:  content     prepared code review guide documentation for ...\n",
            "Found Skill:  code  In:  content     this document captures the code changes that ...\n",
            "Found Skill:  sql  In:  content     pl sql script changes for the all transaction...\n",
            "Found Skill:  code  In:  content     prepared code review guide documentation for ...\n",
            "Found Skill:  code  In:  content     its code level details to.\n",
            "Found Skill:  java  In:  content     environment: java\n",
            "Found Skill:  sql  In:  content     pl sql coding\n",
            "Found Skill:  red  In:  content     red hat linux as 3.0\n",
            "Found Skill:  java  In:  content     java programming\n",
            "Found Skill:  html  In:  content     html\n",
            "Found Skill:  java  In:  content     dhtml   java script.\n",
            "Found Skill:  .net  In:  content     the project involves development of the .net ...\n",
            "Found Skill:  .net  In:  content     a proof of concept where .net components are ...\n",
            "Found Skill:  excel  In:  content     share point portal and microsoft excel to sup...\n",
            "Found Skill:  bpel  In:  content     - oracle bpel\n"
          ],
          "name": "stdout"
        },
        {
          "output_type": "stream",
          "text": [
            "\n",
            " 99%|█████████▉| 68767/69499 [01:12<00:00, 914.26it/s]\u001b[A\n",
            " 99%|█████████▉| 68859/69499 [01:13<00:00, 908.47it/s]\u001b[A"
          ],
          "name": "stderr"
        },
        {
          "output_type": "stream",
          "text": [
            "Found Skill:  c++  In:  content     c++\n",
            "Found Skill:  .net  In:  content     .net 2.0\n",
            "Found Skill:  sql  In:  content     sql\n",
            "Found Skill:  pl/sql  In:  content     pl/sql\n",
            "Found Skill:  groovy  In:  content     groovy\n",
            "Found Skill:  java  In:  content     drools and java 1.4.x.\n",
            "Found Skill:  sql  In:  content     ms sql server 2000\n",
            "Found Skill:  sql  In:  content     ms sql server 2005.\n",
            "Found Skill:  xml  In:  content     xml xml\n",
            "Found Skill:  xpath  In:  content     xpath\n",
            "Found Skill:  html  In:  content     technology html\n",
            "Found Skill:  vbscript  In:  content     vbscript\n",
            "Found Skill:  javascript  In:  content     javascript\n",
            "Found Skill:  html  In:  content     html\n",
            "Found Skill:  sql  In:  content     sql dba\n",
            "Found Skill:  php  In:  content     php\n",
            "Found Skill:  self  In:  content     satisfaction and self development and help me...\n"
          ],
          "name": "stdout"
        },
        {
          "output_type": "stream",
          "text": [
            "\n",
            " 99%|█████████▉| 68956/69499 [01:13<00:00, 923.62it/s]\u001b[A\n",
            " 99%|█████████▉| 69061/69499 [01:13<00:00, 957.00it/s]\u001b[A\n",
            "100%|█████████▉| 69163/69499 [01:13<00:00, 972.94it/s]\u001b[A\n",
            "100%|█████████▉| 69263/69499 [01:13<00:00, 980.55it/s]\u001b[A"
          ],
          "name": "stderr"
        },
        {
          "output_type": "stream",
          "text": [
            "Found Skill:  scheme  In:  content     logistics and scheme and marketing activities...\n",
            "Found Skill:  excel  In:  content     enthusiasm and a desire to excel\n"
          ],
          "name": "stdout"
        },
        {
          "output_type": "stream",
          "text": [
            "\n",
            "100%|█████████▉| 69362/69499 [01:13<00:00, 965.21it/s]\u001b[A\n",
            "100%|██████████| 69499/69499 [01:13<00:00, 942.84it/s]"
          ],
          "name": "stderr"
        },
        {
          "output_type": "stream",
          "text": [
            "Found Skill:  clean  In:  content     regulate the process during batch and clean i...\n",
            "Found Skill:  processing  In:  content     upstream processing of h1n1 monovalent vaccin...\n"
          ],
          "name": "stdout"
        },
        {
          "output_type": "stream",
          "text": [
            "\n"
          ],
          "name": "stderr"
        }
      ]
    },
    {
      "cell_type": "code",
      "metadata": {
        "colab_type": "code",
        "id": "p6Q_dBFOw0uw",
        "colab": {}
      },
      "source": [
        "label_model = LabelModel(cardinality=6, verbose=True)"
      ],
      "execution_count": null,
      "outputs": []
    },
    {
      "cell_type": "code",
      "metadata": {
        "colab_type": "code",
        "id": "9kIeJlQ5w0ux",
        "colab": {}
      },
      "source": [
        "label_model.fit(L_train, n_epochs=500, log_freq=50, seed=123)"
      ],
      "execution_count": null,
      "outputs": []
    },
    {
      "cell_type": "code",
      "metadata": {
        "colab_type": "code",
        "id": "uGXcOQ08w0uz",
        "colab": {}
      },
      "source": [
        "df_spacy[\"label\"] = label_model.predict(L=L_train, tie_break_policy=\"abstain\")"
      ],
      "execution_count": null,
      "outputs": []
    },
    {
      "cell_type": "code",
      "metadata": {
        "colab_type": "code",
        "id": "joUCXpC_w0u2",
        "scrolled": true,
        "colab": {
          "base_uri": "https://localhost:8080/",
          "height": 218
        },
        "outputId": "0e816e2c-a6ba-4868-cfe6-162c511b9f6d"
      },
      "source": [
        "df_spacy[\"label\"]"
      ],
      "execution_count": null,
      "outputs": [
        {
          "output_type": "execute_result",
          "data": {
            "text/plain": [
              "0       -1\n",
              "1       -1\n",
              "2       -1\n",
              "3       -1\n",
              "4       -1\n",
              "        ..\n",
              "69494   -1\n",
              "69495   -1\n",
              "69496   -1\n",
              "69497   -1\n",
              "69498   -1\n",
              "Name: label, Length: 69499, dtype: int64"
            ]
          },
          "metadata": {
            "tags": []
          },
          "execution_count": 21
        }
      ]
    },
    {
      "cell_type": "code",
      "metadata": {
        "colab_type": "code",
        "id": "omPvpuTZw0u4",
        "colab": {}
      },
      "source": [
        "df_spacy.to_csv(path_or_buf = 'snorkel_labeled.csv',index=False)\n",
        "df_spacy = df_spacy[df_spacy.label != ABSTAIN]"
      ],
      "execution_count": null,
      "outputs": []
    },
    {
      "cell_type": "code",
      "metadata": {
        "id": "qwisC5FbFfgU",
        "colab_type": "code",
        "colab": {
          "base_uri": "https://localhost:8080/",
          "height": 1000
        },
        "outputId": "483c13e1-9b62-4f2c-f34a-aae8350e42fc"
      },
      "source": [
        "exp_array = []\n",
        "for e in range(len(experience_array)):\n",
        "  exp_array.append(experience_array[e][12:])\n",
        "  #print(experience_array[e])\n",
        "\n"
      ],
      "execution_count": null,
      "outputs": [
        {
          "output_type": "stream",
          "text": [
            "database (less than 1 year)\n",
            "html (less than 1 year)\n",
            "access (less than 1 year)\n",
            "having 3.5 years of it experience in sql data...\n",
            "having 3.5 years of it experience in sql data...\n",
            "database (3 years)\n",
            "sql (3 years)\n",
            "java (1 year)\n",
            "c++ (less than 1 year)\n",
            "css (less than 1 year).\n",
            "creo (less than 1 year)\n",
            "python (less than 1 year)\n",
            "database (less than 1 year)\n",
            "java (less than 1 year)\n",
            "jira (less than 1. year)\n",
            "css (less than 1 year)\n",
            "excel (less than 1 year)\n",
            "ms excel (less than 1 year)\n",
            "java (3 years)\n",
            "junit (2 years)\n",
            "access (less than 1 year)\n",
            "css (less than 1 year)\n",
            "database (less than 1 year).\n",
            "oracle 5 years 2 month     core java developer.\n",
            "python (2 years)\n",
            "java (1 year)\n",
            "css (1 year)\n",
            "html (1 year)\n",
            "mysql (1 year)\n",
            "javascript (less than 1 year)\n",
            "math and c++ for 4 years.. .\n",
            "database (3 years)\n",
            "python (3 years)\n",
            "sql (3 years)\n",
            "xml (3 years).\n",
            "sap abap (2 years).\n",
            "tcl (4 years)\n",
            "python (2 years).\n",
            "abap (2 years)\n",
            "c++ (less than 1 year)\n",
            "xml (3 years).\n",
            "java (3 years)\n",
            "mysql (3 years)\n",
            "python (6 years).\n",
            "chef (1 year)\n",
            "database (less than 1 year).\n",
            "html (1 year)\n",
            "c++ (less than 1 year)\n",
            "ms excel (2 years)\n",
            "ms word (2 years)\n",
            "database (less than 1 year)\n",
            "sql (less than 1 year)\n",
            "java (3 years)\n",
            "cobol (4 years)\n",
            "cics (4. years)\n",
            "rexx (4 years).\n",
            "html (less than 1 year)\n",
            "sql (less than 1 year)\n",
            "java (less than 1 year)\n",
            "database management (less than 1 year).\n",
            "holt renfrew is 180 years old chain of high-e...\n",
            "attended a three-day workshop on c and c++ pr...\n",
            "attended a one-day workshop on java and hardw...\n",
            "java (10+ years)\n",
            "javascript (less than 1 year).\n",
            ".net (less than 1 year)\n",
            "gap analysis (5 years)\n",
            "java (6 years)\n",
            "abap (less than 1 year)\n",
            "access (less than 1. year).\n",
            "python (4 years)\n",
            "tcl (4 years)\n",
            "database (4 years)\n",
            "java (2 years).\n",
            ".net (6 years)\n",
            "html (less than 1 year)\n",
            "sql (6 years)\n",
            "database (less than 1 year)\n",
            "java (less than 1 year)\n",
            "jira (less than 1. year)\n",
            "microsoft office and java (less than 1 year).\n",
            "perl (10+ years)\n",
            "sql (10+ years)\n",
            "database (10+ years)\n",
            "excel (2 years)\n",
            "java (1 year).\n",
            "ava (less than 1 year).\n",
            "attended a three-day workshop on c and c++ pr...\n",
            "attended a one-day workshop on java and hardw...\n",
            "database (1 year)\n",
            ".net (3 years)\n",
            "excel (less than 1 year)\n",
            "microsoft word (less than 1 year)\n",
            "ms excel (less than 1 year)\n",
            "word (less than 1 year).\n",
            "excel (less than 1 year)\n",
            "html (less than 1 year)\n",
            "javascript (less than 1 year)\n",
            "sql (less than 1 year).\n",
            "excel (less than 1 year)\n",
            ".net (less than 1 year)\n",
            ".net 4.5 (less than 1 year)\n",
            "3 tcs security guard access control room 1 year.\n",
            "excel (3 years)\n",
            "ms word (3 years)\n",
            "word (3 years).\n",
            ".net (less than 1 year)\n",
            "database (less than 1 year)\n",
            "sql (less than 1 year).\n",
            "oracle pl/sql (6 years)\n",
            "excel (less than 1 year)\n",
            "word (less than 1 year).\n",
            "excel (less than 1 year)\n",
            "c++ (6 years)\n",
            ".net (2 years)\n",
            "java (1 year).\n",
            "html (less than 1 year)\n",
            "java (2 years)\n",
            "sql (2 years).\n",
            ".net (1 year)\n",
            "database (3 years)\n",
            "core java (1 year).\n",
            "excel (less than 1 year)\n",
            "c++ (less than 1 year)\n",
            "css (less than 1 year).\n",
            "sql (1 year)\n",
            "html (less than 1 year)\n",
            "excel (less than 1 year)\n",
            "word (less than 1 year).\n",
            "sql server (3 years)\n",
            "javascript (6. years)\n",
            "vba (2 years)\n",
            "excel (10+ years)\n",
            "arc sight (2 years)\n",
            "excel (less than 1 year)\n",
            "ms word (less than 1. year)\n",
            "self motivated (less than 1 year)\n",
            "achieved projected sales goal monthly.\n",
            "excel (less than 1 year)\n",
            "ms. word (less than 1 year)\n",
            "foxpro (less than 1 year)\n",
            "database (2 years)\n",
            "excel (less than 1 year)\n",
            "ms word (less than 1. year)\n",
            "word and excel and besic (3 years).\n",
            "excel (2 years)\n",
            "word (2 years).\n",
            "database (2 years)\n",
            "excel (4 years).\n",
            "c++ (less than 1 year)\n",
            "excel (less than 1 year)\n",
            "ms word (less than 1 year)\n",
            "word (less than 1 year).\n",
            "c++ (less than 1 year)\n",
            "2 crores in just a span of a month.. .\n",
            "excel (less than 1 year)\n",
            "ms word (less than 1 year)\n",
            "excel (less than 1 year)\n",
            "ms excel (less than 1 year)\n",
            "self motivated (less than 1 year)\n",
            "over 13 plus years of experience in mep systems.\n",
            "excel (less than 1 year)\n",
            "ms. word (less than 1 year)\n",
            "excel (less than 1 year)\n",
            "ms word (less than 1 year)\n",
            "word (less than 1 year).\n",
            "excel (less than 1 year)\n",
            "microsoft excel (less than 1 year)\n",
            "microsoft word (less than 1 year).\n",
            "excel (less than 1 year)\n",
            "excel (less than 1 year)\n",
            "ms word (less than 1 year)\n",
            "word (less than 1 year).\n",
            "excel (less than 1 year)\n",
            "microsoft word (less than 1 year)\n",
            "database (less than 1 year)\n",
            "database management (less than 1 year)\n",
            "database management system (less than 1 year)\n",
            "java (less than 1 year).\n",
            "database (less than 1 year)\n",
            "html (less than 1 year)\n",
            "access (less than 1 year)\n",
            "cobol (3 years)\n",
            "jcl (3 years)\n",
            "having 3.5 years of it experience in sql data...\n",
            "having 3.5 years of it experience in sql data...\n",
            "database (3 years)\n",
            "sql (3 years)\n",
            "access (less than 1 year)\n",
            "java (1 year)\n",
            "c++ (less than 1 year)\n",
            "css (less than 1 year).\n",
            "creo (less than 1 year)\n",
            "python (less than 1 year)\n",
            "database (less than 1 year)\n",
            "java (less than 1 year)\n",
            "jira (less than 1. year)\n",
            "css (less than 1 year)\n",
            "excel (less than 1 year)\n",
            "ms excel (less than 1 year)\n",
            "java (3 years)\n",
            "junit (2 years)\n",
            "access (less than 1 year)\n",
            "css (less than 1 year)\n",
            "database (less than 1 year).\n",
            "oracle 5 years 2 month     core java developer.\n",
            "python (2 years)\n",
            "java (1 year)\n",
            "css (1 year)\n",
            "html (1 year)\n",
            "mysql (1 year)\n",
            "javascript (less than 1 year)\n",
            "math and c++ for 4 years.. .\n",
            "database (3 years)\n",
            "python (3 years)\n",
            "sql (3 years)\n",
            "xml (3 years).\n",
            "sap abap (2 years).\n",
            "tcl (4 years)\n",
            "python (2 years).\n",
            "abap (2 years)\n",
            "c++ (less than 1 year)\n",
            "xml (3 years).\n",
            "java (3 years)\n",
            "mysql (3 years)\n",
            "python (6 years).\n",
            "chef (1 year)\n",
            "c++ (less than 1 year)\n",
            "ms excel (2 years)\n",
            "ms word (2 years)\n",
            "database (less than 1 year)\n",
            "sql (less than 1 year)\n",
            "java (3 years)\n",
            "cobol (4 years)\n",
            "cics (4. years)\n",
            "rexx (4 years).\n",
            "html (less than 1 year)\n",
            "sql (less than 1 year)\n",
            "java (less than 1 year)\n",
            "database management (less than 1 year).\n",
            "attended a three-day workshop on c and c++ pr...\n",
            "attended a one-day workshop on java and hardw...\n",
            "java (6 years)\n",
            "abap (less than 1 year)\n",
            "access (less than 1. year).\n",
            "excel (less than 1 year)\n",
            "ms excel (less than 1 year)\n",
            "excel (less than 1 year)\n",
            "ms word (less than 1 year)\n",
            "word (less than 1 year).\n",
            "excel (3 years)\n",
            "html (less than 1 year)\n",
            "process by 70  in a span of 3 months..\n",
            "process by 70  in a span of 3 months..\n",
            "excel (less than 1 year)\n",
            "word (less than 1 year).\n",
            "in span of one year.\n",
            "access (less than 1 year)\n",
            "excel (less than 1 year)\n",
            "self motivated (less than 1 year).\n",
            "excel (less than 1 year)\n",
            "ms word (less than 1 year)\n",
            "excel (less than 1 year)\n",
            "excel 2003 (less than 1 year)\n",
            "microsoft excel (less than 1. year)\n",
            "excel (less than 1 year)\n",
            "ms excel (less than 1 year)\n",
            "ms. word (less than 1 year)\n",
            "excel avanc   (9 years)\n",
            "java (less than 1 year)\n",
            "java (less than 1 year)\n",
            "corporate tie ups for yearly subscription and...\n",
            "tcl (4 years)\n",
            "python (2 years).\n",
            "c++ (less than 1 year)\n",
            "css (less than 1 year).\n",
            "c++ (less than 1 year)\n",
            "c++ (less than 1 year)\n",
            "java (less than 1 year)\n",
            "excel (less than 1 year)\n",
            ".net (less than 1 year)\n",
            "database (less than 1 year)\n",
            "sql (less than 1 year).\n",
            "database (3 years)\n",
            "core java (1 year).\n",
            "python (2 years)\n",
            "sql server (3 years)\n",
            "javascript (6. years)\n",
            "vba (2 years)\n",
            "word and excel and besic (3 years).\n",
            "excel (10+ years)\n",
            "ms excel (10+ years).\n",
            "excel (less than 1 year)\n",
            "ms. word (less than 1 year)\n",
            "self motivated (less than 1 year).\n",
            "c++ (less than 1 year)\n",
            "c++ (less than 1 year)\n",
            "worked 9 months in max new york life insuranc...\n",
            "c++ (3 years)\n"
          ],
          "name": "stdout"
        }
      ]
    },
    {
      "cell_type": "code",
      "metadata": {
        "id": "cAi9OITAgnjN",
        "colab_type": "code",
        "colab": {
          "base_uri": "https://localhost:8080/",
          "height": 1000
        },
        "outputId": "43a52ac0-3ec3-4110-87be-a55e77c0f335"
      },
      "source": [
        "import xlwt \n",
        "from xlwt import Workbook \n",
        "  \n",
        "# Workbook is created \n",
        "wb = Workbook() \n",
        "  \n",
        "# add_sheet is used to create sheet. \n",
        "sheet1 = wb.add_sheet('Sheet 1') \n",
        "\n",
        "sheet1.write(0, 0, 'EXPERIENCE')\n",
        "\n",
        "counter=1\n",
        "\n",
        "for e in exp_array:\n",
        "  sheet1.write(0, counter,e)\n",
        "  print(e)\n",
        "  counter+=1\n",
        "\n",
        "wb.save('Experience.xls') "
      ],
      "execution_count": null,
      "outputs": [
        {
          "output_type": "stream",
          "text": [
            "database (less than 1 year)\n",
            "html (less than 1 year)\n",
            "access (less than 1 year)\n",
            "having 3.5 years of it experience in sql data...\n",
            "having 3.5 years of it experience in sql data...\n",
            "database (3 years)\n",
            "sql (3 years)\n",
            "java (1 year)\n",
            "c++ (less than 1 year)\n",
            "css (less than 1 year).\n",
            "creo (less than 1 year)\n",
            "python (less than 1 year)\n",
            "database (less than 1 year)\n",
            "java (less than 1 year)\n",
            "jira (less than 1. year)\n",
            "css (less than 1 year)\n",
            "excel (less than 1 year)\n",
            "ms excel (less than 1 year)\n",
            "java (3 years)\n",
            "junit (2 years)\n",
            "access (less than 1 year)\n",
            "css (less than 1 year)\n",
            "database (less than 1 year).\n",
            "oracle 5 years 2 month     core java developer.\n",
            "python (2 years)\n",
            "java (1 year)\n",
            "css (1 year)\n",
            "html (1 year)\n",
            "mysql (1 year)\n",
            "javascript (less than 1 year)\n",
            "math and c++ for 4 years.. .\n",
            "database (3 years)\n",
            "python (3 years)\n",
            "sql (3 years)\n",
            "xml (3 years).\n",
            "sap abap (2 years).\n",
            "tcl (4 years)\n",
            "python (2 years).\n",
            "abap (2 years)\n",
            "c++ (less than 1 year)\n",
            "xml (3 years).\n",
            "java (3 years)\n",
            "mysql (3 years)\n",
            "python (6 years).\n",
            "chef (1 year)\n",
            "database (less than 1 year).\n",
            "html (1 year)\n",
            "c++ (less than 1 year)\n",
            "ms excel (2 years)\n",
            "ms word (2 years)\n",
            "database (less than 1 year)\n",
            "sql (less than 1 year)\n",
            "java (3 years)\n",
            "cobol (4 years)\n",
            "cics (4. years)\n",
            "rexx (4 years).\n",
            "html (less than 1 year)\n",
            "sql (less than 1 year)\n",
            "java (less than 1 year)\n",
            "database management (less than 1 year).\n",
            "holt renfrew is 180 years old chain of high-e...\n",
            "attended a three-day workshop on c and c++ pr...\n",
            "attended a one-day workshop on java and hardw...\n",
            "java (10+ years)\n",
            "javascript (less than 1 year).\n",
            ".net (less than 1 year)\n",
            "gap analysis (5 years)\n",
            "java (6 years)\n",
            "abap (less than 1 year)\n",
            "access (less than 1. year).\n",
            "python (4 years)\n",
            "tcl (4 years)\n",
            "database (4 years)\n",
            "java (2 years).\n",
            ".net (6 years)\n",
            "html (less than 1 year)\n",
            "sql (6 years)\n",
            "database (less than 1 year)\n",
            "java (less than 1 year)\n",
            "jira (less than 1. year)\n",
            "microsoft office and java (less than 1 year).\n",
            "perl (10+ years)\n",
            "sql (10+ years)\n",
            "database (10+ years)\n",
            "excel (2 years)\n",
            "java (1 year).\n",
            "ava (less than 1 year).\n",
            "attended a three-day workshop on c and c++ pr...\n",
            "attended a one-day workshop on java and hardw...\n",
            "database (1 year)\n",
            ".net (3 years)\n",
            "excel (less than 1 year)\n",
            "microsoft word (less than 1 year)\n",
            "ms excel (less than 1 year)\n",
            "word (less than 1 year).\n",
            "excel (less than 1 year)\n",
            "html (less than 1 year)\n",
            "javascript (less than 1 year)\n",
            "sql (less than 1 year).\n",
            "excel (less than 1 year)\n",
            ".net (less than 1 year)\n",
            ".net 4.5 (less than 1 year)\n",
            "3 tcs security guard access control room 1 year.\n",
            "excel (3 years)\n",
            "ms word (3 years)\n",
            "word (3 years).\n",
            ".net (less than 1 year)\n",
            "database (less than 1 year)\n",
            "sql (less than 1 year).\n",
            "oracle pl/sql (6 years)\n",
            "excel (less than 1 year)\n",
            "word (less than 1 year).\n",
            "excel (less than 1 year)\n",
            "c++ (6 years)\n",
            ".net (2 years)\n",
            "java (1 year).\n",
            "html (less than 1 year)\n",
            "java (2 years)\n",
            "sql (2 years).\n",
            ".net (1 year)\n",
            "database (3 years)\n",
            "core java (1 year).\n",
            "excel (less than 1 year)\n",
            "c++ (less than 1 year)\n",
            "css (less than 1 year).\n",
            "sql (1 year)\n",
            "html (less than 1 year)\n",
            "excel (less than 1 year)\n",
            "word (less than 1 year).\n",
            "sql server (3 years)\n",
            "javascript (6. years)\n",
            "vba (2 years)\n",
            "excel (10+ years)\n",
            "arc sight (2 years)\n",
            "excel (less than 1 year)\n",
            "ms word (less than 1. year)\n",
            "self motivated (less than 1 year)\n",
            "achieved projected sales goal monthly.\n",
            "excel (less than 1 year)\n",
            "ms. word (less than 1 year)\n",
            "foxpro (less than 1 year)\n",
            "database (2 years)\n",
            "excel (less than 1 year)\n",
            "ms word (less than 1. year)\n",
            "word and excel and besic (3 years).\n",
            "excel (2 years)\n",
            "word (2 years).\n",
            "database (2 years)\n",
            "excel (4 years).\n",
            "c++ (less than 1 year)\n",
            "excel (less than 1 year)\n",
            "ms word (less than 1 year)\n",
            "word (less than 1 year).\n",
            "c++ (less than 1 year)\n",
            "2 crores in just a span of a month.. .\n",
            "excel (less than 1 year)\n",
            "ms word (less than 1 year)\n",
            "excel (less than 1 year)\n",
            "ms excel (less than 1 year)\n",
            "self motivated (less than 1 year)\n",
            "over 13 plus years of experience in mep systems.\n",
            "excel (less than 1 year)\n",
            "ms. word (less than 1 year)\n",
            "excel (less than 1 year)\n",
            "ms word (less than 1 year)\n",
            "word (less than 1 year).\n",
            "excel (less than 1 year)\n",
            "microsoft excel (less than 1 year)\n",
            "microsoft word (less than 1 year).\n",
            "excel (less than 1 year)\n",
            "excel (less than 1 year)\n",
            "ms word (less than 1 year)\n",
            "word (less than 1 year).\n",
            "excel (less than 1 year)\n",
            "microsoft word (less than 1 year)\n",
            "database (less than 1 year)\n",
            "database management (less than 1 year)\n",
            "database management system (less than 1 year)\n",
            "java (less than 1 year).\n",
            "database (less than 1 year)\n",
            "html (less than 1 year)\n",
            "access (less than 1 year)\n",
            "cobol (3 years)\n",
            "jcl (3 years)\n",
            "having 3.5 years of it experience in sql data...\n",
            "having 3.5 years of it experience in sql data...\n",
            "database (3 years)\n",
            "sql (3 years)\n",
            "access (less than 1 year)\n",
            "java (1 year)\n",
            "c++ (less than 1 year)\n",
            "css (less than 1 year).\n",
            "creo (less than 1 year)\n",
            "python (less than 1 year)\n",
            "database (less than 1 year)\n",
            "java (less than 1 year)\n",
            "jira (less than 1. year)\n",
            "css (less than 1 year)\n",
            "excel (less than 1 year)\n",
            "ms excel (less than 1 year)\n",
            "java (3 years)\n",
            "junit (2 years)\n",
            "access (less than 1 year)\n",
            "css (less than 1 year)\n",
            "database (less than 1 year).\n",
            "oracle 5 years 2 month     core java developer.\n",
            "python (2 years)\n",
            "java (1 year)\n",
            "css (1 year)\n",
            "html (1 year)\n",
            "mysql (1 year)\n",
            "javascript (less than 1 year)\n",
            "math and c++ for 4 years.. .\n",
            "database (3 years)\n",
            "python (3 years)\n",
            "sql (3 years)\n",
            "xml (3 years).\n",
            "sap abap (2 years).\n",
            "tcl (4 years)\n",
            "python (2 years).\n",
            "abap (2 years)\n",
            "c++ (less than 1 year)\n",
            "xml (3 years).\n",
            "java (3 years)\n",
            "mysql (3 years)\n",
            "python (6 years).\n",
            "chef (1 year)\n",
            "c++ (less than 1 year)\n",
            "ms excel (2 years)\n",
            "ms word (2 years)\n",
            "database (less than 1 year)\n",
            "sql (less than 1 year)\n",
            "java (3 years)\n",
            "cobol (4 years)\n",
            "cics (4. years)\n",
            "rexx (4 years).\n",
            "html (less than 1 year)\n",
            "sql (less than 1 year)\n",
            "java (less than 1 year)\n",
            "database management (less than 1 year).\n",
            "attended a three-day workshop on c and c++ pr...\n",
            "attended a one-day workshop on java and hardw...\n",
            "java (6 years)\n",
            "abap (less than 1 year)\n",
            "access (less than 1. year).\n",
            "excel (less than 1 year)\n",
            "ms excel (less than 1 year)\n",
            "excel (less than 1 year)\n",
            "ms word (less than 1 year)\n",
            "word (less than 1 year).\n",
            "excel (3 years)\n",
            "html (less than 1 year)\n",
            "process by 70  in a span of 3 months..\n",
            "process by 70  in a span of 3 months..\n",
            "excel (less than 1 year)\n"
          ],
          "name": "stdout"
        },
        {
          "output_type": "error",
          "ename": "ValueError",
          "evalue": "ignored",
          "traceback": [
            "\u001b[0;31m---------------------------------------------------------------------------\u001b[0m",
            "\u001b[0;31mValueError\u001b[0m                                Traceback (most recent call last)",
            "\u001b[0;32m<ipython-input-67-9310f90d498c>\u001b[0m in \u001b[0;36m<module>\u001b[0;34m()\u001b[0m\n\u001b[1;32m     13\u001b[0m \u001b[0;34m\u001b[0m\u001b[0m\n\u001b[1;32m     14\u001b[0m \u001b[0;32mfor\u001b[0m \u001b[0me\u001b[0m \u001b[0;32min\u001b[0m \u001b[0mexp_array\u001b[0m\u001b[0;34m:\u001b[0m\u001b[0;34m\u001b[0m\u001b[0;34m\u001b[0m\u001b[0m\n\u001b[0;32m---> 15\u001b[0;31m   \u001b[0msheet1\u001b[0m\u001b[0;34m.\u001b[0m\u001b[0mwrite\u001b[0m\u001b[0;34m(\u001b[0m\u001b[0;36m0\u001b[0m\u001b[0;34m,\u001b[0m \u001b[0mcounter\u001b[0m\u001b[0;34m,\u001b[0m\u001b[0me\u001b[0m\u001b[0;34m)\u001b[0m\u001b[0;34m\u001b[0m\u001b[0;34m\u001b[0m\u001b[0m\n\u001b[0m\u001b[1;32m     16\u001b[0m   \u001b[0mprint\u001b[0m\u001b[0;34m(\u001b[0m\u001b[0me\u001b[0m\u001b[0;34m)\u001b[0m\u001b[0;34m\u001b[0m\u001b[0;34m\u001b[0m\u001b[0m\n\u001b[1;32m     17\u001b[0m   \u001b[0mcounter\u001b[0m\u001b[0;34m+=\u001b[0m\u001b[0;36m1\u001b[0m\u001b[0;34m\u001b[0m\u001b[0;34m\u001b[0m\u001b[0m\n",
            "\u001b[0;32m/usr/local/lib/python3.6/dist-packages/xlwt/Worksheet.py\u001b[0m in \u001b[0;36mwrite\u001b[0;34m(self, r, c, label, style)\u001b[0m\n\u001b[1;32m   1086\u001b[0m            \u001b[0;34m:\u001b[0m\u001b[0;32mclass\u001b[0m\u001b[0;34m:\u001b[0m\u001b[0;31m`\u001b[0m\u001b[0;34m~\u001b[0m\u001b[0mxlwt\u001b[0m\u001b[0;34m.\u001b[0m\u001b[0mStyle\u001b[0m\u001b[0;34m.\u001b[0m\u001b[0mXFStyle\u001b[0m\u001b[0;31m`\u001b[0m \u001b[0mobject\u001b[0m\u001b[0;34m.\u001b[0m\u001b[0;34m\u001b[0m\u001b[0;34m\u001b[0m\u001b[0m\n\u001b[1;32m   1087\u001b[0m         \"\"\"\n\u001b[0;32m-> 1088\u001b[0;31m         \u001b[0mself\u001b[0m\u001b[0;34m.\u001b[0m\u001b[0mrow\u001b[0m\u001b[0;34m(\u001b[0m\u001b[0mr\u001b[0m\u001b[0;34m)\u001b[0m\u001b[0;34m.\u001b[0m\u001b[0mwrite\u001b[0m\u001b[0;34m(\u001b[0m\u001b[0mc\u001b[0m\u001b[0;34m,\u001b[0m \u001b[0mlabel\u001b[0m\u001b[0;34m,\u001b[0m \u001b[0mstyle\u001b[0m\u001b[0;34m)\u001b[0m\u001b[0;34m\u001b[0m\u001b[0;34m\u001b[0m\u001b[0m\n\u001b[0m\u001b[1;32m   1089\u001b[0m \u001b[0;34m\u001b[0m\u001b[0m\n\u001b[1;32m   1090\u001b[0m     \u001b[0;32mdef\u001b[0m \u001b[0mwrite_rich_text\u001b[0m\u001b[0;34m(\u001b[0m\u001b[0mself\u001b[0m\u001b[0;34m,\u001b[0m \u001b[0mr\u001b[0m\u001b[0;34m,\u001b[0m \u001b[0mc\u001b[0m\u001b[0;34m,\u001b[0m \u001b[0mrich_text_list\u001b[0m\u001b[0;34m,\u001b[0m \u001b[0mstyle\u001b[0m\u001b[0;34m=\u001b[0m\u001b[0mStyle\u001b[0m\u001b[0;34m.\u001b[0m\u001b[0mdefault_style\u001b[0m\u001b[0;34m)\u001b[0m\u001b[0;34m:\u001b[0m\u001b[0;34m\u001b[0m\u001b[0;34m\u001b[0m\u001b[0m\n",
            "\u001b[0;32m/usr/local/lib/python3.6/dist-packages/xlwt/Row.py\u001b[0m in \u001b[0;36mwrite\u001b[0;34m(self, col, label, style)\u001b[0m\n\u001b[1;32m    228\u001b[0m     \u001b[0;32mdef\u001b[0m \u001b[0mwrite\u001b[0m\u001b[0;34m(\u001b[0m\u001b[0mself\u001b[0m\u001b[0;34m,\u001b[0m \u001b[0mcol\u001b[0m\u001b[0;34m,\u001b[0m \u001b[0mlabel\u001b[0m\u001b[0;34m,\u001b[0m \u001b[0mstyle\u001b[0m\u001b[0;34m=\u001b[0m\u001b[0mStyle\u001b[0m\u001b[0;34m.\u001b[0m\u001b[0mdefault_style\u001b[0m\u001b[0;34m)\u001b[0m\u001b[0;34m:\u001b[0m\u001b[0;34m\u001b[0m\u001b[0;34m\u001b[0m\u001b[0m\n\u001b[1;32m    229\u001b[0m         \u001b[0mself\u001b[0m\u001b[0;34m.\u001b[0m\u001b[0m__adjust_height\u001b[0m\u001b[0;34m(\u001b[0m\u001b[0mstyle\u001b[0m\u001b[0;34m)\u001b[0m\u001b[0;34m\u001b[0m\u001b[0;34m\u001b[0m\u001b[0m\n\u001b[0;32m--> 230\u001b[0;31m         \u001b[0mself\u001b[0m\u001b[0;34m.\u001b[0m\u001b[0m__adjust_bound_col_idx\u001b[0m\u001b[0;34m(\u001b[0m\u001b[0mcol\u001b[0m\u001b[0;34m)\u001b[0m\u001b[0;34m\u001b[0m\u001b[0;34m\u001b[0m\u001b[0m\n\u001b[0m\u001b[1;32m    231\u001b[0m         \u001b[0mstyle_index\u001b[0m \u001b[0;34m=\u001b[0m \u001b[0mself\u001b[0m\u001b[0;34m.\u001b[0m\u001b[0m__parent_wb\u001b[0m\u001b[0;34m.\u001b[0m\u001b[0madd_style\u001b[0m\u001b[0;34m(\u001b[0m\u001b[0mstyle\u001b[0m\u001b[0;34m)\u001b[0m\u001b[0;34m\u001b[0m\u001b[0;34m\u001b[0m\u001b[0m\n\u001b[1;32m    232\u001b[0m         \u001b[0;32mif\u001b[0m \u001b[0misinstance\u001b[0m\u001b[0;34m(\u001b[0m\u001b[0mlabel\u001b[0m\u001b[0;34m,\u001b[0m \u001b[0mbasestring\u001b[0m\u001b[0;34m)\u001b[0m\u001b[0;34m:\u001b[0m\u001b[0;34m\u001b[0m\u001b[0;34m\u001b[0m\u001b[0m\n",
            "\u001b[0;32m/usr/local/lib/python3.6/dist-packages/xlwt/Row.py\u001b[0m in \u001b[0;36m__adjust_bound_col_idx\u001b[0;34m(self, *args)\u001b[0m\n\u001b[1;32m     71\u001b[0m             \u001b[0miarg\u001b[0m \u001b[0;34m=\u001b[0m \u001b[0mint\u001b[0m\u001b[0;34m(\u001b[0m\u001b[0marg\u001b[0m\u001b[0;34m)\u001b[0m\u001b[0;34m\u001b[0m\u001b[0;34m\u001b[0m\u001b[0m\n\u001b[1;32m     72\u001b[0m             \u001b[0;32mif\u001b[0m \u001b[0;32mnot\u001b[0m \u001b[0;34m(\u001b[0m\u001b[0;34m(\u001b[0m\u001b[0;36m0\u001b[0m \u001b[0;34m<=\u001b[0m \u001b[0miarg\u001b[0m \u001b[0;34m<=\u001b[0m \u001b[0;36m255\u001b[0m\u001b[0;34m)\u001b[0m \u001b[0;32mand\u001b[0m \u001b[0marg\u001b[0m \u001b[0;34m==\u001b[0m \u001b[0miarg\u001b[0m\u001b[0;34m)\u001b[0m\u001b[0;34m:\u001b[0m\u001b[0;34m\u001b[0m\u001b[0;34m\u001b[0m\u001b[0m\n\u001b[0;32m---> 73\u001b[0;31m                 \u001b[0;32mraise\u001b[0m \u001b[0mValueError\u001b[0m\u001b[0;34m(\u001b[0m\u001b[0;34m\"column index (%r) not an int in range(256)\"\u001b[0m \u001b[0;34m%\u001b[0m \u001b[0marg\u001b[0m\u001b[0;34m)\u001b[0m\u001b[0;34m\u001b[0m\u001b[0;34m\u001b[0m\u001b[0m\n\u001b[0m\u001b[1;32m     74\u001b[0m             \u001b[0msheet\u001b[0m \u001b[0;34m=\u001b[0m \u001b[0mself\u001b[0m\u001b[0;34m.\u001b[0m\u001b[0m__parent\u001b[0m\u001b[0;34m\u001b[0m\u001b[0;34m\u001b[0m\u001b[0m\n\u001b[1;32m     75\u001b[0m             \u001b[0;32mif\u001b[0m \u001b[0miarg\u001b[0m \u001b[0;34m<\u001b[0m \u001b[0mself\u001b[0m\u001b[0;34m.\u001b[0m\u001b[0m__min_col_idx\u001b[0m\u001b[0;34m:\u001b[0m\u001b[0;34m\u001b[0m\u001b[0;34m\u001b[0m\u001b[0m\n",
            "\u001b[0;31mValueError\u001b[0m: column index (256) not an int in range(256)"
          ]
        }
      ]
    },
    {
      "cell_type": "code",
      "metadata": {
        "id": "2X2vZn8DkB5x",
        "colab_type": "code",
        "colab": {}
      },
      "source": [
        "import csv\n",
        "\n",
        "with open('Experience.csv','w') as file:\n",
        "  file.write('Experience')\n",
        "  file.write('\\n\\n')\n",
        "\n",
        "  for e in exp_array:\n",
        "      file.write(e)\n",
        "      file.write('\\n')"
      ],
      "execution_count": null,
      "outputs": []
    }
  ]
}