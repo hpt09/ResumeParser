{
  "nbformat": 4,
  "nbformat_minor": 0,
  "metadata": {
    "colab": {
      "name": "Snorkel.ipynb",
      "provenance": [],
      "authorship_tag": "ABX9TyNYj0oq6aNBUApCKO06Uf6f",
      "include_colab_link": true
    },
    "kernelspec": {
      "name": "python3",
      "display_name": "Python 3"
    }
  },
  "cells": [
    {
      "cell_type": "markdown",
      "metadata": {
        "id": "view-in-github",
        "colab_type": "text"
      },
      "source": [
        "<a href=\"https://colab.research.google.com/github/hpt09/ResumeParser/blob/master/Snorkel.ipynb\" target=\"_parent\"><img src=\"https://colab.research.google.com/assets/colab-badge.svg\" alt=\"Open In Colab\"/></a>"
      ]
    },
    {
      "cell_type": "code",
      "metadata": {
        "id": "-ylOMMxrO4Ti",
        "colab_type": "code",
        "colab": {}
      },
      "source": [
        "from google.colab import drive\n",
        "drive.mount('/content/gdrive')\n",
        "\n",
        "%cd gdrive/My Drive/SnorkelProject"
      ],
      "execution_count": null,
      "outputs": []
    },
    {
      "cell_type": "code",
      "metadata": {
        "id": "bEVH7DO7-OZ_",
        "colab_type": "code",
        "colab": {}
      },
      "source": [
        "!git clone https://github.com/snorkel-team/snorkel-tutorials.git"
      ],
      "execution_count": null,
      "outputs": []
    },
    {
      "cell_type": "code",
      "metadata": {
        "id": "B9coxhSNAo54",
        "colab_type": "code",
        "colab": {}
      },
      "source": [
        "cd snorkel-tutorials"
      ],
      "execution_count": null,
      "outputs": []
    },
    {
      "cell_type": "code",
      "metadata": {
        "id": "e1dcJAp-_6eC",
        "colab_type": "code",
        "colab": {}
      },
      "source": [
        "# [OPTIONAL] Activate a virtual environment\n",
        "!pip3 install --upgrade virtualenv\n",
        "!virtualenv -p python3 .envspam\n",
        "!source .envspam/bin/activate\n",
        "\n",
        "# Install requirements (both shared and tutorial-specific)\n",
        "!pip3 install -r requirements.txt\n",
        "!pip3 install -r spam/requirements.txt"
      ],
      "execution_count": null,
      "outputs": []
    },
    {
      "cell_type": "code",
      "metadata": {
        "id": "znXW19ooWt7q",
        "colab_type": "code",
        "colab": {}
      },
      "source": [
        "!pip install tb-nightly"
      ],
      "execution_count": null,
      "outputs": []
    },
    {
      "cell_type": "code",
      "metadata": {
        "id": "NVVZIdpAXVU-",
        "colab_type": "code",
        "colab": {}
      },
      "source": [
        "!pip install -U spacy"
      ],
      "execution_count": null,
      "outputs": []
    },
    {
      "cell_type": "code",
      "metadata": {
        "id": "N-qa_oTSU6LN",
        "colab_type": "code",
        "colab": {}
      },
      "source": [
        "!python3 spam/01_spam_tutorial.py"
      ],
      "execution_count": null,
      "outputs": []
    }
  ]
}